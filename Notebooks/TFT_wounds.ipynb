{
 "cells": [
  {
   "cell_type": "code",
   "execution_count": 1,
   "id": "1e43f127-0021-4a43-8116-d3db036cb385",
   "metadata": {
    "collapsed": true,
    "jupyter": {
     "outputs_hidden": true
    }
   },
   "outputs": [
    {
     "name": "stdout",
     "output_type": "stream",
     "text": [
      "Defaulting to user installation because normal site-packages is not writeable\n",
      "Requirement already satisfied: pytorch-lightning in ./.local/lib/python3.10/site-packages (2.5.1)\n",
      "Requirement already satisfied: pytorch-forecasting in ./.local/lib/python3.10/site-packages (1.3.0)\n",
      "Requirement already satisfied: pandas in ./.local/lib/python3.10/site-packages (2.2.3)\n",
      "Requirement already satisfied: matplotlib in ./.local/lib/python3.10/site-packages (3.10.1)\n",
      "Requirement already satisfied: seaborn in ./.local/lib/python3.10/site-packages (0.13.2)\n",
      "Requirement already satisfied: scikit-learn in ./.local/lib/python3.10/site-packages (1.5.2)\n",
      "Requirement already satisfied: torch>=2.1.0 in ./.local/lib/python3.10/site-packages (from pytorch-lightning) (2.5.1)\n",
      "Requirement already satisfied: tqdm>=4.57.0 in ./.local/lib/python3.10/site-packages (from pytorch-lightning) (4.67.1)\n",
      "Requirement already satisfied: PyYAML>=5.4 in /opt/tljh/user/lib/python3.10/site-packages (from pytorch-lightning) (6.0.2)\n",
      "Requirement already satisfied: fsspec>=2022.5.0 in ./.local/lib/python3.10/site-packages (from fsspec[http]>=2022.5.0->pytorch-lightning) (2024.12.0)\n",
      "Requirement already satisfied: torchmetrics>=0.7.0 in ./.local/lib/python3.10/site-packages (from pytorch-lightning) (1.2.1)\n",
      "Requirement already satisfied: packaging>=20.0 in /opt/tljh/user/lib/python3.10/site-packages (from pytorch-lightning) (24.1)\n",
      "Requirement already satisfied: typing-extensions>=4.4.0 in /opt/tljh/user/lib/python3.10/site-packages (from pytorch-lightning) (4.12.2)\n",
      "Requirement already satisfied: lightning-utilities>=0.10.0 in ./.local/lib/python3.10/site-packages (from pytorch-lightning) (0.14.3)\n",
      "Requirement already satisfied: numpy<=3.0.0 in ./.local/lib/python3.10/site-packages (from pytorch-forecasting) (1.26.4)\n",
      "Requirement already satisfied: lightning<3.0.0,>=2.0.0 in ./.local/lib/python3.10/site-packages (from pytorch-forecasting) (2.5.1)\n",
      "Requirement already satisfied: scipy<2.0,>=1.8 in ./.local/lib/python3.10/site-packages (from pytorch-forecasting) (1.15.2)\n",
      "Requirement already satisfied: python-dateutil>=2.8.2 in /opt/tljh/user/lib/python3.10/site-packages (from pandas) (2.9.0.post0)\n",
      "Requirement already satisfied: pytz>=2020.1 in ./.local/lib/python3.10/site-packages (from pandas) (2025.2)\n",
      "Requirement already satisfied: tzdata>=2022.7 in ./.local/lib/python3.10/site-packages (from pandas) (2025.2)\n",
      "Requirement already satisfied: contourpy>=1.0.1 in ./.local/lib/python3.10/site-packages (from matplotlib) (1.3.1)\n",
      "Requirement already satisfied: cycler>=0.10 in ./.local/lib/python3.10/site-packages (from matplotlib) (0.12.1)\n",
      "Requirement already satisfied: fonttools>=4.22.0 in ./.local/lib/python3.10/site-packages (from matplotlib) (4.57.0)\n",
      "Requirement already satisfied: kiwisolver>=1.3.1 in ./.local/lib/python3.10/site-packages (from matplotlib) (1.4.8)\n",
      "Requirement already satisfied: pillow>=8 in ./.local/lib/python3.10/site-packages (from matplotlib) (11.1.0)\n",
      "Requirement already satisfied: pyparsing>=2.3.1 in ./.local/lib/python3.10/site-packages (from matplotlib) (3.2.3)\n",
      "Requirement already satisfied: joblib>=1.2.0 in ./.local/lib/python3.10/site-packages (from scikit-learn) (1.4.2)\n",
      "Requirement already satisfied: threadpoolctl>=3.1.0 in ./.local/lib/python3.10/site-packages (from scikit-learn) (3.6.0)\n",
      "Requirement already satisfied: aiohttp!=4.0.0a0,!=4.0.0a1 in ./.local/lib/python3.10/site-packages (from fsspec[http]>=2022.5.0->pytorch-lightning) (3.11.16)\n",
      "Requirement already satisfied: setuptools in /opt/tljh/user/lib/python3.10/site-packages (from lightning-utilities>=0.10.0->pytorch-lightning) (65.6.3)\n",
      "Requirement already satisfied: six>=1.5 in /opt/tljh/user/lib/python3.10/site-packages (from python-dateutil>=2.8.2->pandas) (1.16.0)\n",
      "Requirement already satisfied: filelock in ./.local/lib/python3.10/site-packages (from torch>=2.1.0->pytorch-lightning) (3.18.0)\n",
      "Requirement already satisfied: networkx in ./.local/lib/python3.10/site-packages (from torch>=2.1.0->pytorch-lightning) (3.4.2)\n",
      "Requirement already satisfied: jinja2 in /opt/tljh/user/lib/python3.10/site-packages (from torch>=2.1.0->pytorch-lightning) (3.1.4)\n",
      "Requirement already satisfied: nvidia-cuda-nvrtc-cu12==12.4.127 in ./.local/lib/python3.10/site-packages (from torch>=2.1.0->pytorch-lightning) (12.4.127)\n",
      "Requirement already satisfied: nvidia-cuda-runtime-cu12==12.4.127 in ./.local/lib/python3.10/site-packages (from torch>=2.1.0->pytorch-lightning) (12.4.127)\n",
      "Requirement already satisfied: nvidia-cuda-cupti-cu12==12.4.127 in ./.local/lib/python3.10/site-packages (from torch>=2.1.0->pytorch-lightning) (12.4.127)\n",
      "Requirement already satisfied: nvidia-cudnn-cu12==9.1.0.70 in ./.local/lib/python3.10/site-packages (from torch>=2.1.0->pytorch-lightning) (9.1.0.70)\n",
      "Requirement already satisfied: nvidia-cublas-cu12==12.4.5.8 in ./.local/lib/python3.10/site-packages (from torch>=2.1.0->pytorch-lightning) (12.4.5.8)\n",
      "Requirement already satisfied: nvidia-cufft-cu12==11.2.1.3 in ./.local/lib/python3.10/site-packages (from torch>=2.1.0->pytorch-lightning) (11.2.1.3)\n",
      "Requirement already satisfied: nvidia-curand-cu12==10.3.5.147 in ./.local/lib/python3.10/site-packages (from torch>=2.1.0->pytorch-lightning) (10.3.5.147)\n",
      "Requirement already satisfied: nvidia-cusolver-cu12==11.6.1.9 in ./.local/lib/python3.10/site-packages (from torch>=2.1.0->pytorch-lightning) (11.6.1.9)\n",
      "Requirement already satisfied: nvidia-cusparse-cu12==12.3.1.170 in ./.local/lib/python3.10/site-packages (from torch>=2.1.0->pytorch-lightning) (12.3.1.170)\n",
      "Requirement already satisfied: nvidia-nccl-cu12==2.21.5 in ./.local/lib/python3.10/site-packages (from torch>=2.1.0->pytorch-lightning) (2.21.5)\n",
      "Requirement already satisfied: nvidia-nvtx-cu12==12.4.127 in ./.local/lib/python3.10/site-packages (from torch>=2.1.0->pytorch-lightning) (12.4.127)\n",
      "Requirement already satisfied: nvidia-nvjitlink-cu12==12.4.127 in ./.local/lib/python3.10/site-packages (from torch>=2.1.0->pytorch-lightning) (12.4.127)\n",
      "Requirement already satisfied: triton==3.1.0 in ./.local/lib/python3.10/site-packages (from torch>=2.1.0->pytorch-lightning) (3.1.0)\n",
      "Requirement already satisfied: sympy==1.13.1 in ./.local/lib/python3.10/site-packages (from torch>=2.1.0->pytorch-lightning) (1.13.1)\n",
      "Requirement already satisfied: mpmath<1.4,>=1.1.0 in ./.local/lib/python3.10/site-packages (from sympy==1.13.1->torch>=2.1.0->pytorch-lightning) (1.3.0)\n",
      "Requirement already satisfied: aiohappyeyeballs>=2.3.0 in ./.local/lib/python3.10/site-packages (from aiohttp!=4.0.0a0,!=4.0.0a1->fsspec[http]>=2022.5.0->pytorch-lightning) (2.6.1)\n",
      "Requirement already satisfied: aiosignal>=1.1.2 in ./.local/lib/python3.10/site-packages (from aiohttp!=4.0.0a0,!=4.0.0a1->fsspec[http]>=2022.5.0->pytorch-lightning) (1.3.2)\n",
      "Requirement already satisfied: async-timeout<6.0,>=4.0 in ./.local/lib/python3.10/site-packages (from aiohttp!=4.0.0a0,!=4.0.0a1->fsspec[http]>=2022.5.0->pytorch-lightning) (5.0.1)\n",
      "Requirement already satisfied: attrs>=17.3.0 in /opt/tljh/user/lib/python3.10/site-packages (from aiohttp!=4.0.0a0,!=4.0.0a1->fsspec[http]>=2022.5.0->pytorch-lightning) (24.2.0)\n",
      "Requirement already satisfied: frozenlist>=1.1.1 in ./.local/lib/python3.10/site-packages (from aiohttp!=4.0.0a0,!=4.0.0a1->fsspec[http]>=2022.5.0->pytorch-lightning) (1.5.0)\n",
      "Requirement already satisfied: multidict<7.0,>=4.5 in ./.local/lib/python3.10/site-packages (from aiohttp!=4.0.0a0,!=4.0.0a1->fsspec[http]>=2022.5.0->pytorch-lightning) (6.3.2)\n",
      "Requirement already satisfied: propcache>=0.2.0 in ./.local/lib/python3.10/site-packages (from aiohttp!=4.0.0a0,!=4.0.0a1->fsspec[http]>=2022.5.0->pytorch-lightning) (0.3.1)\n",
      "Requirement already satisfied: yarl<2.0,>=1.17.0 in ./.local/lib/python3.10/site-packages (from aiohttp!=4.0.0a0,!=4.0.0a1->fsspec[http]>=2022.5.0->pytorch-lightning) (1.18.3)\n",
      "Requirement already satisfied: MarkupSafe>=2.0 in /opt/tljh/user/lib/python3.10/site-packages (from jinja2->torch>=2.1.0->pytorch-lightning) (2.1.5)\n",
      "Requirement already satisfied: idna>=2.0 in /opt/tljh/user/lib/python3.10/site-packages (from yarl<2.0,>=1.17.0->aiohttp!=4.0.0a0,!=4.0.0a1->fsspec[http]>=2022.5.0->pytorch-lightning) (3.4)\n",
      "\n",
      "\u001b[1m[\u001b[0m\u001b[34;49mnotice\u001b[0m\u001b[1;39;49m]\u001b[0m\u001b[39;49m A new release of pip is available: \u001b[0m\u001b[31;49m24.2\u001b[0m\u001b[39;49m -> \u001b[0m\u001b[32;49m25.1.1\u001b[0m\n",
      "\u001b[1m[\u001b[0m\u001b[34;49mnotice\u001b[0m\u001b[1;39;49m]\u001b[0m\u001b[39;49m To update, run: \u001b[0m\u001b[32;49mpip install --upgrade pip\u001b[0m\n",
      "Note: you may need to restart the kernel to use updated packages.\n"
     ]
    }
   ],
   "source": [
    "pip install pytorch-lightning pytorch-forecasting pandas matplotlib seaborn scikit-learn\n"
   ]
  },
  {
   "cell_type": "markdown",
   "id": "ff7ffe1e-a4a9-453e-ad1b-1e37eef66f98",
   "metadata": {},
   "source": [
    "### **Dataset Exploration**"
   ]
  },
  {
   "cell_type": "code",
   "execution_count": 2,
   "id": "3def64cc-4505-47a5-b2a4-e3368f01127c",
   "metadata": {
    "collapsed": true,
    "jupyter": {
     "outputs_hidden": true
    }
   },
   "outputs": [
    {
     "name": "stdout",
     "output_type": "stream",
     "text": [
      "Loaded dataset shape: (165716, 39)\n",
      "   empi_nbr_anon     event_timestamp  DAYS_TO_HEAL  LAST_WOUND_AGE_DAYS  \\\n",
      "0       10030580 2023-04-05 06:00:00           NaN                  NaN   \n",
      "1       10030580 2023-04-05 06:00:00           NaN                  NaN   \n",
      "2       10030580 2023-04-05 06:00:00           NaN                  NaN   \n",
      "3       10030580 2023-04-05 06:00:00           NaN                  NaN   \n",
      "4       10030580 2023-04-05 06:00:00           NaN                  NaN   \n",
      "\n",
      "   PAT_AGE_YEARS_FIRST_ASSESS  STAGE_INITIAL_C  STAGE_CURRENT_C  \\\n",
      "0                         NaN              NaN              NaN   \n",
      "1                         NaN              NaN              NaN   \n",
      "2                         NaN              NaN              NaN   \n",
      "3                         NaN              NaN              NaN   \n",
      "4                         NaN              NaN              NaN   \n",
      "\n",
      "   PCT_HEALED_LAST_ENC  PCT_AREA_HEALED  PCT_VOLUME_HEALED  ...  \\\n",
      "0                  NaN              NaN                NaN  ...   \n",
      "1                  NaN              NaN                NaN  ...   \n",
      "2                  NaN              NaN                NaN  ...   \n",
      "3                  NaN              NaN                NaN  ...   \n",
      "4                  NaN              NaN                NaN  ...   \n",
      "\n",
      "   Pressure Injury or Non-Healing Wound Primary Wound Type Sensory Perception  \\\n",
      "0                                   NaN                NaN                NaN   \n",
      "1                                   NaN                NaN                NaN   \n",
      "2                                   NaN                NaN                NaN   \n",
      "3                                   NaN                NaN                NaN   \n",
      "4                                   NaN                NaN                NaN   \n",
      "\n",
      "  Site Assessment  Treatments                        component lab_result  \\\n",
      "0             NaN         NaN            Immature Granulocytes       1.00   \n",
      "1             NaN         NaN  Eosinophil, Auto Absolute Count       0.75   \n",
      "2             NaN         NaN    Basophil, Auto Absolute Count       0.15   \n",
      "3             NaN         NaN                 Lymphocyte, Auto      25.00   \n",
      "4             NaN         NaN    Monocyte, Auto Absolute Count       0.99   \n",
      "\n",
      "  DX_NAME CURRENT_ICD10_LIST FIRST_DATE_anon  \n",
      "0     NaN                NaN             NaN  \n",
      "1     NaN                NaN             NaN  \n",
      "2     NaN                NaN             NaN  \n",
      "3     NaN                NaN             NaN  \n",
      "4     NaN                NaN             NaN  \n",
      "\n",
      "[5 rows x 39 columns]\n"
     ]
    }
   ],
   "source": [
    "import pandas as pd\n",
    "\n",
    "# Load the merged time-series dataset\n",
    "df_merged = pd.read_csv('merged_patient_time_series.csv', parse_dates=['event_timestamp'])\n",
    "\n",
    "print(f\"Loaded dataset shape: {df_merged.shape}\")\n",
    "print(df_merged.head())\n"
   ]
  },
  {
   "cell_type": "code",
   "execution_count": 3,
   "id": "195ad1c6-eff0-436c-bc4a-1a6a9655d30f",
   "metadata": {
    "collapsed": true,
    "jupyter": {
     "outputs_hidden": true
    }
   },
   "outputs": [
    {
     "name": "stdout",
     "output_type": "stream",
     "text": [
      "   empi_nbr_anon     event_timestamp  time_idx\n",
      "0       10030580 2023-04-05 06:00:00         0\n",
      "1       10030580 2023-04-05 06:00:00         1\n",
      "2       10030580 2023-04-05 06:00:00         2\n",
      "3       10030580 2023-04-05 06:00:00         3\n",
      "4       10030580 2023-04-05 06:00:00         4\n",
      "5       10030580 2023-04-05 06:00:00         5\n",
      "6       10030580 2023-04-05 06:00:00         6\n",
      "7       10030580 2023-04-05 06:00:00         7\n",
      "8       10030580 2023-04-05 06:00:00         8\n",
      "9       10030580 2023-04-05 06:23:00         9\n"
     ]
    }
   ],
   "source": [
    "# Convert event_timestamp to relative integer time index\n",
    "df_merged = df_merged.sort_values([\"empi_nbr_anon\", \"event_timestamp\"])\n",
    "\n",
    "# Create time_idx: counts timestamps per patient\n",
    "df_merged[\"time_idx\"] = df_merged.groupby(\"empi_nbr_anon\").cumcount()\n",
    "\n",
    "# Check basic\n",
    "print(df_merged[['empi_nbr_anon', 'event_timestamp', 'time_idx']].head(10))\n"
   ]
  },
  {
   "cell_type": "code",
   "execution_count": 4,
   "id": "d5ab4938-6cef-4b87-8f43-6dd75a9967d0",
   "metadata": {},
   "outputs": [
    {
     "name": "stdout",
     "output_type": "stream",
     "text": [
      "Dropped 'FIRST_DATE_anon'.\n"
     ]
    }
   ],
   "source": [
    "#Drop FIRST_DATE_anon\n",
    "if 'FIRST_DATE_anon' in df_merged.columns:\n",
    "    df_merged = df_merged.drop(columns=['FIRST_DATE_anon'])\n",
    "    print(\"Dropped 'FIRST_DATE_anon'.\")\n"
   ]
  },
  {
   "cell_type": "code",
   "execution_count": 68,
   "id": "9a4c80d3-2a4f-4fa8-ac8a-4964ba311e7f",
   "metadata": {},
   "outputs": [
    {
     "name": "stdout",
     "output_type": "stream",
     "text": [
      "Number of unique patients: 2072\n"
     ]
    }
   ],
   "source": [
    "num_patients = df_merged[\"empi_nbr_anon\"].nunique()\n",
    "print(f\"Number of unique patients: {num_patients}\")\n"
   ]
  },
  {
   "cell_type": "code",
   "execution_count": 5,
   "id": "5f4f6ef0-1342-484d-8d38-7965997e01e3",
   "metadata": {
    "collapsed": true,
    "jupyter": {
     "outputs_hidden": true
    }
   },
   "outputs": [
    {
     "data": {
      "text/plain": [
       "empi_nbr_anon                                0\n",
       "event_timestamp                              0\n",
       "DAYS_TO_HEAL                            145078\n",
       "LAST_WOUND_AGE_DAYS                     145078\n",
       "PAT_AGE_YEARS_FIRST_ASSESS              145078\n",
       "STAGE_INITIAL_C                         155561\n",
       "STAGE_CURRENT_C                         155561\n",
       "PCT_HEALED_LAST_ENC                     150624\n",
       "PCT_AREA_HEALED                         153594\n",
       "PCT_VOLUME_HEALED                       155021\n",
       "NUM_OUTPAT_HOV_VISITS                   145078\n",
       "gender                                  145078\n",
       "race                                    145078\n",
       "ethnicity                               145078\n",
       "is_deceased                             145078\n",
       "Braden Scale Score                       61316\n",
       "Closure                                  61316\n",
       "Drainage Amount                          61316\n",
       "Drainage Description                     61316\n",
       "Dressing                                 61316\n",
       "Dressing Changed                         61316\n",
       "Friction and Shear                       61316\n",
       "In Bed Mobility                          61316\n",
       "Location                                 61325\n",
       "Margins                                  61316\n",
       "Moisture                                 61316\n",
       "Nutrition                                61316\n",
       "Out of Bed Activity                      61316\n",
       "Peri-Wound Assessment                    61316\n",
       "Pressure Injury or Non-Healing Wound     61316\n",
       "Primary Wound Type                       62336\n",
       "Sensory Perception                       61316\n",
       "Site Assessment                          61316\n",
       "Treatments                               61316\n",
       "component                               145758\n",
       "lab_result                              145758\n",
       "DX_NAME                                 144996\n",
       "CURRENT_ICD10_LIST                      144996\n",
       "time_idx                                     0\n",
       "dtype: int64"
      ]
     },
     "execution_count": 5,
     "metadata": {},
     "output_type": "execute_result"
    }
   ],
   "source": [
    "df_merged.isna().sum()"
   ]
  },
  {
   "cell_type": "code",
   "execution_count": 6,
   "id": "af9b698b-6038-4161-9fb8-43b3f030ffcd",
   "metadata": {
    "collapsed": true,
    "jupyter": {
     "outputs_hidden": true
    }
   },
   "outputs": [
    {
     "data": {
      "image/png": "[encoded data removed]",
      "text/plain": [
       "<Figure size 1200x600 with 1 Axes>"
      ]
     },
     "metadata": {},
     "output_type": "display_data"
    }
   ],
   "source": [
    "import pandas as pd\n",
    "import matplotlib.pyplot as plt\n",
    "\n",
    "# Step 1: Drop high-missingness columns\n",
    "columns_to_drop = [\n",
    "    \"STAGE_INITIAL_C\", \"STAGE_CURRENT_C\",\n",
    "    \"PCT_HEALED_LAST_ENC\", \"PCT_AREA_HEALED\", \"PCT_VOLUME_HEALED\"\n",
    "]\n",
    "# Drop only those that are present in the DataFrame\n",
    "existing_cols_to_drop = [col for col in columns_to_drop if col in df_merged.columns]\n",
    "df_merged = df_merged.drop(columns=existing_cols_to_drop)\n",
    "\n",
    "# Step 2: Sort by patient and timestamp\n",
    "df_merged = df_merged.sort_values([\"empi_nbr_anon\", \"event_timestamp\"])\n",
    "\n",
    "# Step 3: Compute timesteps per patient\n",
    "timesteps_per_patient = df_merged.groupby(\"empi_nbr_anon\")[\"event_timestamp\"].count()\n",
    "timesteps_per_patient.describe()\n",
    "\n",
    "plt.figure(figsize=(12, 6))\n",
    "plt.hist(timesteps_per_patient, bins=50, edgecolor='black')\n",
    "plt.xlim(0, 300)  \n",
    "plt.title(\"Zoomed-In: Distribution of Timesteps per Patient (0–300)\")\n",
    "plt.xlabel(\"Number of Timesteps\")\n",
    "plt.ylabel(\"Number of Patients\")\n",
    "plt.grid(True)\n",
    "plt.tight_layout()\n",
    "plt.show()\n",
    "\n"
   ]
  },
  {
   "cell_type": "markdown",
   "id": "3fa82cdb-d858-4d8a-bec3-fa4338f6efe8",
   "metadata": {},
   "source": [
    "### **Align the Timesteps across all the selected patients**"
   ]
  },
  {
   "cell_type": "code",
   "execution_count": 7,
   "id": "ba575262-0bff-4cab-b391-5a37cdcf2f0f",
   "metadata": {
    "collapsed": true,
    "jupyter": {
     "outputs_hidden": true
    }
   },
   "outputs": [
    {
     "name": "stdout",
     "output_type": "stream",
     "text": [
      "Timestep count distribution for patients with <49 timesteps:\n",
      "event_timestamp\n",
      "14     1\n",
      "15     4\n",
      "16     1\n",
      "17     4\n",
      "18     1\n",
      "19     3\n",
      "20     3\n",
      "21     1\n",
      "22    10\n",
      "23    19\n",
      "24    35\n",
      "25    40\n",
      "26    55\n",
      "27    49\n",
      "28    52\n",
      "29    52\n",
      "30    57\n",
      "31    47\n",
      "32    57\n",
      "33    45\n",
      "34    50\n",
      "35    30\n",
      "36    43\n",
      "37    45\n",
      "38    29\n",
      "39    40\n",
      "40    32\n",
      "41    37\n",
      "42    30\n",
      "43    31\n",
      "44    29\n",
      "45    23\n",
      "46    31\n",
      "47    22\n",
      "48    27\n",
      "Name: count, dtype: int64\n",
      "\n",
      "Total patients with <48 timesteps: 1035\n"
     ]
    }
   ],
   "source": [
    "# Step 1: Count timesteps per patient\n",
    "timesteps_per_patient = df_merged.groupby(\"empi_nbr_anon\")[\"event_timestamp\"].count()\n",
    "\n",
    "# Step 2: Filter and count value frequencies for patients with <30 timesteps\n",
    "timesteps_below_49 = timesteps_per_patient[timesteps_per_patient < 49]\n",
    "value_counts = timesteps_below_49.value_counts().sort_index()\n",
    "\n",
    "# Step 3: Print value count summary\n",
    "print(\"Timestep count distribution for patients with <49 timesteps:\")\n",
    "print(value_counts)\n",
    "print(f\"\\nTotal patients with <48 timesteps: {timesteps_below_49.shape[0]}\")\n"
   ]
  },
  {
   "cell_type": "code",
   "execution_count": 8,
   "id": "8fcd02ca-9506-4c7a-aa53-98149fb3f828",
   "metadata": {},
   "outputs": [
    {
     "name": "stdout",
     "output_type": "stream",
     "text": [
      "Final trimmed shape: (50813, 34)\n"
     ]
    },
    {
     "name": "stderr",
     "output_type": "stream",
     "text": [
      "/tmp/ipykernel_3635272/3112614667.py:24: DeprecationWarning: DataFrameGroupBy.apply operated on the grouping columns. This behavior is deprecated, and in a future version of pandas the grouping columns will be excluded from the operation. Either pass `include_groups=False` to exclude the groupings or explicitly select the grouping columns after groupby to silence this warning.\n",
      "  .apply(trim_patient_group)\n"
     ]
    }
   ],
   "source": [
    "import pandas as pd\n",
    "\n",
    "# Step 1: Count timesteps per patient\n",
    "timesteps_per_patient = df_merged.groupby(\"empi_nbr_anon\")[\"event_timestamp\"].count()\n",
    "\n",
    "# Step 2: Filter patients with at least 49 time steps\n",
    "eligible_patients = timesteps_per_patient[timesteps_per_patient >= 49].index\n",
    "df_filtered = df_merged[df_merged[\"empi_nbr_anon\"].isin(eligible_patients)]\n",
    "\n",
    "# Step 3: Define function to keep most complete 49 rows per patient\n",
    "def trim_patient_group(group, max_timesteps=49):\n",
    "    # Compute non-null count for each row\n",
    "    group = group.copy()\n",
    "    group[\"non_null_count\"] = group.notnull().sum(axis=1)\n",
    "    \n",
    "    # Sort by non-null count (descending) to keep most complete rows\n",
    "    trimmed_group = group.sort_values(\"non_null_count\", ascending=False).head(max_timesteps)\n",
    "    \n",
    "    return trimmed_group.drop(columns=[\"non_null_count\"])\n",
    "\n",
    "# Step 4: Apply trimming function\n",
    "df_trimmed = (\n",
    "    df_filtered.groupby(\"empi_nbr_anon\", group_keys=False)\n",
    "    .apply(trim_patient_group)\n",
    "    .reset_index(drop=True)\n",
    ")\n",
    "\n",
    "print(f\"Final trimmed shape: {df_trimmed.shape}\")\n"
   ]
  },
  {
   "cell_type": "code",
   "execution_count": 9,
   "id": "b84e1cbc-773c-4582-9fb6-32537da56704",
   "metadata": {
    "collapsed": true,
    "jupyter": {
     "outputs_hidden": true
    }
   },
   "outputs": [
    {
     "data": {
      "text/plain": [
       "empi_nbr_anon                               0\n",
       "event_timestamp                             0\n",
       "DAYS_TO_HEAL                            45929\n",
       "LAST_WOUND_AGE_DAYS                     45929\n",
       "PAT_AGE_YEARS_FIRST_ASSESS              45929\n",
       "NUM_OUTPAT_HOV_VISITS                   45929\n",
       "gender                                  45929\n",
       "race                                    45929\n",
       "ethnicity                               45929\n",
       "is_deceased                             45929\n",
       "Braden Scale Score                       8822\n",
       "Closure                                  8822\n",
       "Drainage Amount                          8822\n",
       "Drainage Description                     8822\n",
       "Dressing                                 8822\n",
       "Dressing Changed                         8822\n",
       "Friction and Shear                       8822\n",
       "In Bed Mobility                          8822\n",
       "Location                                 8822\n",
       "Margins                                  8822\n",
       "Moisture                                 8822\n",
       "Nutrition                                8822\n",
       "Out of Bed Activity                      8822\n",
       "Peri-Wound Assessment                    8822\n",
       "Pressure Injury or Non-Healing Wound     8822\n",
       "Primary Wound Type                       9279\n",
       "Sensory Perception                       8822\n",
       "Site Assessment                          8822\n",
       "Treatments                               8822\n",
       "component                               48285\n",
       "lab_result                              48285\n",
       "DX_NAME                                 49403\n",
       "CURRENT_ICD10_LIST                      49403\n",
       "time_idx                                    0\n",
       "dtype: int64"
      ]
     },
     "execution_count": 9,
     "metadata": {},
     "output_type": "execute_result"
    }
   ],
   "source": [
    "df_trimmed.isna().sum()"
   ]
  },
  {
   "cell_type": "markdown",
   "id": "4d19777e-7cee-4477-b0d5-de8329907548",
   "metadata": {},
   "source": [
    "All these missing values are due to misalignment of timesteps, which is very common in medical datasets - because in real life settings, the patient might not be evaluated on all the parameters at the same-time during the same day. \n",
    "Let's use forward fill and backward fill to impute the data in static columns- as they do not tend to change with time."
   ]
  },
  {
   "cell_type": "code",
   "execution_count": 10,
   "id": "1b802dc1-9a54-489c-8d38-5281917d6fc0",
   "metadata": {},
   "outputs": [
    {
     "name": "stderr",
     "output_type": "stream",
     "text": [
      "/tmp/ipykernel_3635272/2651097929.py:17: FutureWarning: Downcasting object dtype arrays on .fillna, .ffill, .bfill is deprecated and will change in a future version. Call result.infer_objects(copy=False) instead. To opt-in to the future behavior, set `pd.set_option('future.no_silent_downcasting', True)`\n",
      "  .transform(lambda x: x.ffill().bfill())\n"
     ]
    },
    {
     "name": "stdout",
     "output_type": "stream",
     "text": [
      "Columns dropped and static fields forward/backward filled.\n"
     ]
    }
   ],
   "source": [
    "# Step 1: Drop unnecessary columns if they exist\n",
    "columns_to_drop = [\"LAST_WOUND_AGE_DAYS\", \"NUM_OUTPAT_HOV_VISITS\"]\n",
    "df_trimmed = df_trimmed.drop(columns=[col for col in columns_to_drop if col in df_trimmed.columns])\n",
    "\n",
    "# Step 2: Define static columns to forward-fill (per patient)\n",
    "static_cols = [\"PAT_AGE_YEARS_FIRST_ASSESS\", \"gender\", \"race\", \"ethnicity\", \"is_deceased\"]\n",
    "\n",
    "# Step 3: Ensure sorting by patient and timestamp\n",
    "df_trimmed = df_trimmed.sort_values([\"empi_nbr_anon\", \"event_timestamp\"]).reset_index(drop=True)\n",
    "\n",
    "# Step 4: Forward-fill and backfill static columns within each patient group\n",
    "for col in static_cols:\n",
    "    if col in df_trimmed.columns:\n",
    "        df_trimmed[col] = (\n",
    "            df_trimmed.groupby(\"empi_nbr_anon\")[col]\n",
    "            .transform(lambda x: x.ffill().bfill())\n",
    "        )\n",
    "\n",
    "\n",
    "print(\"Columns dropped and static fields forward/backward filled.\")\n"
   ]
  },
  {
   "cell_type": "markdown",
   "id": "c8cfcaf0-99bb-4829-a09f-d452ecd0568b",
   "metadata": {},
   "source": [
    "Values for some patients got removed due to trimming, hence matched them with patient_id and retrieved their information."
   ]
  },
  {
   "cell_type": "code",
   "execution_count": 12,
   "id": "9b0e4de0-133b-44fc-ba54-572eceb458fc",
   "metadata": {},
   "outputs": [],
   "source": [
    "# List of static columns to fill\n",
    "static_cols = [\"PAT_AGE_YEARS_FIRST_ASSESS\", \"gender\", \"race\", \"ethnicity\", \"is_deceased\"]\n",
    "\n",
    "# Step 1: Build a static value lookup from df_merged (first non-null per patient)\n",
    "static_lookup = df_merged.dropna(subset=static_cols).groupby(\"empi_nbr_anon\")[static_cols].first()\n",
    "\n",
    "# Step 2: Use map to assign back to df_trimmed where values are missing\n",
    "for col in static_cols:\n",
    "    df_trimmed[col] = df_trimmed[col].fillna(df_trimmed[\"empi_nbr_anon\"].map(static_lookup[col]))\n"
   ]
  },
  {
   "cell_type": "code",
   "execution_count": 13,
   "id": "a41aa360-e473-459e-868c-4eccc672ff12",
   "metadata": {
    "collapsed": true,
    "jupyter": {
     "outputs_hidden": true
    }
   },
   "outputs": [
    {
     "name": "stdout",
     "output_type": "stream",
     "text": [
      "PAT_AGE_YEARS_FIRST_ASSESS    0\n",
      "gender                        0\n",
      "race                          0\n",
      "ethnicity                     0\n",
      "is_deceased                   0\n",
      "dtype: int64\n"
     ]
    }
   ],
   "source": [
    "print(df_trimmed[static_cols].isna().sum())\n"
   ]
  },
  {
   "cell_type": "code",
   "execution_count": 14,
   "id": "9524b7f6-0780-4abe-b04b-2b42a3170979",
   "metadata": {
    "collapsed": true,
    "jupyter": {
     "outputs_hidden": true
    }
   },
   "outputs": [
    {
     "data": {
      "text/plain": [
       "empi_nbr_anon                               0\n",
       "event_timestamp                             0\n",
       "DAYS_TO_HEAL                            45929\n",
       "PAT_AGE_YEARS_FIRST_ASSESS                  0\n",
       "gender                                      0\n",
       "race                                        0\n",
       "ethnicity                                   0\n",
       "is_deceased                                 0\n",
       "Braden Scale Score                       8822\n",
       "Closure                                  8822\n",
       "Drainage Amount                          8822\n",
       "Drainage Description                     8822\n",
       "Dressing                                 8822\n",
       "Dressing Changed                         8822\n",
       "Friction and Shear                       8822\n",
       "In Bed Mobility                          8822\n",
       "Location                                 8822\n",
       "Margins                                  8822\n",
       "Moisture                                 8822\n",
       "Nutrition                                8822\n",
       "Out of Bed Activity                      8822\n",
       "Peri-Wound Assessment                    8822\n",
       "Pressure Injury or Non-Healing Wound     8822\n",
       "Primary Wound Type                       9279\n",
       "Sensory Perception                       8822\n",
       "Site Assessment                          8822\n",
       "Treatments                               8822\n",
       "component                               48285\n",
       "lab_result                              48285\n",
       "DX_NAME                                 49403\n",
       "CURRENT_ICD10_LIST                      49403\n",
       "time_idx                                    0\n",
       "dtype: int64"
      ]
     },
     "execution_count": 14,
     "metadata": {},
     "output_type": "execute_result"
    }
   ],
   "source": [
    "df_trimmed.isna().sum()"
   ]
  },
  {
   "cell_type": "markdown",
   "id": "2f683883-5f29-43f3-83e0-83ae4db32ed7",
   "metadata": {},
   "source": [
    "Opted a similiar technique to extract patient related information from the original lab and comorbidity datasets"
   ]
  },
  {
   "cell_type": "code",
   "execution_count": 15,
   "id": "15597cd5-b49d-47f5-802d-05bf239188a0",
   "metadata": {},
   "outputs": [
    {
     "name": "stdout",
     "output_type": "stream",
     "text": [
      "component     0\n",
      "lab_result    0\n",
      "dtype: int64\n"
     ]
    }
   ],
   "source": [
    "import pandas as pd\n",
    "import numpy as np\n",
    "\n",
    "#Load lab dataset\n",
    "df_lab = pd.read_csv(\"complete_lab.csv\")\n",
    "\n",
    "# Step 0: Make sure timestamps are in datetime format\n",
    "df_trimmed[\"event_timestamp\"] = pd.to_datetime(df_trimmed[\"event_timestamp\"])\n",
    "df_lab[\"lab_result_time_anon\"] = pd.to_datetime(df_lab[\"lab_result_time_anon\"])\n",
    "\n",
    "# Step 1: Clean and subset lab dataset\n",
    "df_trimmed = df_trimmed.drop(columns=[\"DX_NAME\"], errors=\"ignore\")  # Optional column drop\n",
    "df_lab = df_lab.dropna(subset=[\"component\", \"lab_result\"])\n",
    "df_lab = df_lab[[\"empi_nbr_anon\", \"lab_result_time_anon\", \"component\", \"lab_result\"]]\n",
    "\n",
    "# Step 2: Sort lab data for efficient matching\n",
    "df_lab = df_lab.sort_values([\"empi_nbr_anon\", \"lab_result_time_anon\"])\n",
    "\n",
    "# Step 3: Define function to fill from nearest timestamp per patient\n",
    "def fill_from_nearest_lab(row):\n",
    "    if pd.notna(row[\"component\"]) and pd.notna(row[\"lab_result\"]):\n",
    "        return row  # Already has values\n",
    "\n",
    "    patient_id = row[\"empi_nbr_anon\"]\n",
    "    timestamp = row[\"event_timestamp\"]\n",
    "    patient_labs = df_lab[df_lab[\"empi_nbr_anon\"] == patient_id]\n",
    "\n",
    "    if patient_labs.empty:\n",
    "        return row  # No lab data for this patient\n",
    "\n",
    "    # Find the nearest timestamp\n",
    "    nearest_idx = (patient_labs[\"lab_result_time_anon\"] - timestamp).abs().idxmin()\n",
    "    nearest_row = patient_labs.loc[nearest_idx]\n",
    "\n",
    "    # Fill missing values\n",
    "    if pd.isna(row[\"component\"]):\n",
    "        row[\"component\"] = nearest_row[\"component\"]\n",
    "    if pd.isna(row[\"lab_result\"]):\n",
    "        row[\"lab_result\"] = nearest_row[\"lab_result\"]\n",
    "\n",
    "    return row\n",
    "\n",
    "# Step 4: Apply the filling logic row-wise\n",
    "df_trimmed = df_trimmed.apply(fill_from_nearest_lab, axis=1)\n",
    "\n",
    "# Step 5: Check how much is still missing\n",
    "print(df_trimmed[[\"component\", \"lab_result\"]].isnull().sum())\n"
   ]
  },
  {
   "cell_type": "code",
   "execution_count": 16,
   "id": "2c92c57d-fca5-4520-8408-44cafc28a96d",
   "metadata": {},
   "outputs": [
    {
     "data": {
      "text/plain": [
       "empi_nbr_anon           0\n",
       "DX_NAME                 0\n",
       "CURRENT_ICD10_LIST      0\n",
       "FIRST_DATE_anon       398\n",
       "LAST_DATE_anon          0\n",
       "dtype: int64"
      ]
     },
     "execution_count": 16,
     "metadata": {},
     "output_type": "execute_result"
    }
   ],
   "source": [
    "# Step 1: Load the comorbidities dataset\n",
    "df_comorb = pd.read_csv(\"Comorbidity data.csv\")\n",
    "df_comorb.isna().sum()"
   ]
  },
  {
   "cell_type": "code",
   "execution_count": 17,
   "id": "033e2ac9-60d2-47b3-af5c-1ac9f3b11ea2",
   "metadata": {},
   "outputs": [
    {
     "name": "stdout",
     "output_type": "stream",
     "text": [
      "0\n"
     ]
    }
   ],
   "source": [
    "import pandas as pd\n",
    "import numpy as np\n",
    "\n",
    "# Step 0: Ensure timestamps are datetime\n",
    "df_trimmed[\"event_timestamp\"] = pd.to_datetime(df_trimmed[\"event_timestamp\"])\n",
    "df_comorb[\"LAST_DATE_anon\"] = pd.to_datetime(df_comorb[\"LAST_DATE_anon\"])\n",
    "\n",
    "# Step 1: Filter required columns and remove rows with missing ICD-10 values\n",
    "df_comorb = df_comorb[[\"empi_nbr_anon\", \"LAST_DATE_anon\", \"CURRENT_ICD10_LIST\"]]\n",
    "df_comorb = df_comorb.dropna(subset=[\"CURRENT_ICD10_LIST\"])\n",
    "\n",
    "# Step 2: Sort for performance\n",
    "df_comorb = df_comorb.sort_values([\"empi_nbr_anon\", \"LAST_DATE_anon\"])\n",
    "\n",
    "# Step 3: Define function to fill ICD from closest comorbidity record\n",
    "def fill_icd_from_nearest(row):\n",
    "    if pd.notna(row[\"CURRENT_ICD10_LIST\"]):\n",
    "        return row  # Already has data\n",
    "\n",
    "    patient_id = row[\"empi_nbr_anon\"]\n",
    "    timestamp = row[\"event_timestamp\"]\n",
    "    patient_comorb = df_comorb[df_comorb[\"empi_nbr_anon\"] == patient_id]\n",
    "\n",
    "    if patient_comorb.empty:\n",
    "        return row\n",
    "\n",
    "    # Find the closest timestamp\n",
    "    nearest_idx = (patient_comorb[\"LAST_DATE_anon\"] - timestamp).abs().idxmin()\n",
    "    row[\"CURRENT_ICD10_LIST\"] = patient_comorb.loc[nearest_idx, \"CURRENT_ICD10_LIST\"]\n",
    "    return row\n",
    "\n",
    "# Step 4: Apply row-wise filling logic\n",
    "df_trimmed = df_trimmed.apply(fill_icd_from_nearest, axis=1)\n",
    "\n",
    "# Step 5: Check missing ICDs\n",
    "print(df_trimmed[\"CURRENT_ICD10_LIST\"].isnull().sum())\n"
   ]
  },
  {
   "cell_type": "code",
   "execution_count": 50,
   "id": "dfd47839-d33e-4304-9c23-66bd5b9fb52b",
   "metadata": {},
   "outputs": [],
   "source": [
    "##df_trimmed.to_csv(\"new trimmed data.csv\", index = False)"
   ]
  },
  {
   "cell_type": "code",
   "execution_count": 46,
   "id": "7cb88ab3-99eb-4d3b-88bf-efb89d25714c",
   "metadata": {
    "collapsed": true,
    "jupyter": {
     "outputs_hidden": true
    }
   },
   "outputs": [
    {
     "data": {
      "text/plain": [
       "empi_nbr_anon                               0\n",
       "event_timestamp                             0\n",
       "DAYS_TO_HEAL                            45929\n",
       "Braden Scale Score                       8806\n",
       "Closure                                  8822\n",
       "Drainage Amount                          8822\n",
       "Drainage Description                     8822\n",
       "Dressing                                 8822\n",
       "Dressing Changed                         8822\n",
       "Friction and Shear                       8822\n",
       "In Bed Mobility                          8822\n",
       "Location                                 8822\n",
       "Margins                                  8822\n",
       "Moisture                                 8822\n",
       "Nutrition                                8822\n",
       "Out of Bed Activity                      8822\n",
       "Peri-Wound Assessment                    8822\n",
       "Pressure Injury or Non-Healing Wound     8822\n",
       "Primary Wound Type                       9279\n",
       "Sensory Perception                       8822\n",
       "Site Assessment                          8822\n",
       "Treatments                               8822\n",
       "component                                   0\n",
       "lab_result                                  0\n",
       "CURRENT_ICD10_LIST                          0\n",
       "time_idx                                    0\n",
       "PAT_AGE_YEARS_FIRST_ASSESS                  0\n",
       "gender                                      0\n",
       "race                                        0\n",
       "ethnicity                                   0\n",
       "is_deceased                                 0\n",
       "dtype: int64"
      ]
     },
     "execution_count": 46,
     "metadata": {},
     "output_type": "execute_result"
    }
   ],
   "source": [
    "##df_trimmed.isna().sum()"
   ]
  },
  {
   "cell_type": "markdown",
   "id": "82d42f8c-6f9c-47fb-8c0f-5572ef3d277b",
   "metadata": {},
   "source": [
    "#### **SMILES for time-varying numerical features**"
   ]
  },
  {
   "cell_type": "code",
   "execution_count": 18,
   "id": "01aa9d74-03df-4027-8781-aaa536d1f4e6",
   "metadata": {},
   "outputs": [],
   "source": [
    "import pandas as pd\n",
    "import numpy as np\n",
    "from xgboost import XGBRegressor\n",
    "\n",
    "def smiles_impute(df_trimmed, target_col, group_col='empi_nbr_anon', time_col='time_idx', cleanup=True):\n",
    "    df_trimmed = df_trimmed.sort_values(by=[group_col, time_col])\n",
    "    df_trimmed[f'{target_col}_prefill'] = df_trimmed.groupby(group_col)[target_col].transform(lambda x: x.ffill().bfill())\n",
    "\n",
    "    for i in [1, 2, 3]:\n",
    "        df_trimmed[f'{target_col}_lag_{i}'] = df_trimmed.groupby(group_col)[f'{target_col}_prefill'].shift(i)\n",
    "        df_trimmed[f'{target_col}_lead_{i}'] = df_trimmed.groupby(group_col)[f'{target_col}_prefill'].shift(-i)\n",
    "        df_trimmed[f'{target_col}_lag_{i}'] = df_trimmed.groupby(group_col)[f'{target_col}_lag_{i}'].transform(lambda x: x.ffill().bfill())\n",
    "        df_trimmed[f'{target_col}_lead_{i}'] = df_trimmed.groupby(group_col)[f'{target_col}_lead_{i}'].transform(lambda x: x.ffill().bfill())\n",
    "\n",
    "    feature_cols = [f'{target_col}_lag_{i}' for i in [1, 2, 3]] + [f'{target_col}_lead_{i}' for i in [1, 2, 3]]\n",
    "    train_df = df_trimmed[df_trimmed[target_col].notnull()]\n",
    "    test_df = df_trimmed[df_trimmed[target_col].isnull()]\n",
    "\n",
    "    if not train_df.empty and not test_df.empty:\n",
    "        model = XGBRegressor()\n",
    "        model.fit(train_df[feature_cols], train_df[target_col])\n",
    "        df_trimmed.loc[df_trimmed[target_col].isnull(), target_col] = model.predict(test_df[feature_cols])\n",
    "\n",
    "    # Step 7: Drop temp columns if cleanup is True\n",
    "    if cleanup:\n",
    "        temp_cols = [f'{target_col}_prefill'] + feature_cols\n",
    "        df_trimmed.drop(columns=temp_cols, inplace=True, errors='ignore')\n",
    "\n",
    "    return df_trimmed\n"
   ]
  },
  {
   "cell_type": "code",
   "execution_count": 19,
   "id": "07c71f68-ded8-4385-aec6-781e2b659355",
   "metadata": {},
   "outputs": [],
   "source": [
    "df_trimmed = smiles_impute(df_trimmed, 'Braden Scale Score')\n"
   ]
  },
  {
   "cell_type": "code",
   "execution_count": 20,
   "id": "56de3890-fe2c-4c2c-8f03-de9c958e39f0",
   "metadata": {},
   "outputs": [],
   "source": [
    "for var in ['Sensory Perception', 'Out of Bed Activity', 'Moisture', 'In Bed Mobility', 'Friction and Shear']:\n",
    "    df_trimmed = smiles_impute(df_trimmed, var)\n"
   ]
  },
  {
   "cell_type": "code",
   "execution_count": 21,
   "id": "0ab6ddf8-00fe-462d-b25a-d92b51d17e0b",
   "metadata": {},
   "outputs": [],
   "source": [
    "df_trimmed = smiles_impute(df_trimmed, 'Nutrition')"
   ]
  },
  {
   "cell_type": "code",
   "execution_count": 22,
   "id": "642b9d89-459b-4885-9514-dafe255d0d5c",
   "metadata": {},
   "outputs": [
    {
     "name": "stdout",
     "output_type": "stream",
     "text": [
      "(50813, 31)\n"
     ]
    },
    {
     "data": {
      "text/plain": [
       "empi_nbr_anon                               0\n",
       "event_timestamp                             0\n",
       "DAYS_TO_HEAL                            45929\n",
       "PAT_AGE_YEARS_FIRST_ASSESS                  0\n",
       "gender                                      0\n",
       "race                                        0\n",
       "ethnicity                                   0\n",
       "is_deceased                                 0\n",
       "Braden Scale Score                          0\n",
       "Closure                                  8822\n",
       "Drainage Amount                          8822\n",
       "Drainage Description                     8822\n",
       "Dressing                                 8822\n",
       "Dressing Changed                         8822\n",
       "Friction and Shear                          0\n",
       "In Bed Mobility                             0\n",
       "Location                                 8822\n",
       "Margins                                  8822\n",
       "Moisture                                    0\n",
       "Nutrition                                   0\n",
       "Out of Bed Activity                         0\n",
       "Peri-Wound Assessment                    8822\n",
       "Pressure Injury or Non-Healing Wound     8822\n",
       "Primary Wound Type                       9279\n",
       "Sensory Perception                          0\n",
       "Site Assessment                          8822\n",
       "Treatments                               8822\n",
       "component                                   0\n",
       "lab_result                                  0\n",
       "CURRENT_ICD10_LIST                          0\n",
       "time_idx                                    0\n",
       "dtype: int64"
      ]
     },
     "execution_count": 22,
     "metadata": {},
     "output_type": "execute_result"
    }
   ],
   "source": [
    "print(df_trimmed.shape)\n",
    "df_trimmed.isna().sum()"
   ]
  },
  {
   "cell_type": "markdown",
   "id": "d4e8150d-d35e-45b8-a116-5b2d73a48e1e",
   "metadata": {},
   "source": [
    "### **SMILES for time-varying categorical features**"
   ]
  },
  {
   "cell_type": "code",
   "execution_count": 32,
   "id": "14494dfe-defa-4460-a8e9-a61878d41200",
   "metadata": {},
   "outputs": [],
   "source": [
    "import pandas as pd\n",
    "import numpy as np\n",
    "from xgboost import XGBClassifier\n",
    "\n",
    "def smiles_impute_categorical(df, target_col, group_col='empi_nbr_anon', time_col='time_idx',\n",
    "                               additional_features=None, lags=[1, 2], leads=[1, 2]):\n",
    "    \n",
    "    df = df.copy()\n",
    "    \n",
    "    # Step 1: Sort for proper shifting\n",
    "    df.sort_values(by=[group_col, time_col], inplace=True)\n",
    "    \n",
    "    # Step 2: Prefill the target column to help create lag/lead\n",
    "    prefill_col = f'{target_col}_prefill'\n",
    "    df[prefill_col] = df.groupby(group_col)[target_col].transform(lambda x: x.ffill().bfill())\n",
    "\n",
    "    # Step 3: Create lag/lead features\n",
    "    for i in lags:\n",
    "        df[f'{target_col}_lag_{i}'] = df.groupby(group_col)[prefill_col].shift(i)\n",
    "    for i in leads:\n",
    "        df[f'{target_col}_lead_{i}'] = df.groupby(group_col)[prefill_col].shift(-i)\n",
    "\n",
    "    # Step 4: Add additional features (optional)\n",
    "    feature_cols = [f'{target_col}_lag_{i}' for i in lags] + [f'{target_col}_lead_{i}' for i in leads]\n",
    "    if additional_features:\n",
    "        feature_cols += additional_features\n",
    "\n",
    "    # Step 5: Fill missing values in feature columns using ffill + bfill (preserving time consistency)\n",
    "    for col in feature_cols:\n",
    "        df[col] = df.groupby(group_col)[col].transform(lambda x: x.ffill().bfill())\n",
    "        df[col] = df[col].astype(str).replace('nan', np.nan).astype('category').cat.codes.replace(-1, np.nan).astype(float)\n",
    "\n",
    "    # Step 6: Prepare training data (only rows where target is known)\n",
    "    df_features = df[df[target_col].notnull()].copy()\n",
    "    df_features[target_col] = df_features[target_col].astype('category')\n",
    "    target_classes = df_features[target_col].cat.categories\n",
    "    df_features[target_col] = df_features[target_col].cat.codes\n",
    "\n",
    "    X_train = df_features[feature_cols]\n",
    "    y_train = df_features[target_col]\n",
    "\n",
    "    model = XGBClassifier(eval_metric='mlogloss', random_state=42)\n",
    "    model.fit(X_train, y_train)\n",
    "\n",
    "    # Step 7: Predict missing values (where features are filled and target is null)\n",
    "    rows_to_impute = df[df[target_col].isna() & df[feature_cols].notnull().all(axis=1)].copy()\n",
    "    if not rows_to_impute.empty:\n",
    "        X_test = rows_to_impute[feature_cols]\n",
    "        y_pred = model.predict(X_test)\n",
    "        df.loc[X_test.index, target_col] = pd.Categorical.from_codes(y_pred, categories=target_classes)\n",
    "\n",
    "    # Optional cleanup: drop helper columns\n",
    "    helper_cols = [prefill_col] + [f'{target_col}_lag_{i}' for i in lags] + [f'{target_col}_lead_{i}' for i in leads]\n",
    "    df.drop(columns=helper_cols, inplace=True, errors='ignore')\n",
    "\n",
    "    print(f\"SMILES-style categorical imputation complete for '{target_col}'!\")\n",
    "    print(f\"Remaining nulls in '{target_col}':\", df[target_col].isna().sum())\n",
    "\n",
    "    return df\n"
   ]
  },
  {
   "cell_type": "code",
   "execution_count": 33,
   "id": "f25e3200-b9f0-45a6-882d-ccc7599d5b74",
   "metadata": {},
   "outputs": [
    {
     "name": "stdout",
     "output_type": "stream",
     "text": [
      "SMILES-style categorical imputation complete for 'Closure'!\n",
      "Remaining nulls in 'Closure': 0\n"
     ]
    }
   ],
   "source": [
    "# Run SMILES-style imputation for 'Closure' using clinical context\n",
    "df_trimmed = smiles_impute_categorical(\n",
    "    df_trimmed,\n",
    "    target_col='Closure',\n",
    "    additional_features=['Moisture', 'Braden Scale Score']  \n",
    ")\n"
   ]
  },
  {
   "cell_type": "code",
   "execution_count": 39,
   "id": "191b0972-4eca-42b3-950e-4c274d7df975",
   "metadata": {
    "collapsed": true,
    "jupyter": {
     "outputs_hidden": true
    }
   },
   "outputs": [
    {
     "data": {
      "text/plain": [
       "empi_nbr_anon                               0\n",
       "event_timestamp                             0\n",
       "DAYS_TO_HEAL                            45929\n",
       "PAT_AGE_YEARS_FIRST_ASSESS                  0\n",
       "gender                                      0\n",
       "race                                        0\n",
       "ethnicity                                   0\n",
       "is_deceased                                 0\n",
       "Braden Scale Score                          0\n",
       "Closure                                     0\n",
       "Drainage Amount                          8822\n",
       "Drainage Description                     8822\n",
       "Friction and Shear                          0\n",
       "In Bed Mobility                             0\n",
       "Location                                 8822\n",
       "Margins                                  8822\n",
       "Moisture                                    0\n",
       "Nutrition                                   0\n",
       "Out of Bed Activity                         0\n",
       "Peri-Wound Assessment                    8822\n",
       "Pressure Injury or Non-Healing Wound     8822\n",
       "Sensory Perception                          0\n",
       "component                                   0\n",
       "lab_result                                  0\n",
       "CURRENT_ICD10_LIST                          0\n",
       "time_idx                                    0\n",
       "dtype: int64"
      ]
     },
     "execution_count": 39,
     "metadata": {},
     "output_type": "execute_result"
    }
   ],
   "source": [
    "df_trimmed.drop(columns=[\n",
    "    'Dressing',\n",
    "    'Treatments',\n",
    "    'Site Assessment',\n",
    "    'Primary Wound Type',\n",
    "    'Dressing Changed'\n",
    "], inplace=True, errors='ignore')\n",
    "df_trimmed.isna().sum()"
   ]
  },
  {
   "cell_type": "code",
   "execution_count": 41,
   "id": "5653f881-199b-4ab1-a557-edda3af54522",
   "metadata": {},
   "outputs": [
    {
     "name": "stdout",
     "output_type": "stream",
     "text": [
      "SMILES-style categorical imputation complete for 'Drainage Amount'!\n",
      "Remaining nulls in 'Drainage Amount': 0\n",
      "SMILES-style categorical imputation complete for 'Drainage Description'!\n",
      "Remaining nulls in 'Drainage Description': 0\n",
      "SMILES-style categorical imputation complete for 'Location'!\n",
      "Remaining nulls in 'Location': 0\n",
      "SMILES-style categorical imputation complete for 'Margins'!\n",
      "Remaining nulls in 'Margins': 0\n",
      "SMILES-style categorical imputation complete for 'Pressure Injury or Non-Healing Wound'!\n",
      "Remaining nulls in 'Pressure Injury or Non-Healing Wound': 0\n",
      "SMILES-style categorical imputation complete for 'Peri-Wound Assessment'!\n",
      "Remaining nulls in 'Peri-Wound Assessment': 0\n"
     ]
    }
   ],
   "source": [
    "# Drainage Amount\n",
    "df_trimmed = smiles_impute_categorical(\n",
    "    df_trimmed,\n",
    "    target_col='Drainage Amount',\n",
    "    additional_features=['Braden Scale Score', 'Moisture']\n",
    ")\n",
    "\n",
    "# Drainage Description\n",
    "df_trimmed = smiles_impute_categorical(\n",
    "    df_trimmed,\n",
    "    target_col='Drainage Description',\n",
    "    additional_features=['Drainage Amount', 'Braden Scale Score']\n",
    ")\n",
    "\n",
    "# Location\n",
    "df_trimmed = smiles_impute_categorical(\n",
    "    df_trimmed,\n",
    "    target_col='Location'\n",
    ")\n",
    "\n",
    "# Margins\n",
    "df_trimmed = smiles_impute_categorical(\n",
    "    df_trimmed,\n",
    "    target_col='Margins',\n",
    "    additional_features=['Moisture', 'Nutrition', 'Closure']\n",
    ")\n",
    "\n",
    "# Pressure Injury or Non-Healing Wound\n",
    "df_trimmed = smiles_impute_categorical(\n",
    "    df_trimmed,\n",
    "    target_col='Pressure Injury or Non-Healing Wound',\n",
    "    additional_features=['Location', 'Braden Scale Score']\n",
    ")\n",
    "\n",
    "# Peri-Wound Assessment\n",
    "df_trimmed = smiles_impute_categorical(\n",
    "    df_trimmed,\n",
    "    target_col='Peri-Wound Assessment',\n",
    "    additional_features=['Moisture', 'Margins', 'Braden Scale Score']\n",
    ")\n"
   ]
  },
  {
   "cell_type": "code",
   "execution_count": 43,
   "id": "ea84653d-5481-4938-85d5-f8801acdfa90",
   "metadata": {
    "collapsed": true,
    "jupyter": {
     "outputs_hidden": true
    }
   },
   "outputs": [
    {
     "name": "stdout",
     "output_type": "stream",
     "text": [
      "\n",
      "Pressure Injury or Non-Healing Wound categories:\n",
      "  0 -> No\n",
      "  1 -> Yes (Comment)\n",
      "\n",
      "Drainage Amount categories:\n",
      "  0 -> 0.0\n",
      "  1 -> 1.0\n",
      "  2 -> 2.0\n",
      "  3 -> 3.0\n",
      "  4 -> 4.0\n",
      "  5 -> 5.0\n",
      "  6 -> 6.0\n",
      "['PAT_AGE_YEARS_FIRST_ASSESS', 'is_deceased', 'Braden Scale Score', 'Closure', 'Friction and Shear', 'In Bed Mobility', 'Location', 'Margins', 'Moisture', 'Nutrition', 'Out of Bed Activity', 'Sensory Perception', 'lab_result']\n"
     ]
    }
   ],
   "source": [
    "#Encoded categorical columns which have fewer low varying value\n",
    "import pandas as pd\n",
    "import numpy as np\n",
    "\n",
    "# Step 2: Columns to encode\n",
    "categorical_to_encode = ['Pressure Injury or Non-Healing Wound', 'Drainage Amount']\n",
    "\n",
    "# Step 3: Label encode and preserve original categories\n",
    "label_encoders = {}\n",
    "for col in categorical_to_encode:\n",
    "    df_trimmed[col] = df_trimmed[col].astype('category')\n",
    "    label_encoders[col] = dict(enumerate(df_trimmed[col].cat.categories))\n",
    "    df_trimmed[col] = df_trimmed[col].cat.codes.replace(-1, np.nan)\n",
    "\n",
    "# Step 4: Identify all integer/float features (excluding IDs and target)\n",
    "excluded_cols = ['Days_to_heal', 'time_idx', 'empi_nbr_anon']\n",
    "selected_additional_features = [\n",
    "    col for col in df_trimmed.select_dtypes(include=['int64', 'float64']).columns\n",
    "    if col not in excluded_cols and df_trimmed[col].isnull().sum() == 0\n",
    "]\n",
    "\n",
    "# Step 5: Print encoded mapping (optional)\n",
    "for col, mapping in label_encoders.items():\n",
    "    print(f\"\\n{col} categories:\")\n",
    "    for k, v in mapping.items():\n",
    "        print(f\"  {k} -> {v}\")\n",
    "\n",
    "print(selected_additional_features)\n"
   ]
  },
  {
   "cell_type": "code",
   "execution_count": 52,
   "id": "cc004165-4566-4668-a223-51ba90e8d628",
   "metadata": {},
   "outputs": [
    {
     "name": "stdout",
     "output_type": "stream",
     "text": [
      "Remaining missing DAYS_TO_HEAL: 0\n"
     ]
    }
   ],
   "source": [
    "# Ensure datetime format\n",
    "df_trimmed[\"event_timestamp\"] = pd.to_datetime(df_trimmed[\"event_timestamp\"])\n",
    "df_merged[\"event_timestamp\"] = pd.to_datetime(df_merged[\"event_timestamp\"])\n",
    "\n",
    "# Subset only needed columns from df_merged\n",
    "df_days = df_merged[[\"empi_nbr_anon\", \"event_timestamp\", \"DAYS_TO_HEAL\"]].dropna()\n",
    "\n",
    "# Sort for performance\n",
    "df_days = df_days.sort_values([\"empi_nbr_anon\", \"event_timestamp\"])\n",
    "\n",
    "# Function to fill DAYS_TO_HEAL from nearest timestamp per patient\n",
    "def fill_nearest_days(row):\n",
    "    if pd.notna(row[\"DAYS_TO_HEAL\"]):\n",
    "        return row  # already filled\n",
    "\n",
    "    patient_id = row[\"empi_nbr_anon\"]\n",
    "    timestamp = row[\"event_timestamp\"]\n",
    "\n",
    "    patient_data = df_days[df_days[\"empi_nbr_anon\"] == patient_id]\n",
    "    if patient_data.empty:\n",
    "        return row  # no match found\n",
    "\n",
    "    nearest_idx = (patient_data[\"event_timestamp\"] - timestamp).abs().idxmin()\n",
    "    nearest_value = patient_data.loc[nearest_idx, \"DAYS_TO_HEAL\"]\n",
    "    row[\"DAYS_TO_HEAL\"] = nearest_value\n",
    "    return row\n",
    "\n",
    "# Apply to df_trimmed\n",
    "df_trimmed = df_trimmed.apply(fill_nearest_days, axis=1)\n",
    "\n",
    "# Check result\n",
    "print(\"Remaining missing DAYS_TO_HEAL:\", df_trimmed[\"DAYS_TO_HEAL\"].isnull().sum())\n"
   ]
  },
  {
   "cell_type": "code",
   "execution_count": 54,
   "id": "f5a781a5-d5c8-4cfa-999f-514f0feca44e",
   "metadata": {},
   "outputs": [],
   "source": [
    "import pandas as pd\n",
    "import numpy as np\n",
    "from xgboost import XGBRegressor\n",
    "\n",
    "def smiles_impute_days_to_heal(df, target_col='DAYS_TO_HEAL',\n",
    "                                group_col='empi_nbr_anon', time_col='time_idx',\n",
    "                                additional_features=None, lags=[1, 2], leads=[1, 2]):\n",
    "    df = df.copy()\n",
    "    \n",
    "    # Step 1: Sort by group and time\n",
    "    df.sort_values(by=[group_col, time_col], inplace=True)\n",
    "\n",
    "    # Step 2: Forward and backward fill for lag/lead creation only\n",
    "    prefill_col = f'{target_col}_prefill'\n",
    "    df[prefill_col] = df.groupby(group_col)[target_col].transform(lambda x: x.ffill().bfill())\n",
    "\n",
    "    # Step 3: Create lag and lead features\n",
    "    for i in lags:\n",
    "        df[f'{target_col}_lag_{i}'] = df.groupby(group_col)[prefill_col].shift(i)\n",
    "    for i in leads:\n",
    "        df[f'{target_col}_lead_{i}'] = df.groupby(group_col)[prefill_col].shift(-i)\n",
    "\n",
    "    # Step 4: Collect feature columns\n",
    "    feature_cols = [f'{target_col}_lag_{i}' for i in lags] + [f'{target_col}_lead_{i}' for i in leads]\n",
    "    \n",
    "    if additional_features:\n",
    "        feature_cols += additional_features\n",
    "    \n",
    "    # Step 5: Filter rows for training where target is not null and features are present\n",
    "    train_df = df[df[target_col].notnull() & df[feature_cols].notnull().all(axis=1)].copy()\n",
    "    test_df = df[df[target_col].isnull() & df[feature_cols].notnull().all(axis=1)].copy()\n",
    "\n",
    "    # Step 6: Train XGBoost Regressor\n",
    "    if not train_df.empty and not test_df.empty:\n",
    "        model = XGBRegressor(random_state=42)\n",
    "        model.fit(train_df[feature_cols], train_df[target_col])\n",
    "        \n",
    "        # Step 7: Predict missing values\n",
    "        df.loc[test_df.index, target_col] = model.predict(test_df[feature_cols])\n",
    "\n",
    "    # Step 8: Clean up temporary columns\n",
    "    helper_cols = [prefill_col] + [f'{target_col}_lag_{i}' for i in lags] + [f'{target_col}_lead_{i}' for i in leads]\n",
    "    df.drop(columns=helper_cols, inplace=True, errors='ignore')\n",
    "\n",
    "    print(f\"SMILES-style imputation for '{target_col}' completed!\")\n",
    "    return df\n"
   ]
  },
  {
   "cell_type": "code",
   "execution_count": 55,
   "id": "b4d98706-0ce6-4b9c-b674-50a8c3decb65",
   "metadata": {},
   "outputs": [
    {
     "name": "stdout",
     "output_type": "stream",
     "text": [
      "SMILES-style imputation for 'DAYS_TO_HEAL' completed!\n"
     ]
    }
   ],
   "source": [
    "df_trimmed = smiles_impute_days_to_heal(\n",
    "    df_trimmed,\n",
    "    target_col='DAYS_TO_HEAL',\n",
    "    additional_features=[\n",
    "        'PAT_AGE_YEARS_FIRST_ASSESS',\n",
    "        'is_deceased',\n",
    "        'Braden Scale Score',\n",
    "        'Closure',\n",
    "        'Friction and Shear',\n",
    "        'In Bed Mobility',\n",
    "        'Sensory Perception',\n",
    "        'Pressure Injury or Non-Healing Wound',\n",
    "        'Drainage Amount'\n",
    "    ]\n",
    ")\n"
   ]
  },
  {
   "cell_type": "code",
   "execution_count": 56,
   "id": "c4c9771d-8b63-4eaa-9940-b1af268586fb",
   "metadata": {},
   "outputs": [
    {
     "name": "stdout",
     "output_type": "stream",
     "text": [
      "Empty DataFrame\n",
      "Columns: [empi_nbr_anon, missing_rows]\n",
      "Index: []\n",
      "Total patients with missing DAYS_TO_HEAL: 0\n"
     ]
    }
   ],
   "source": [
    "# Count of missing DAYS_TO_HEAL per patient after SMILES imputation\n",
    "skipped_summary = df_trimmed[df_trimmed['DAYS_TO_HEAL'].isnull()].groupby('empi_nbr_anon').size().reset_index(name='missing_rows')\n",
    "skipped_summary = skipped_summary.sort_values(by='missing_rows', ascending=False)\n",
    "print(skipped_summary.head())\n",
    "print(f\"Total patients with missing DAYS_TO_HEAL: {skipped_summary.shape[0]}\")\n"
   ]
  },
  {
   "cell_type": "code",
   "execution_count": 58,
   "id": "b1b72e73-70e4-444c-a239-1547337e661b",
   "metadata": {},
   "outputs": [
    {
     "name": "stdout",
     "output_type": "stream",
     "text": [
      "empi_nbr_anon                           0\n",
      "event_timestamp                         0\n",
      "DAYS_TO_HEAL                            0\n",
      "PAT_AGE_YEARS_FIRST_ASSESS              0\n",
      "gender                                  0\n",
      "race                                    0\n",
      "ethnicity                               0\n",
      "is_deceased                             0\n",
      "Braden Scale Score                      0\n",
      "Closure                                 0\n",
      "Drainage Amount                         0\n",
      "Drainage Description                    0\n",
      "Friction and Shear                      0\n",
      "In Bed Mobility                         0\n",
      "Location                                0\n",
      "Margins                                 0\n",
      "Moisture                                0\n",
      "Nutrition                               0\n",
      "Out of Bed Activity                     0\n",
      "Peri-Wound Assessment                   0\n",
      "Pressure Injury or Non-Healing Wound    0\n",
      "Sensory Perception                      0\n",
      "component                               0\n",
      "lab_result                              0\n",
      "CURRENT_ICD10_LIST                      0\n",
      "time_idx                                0\n",
      "dtype: int64\n"
     ]
    },
    {
     "data": {
      "text/plain": [
       "(50813, 26)"
      ]
     },
     "execution_count": 58,
     "metadata": {},
     "output_type": "execute_result"
    }
   ],
   "source": [
    "print(df_trimmed.isna().sum())\n",
    "df_trimmed.shape"
   ]
  },
  {
   "cell_type": "code",
   "execution_count": 59,
   "id": "04e442f7-d3e8-4b51-ac39-0a1e8fa991e0",
   "metadata": {},
   "outputs": [],
   "source": [
    "##df_trimmed.to_csv(\"Final imputed.csv\", index = False)"
   ]
  },
  {
   "cell_type": "markdown",
   "id": "2ee90dde-03a4-4943-a1f3-9db0d81c0d35",
   "metadata": {},
   "source": [
    "Due to trimming, time_idx was not ordered anymore becasue some rows were lost.So, ordered it such that each patient has an increasing time index."
   ]
  },
  {
   "cell_type": "code",
   "execution_count": 61,
   "id": "fcc24447-e113-4353-83c4-6390036c2ecb",
   "metadata": {},
   "outputs": [],
   "source": [
    "\n",
    "# Reassign time_idx: strictly increasing per patient\n",
    "df_trimmed.sort_values(by=[\"empi_nbr_anon\", \"event_timestamp\"], inplace=True)\n",
    "df_trimmed[\"time_idx\"] = df_trimmed.groupby(\"empi_nbr_anon\").cumcount()\n"
   ]
  },
  {
   "cell_type": "code",
   "execution_count": 64,
   "id": "3b5fb3b1-5540-4254-85bd-5816b5f173b0",
   "metadata": {},
   "outputs": [],
   "source": [
    "float_cols = df_trimmed.select_dtypes(include=['float64']).columns\n",
    "df_trimmed[float_cols] = df_trimmed[float_cols].round(2) \n"
   ]
  },
  {
   "cell_type": "code",
   "execution_count": 65,
   "id": "836c7c59-27ae-400e-906d-82236917995a",
   "metadata": {},
   "outputs": [],
   "source": [
    "from sklearn.preprocessing import StandardScaler\n",
    "\n",
    "float_cols = df_trimmed.select_dtypes(include=[\"float64\"]).columns.tolist()\n",
    "scaler = StandardScaler()\n",
    "df_trimmed[float_cols] = scaler.fit_transform(df_trimmed[float_cols])\n"
   ]
  },
  {
   "cell_type": "code",
   "execution_count": 66,
   "id": "33fecfd0-1027-4092-8210-87f1363e96c5",
   "metadata": {},
   "outputs": [
    {
     "name": "stdout",
     "output_type": "stream",
     "text": [
      "Median number of timestamps per patient: 49.0\n",
      "Mean number of timestamps per patient: 49.00\n",
      "Minimum timestamps: 49\n",
      "patient number: 49\n"
     ]
    }
   ],
   "source": [
    "# Number of timestamps per patient\n",
    "patient_counts = df_trimmed.groupby(\"empi_nbr_anon\").size()\n",
    "\n",
    "print(f\"Median number of timestamps per patient: {patient_counts.median()}\")\n",
    "print(f\"Mean number of timestamps per patient: {patient_counts.mean():.2f}\")\n",
    "print(f\"Minimum timestamps: {patient_counts.min()}\")\n",
    "print(f\"patient number: {patient_counts.max()}\")\n",
    "print(empi_nbr_anon.)\n"
   ]
  },
  {
   "cell_type": "code",
   "execution_count": 69,
   "id": "df535a5e-504a-4f55-a654-fac2ceb54c73",
   "metadata": {
    "collapsed": true,
    "jupyter": {
     "outputs_hidden": true
    }
   },
   "outputs": [
    {
     "name": "stdout",
     "output_type": "stream",
     "text": [
      "Unique time step counts: time_idx\n",
      "49    1037\n",
      "Name: count, dtype: int64\n",
      "\n",
      "Patients with missing/excess time steps: 0\n"
     ]
    }
   ],
   "source": [
    "# Count number of time steps per patient\n",
    "time_counts = df_trimmed.groupby(\"empi_nbr_anon\")[\"time_idx\"].nunique()\n",
    "\n",
    "# Check how many unique values there are in the counts\n",
    "print(\"Unique time step counts:\", time_counts.value_counts())\n",
    "\n",
    "# Optional: Flag patients who don't meet the expected length\n",
    "expected_timesteps = time_counts.mode().values[0]  # most common value\n",
    "uneven_patients = time_counts[time_counts != expected_timesteps]\n",
    "\n",
    "print(f\"\\nPatients with missing/excess time steps: {len(uneven_patients)}\")\n"
   ]
  },
  {
   "cell_type": "code",
   "execution_count": 139,
   "id": "11bec1e0-ae15-4d4c-9990-f5e0c4144e52",
   "metadata": {},
   "outputs": [
    {
     "data": {
      "text/plain": [
       "Index(['empi_nbr_anon', 'event_timestamp', 'DAYS_TO_HEAL',\n",
       "       'PAT_AGE_YEARS_FIRST_ASSESS', 'gender', 'race', 'ethnicity',\n",
       "       'is_deceased', 'Braden Scale Score', 'Closure', 'Drainage Amount',\n",
       "       'Drainage Description', 'Friction and Shear', 'In Bed Mobility',\n",
       "       'Location', 'Margins', 'Moisture', 'Nutrition', 'Out of Bed Activity',\n",
       "       'Peri-Wound Assessment', 'Pressure Injury or Non-Healing Wound',\n",
       "       'Sensory Perception', 'component', 'lab_result', 'CURRENT_ICD10_LIST',\n",
       "       'time_idx'],\n",
       "      dtype='object')"
      ]
     },
     "execution_count": 139,
     "metadata": {},
     "output_type": "execute_result"
    }
   ],
   "source": [
    "df_trimmed.columns"
   ]
  },
  {
   "cell_type": "code",
   "execution_count": 140,
   "id": "734dc7cc-77da-4cc1-83e6-1bdd854bd2ee",
   "metadata": {},
   "outputs": [],
   "source": [
    "# Take absolute value of target column to ensure it's non-negative\n",
    "df_trimmed[\"DAYS_TO_HEAL\"] = df_trimmed[\"DAYS_TO_HEAL\"].abs()\n"
   ]
  },
  {
   "cell_type": "code",
   "execution_count": 141,
   "id": "e72ad4ae-02c2-4b78-8967-fb91e5a6968c",
   "metadata": {},
   "outputs": [
    {
     "name": "stdout",
     "output_type": "stream",
     "text": [
      "Train patients: 829\n",
      "Validation patients: 104\n",
      "Test patients: 104\n"
     ]
    }
   ],
   "source": [
    "from sklearn.model_selection import train_test_split\n",
    "\n",
    "# Get unique patient IDs\n",
    "unique_patients = df_trimmed[\"empi_nbr_anon\"].unique()\n",
    "\n",
    "# First split: 80% train, 20% temp\n",
    "train_patients, temp_patients = train_test_split(unique_patients, test_size=0.2, random_state=42)\n",
    "\n",
    "# Second split: 50% of temp -> val, 50% -> test (i.e., 10% each of total)\n",
    "val_patients, test_patients = train_test_split(temp_patients, test_size=0.5, random_state=42)\n",
    "\n",
    "# Create full datasets\n",
    "train_df = df_trimmed[df_trimmed[\"empi_nbr_anon\"].isin(train_patients)]\n",
    "val_df = df_trimmed[df_trimmed[\"empi_nbr_anon\"].isin(val_patients)]\n",
    "test_df = df_trimmed[df_trimmed[\"empi_nbr_anon\"].isin(test_patients)]\n",
    "\n",
    "print(f\"Train patients: {len(train_patients)}\")\n",
    "print(f\"Validation patients: {len(val_patients)}\")\n",
    "print(f\"Test patients: {len(test_patients)}\")\n"
   ]
  },
  {
   "cell_type": "code",
   "execution_count": 142,
   "id": "3477d995-2672-4fa9-b938-b9eccf026afb",
   "metadata": {},
   "outputs": [],
   "source": [
    "# Convert categorical columns to string type safely\n",
    "categorical_columns = [\n",
    "    \"Drainage Description\", \"gender\", \"race\", \"ethnicity\",\n",
    "    \"Peri-Wound Assessment\", \"component\", \"CURRENT_ICD10_LIST\"\n",
    "]\n",
    "\n",
    "for col in categorical_columns:\n",
    "    train_df.loc[:, col] = train_df[col].astype(str)\n",
    "    val_df.loc[:, col] = val_df[col].astype(str)\n",
    "    test_df.loc[:, col] = test_df[col].astype(str)\n"
   ]
  },
  {
   "cell_type": "markdown",
   "id": "1b8679b2-f1e4-4897-a94f-c6c2ca794463",
   "metadata": {},
   "source": [
    "### **Create TimeSeriesDataset for the TFT model**"
   ]
  },
  {
   "cell_type": "code",
   "execution_count": 143,
   "id": "6bcc0a9e-161b-45ea-9e3a-ecf665a1d8cc",
   "metadata": {},
   "outputs": [
    {
     "name": "stdout",
     "output_type": "stream",
     "text": [
      "TimeSeriesDatasets created.\n"
     ]
    },
    {
     "name": "stderr",
     "output_type": "stream",
     "text": [
      "/home/pdmishr/.local/lib/python3.10/site-packages/pytorch_forecasting/data/encoders.py:400: UserWarning: Found 20 unknown classes which were set to NaN\n",
      "  warnings.warn(\n",
      "/home/pdmishr/.local/lib/python3.10/site-packages/pytorch_forecasting/data/encoders.py:400: UserWarning: Found 94 unknown classes which were set to NaN\n",
      "  warnings.warn(\n",
      "/home/pdmishr/.local/lib/python3.10/site-packages/pytorch_forecasting/data/encoders.py:400: UserWarning: Found 6 unknown classes which were set to NaN\n",
      "  warnings.warn(\n",
      "/home/pdmishr/.local/lib/python3.10/site-packages/pytorch_forecasting/data/encoders.py:400: UserWarning: Found 132 unknown classes which were set to NaN\n",
      "  warnings.warn(\n",
      "/home/pdmishr/.local/lib/python3.10/site-packages/pytorch_forecasting/data/encoders.py:400: UserWarning: Found 16 unknown classes which were set to NaN\n",
      "  warnings.warn(\n",
      "/home/pdmishr/.local/lib/python3.10/site-packages/pytorch_forecasting/data/encoders.py:400: UserWarning: Found 96 unknown classes which were set to NaN\n",
      "  warnings.warn(\n",
      "/home/pdmishr/.local/lib/python3.10/site-packages/pytorch_forecasting/data/encoders.py:400: UserWarning: Found 189 unknown classes which were set to NaN\n",
      "  warnings.warn(\n"
     ]
    }
   ],
   "source": [
    "from pytorch_forecasting import TimeSeriesDataSet\n",
    "from pytorch_forecasting.data.encoders import NaNLabelEncoder\n",
    "\n",
    "# --- Feature classifications ---\n",
    "static_categoricals = [\"gender\", \"race\", \"ethnicity\"]\n",
    "static_reals = [\"PAT_AGE_YEARS_FIRST_ASSESS\"]\n",
    "\n",
    "time_varying_known_reals = [\"time_idx\"]\n",
    "\n",
    "time_varying_unknown_categoricals = [\n",
    "    \"Drainage Description\", \"Peri-Wound Assessment\", \"component\", \"CURRENT_ICD10_LIST\"\n",
    "]\n",
    "\n",
    "time_varying_unknown_reals = [\n",
    "    \"DAYS_TO_HEAL\", \"Braden Scale Score\", \"Closure\", \"Drainage Amount\",\n",
    "    \"Friction and Shear\", \"In Bed Mobility\", \"Location\", \"Margins\", \"Moisture\",\n",
    "    \"Nutrition\", \"Out of Bed Activity\", \"Pressure Injury or Non-Healing Wound\",\n",
    "    \"Sensory Perception\", \"lab_result\", \"is_deceased\"\n",
    "]\n",
    "\n",
    "# --- Train dataset ---\n",
    "training_dataset = TimeSeriesDataSet(\n",
    "    train_df,\n",
    "    time_idx=\"time_idx\",\n",
    "    target=\"DAYS_TO_HEAL\",\n",
    "    group_ids=[\"empi_nbr_anon\"],\n",
    "\n",
    "    max_encoder_length= 41,\n",
    "    max_prediction_length=8,\n",
    "\n",
    "    static_categoricals=static_categoricals,\n",
    "    static_reals=static_reals,\n",
    "    \n",
    "    time_varying_known_reals=time_varying_known_reals,\n",
    "    time_varying_known_categoricals=[],\n",
    "    \n",
    "    time_varying_unknown_reals=time_varying_unknown_reals,\n",
    "    time_varying_unknown_categoricals=time_varying_unknown_categoricals,\n",
    "\n",
    "    categorical_encoders={\n",
    "        cat: NaNLabelEncoder(add_nan=True)\n",
    "        for cat in static_categoricals + time_varying_unknown_categoricals\n",
    "    },\n",
    "\n",
    "    target_normalizer=None,\n",
    "    add_relative_time_idx=True,\n",
    "    add_target_scales=True,\n",
    "    add_encoder_length=True,\n",
    "    allow_missing_timesteps=True\n",
    ")\n",
    "\n",
    "# --- Validation dataset ---\n",
    "validation_dataset = TimeSeriesDataSet.from_dataset(\n",
    "    training_dataset,\n",
    "    val_df,\n",
    "    predict=True,\n",
    "    stop_randomization=True\n",
    ")\n",
    "\n",
    "# Test dataset  ---\n",
    "test_dataset = TimeSeriesDataSet.from_dataset(\n",
    "    training_dataset,\n",
    "    test_df,\n",
    "    predict=True,\n",
    "    stop_randomization=True\n",
    ")\n",
    "\n",
    "print(\"TimeSeriesDatasets created.\")\n"
   ]
  },
  {
   "cell_type": "markdown",
   "id": "60490765-c22f-439c-9a2b-b716770cf830",
   "metadata": {},
   "source": [
    "### **Creating DataLoaders**"
   ]
  },
  {
   "cell_type": "code",
   "execution_count": 144,
   "id": "84c44797-c5e8-4099-95b7-6d5ff96a0583",
   "metadata": {},
   "outputs": [
    {
     "name": "stdout",
     "output_type": "stream",
     "text": [
      "DataLoaders created.\n"
     ]
    }
   ],
   "source": [
    "from torch.utils.data import DataLoader\n",
    "\n",
    "# Define batch size\n",
    "batch_size = 64\n",
    "\n",
    "# Training DataLoader\n",
    "train_dataloader = training_dataset.to_dataloader(\n",
    "    train=True,\n",
    "    batch_size=batch_size,\n",
    "    num_workers=0\n",
    ")\n",
    "\n",
    "# Validation DataLoader\n",
    "val_dataloader = validation_dataset.to_dataloader(\n",
    "    train=False,\n",
    "    batch_size=batch_size,\n",
    "    num_workers=0\n",
    ")\n",
    "\n",
    "# Test DataLoader \n",
    "test_dataloader = test_dataset.to_dataloader(\n",
    "    train=False,\n",
    "    batch_size=batch_size,\n",
    "    num_workers=0\n",
    ")\n",
    "\n",
    "print(\"DataLoaders created.\")\n"
   ]
  },
  {
   "cell_type": "markdown",
   "id": "4aff89e9-f907-4b91-b6c0-82a987918650",
   "metadata": {},
   "source": [
    "### **Using a Lightning module to wrap the TFT model**"
   ]
  },
  {
   "cell_type": "code",
   "execution_count": 179,
   "id": "88ef0ee7-3c1f-4065-a2f9-3af749913d08",
   "metadata": {},
   "outputs": [
    {
     "name": "stdout",
     "output_type": "stream",
     "text": [
      "Is TFT a LightningModule? True\n"
     ]
    }
   ],
   "source": [
    "import pytorch_lightning as pl\n",
    "import torch\n",
    "from pytorch_forecasting.models.temporal_fusion_transformer import TemporalFusionTransformer\n",
    "from pytorch_forecasting.metrics import QuantileLoss\n",
    "\n",
    "\n",
    "class TFTLightningModule(pl.LightningModule):\n",
    "    def __init__(self, training_dataset, hparams):\n",
    "        super().__init__()\n",
    "        self.save_hyperparameters(hparams)  \n",
    "\n",
    "        self.save_hyperparameters({\"training_dataset\": training_dataset, **hparams})\n",
    "\n",
    "    \n",
    "        self.loss = QuantileLoss()\n",
    "        self.model = TemporalFusionTransformer.from_dataset(\n",
    "            training_dataset,\n",
    "            learning_rate=hparams[\"learning_rate\"],\n",
    "            hidden_size=hparams[\"hidden_size\"],\n",
    "            attention_head_size=hparams[\"attention_head_size\"],\n",
    "            dropout=hparams[\"dropout\"],\n",
    "            hidden_continuous_size=8,\n",
    "            loss=self.loss,\n",
    "            log_interval=10,\n",
    "            reduce_on_plateau_patience=4\n",
    "        )\n",
    "\n",
    "\n",
    "    def forward(self, x):\n",
    "        return self.model(x)\n",
    "\n",
    "    def training_step(self, batch, batch_idx):\n",
    "        x, y = batch\n",
    "        output = self(x)\n",
    "        loss = self.loss(output[\"prediction\"], y[0])\n",
    "        self.log(\"train_loss\", loss)\n",
    "        return loss\n",
    "\n",
    "    def validation_step(self, batch, batch_idx):\n",
    "        x, y = batch\n",
    "        output = self(x)\n",
    "        loss = self.loss(output[\"prediction\"], y[0])\n",
    "        self.log(\"val_loss\", loss, prog_bar=True)\n",
    "        return loss\n",
    "\n",
    "    def predict_step(self, batch, batch_idx, dataloader_idx=0):\n",
    "        x, _ = batch\n",
    "        return self(x)[\"prediction\"]\n",
    "\n",
    "    def configure_optimizers(self):\n",
    "        return torch.optim.Adam(self.parameters(), lr=self.hparams[\"learning_rate\"])\n",
    "\n",
    "# check if TFT is a Lightning Module\n",
    "hparams = {\n",
    "    \"learning_rate\": 0.01,\n",
    "    \"hidden_size\": 32,\n",
    "    \"attention_head_size\": 4,\n",
    "    \"dropout\": 0.2\n",
    "}\n",
    "\n",
    "tft = TFTLightningModule(training_dataset, hparams)\n",
    "print(f\"Is TFT a LightningModule? {isinstance(tft, pl.LightningModule)}\")\n"
   ]
  },
  {
   "cell_type": "code",
   "execution_count": 175,
   "id": "afd5ef22-333a-40ec-aaa0-77c9a1ad6d26",
   "metadata": {},
   "outputs": [],
   "source": [
    "from pytorch_lightning.loggers import CSVLogger\n",
    "\n",
    "logger = CSVLogger(\"lightning_logs\", name=\"tft_wounds\")\n"
   ]
  },
  {
   "cell_type": "code",
   "execution_count": 147,
   "id": "5c9d7f5f-81e3-4d77-9fb8-e5ea1a174999",
   "metadata": {},
   "outputs": [
    {
     "name": "stdout",
     "output_type": "stream",
     "text": [
      "0\n"
     ]
    }
   ],
   "source": [
    "import torch\n",
    "print(torch.cuda.device_count())\n"
   ]
  },
  {
   "cell_type": "code",
   "execution_count": 148,
   "id": "1a4f79e5-71ec-4bfb-88bb-e885b7c67bfe",
   "metadata": {},
   "outputs": [
    {
     "name": "stdout",
     "output_type": "stream",
     "text": [
      "False\n"
     ]
    }
   ],
   "source": [
    "import os\n",
    "os.environ[\"CUDA_VISIBLE_DEVICES\"] = \"\"\n",
    "\n",
    "import torch\n",
    "print(torch.cuda.is_available())  \n"
   ]
  },
  {
   "cell_type": "markdown",
   "id": "ae4aeea0-0f07-49ba-93d7-c37fb51b127e",
   "metadata": {},
   "source": [
    "### **Training Setup and defining hyperparameters**"
   ]
  },
  {
   "cell_type": "code",
   "execution_count": 188,
   "id": "128e8e48-28b0-42a2-867f-9e99e49d24c6",
   "metadata": {},
   "outputs": [],
   "source": [
    "def objective(trial):\n",
    "    # Sample hyperparameters\n",
    "    hparams = {\n",
    "        \"learning_rate\": trial.suggest_float(\"learning_rate\", 1e-4, 0.1, log=True),\n",
    "        \"hidden_size\": trial.suggest_categorical(\"hidden_size\", [16, 32, 64]),\n",
    "        \"attention_head_size\": trial.suggest_categorical(\"attention_head_size\", [1, 2, 4]),\n",
    "        \"dropout\": trial.suggest_float(\"dropout\", 0.1, 0.5)\n",
    "    }\n",
    "\n",
    "    # Create model\n",
    "    model = TFTLightningModule(training_dataset, hparams)\n",
    "\n",
    "    # Callbacks\n",
    "    early_stop = EarlyStopping(monitor=\"val_loss\", patience=5, mode=\"min\")\n",
    "    lr_monitor = LearningRateMonitor(logging_interval='epoch')\n",
    "    checkpoint = ModelCheckpoint(monitor=\"val_loss\", save_top_k=1, mode=\"min\", filename=\"optuna-best-tft\")\n",
    "    logger = CSVLogger(\"logs\", name=\"optuna_trial\")\n",
    "\n",
    "    # Trainer\n",
    "    trainer = pl.Trainer(\n",
    "        max_epochs=30,\n",
    "        accelerator=\"cpu\",\n",
    "        devices=1,\n",
    "        logger=logger,\n",
    "        callbacks=[early_stop, lr_monitor, checkpoint],\n",
    "        enable_progress_bar=False\n",
    "    )\n",
    "\n",
    "    # Train\n",
    "    trainer.fit(model, train_dataloaders=train_dataloader, val_dataloaders=val_dataloader)\n",
    "\n",
    "    # Return value for Optuna\n",
    "    return trainer.callback_metrics[\"val_loss\"].item()\n"
   ]
  },
  {
   "cell_type": "markdown",
   "id": "21149f9a-4a44-4e10-9718-5ff3f4c06d19",
   "metadata": {},
   "source": [
    "### **Find Best Parameters using Optuna**"
   ]
  },
  {
   "cell_type": "code",
   "execution_count": 189,
   "id": "2faf684a-c7ce-4ae3-8b54-5f17ff17cfa4",
   "metadata": {},
   "outputs": [
    {
     "name": "stderr",
     "output_type": "stream",
     "text": [
      "[I 2025-05-07 18:13:39,247] A new study created in memory with name: no-name-0949070f-0104-44de-bd86-81a5076d0cdc\n",
      "GPU available: False, used: False\n",
      "TPU available: False, using: 0 TPU cores\n",
      "HPU available: False, using: 0 HPUs\n",
      "\n",
      "  | Name  | Type                      | Params | Mode \n",
      "------------------------------------------------------------\n",
      "0 | loss  | QuantileLoss              | 0      | train\n",
      "1 | model | TemporalFusionTransformer | 504 K  | train\n",
      "------------------------------------------------------------\n",
      "504 K     Trainable params\n",
      "0         Non-trainable params\n",
      "504 K     Total params\n",
      "2.017     Total estimated model params size (MB)\n",
      "538       Modules in train mode\n",
      "0         Modules in eval mode\n",
      "/home/pdmishr/.local/lib/python3.10/site-packages/pytorch_lightning/loops/fit_loop.py:310: The number of training batches (12) is smaller than the logging interval Trainer(log_every_n_steps=50). Set a lower value for log_every_n_steps if you want to see logs for the training epoch.\n",
      "[I 2025-05-07 18:14:37,032] Trial 0 finished with value: 0.14360572397708893 and parameters: {'learning_rate': 0.0011101532416417624, 'hidden_size': 64, 'attention_head_size': 4, 'dropout': 0.20793284109745558}. Best is trial 0 with value: 0.14360572397708893.\n",
      "GPU available: False, used: False\n",
      "TPU available: False, using: 0 TPU cores\n",
      "HPU available: False, using: 0 HPUs\n",
      "\n",
      "  | Name  | Type                      | Params | Mode \n",
      "------------------------------------------------------------\n",
      "0 | loss  | QuantileLoss              | 0      | train\n",
      "1 | model | TemporalFusionTransformer | 97.1 K | train\n",
      "------------------------------------------------------------\n",
      "97.1 K    Trainable params\n",
      "0         Non-trainable params\n",
      "97.1 K    Total params\n",
      "0.388     Total estimated model params size (MB)\n",
      "536       Modules in train mode\n",
      "0         Modules in eval mode\n",
      "`Trainer.fit` stopped: `max_epochs=30` reached.\n",
      "[I 2025-05-07 18:16:25,213] Trial 1 finished with value: 0.1444244533777237 and parameters: {'learning_rate': 0.00022944841822686784, 'hidden_size': 16, 'attention_head_size': 4, 'dropout': 0.18308557411806914}. Best is trial 0 with value: 0.14360572397708893.\n",
      "GPU available: False, used: False\n",
      "TPU available: False, using: 0 TPU cores\n",
      "HPU available: False, using: 0 HPUs\n",
      "\n",
      "  | Name  | Type                      | Params | Mode \n",
      "------------------------------------------------------------\n",
      "0 | loss  | QuantileLoss              | 0      | train\n",
      "1 | model | TemporalFusionTransformer | 214 K  | train\n",
      "------------------------------------------------------------\n",
      "214 K     Trainable params\n",
      "0         Non-trainable params\n",
      "214 K     Total params\n",
      "0.857     Total estimated model params size (MB)\n",
      "532       Modules in train mode\n",
      "0         Modules in eval mode\n",
      "[I 2025-05-07 18:17:35,547] Trial 2 finished with value: 0.14897221326828003 and parameters: {'learning_rate': 0.09356984892002973, 'hidden_size': 32, 'attention_head_size': 2, 'dropout': 0.3145347713849417}. Best is trial 0 with value: 0.14360572397708893.\n",
      "GPU available: False, used: False\n",
      "TPU available: False, using: 0 TPU cores\n",
      "HPU available: False, using: 0 HPUs\n",
      "\n",
      "  | Name  | Type                      | Params | Mode \n",
      "------------------------------------------------------------\n",
      "0 | loss  | QuantileLoss              | 0      | train\n",
      "1 | model | TemporalFusionTransformer | 214 K  | train\n",
      "------------------------------------------------------------\n",
      "214 K     Trainable params\n",
      "0         Non-trainable params\n",
      "214 K     Total params\n",
      "0.857     Total estimated model params size (MB)\n",
      "532       Modules in train mode\n",
      "0         Modules in eval mode\n",
      "[I 2025-05-07 18:18:54,639] Trial 3 finished with value: 0.14658761024475098 and parameters: {'learning_rate': 0.08329965835058781, 'hidden_size': 32, 'attention_head_size': 2, 'dropout': 0.21739045501272095}. Best is trial 0 with value: 0.14360572397708893.\n",
      "GPU available: False, used: False\n",
      "TPU available: False, using: 0 TPU cores\n",
      "HPU available: False, using: 0 HPUs\n",
      "\n",
      "  | Name  | Type                      | Params | Mode \n",
      "------------------------------------------------------------\n",
      "0 | loss  | QuantileLoss              | 0      | train\n",
      "1 | model | TemporalFusionTransformer | 510 K  | train\n",
      "------------------------------------------------------------\n",
      "510 K     Trainable params\n",
      "0         Non-trainable params\n",
      "510 K     Total params\n",
      "2.042     Total estimated model params size (MB)\n",
      "532       Modules in train mode\n",
      "0         Modules in eval mode\n",
      "`Trainer.fit` stopped: `max_epochs=30` reached.\n",
      "[I 2025-05-07 18:21:54,409] Trial 4 finished with value: 0.06930650770664215 and parameters: {'learning_rate': 0.003721128862224321, 'hidden_size': 64, 'attention_head_size': 1, 'dropout': 0.4978593501884019}. Best is trial 4 with value: 0.06930650770664215.\n",
      "GPU available: False, used: False\n",
      "TPU available: False, using: 0 TPU cores\n",
      "HPU available: False, using: 0 HPUs\n",
      "\n",
      "  | Name  | Type                      | Params | Mode \n",
      "------------------------------------------------------------\n",
      "0 | loss  | QuantileLoss              | 0      | train\n",
      "1 | model | TemporalFusionTransformer | 213 K  | train\n",
      "------------------------------------------------------------\n",
      "213 K     Trainable params\n",
      "0         Non-trainable params\n",
      "213 K     Total params\n",
      "0.855     Total estimated model params size (MB)\n",
      "536       Modules in train mode\n",
      "0         Modules in eval mode\n",
      "`Trainer.fit` stopped: `max_epochs=30` reached.\n",
      "[I 2025-05-07 18:25:19,935] Trial 5 finished with value: 0.14408135414123535 and parameters: {'learning_rate': 0.00014196666877662632, 'hidden_size': 32, 'attention_head_size': 4, 'dropout': 0.1430245473533848}. Best is trial 4 with value: 0.06930650770664215.\n",
      "GPU available: False, used: False\n",
      "TPU available: False, using: 0 TPU cores\n",
      "HPU available: False, using: 0 HPUs\n",
      "\n",
      "  | Name  | Type                      | Params | Mode \n",
      "------------------------------------------------------------\n",
      "0 | loss  | QuantileLoss              | 0      | train\n",
      "1 | model | TemporalFusionTransformer | 97.5 K | train\n",
      "------------------------------------------------------------\n",
      "97.5 K    Trainable params\n",
      "0         Non-trainable params\n",
      "97.5 K    Total params\n",
      "0.390     Total estimated model params size (MB)\n",
      "530       Modules in train mode\n",
      "0         Modules in eval mode\n",
      "`Trainer.fit` stopped: `max_epochs=30` reached.\n",
      "[I 2025-05-07 18:27:33,264] Trial 6 finished with value: 0.1433885395526886 and parameters: {'learning_rate': 0.0004269158196347497, 'hidden_size': 16, 'attention_head_size': 1, 'dropout': 0.24047230495444022}. Best is trial 4 with value: 0.06930650770664215.\n",
      "GPU available: False, used: False\n",
      "TPU available: False, using: 0 TPU cores\n",
      "HPU available: False, using: 0 HPUs\n",
      "\n",
      "  | Name  | Type                      | Params | Mode \n",
      "------------------------------------------------------------\n",
      "0 | loss  | QuantileLoss              | 0      | train\n",
      "1 | model | TemporalFusionTransformer | 215 K  | train\n",
      "------------------------------------------------------------\n",
      "215 K     Trainable params\n",
      "0         Non-trainable params\n",
      "215 K     Total params\n",
      "0.861     Total estimated model params size (MB)\n",
      "530       Modules in train mode\n",
      "0         Modules in eval mode\n",
      "[I 2025-05-07 18:28:59,135] Trial 7 finished with value: 0.1461847424507141 and parameters: {'learning_rate': 0.020325841662579232, 'hidden_size': 32, 'attention_head_size': 1, 'dropout': 0.4177327033830647}. Best is trial 4 with value: 0.06930650770664215.\n",
      "GPU available: False, used: False\n",
      "TPU available: False, using: 0 TPU cores\n",
      "HPU available: False, using: 0 HPUs\n",
      "\n",
      "  | Name  | Type                      | Params | Mode \n",
      "------------------------------------------------------------\n",
      "0 | loss  | QuantileLoss              | 0      | train\n",
      "1 | model | TemporalFusionTransformer | 215 K  | train\n",
      "------------------------------------------------------------\n",
      "215 K     Trainable params\n",
      "0         Non-trainable params\n",
      "215 K     Total params\n",
      "0.861     Total estimated model params size (MB)\n",
      "530       Modules in train mode\n",
      "0         Modules in eval mode\n",
      "[I 2025-05-07 18:31:24,029] Trial 8 finished with value: 0.15080048143863678 and parameters: {'learning_rate': 0.009709285531222443, 'hidden_size': 32, 'attention_head_size': 1, 'dropout': 0.2766340810376273}. Best is trial 4 with value: 0.06930650770664215.\n",
      "GPU available: False, used: False\n",
      "TPU available: False, using: 0 TPU cores\n",
      "HPU available: False, using: 0 HPUs\n",
      "\n",
      "  | Name  | Type                      | Params | Mode \n",
      "------------------------------------------------------------\n",
      "0 | loss  | QuantileLoss              | 0      | train\n",
      "1 | model | TemporalFusionTransformer | 213 K  | train\n",
      "------------------------------------------------------------\n",
      "213 K     Trainable params\n",
      "0         Non-trainable params\n",
      "213 K     Total params\n",
      "0.855     Total estimated model params size (MB)\n",
      "536       Modules in train mode\n",
      "0         Modules in eval mode\n",
      "[I 2025-05-07 18:33:03,014] Trial 9 finished with value: 0.15038126707077026 and parameters: {'learning_rate': 0.07359010963777043, 'hidden_size': 32, 'attention_head_size': 4, 'dropout': 0.42780506942659724}. Best is trial 4 with value: 0.06930650770664215.\n"
     ]
    },
    {
     "name": "stdout",
     "output_type": "stream",
     "text": [
      "Best trial: {'learning_rate': 0.003721128862224321, 'hidden_size': 64, 'attention_head_size': 1, 'dropout': 0.4978593501884019}\n"
     ]
    }
   ],
   "source": [
    "# Run Optuna\n",
    "study = optuna.create_study(direction=\"minimize\")\n",
    "study.optimize(objective, n_trials=10)\n",
    "\n",
    "# Get best trial\n",
    "print(\"Best trial:\", study.best_trial.params)\n"
   ]
  },
  {
   "cell_type": "markdown",
   "id": "4b9b2b02-45f1-45ac-8b09-b0622a3bf6a9",
   "metadata": {},
   "source": [
    "### **Train the model on the Best Hyperparameters found**"
   ]
  },
  {
   "cell_type": "code",
   "execution_count": 191,
   "id": "717cfbfe-e2af-4cc7-b272-662924d0ca90",
   "metadata": {},
   "outputs": [
    {
     "name": "stderr",
     "output_type": "stream",
     "text": [
      "GPU available: False, used: False\n",
      "TPU available: False, using: 0 TPU cores\n",
      "HPU available: False, using: 0 HPUs\n",
      "\n",
      "  | Name  | Type                      | Params | Mode \n",
      "------------------------------------------------------------\n",
      "0 | loss  | QuantileLoss              | 0      | train\n",
      "1 | model | TemporalFusionTransformer | 510 K  | train\n",
      "------------------------------------------------------------\n",
      "510 K     Trainable params\n",
      "0         Non-trainable params\n",
      "510 K     Total params\n",
      "2.042     Total estimated model params size (MB)\n",
      "532       Modules in train mode\n",
      "0         Modules in eval mode\n"
     ]
    },
    {
     "data": {
      "application/vnd.jupyter.widget-view+json": {
       "model_id": "",
       "version_major": 2,
       "version_minor": 0
      },
      "text/plain": [
       "Sanity Checking: |          | 0/? [00:00<?, ?it/s]"
      ]
     },
     "metadata": {},
     "output_type": "display_data"
    },
    {
     "data": {
      "application/vnd.jupyter.widget-view+json": {
       "model_id": "d1d961ce4bd14569bbf450c2eee3e236",
       "version_major": 2,
       "version_minor": 0
      },
      "text/plain": [
       "Training: |          | 0/? [00:00<?, ?it/s]"
      ]
     },
     "metadata": {},
     "output_type": "display_data"
    },
    {
     "data": {
      "application/vnd.jupyter.widget-view+json": {
       "model_id": "",
       "version_major": 2,
       "version_minor": 0
      },
      "text/plain": [
       "Validation: |          | 0/? [00:00<?, ?it/s]"
      ]
     },
     "metadata": {},
     "output_type": "display_data"
    },
    {
     "data": {
      "application/vnd.jupyter.widget-view+json": {
       "model_id": "",
       "version_major": 2,
       "version_minor": 0
      },
      "text/plain": [
       "Validation: |          | 0/? [00:00<?, ?it/s]"
      ]
     },
     "metadata": {},
     "output_type": "display_data"
    },
    {
     "data": {
      "application/vnd.jupyter.widget-view+json": {
       "model_id": "",
       "version_major": 2,
       "version_minor": 0
      },
      "text/plain": [
       "Validation: |          | 0/? [00:00<?, ?it/s]"
      ]
     },
     "metadata": {},
     "output_type": "display_data"
    },
    {
     "data": {
      "application/vnd.jupyter.widget-view+json": {
       "model_id": "",
       "version_major": 2,
       "version_minor": 0
      },
      "text/plain": [
       "Validation: |          | 0/? [00:00<?, ?it/s]"
      ]
     },
     "metadata": {},
     "output_type": "display_data"
    },
    {
     "data": {
      "application/vnd.jupyter.widget-view+json": {
       "model_id": "",
       "version_major": 2,
       "version_minor": 0
      },
      "text/plain": [
       "Validation: |          | 0/? [00:00<?, ?it/s]"
      ]
     },
     "metadata": {},
     "output_type": "display_data"
    },
    {
     "data": {
      "application/vnd.jupyter.widget-view+json": {
       "model_id": "",
       "version_major": 2,
       "version_minor": 0
      },
      "text/plain": [
       "Validation: |          | 0/? [00:00<?, ?it/s]"
      ]
     },
     "metadata": {},
     "output_type": "display_data"
    },
    {
     "data": {
      "application/vnd.jupyter.widget-view+json": {
       "model_id": "",
       "version_major": 2,
       "version_minor": 0
      },
      "text/plain": [
       "Validation: |          | 0/? [00:00<?, ?it/s]"
      ]
     },
     "metadata": {},
     "output_type": "display_data"
    },
    {
     "data": {
      "application/vnd.jupyter.widget-view+json": {
       "model_id": "",
       "version_major": 2,
       "version_minor": 0
      },
      "text/plain": [
       "Validation: |          | 0/? [00:00<?, ?it/s]"
      ]
     },
     "metadata": {},
     "output_type": "display_data"
    },
    {
     "data": {
      "application/vnd.jupyter.widget-view+json": {
       "model_id": "",
       "version_major": 2,
       "version_minor": 0
      },
      "text/plain": [
       "Validation: |          | 0/? [00:00<?, ?it/s]"
      ]
     },
     "metadata": {},
     "output_type": "display_data"
    },
    {
     "data": {
      "application/vnd.jupyter.widget-view+json": {
       "model_id": "",
       "version_major": 2,
       "version_minor": 0
      },
      "text/plain": [
       "Validation: |          | 0/? [00:00<?, ?it/s]"
      ]
     },
     "metadata": {},
     "output_type": "display_data"
    },
    {
     "data": {
      "application/vnd.jupyter.widget-view+json": {
       "model_id": "",
       "version_major": 2,
       "version_minor": 0
      },
      "text/plain": [
       "Validation: |          | 0/? [00:00<?, ?it/s]"
      ]
     },
     "metadata": {},
     "output_type": "display_data"
    },
    {
     "data": {
      "application/vnd.jupyter.widget-view+json": {
       "model_id": "",
       "version_major": 2,
       "version_minor": 0
      },
      "text/plain": [
       "Validation: |          | 0/? [00:00<?, ?it/s]"
      ]
     },
     "metadata": {},
     "output_type": "display_data"
    },
    {
     "data": {
      "application/vnd.jupyter.widget-view+json": {
       "model_id": "",
       "version_major": 2,
       "version_minor": 0
      },
      "text/plain": [
       "Validation: |          | 0/? [00:00<?, ?it/s]"
      ]
     },
     "metadata": {},
     "output_type": "display_data"
    },
    {
     "data": {
      "application/vnd.jupyter.widget-view+json": {
       "model_id": "",
       "version_major": 2,
       "version_minor": 0
      },
      "text/plain": [
       "Validation: |          | 0/? [00:00<?, ?it/s]"
      ]
     },
     "metadata": {},
     "output_type": "display_data"
    },
    {
     "data": {
      "application/vnd.jupyter.widget-view+json": {
       "model_id": "",
       "version_major": 2,
       "version_minor": 0
      },
      "text/plain": [
       "Validation: |          | 0/? [00:00<?, ?it/s]"
      ]
     },
     "metadata": {},
     "output_type": "display_data"
    },
    {
     "data": {
      "application/vnd.jupyter.widget-view+json": {
       "model_id": "",
       "version_major": 2,
       "version_minor": 0
      },
      "text/plain": [
       "Validation: |          | 0/? [00:00<?, ?it/s]"
      ]
     },
     "metadata": {},
     "output_type": "display_data"
    },
    {
     "data": {
      "application/vnd.jupyter.widget-view+json": {
       "model_id": "",
       "version_major": 2,
       "version_minor": 0
      },
      "text/plain": [
       "Validation: |          | 0/? [00:00<?, ?it/s]"
      ]
     },
     "metadata": {},
     "output_type": "display_data"
    },
    {
     "data": {
      "application/vnd.jupyter.widget-view+json": {
       "model_id": "",
       "version_major": 2,
       "version_minor": 0
      },
      "text/plain": [
       "Validation: |          | 0/? [00:00<?, ?it/s]"
      ]
     },
     "metadata": {},
     "output_type": "display_data"
    },
    {
     "data": {
      "application/vnd.jupyter.widget-view+json": {
       "model_id": "",
       "version_major": 2,
       "version_minor": 0
      },
      "text/plain": [
       "Validation: |          | 0/? [00:00<?, ?it/s]"
      ]
     },
     "metadata": {},
     "output_type": "display_data"
    },
    {
     "data": {
      "application/vnd.jupyter.widget-view+json": {
       "model_id": "",
       "version_major": 2,
       "version_minor": 0
      },
      "text/plain": [
       "Validation: |          | 0/? [00:00<?, ?it/s]"
      ]
     },
     "metadata": {},
     "output_type": "display_data"
    },
    {
     "data": {
      "application/vnd.jupyter.widget-view+json": {
       "model_id": "",
       "version_major": 2,
       "version_minor": 0
      },
      "text/plain": [
       "Validation: |          | 0/? [00:00<?, ?it/s]"
      ]
     },
     "metadata": {},
     "output_type": "display_data"
    },
    {
     "data": {
      "application/vnd.jupyter.widget-view+json": {
       "model_id": "",
       "version_major": 2,
       "version_minor": 0
      },
      "text/plain": [
       "Validation: |          | 0/? [00:00<?, ?it/s]"
      ]
     },
     "metadata": {},
     "output_type": "display_data"
    },
    {
     "data": {
      "application/vnd.jupyter.widget-view+json": {
       "model_id": "",
       "version_major": 2,
       "version_minor": 0
      },
      "text/plain": [
       "Validation: |          | 0/? [00:00<?, ?it/s]"
      ]
     },
     "metadata": {},
     "output_type": "display_data"
    },
    {
     "data": {
      "application/vnd.jupyter.widget-view+json": {
       "model_id": "",
       "version_major": 2,
       "version_minor": 0
      },
      "text/plain": [
       "Validation: |          | 0/? [00:00<?, ?it/s]"
      ]
     },
     "metadata": {},
     "output_type": "display_data"
    },
    {
     "data": {
      "application/vnd.jupyter.widget-view+json": {
       "model_id": "",
       "version_major": 2,
       "version_minor": 0
      },
      "text/plain": [
       "Validation: |          | 0/? [00:00<?, ?it/s]"
      ]
     },
     "metadata": {},
     "output_type": "display_data"
    },
    {
     "data": {
      "application/vnd.jupyter.widget-view+json": {
       "model_id": "",
       "version_major": 2,
       "version_minor": 0
      },
      "text/plain": [
       "Validation: |          | 0/? [00:00<?, ?it/s]"
      ]
     },
     "metadata": {},
     "output_type": "display_data"
    },
    {
     "data": {
      "application/vnd.jupyter.widget-view+json": {
       "model_id": "",
       "version_major": 2,
       "version_minor": 0
      },
      "text/plain": [
       "Validation: |          | 0/? [00:00<?, ?it/s]"
      ]
     },
     "metadata": {},
     "output_type": "display_data"
    },
    {
     "data": {
      "application/vnd.jupyter.widget-view+json": {
       "model_id": "",
       "version_major": 2,
       "version_minor": 0
      },
      "text/plain": [
       "Validation: |          | 0/? [00:00<?, ?it/s]"
      ]
     },
     "metadata": {},
     "output_type": "display_data"
    },
    {
     "data": {
      "application/vnd.jupyter.widget-view+json": {
       "model_id": "",
       "version_major": 2,
       "version_minor": 0
      },
      "text/plain": [
       "Validation: |          | 0/? [00:00<?, ?it/s]"
      ]
     },
     "metadata": {},
     "output_type": "display_data"
    },
    {
     "data": {
      "application/vnd.jupyter.widget-view+json": {
       "model_id": "",
       "version_major": 2,
       "version_minor": 0
      },
      "text/plain": [
       "Validation: |          | 0/? [00:00<?, ?it/s]"
      ]
     },
     "metadata": {},
     "output_type": "display_data"
    },
    {
     "name": "stderr",
     "output_type": "stream",
     "text": [
      "`Trainer.fit` stopped: `max_epochs=30` reached.\n"
     ]
    }
   ],
   "source": [
    "from pytorch_lightning.callbacks import EarlyStopping, LearningRateMonitor, ModelCheckpoint\n",
    "from pytorch_lightning.loggers import CSVLogger\n",
    "\n",
    "# Best parameters from Optuna\n",
    "best_hparams = {\n",
    "    \"learning_rate\": 0.003721128862224321,\n",
    "    \"hidden_size\": 64,\n",
    "    \"attention_head_size\": 1,\n",
    "    \"dropout\": 0.4978593501884019\n",
    "}\n",
    "\n",
    "# Redefine early stopping\n",
    "early_stop_callback = EarlyStopping(\n",
    "    monitor=\"val_loss\",\n",
    "    patience=7,           # wait at least 7 epochs without improvement\n",
    "    min_delta=1e-3,       # only stop if improvement is > 0.001\n",
    "    mode=\"min\"\n",
    ")\n",
    "\n",
    "# Other callbacks\n",
    "lr_monitor = LearningRateMonitor(logging_interval='epoch')\n",
    "checkpoint_callback = ModelCheckpoint(\n",
    "    monitor=\"val_loss\",\n",
    "    dirpath=\"checkpoints/\",\n",
    "    filename=\"best-tft\",\n",
    "    save_top_k=1,\n",
    "    mode=\"min\"\n",
    ")\n",
    "\n",
    "# Logger\n",
    "logger = CSVLogger(\"logs\", name=\"tft_final\")\n",
    "\n",
    "# Reinitialize model\n",
    "tft = TFTLightningModule(training_dataset, best_hparams)\n",
    "\n",
    "# Trainer\n",
    "trainer = pl.Trainer(\n",
    "    max_epochs=30,\n",
    "    min_epochs=5,                         # ensure training continues for at least 5 epochs\n",
    "    accelerator=\"cpu\",                  \n",
    "    devices=1,\n",
    "    logger=logger,\n",
    "    callbacks=[early_stop_callback, lr_monitor, checkpoint_callback],\n",
    "    enable_progress_bar=True\n",
    ")\n",
    "\n",
    "# Train\n",
    "trainer.fit(tft, train_dataloader, val_dataloader)\n"
   ]
  },
  {
   "cell_type": "markdown",
   "id": "ed753f3c-d999-442b-8acb-8402397a6539",
   "metadata": {},
   "source": [
    "### **Monte Carlo (MC) Dropout to estimate epistemic uncertainty**"
   ]
  },
  {
   "cell_type": "markdown",
   "id": "1f5c3f87-bd2b-4b35-93c9-a9a312259c48",
   "metadata": {},
   "source": [
    "We'll run the model multiple times with active dropout layers to capture model variability and generate a distribution of predictions.\n",
    "In the chunk below, we are forcing the model into training mode during inference to ensure dropout remains active. The predictions are collected in the form of NumPy arrays. It generates 30 sampled predictions from th validation data loader, thus helping us capture models uncertainity."
   ]
  },
  {
   "cell_type": "code",
   "execution_count": 197,
   "id": "c1d188de-75d1-43ba-9511-ca044e343069",
   "metadata": {
    "collapsed": true,
    "jupyter": {
     "outputs_hidden": true
    }
   },
   "outputs": [
    {
     "data": {
      "application/vnd.jupyter.widget-view+json": {
       "model_id": "de39f69baa1047369022df57eee9d58d",
       "version_major": 2,
       "version_minor": 0
      },
      "text/plain": [
       "Predicting: |          | 0/? [00:00<?, ?it/s]"
      ]
     },
     "metadata": {},
     "output_type": "display_data"
    },
    {
     "data": {
      "application/vnd.jupyter.widget-view+json": {
       "model_id": "b0ef8e540d3c49eb80ccdad40d678dec",
       "version_major": 2,
       "version_minor": 0
      },
      "text/plain": [
       "Predicting: |          | 0/? [00:00<?, ?it/s]"
      ]
     },
     "metadata": {},
     "output_type": "display_data"
    },
    {
     "data": {
      "application/vnd.jupyter.widget-view+json": {
       "model_id": "30a4bb95a24b4adea819114f0cf89e34",
       "version_major": 2,
       "version_minor": 0
      },
      "text/plain": [
       "Predicting: |          | 0/? [00:00<?, ?it/s]"
      ]
     },
     "metadata": {},
     "output_type": "display_data"
    },
    {
     "data": {
      "application/vnd.jupyter.widget-view+json": {
       "model_id": "8bae6e7fb4904879a3b8fd7081eac5da",
       "version_major": 2,
       "version_minor": 0
      },
      "text/plain": [
       "Predicting: |          | 0/? [00:00<?, ?it/s]"
      ]
     },
     "metadata": {},
     "output_type": "display_data"
    },
    {
     "data": {
      "application/vnd.jupyter.widget-view+json": {
       "model_id": "523f8045e7904c09bd43d1bcb8e2d65d",
       "version_major": 2,
       "version_minor": 0
      },
      "text/plain": [
       "Predicting: |          | 0/? [00:00<?, ?it/s]"
      ]
     },
     "metadata": {},
     "output_type": "display_data"
    },
    {
     "data": {
      "application/vnd.jupyter.widget-view+json": {
       "model_id": "b7ea7c3b520d45c98405140ec3676325",
       "version_major": 2,
       "version_minor": 0
      },
      "text/plain": [
       "Predicting: |          | 0/? [00:00<?, ?it/s]"
      ]
     },
     "metadata": {},
     "output_type": "display_data"
    },
    {
     "data": {
      "application/vnd.jupyter.widget-view+json": {
       "model_id": "3a562cc104f94804b1a11c134d823a27",
       "version_major": 2,
       "version_minor": 0
      },
      "text/plain": [
       "Predicting: |          | 0/? [00:00<?, ?it/s]"
      ]
     },
     "metadata": {},
     "output_type": "display_data"
    },
    {
     "data": {
      "application/vnd.jupyter.widget-view+json": {
       "model_id": "d2028253fe28474a8b4a409bcda088f1",
       "version_major": 2,
       "version_minor": 0
      },
      "text/plain": [
       "Predicting: |          | 0/? [00:00<?, ?it/s]"
      ]
     },
     "metadata": {},
     "output_type": "display_data"
    },
    {
     "data": {
      "application/vnd.jupyter.widget-view+json": {
       "model_id": "1b70749891ed4512b828084db5f8ef1a",
       "version_major": 2,
       "version_minor": 0
      },
      "text/plain": [
       "Predicting: |          | 0/? [00:00<?, ?it/s]"
      ]
     },
     "metadata": {},
     "output_type": "display_data"
    },
    {
     "data": {
      "application/vnd.jupyter.widget-view+json": {
       "model_id": "fe1efc07b400486ebaaec3f47de3b268",
       "version_major": 2,
       "version_minor": 0
      },
      "text/plain": [
       "Predicting: |          | 0/? [00:00<?, ?it/s]"
      ]
     },
     "metadata": {},
     "output_type": "display_data"
    },
    {
     "data": {
      "application/vnd.jupyter.widget-view+json": {
       "model_id": "010ac6e933cd4f1facd21c67e595b1a3",
       "version_major": 2,
       "version_minor": 0
      },
      "text/plain": [
       "Predicting: |          | 0/? [00:00<?, ?it/s]"
      ]
     },
     "metadata": {},
     "output_type": "display_data"
    },
    {
     "data": {
      "application/vnd.jupyter.widget-view+json": {
       "model_id": "f8455a88166b4e7881235a69303dc094",
       "version_major": 2,
       "version_minor": 0
      },
      "text/plain": [
       "Predicting: |          | 0/? [00:00<?, ?it/s]"
      ]
     },
     "metadata": {},
     "output_type": "display_data"
    },
    {
     "data": {
      "application/vnd.jupyter.widget-view+json": {
       "model_id": "9198387d2b6a43fc981155a62cb4ecdf",
       "version_major": 2,
       "version_minor": 0
      },
      "text/plain": [
       "Predicting: |          | 0/? [00:00<?, ?it/s]"
      ]
     },
     "metadata": {},
     "output_type": "display_data"
    },
    {
     "data": {
      "application/vnd.jupyter.widget-view+json": {
       "model_id": "db58c33c2f35481ea2d80f69f28af0ce",
       "version_major": 2,
       "version_minor": 0
      },
      "text/plain": [
       "Predicting: |          | 0/? [00:00<?, ?it/s]"
      ]
     },
     "metadata": {},
     "output_type": "display_data"
    },
    {
     "data": {
      "application/vnd.jupyter.widget-view+json": {
       "model_id": "1b5c0e7b1260498e8c124bf069e9f58d",
       "version_major": 2,
       "version_minor": 0
      },
      "text/plain": [
       "Predicting: |          | 0/? [00:00<?, ?it/s]"
      ]
     },
     "metadata": {},
     "output_type": "display_data"
    },
    {
     "data": {
      "application/vnd.jupyter.widget-view+json": {
       "model_id": "dfbf4b19c0c8474fb3305981ea5abdac",
       "version_major": 2,
       "version_minor": 0
      },
      "text/plain": [
       "Predicting: |          | 0/? [00:00<?, ?it/s]"
      ]
     },
     "metadata": {},
     "output_type": "display_data"
    },
    {
     "data": {
      "application/vnd.jupyter.widget-view+json": {
       "model_id": "bee05cc02c104446b4b7146683cd0555",
       "version_major": 2,
       "version_minor": 0
      },
      "text/plain": [
       "Predicting: |          | 0/? [00:00<?, ?it/s]"
      ]
     },
     "metadata": {},
     "output_type": "display_data"
    },
    {
     "data": {
      "application/vnd.jupyter.widget-view+json": {
       "model_id": "77a8e53346ed4503afb3b104c86b3e3a",
       "version_major": 2,
       "version_minor": 0
      },
      "text/plain": [
       "Predicting: |          | 0/? [00:00<?, ?it/s]"
      ]
     },
     "metadata": {},
     "output_type": "display_data"
    },
    {
     "data": {
      "application/vnd.jupyter.widget-view+json": {
       "model_id": "f86ea9163bd345d08e5b4d667a5c81ed",
       "version_major": 2,
       "version_minor": 0
      },
      "text/plain": [
       "Predicting: |          | 0/? [00:00<?, ?it/s]"
      ]
     },
     "metadata": {},
     "output_type": "display_data"
    },
    {
     "data": {
      "application/vnd.jupyter.widget-view+json": {
       "model_id": "41c6e4cf078140e3beface37cfe4b599",
       "version_major": 2,
       "version_minor": 0
      },
      "text/plain": [
       "Predicting: |          | 0/? [00:00<?, ?it/s]"
      ]
     },
     "metadata": {},
     "output_type": "display_data"
    },
    {
     "data": {
      "application/vnd.jupyter.widget-view+json": {
       "model_id": "8c276e2311b5447da86dfaeab8a9ead8",
       "version_major": 2,
       "version_minor": 0
      },
      "text/plain": [
       "Predicting: |          | 0/? [00:00<?, ?it/s]"
      ]
     },
     "metadata": {},
     "output_type": "display_data"
    },
    {
     "data": {
      "application/vnd.jupyter.widget-view+json": {
       "model_id": "df6906bce48f47b087ef72a456695013",
       "version_major": 2,
       "version_minor": 0
      },
      "text/plain": [
       "Predicting: |          | 0/? [00:00<?, ?it/s]"
      ]
     },
     "metadata": {},
     "output_type": "display_data"
    },
    {
     "data": {
      "application/vnd.jupyter.widget-view+json": {
       "model_id": "5e40e5ed5ee643a98c2899a5e7fb1c44",
       "version_major": 2,
       "version_minor": 0
      },
      "text/plain": [
       "Predicting: |          | 0/? [00:00<?, ?it/s]"
      ]
     },
     "metadata": {},
     "output_type": "display_data"
    },
    {
     "data": {
      "application/vnd.jupyter.widget-view+json": {
       "model_id": "43c4fe376f294a758fcd4308a46565a0",
       "version_major": 2,
       "version_minor": 0
      },
      "text/plain": [
       "Predicting: |          | 0/? [00:00<?, ?it/s]"
      ]
     },
     "metadata": {},
     "output_type": "display_data"
    },
    {
     "data": {
      "application/vnd.jupyter.widget-view+json": {
       "model_id": "6a87e0b751614bf2adcffa17fd849f05",
       "version_major": 2,
       "version_minor": 0
      },
      "text/plain": [
       "Predicting: |          | 0/? [00:00<?, ?it/s]"
      ]
     },
     "metadata": {},
     "output_type": "display_data"
    },
    {
     "data": {
      "application/vnd.jupyter.widget-view+json": {
       "model_id": "3f575cfc687b4234ad457a071f0ca1b6",
       "version_major": 2,
       "version_minor": 0
      },
      "text/plain": [
       "Predicting: |          | 0/? [00:00<?, ?it/s]"
      ]
     },
     "metadata": {},
     "output_type": "display_data"
    },
    {
     "data": {
      "application/vnd.jupyter.widget-view+json": {
       "model_id": "cdd2aba49e70461e96e621a46706b792",
       "version_major": 2,
       "version_minor": 0
      },
      "text/plain": [
       "Predicting: |          | 0/? [00:00<?, ?it/s]"
      ]
     },
     "metadata": {},
     "output_type": "display_data"
    },
    {
     "data": {
      "application/vnd.jupyter.widget-view+json": {
       "model_id": "521a8accd43940438dbb3f975222840c",
       "version_major": 2,
       "version_minor": 0
      },
      "text/plain": [
       "Predicting: |          | 0/? [00:00<?, ?it/s]"
      ]
     },
     "metadata": {},
     "output_type": "display_data"
    },
    {
     "data": {
      "application/vnd.jupyter.widget-view+json": {
       "model_id": "477b91c00a854f23a71a6cfe6a3a9ad3",
       "version_major": 2,
       "version_minor": 0
      },
      "text/plain": [
       "Predicting: |          | 0/? [00:00<?, ?it/s]"
      ]
     },
     "metadata": {},
     "output_type": "display_data"
    },
    {
     "data": {
      "application/vnd.jupyter.widget-view+json": {
       "model_id": "7e85e9a807694c35ac4225105e660b1e",
       "version_major": 2,
       "version_minor": 0
      },
      "text/plain": [
       "Predicting: |          | 0/? [00:00<?, ?it/s]"
      ]
     },
     "metadata": {},
     "output_type": "display_data"
    },
    {
     "data": {
      "application/vnd.jupyter.widget-view+json": {
       "model_id": "6a68885028504a4d8d67a4ba91dd6530",
       "version_major": 2,
       "version_minor": 0
      },
      "text/plain": [
       "Predicting: |          | 0/? [00:00<?, ?it/s]"
      ]
     },
     "metadata": {},
     "output_type": "display_data"
    },
    {
     "data": {
      "application/vnd.jupyter.widget-view+json": {
       "model_id": "9f746add8b3a42f6a8c94fc49f0f9c8a",
       "version_major": 2,
       "version_minor": 0
      },
      "text/plain": [
       "Predicting: |          | 0/? [00:00<?, ?it/s]"
      ]
     },
     "metadata": {},
     "output_type": "display_data"
    },
    {
     "data": {
      "application/vnd.jupyter.widget-view+json": {
       "model_id": "cddc51e80f5e4336bb35cb6b674a585a",
       "version_major": 2,
       "version_minor": 0
      },
      "text/plain": [
       "Predicting: |          | 0/? [00:00<?, ?it/s]"
      ]
     },
     "metadata": {},
     "output_type": "display_data"
    },
    {
     "data": {
      "application/vnd.jupyter.widget-view+json": {
       "model_id": "390cd97e07fb42ec87760a626bbab619",
       "version_major": 2,
       "version_minor": 0
      },
      "text/plain": [
       "Predicting: |          | 0/? [00:00<?, ?it/s]"
      ]
     },
     "metadata": {},
     "output_type": "display_data"
    },
    {
     "data": {
      "application/vnd.jupyter.widget-view+json": {
       "model_id": "6964d63ec642484a844288e6da4dcaca",
       "version_major": 2,
       "version_minor": 0
      },
      "text/plain": [
       "Predicting: |          | 0/? [00:00<?, ?it/s]"
      ]
     },
     "metadata": {},
     "output_type": "display_data"
    },
    {
     "data": {
      "application/vnd.jupyter.widget-view+json": {
       "model_id": "6464b950c2094ea9b50239f0a0d883b4",
       "version_major": 2,
       "version_minor": 0
      },
      "text/plain": [
       "Predicting: |          | 0/? [00:00<?, ?it/s]"
      ]
     },
     "metadata": {},
     "output_type": "display_data"
    },
    {
     "data": {
      "application/vnd.jupyter.widget-view+json": {
       "model_id": "13f4efa1ed0e4d9cb135ce5aa3f3a98b",
       "version_major": 2,
       "version_minor": 0
      },
      "text/plain": [
       "Predicting: |          | 0/? [00:00<?, ?it/s]"
      ]
     },
     "metadata": {},
     "output_type": "display_data"
    },
    {
     "data": {
      "application/vnd.jupyter.widget-view+json": {
       "model_id": "2ebd73ac3f094672b8f72c3ebed667ed",
       "version_major": 2,
       "version_minor": 0
      },
      "text/plain": [
       "Predicting: |          | 0/? [00:00<?, ?it/s]"
      ]
     },
     "metadata": {},
     "output_type": "display_data"
    },
    {
     "data": {
      "application/vnd.jupyter.widget-view+json": {
       "model_id": "ed0b9780786f4387af05172ed108cda9",
       "version_major": 2,
       "version_minor": 0
      },
      "text/plain": [
       "Predicting: |          | 0/? [00:00<?, ?it/s]"
      ]
     },
     "metadata": {},
     "output_type": "display_data"
    },
    {
     "data": {
      "application/vnd.jupyter.widget-view+json": {
       "model_id": "661e3d87c7454b1cba9df403d9650e8f",
       "version_major": 2,
       "version_minor": 0
      },
      "text/plain": [
       "Predicting: |          | 0/? [00:00<?, ?it/s]"
      ]
     },
     "metadata": {},
     "output_type": "display_data"
    },
    {
     "data": {
      "application/vnd.jupyter.widget-view+json": {
       "model_id": "82261679c6664ceca0158c470a7ba633",
       "version_major": 2,
       "version_minor": 0
      },
      "text/plain": [
       "Predicting: |          | 0/? [00:00<?, ?it/s]"
      ]
     },
     "metadata": {},
     "output_type": "display_data"
    },
    {
     "data": {
      "application/vnd.jupyter.widget-view+json": {
       "model_id": "395c62632dd140aea2ed8b43783b5be5",
       "version_major": 2,
       "version_minor": 0
      },
      "text/plain": [
       "Predicting: |          | 0/? [00:00<?, ?it/s]"
      ]
     },
     "metadata": {},
     "output_type": "display_data"
    },
    {
     "data": {
      "application/vnd.jupyter.widget-view+json": {
       "model_id": "12899644bec44d6b8b398bf0d6dd50e9",
       "version_major": 2,
       "version_minor": 0
      },
      "text/plain": [
       "Predicting: |          | 0/? [00:00<?, ?it/s]"
      ]
     },
     "metadata": {},
     "output_type": "display_data"
    },
    {
     "data": {
      "application/vnd.jupyter.widget-view+json": {
       "model_id": "c9a65a3b5f8c4496b2d0978b64fb1601",
       "version_major": 2,
       "version_minor": 0
      },
      "text/plain": [
       "Predicting: |          | 0/? [00:00<?, ?it/s]"
      ]
     },
     "metadata": {},
     "output_type": "display_data"
    },
    {
     "data": {
      "application/vnd.jupyter.widget-view+json": {
       "model_id": "495280f933a04057af63c4d69dea1da3",
       "version_major": 2,
       "version_minor": 0
      },
      "text/plain": [
       "Predicting: |          | 0/? [00:00<?, ?it/s]"
      ]
     },
     "metadata": {},
     "output_type": "display_data"
    },
    {
     "data": {
      "application/vnd.jupyter.widget-view+json": {
       "model_id": "13cd27e4e1be470e85c94a56896097a8",
       "version_major": 2,
       "version_minor": 0
      },
      "text/plain": [
       "Predicting: |          | 0/? [00:00<?, ?it/s]"
      ]
     },
     "metadata": {},
     "output_type": "display_data"
    },
    {
     "data": {
      "application/vnd.jupyter.widget-view+json": {
       "model_id": "8e6ed13a7b37428a863fcf7b24bba5e0",
       "version_major": 2,
       "version_minor": 0
      },
      "text/plain": [
       "Predicting: |          | 0/? [00:00<?, ?it/s]"
      ]
     },
     "metadata": {},
     "output_type": "display_data"
    },
    {
     "data": {
      "application/vnd.jupyter.widget-view+json": {
       "model_id": "fe67898f92b841b3a1807fb293a82eed",
       "version_major": 2,
       "version_minor": 0
      },
      "text/plain": [
       "Predicting: |          | 0/? [00:00<?, ?it/s]"
      ]
     },
     "metadata": {},
     "output_type": "display_data"
    },
    {
     "data": {
      "application/vnd.jupyter.widget-view+json": {
       "model_id": "4f4f00afc0a34a5dbcbc647884a1343e",
       "version_major": 2,
       "version_minor": 0
      },
      "text/plain": [
       "Predicting: |          | 0/? [00:00<?, ?it/s]"
      ]
     },
     "metadata": {},
     "output_type": "display_data"
    },
    {
     "data": {
      "application/vnd.jupyter.widget-view+json": {
       "model_id": "2f6ad475c1c44b22a5d855e1339ae046",
       "version_major": 2,
       "version_minor": 0
      },
      "text/plain": [
       "Predicting: |          | 0/? [00:00<?, ?it/s]"
      ]
     },
     "metadata": {},
     "output_type": "display_data"
    },
    {
     "data": {
      "application/vnd.jupyter.widget-view+json": {
       "model_id": "75fb831bd5c44c5a8a028d7365974bc1",
       "version_major": 2,
       "version_minor": 0
      },
      "text/plain": [
       "Predicting: |          | 0/? [00:00<?, ?it/s]"
      ]
     },
     "metadata": {},
     "output_type": "display_data"
    },
    {
     "data": {
      "application/vnd.jupyter.widget-view+json": {
       "model_id": "11b6e90158e944b3a590f64acf4b16fa",
       "version_major": 2,
       "version_minor": 0
      },
      "text/plain": [
       "Predicting: |          | 0/? [00:00<?, ?it/s]"
      ]
     },
     "metadata": {},
     "output_type": "display_data"
    },
    {
     "data": {
      "application/vnd.jupyter.widget-view+json": {
       "model_id": "6ba69d485244483ab5257750b5d1fb20",
       "version_major": 2,
       "version_minor": 0
      },
      "text/plain": [
       "Predicting: |          | 0/? [00:00<?, ?it/s]"
      ]
     },
     "metadata": {},
     "output_type": "display_data"
    },
    {
     "data": {
      "application/vnd.jupyter.widget-view+json": {
       "model_id": "f80cbf50fd36427fb8b4b61002e48c70",
       "version_major": 2,
       "version_minor": 0
      },
      "text/plain": [
       "Predicting: |          | 0/? [00:00<?, ?it/s]"
      ]
     },
     "metadata": {},
     "output_type": "display_data"
    },
    {
     "data": {
      "application/vnd.jupyter.widget-view+json": {
       "model_id": "d8348944ed4d442b9e6e3ce6d8a62510",
       "version_major": 2,
       "version_minor": 0
      },
      "text/plain": [
       "Predicting: |          | 0/? [00:00<?, ?it/s]"
      ]
     },
     "metadata": {},
     "output_type": "display_data"
    },
    {
     "data": {
      "application/vnd.jupyter.widget-view+json": {
       "model_id": "17f328cb425d48f5a8f8b527dc7a9261",
       "version_major": 2,
       "version_minor": 0
      },
      "text/plain": [
       "Predicting: |          | 0/? [00:00<?, ?it/s]"
      ]
     },
     "metadata": {},
     "output_type": "display_data"
    },
    {
     "data": {
      "application/vnd.jupyter.widget-view+json": {
       "model_id": "03c641ecebfc4d338853e436f1fd041e",
       "version_major": 2,
       "version_minor": 0
      },
      "text/plain": [
       "Predicting: |          | 0/? [00:00<?, ?it/s]"
      ]
     },
     "metadata": {},
     "output_type": "display_data"
    },
    {
     "data": {
      "application/vnd.jupyter.widget-view+json": {
       "model_id": "717da986aca24ac68ac0a7e5cd41d707",
       "version_major": 2,
       "version_minor": 0
      },
      "text/plain": [
       "Predicting: |          | 0/? [00:00<?, ?it/s]"
      ]
     },
     "metadata": {},
     "output_type": "display_data"
    },
    {
     "data": {
      "application/vnd.jupyter.widget-view+json": {
       "model_id": "bc532a9e47064d9db8f20995b0d24401",
       "version_major": 2,
       "version_minor": 0
      },
      "text/plain": [
       "Predicting: |          | 0/? [00:00<?, ?it/s]"
      ]
     },
     "metadata": {},
     "output_type": "display_data"
    },
    {
     "data": {
      "application/vnd.jupyter.widget-view+json": {
       "model_id": "94013a3936504a738d03394ccb8d4ae3",
       "version_major": 2,
       "version_minor": 0
      },
      "text/plain": [
       "Predicting: |          | 0/? [00:00<?, ?it/s]"
      ]
     },
     "metadata": {},
     "output_type": "display_data"
    },
    {
     "data": {
      "application/vnd.jupyter.widget-view+json": {
       "model_id": "1a3f6a7edefa42eb899d201e3ea189b5",
       "version_major": 2,
       "version_minor": 0
      },
      "text/plain": [
       "Predicting: |          | 0/? [00:00<?, ?it/s]"
      ]
     },
     "metadata": {},
     "output_type": "display_data"
    },
    {
     "data": {
      "application/vnd.jupyter.widget-view+json": {
       "model_id": "07e58dd5936e485fbef72de78d442358",
       "version_major": 2,
       "version_minor": 0
      },
      "text/plain": [
       "Predicting: |          | 0/? [00:00<?, ?it/s]"
      ]
     },
     "metadata": {},
     "output_type": "display_data"
    },
    {
     "data": {
      "application/vnd.jupyter.widget-view+json": {
       "model_id": "907f32516e8443f9b911bcf940ec93df",
       "version_major": 2,
       "version_minor": 0
      },
      "text/plain": [
       "Predicting: |          | 0/? [00:00<?, ?it/s]"
      ]
     },
     "metadata": {},
     "output_type": "display_data"
    },
    {
     "data": {
      "application/vnd.jupyter.widget-view+json": {
       "model_id": "a60323435e9542bb93d413c8d01dc0cc",
       "version_major": 2,
       "version_minor": 0
      },
      "text/plain": [
       "Predicting: |          | 0/? [00:00<?, ?it/s]"
      ]
     },
     "metadata": {},
     "output_type": "display_data"
    },
    {
     "data": {
      "application/vnd.jupyter.widget-view+json": {
       "model_id": "5f0eb3a073a842e7b257e4ea5a3bdb04",
       "version_major": 2,
       "version_minor": 0
      },
      "text/plain": [
       "Predicting: |          | 0/? [00:00<?, ?it/s]"
      ]
     },
     "metadata": {},
     "output_type": "display_data"
    },
    {
     "data": {
      "application/vnd.jupyter.widget-view+json": {
       "model_id": "cabda2f265a343ec81a553f4cf8cd31f",
       "version_major": 2,
       "version_minor": 0
      },
      "text/plain": [
       "Predicting: |          | 0/? [00:00<?, ?it/s]"
      ]
     },
     "metadata": {},
     "output_type": "display_data"
    },
    {
     "data": {
      "application/vnd.jupyter.widget-view+json": {
       "model_id": "3220cf98a60f4443bb9a4855ce7a49c8",
       "version_major": 2,
       "version_minor": 0
      },
      "text/plain": [
       "Predicting: |          | 0/? [00:00<?, ?it/s]"
      ]
     },
     "metadata": {},
     "output_type": "display_data"
    },
    {
     "data": {
      "application/vnd.jupyter.widget-view+json": {
       "model_id": "e32f6cd02f2e4603915e3ad01124dabb",
       "version_major": 2,
       "version_minor": 0
      },
      "text/plain": [
       "Predicting: |          | 0/? [00:00<?, ?it/s]"
      ]
     },
     "metadata": {},
     "output_type": "display_data"
    },
    {
     "data": {
      "application/vnd.jupyter.widget-view+json": {
       "model_id": "5527060a58f1438e897411a12ac1ac96",
       "version_major": 2,
       "version_minor": 0
      },
      "text/plain": [
       "Predicting: |          | 0/? [00:00<?, ?it/s]"
      ]
     },
     "metadata": {},
     "output_type": "display_data"
    },
    {
     "data": {
      "application/vnd.jupyter.widget-view+json": {
       "model_id": "1d500e5a8c7a4119844bf4aa6b875c26",
       "version_major": 2,
       "version_minor": 0
      },
      "text/plain": [
       "Predicting: |          | 0/? [00:00<?, ?it/s]"
      ]
     },
     "metadata": {},
     "output_type": "display_data"
    },
    {
     "data": {
      "application/vnd.jupyter.widget-view+json": {
       "model_id": "7237d540ffe14d2ead81a8ba7edd043c",
       "version_major": 2,
       "version_minor": 0
      },
      "text/plain": [
       "Predicting: |          | 0/? [00:00<?, ?it/s]"
      ]
     },
     "metadata": {},
     "output_type": "display_data"
    },
    {
     "data": {
      "application/vnd.jupyter.widget-view+json": {
       "model_id": "154592732cbc4dfabe8bdfbfe8c843e2",
       "version_major": 2,
       "version_minor": 0
      },
      "text/plain": [
       "Predicting: |          | 0/? [00:00<?, ?it/s]"
      ]
     },
     "metadata": {},
     "output_type": "display_data"
    },
    {
     "data": {
      "application/vnd.jupyter.widget-view+json": {
       "model_id": "40b0aa2b385846938d06b365da048c0f",
       "version_major": 2,
       "version_minor": 0
      },
      "text/plain": [
       "Predicting: |          | 0/? [00:00<?, ?it/s]"
      ]
     },
     "metadata": {},
     "output_type": "display_data"
    },
    {
     "data": {
      "application/vnd.jupyter.widget-view+json": {
       "model_id": "d6c31c3974be460d8738068aabb6eaeb",
       "version_major": 2,
       "version_minor": 0
      },
      "text/plain": [
       "Predicting: |          | 0/? [00:00<?, ?it/s]"
      ]
     },
     "metadata": {},
     "output_type": "display_data"
    },
    {
     "data": {
      "application/vnd.jupyter.widget-view+json": {
       "model_id": "5e22c0919b1442a6a66b9f11527bcda4",
       "version_major": 2,
       "version_minor": 0
      },
      "text/plain": [
       "Predicting: |          | 0/? [00:00<?, ?it/s]"
      ]
     },
     "metadata": {},
     "output_type": "display_data"
    },
    {
     "data": {
      "application/vnd.jupyter.widget-view+json": {
       "model_id": "199eb6883af74345b66695b36d90bc59",
       "version_major": 2,
       "version_minor": 0
      },
      "text/plain": [
       "Predicting: |          | 0/? [00:00<?, ?it/s]"
      ]
     },
     "metadata": {},
     "output_type": "display_data"
    },
    {
     "data": {
      "application/vnd.jupyter.widget-view+json": {
       "model_id": "d84e89b31ba34b929421ff25ef0542a8",
       "version_major": 2,
       "version_minor": 0
      },
      "text/plain": [
       "Predicting: |          | 0/? [00:00<?, ?it/s]"
      ]
     },
     "metadata": {},
     "output_type": "display_data"
    },
    {
     "data": {
      "application/vnd.jupyter.widget-view+json": {
       "model_id": "986235dcf9f6438f99abe60c6396ecf1",
       "version_major": 2,
       "version_minor": 0
      },
      "text/plain": [
       "Predicting: |          | 0/? [00:00<?, ?it/s]"
      ]
     },
     "metadata": {},
     "output_type": "display_data"
    },
    {
     "data": {
      "application/vnd.jupyter.widget-view+json": {
       "model_id": "46e0e493ac1f4285af4f4cec4a710ff6",
       "version_major": 2,
       "version_minor": 0
      },
      "text/plain": [
       "Predicting: |          | 0/? [00:00<?, ?it/s]"
      ]
     },
     "metadata": {},
     "output_type": "display_data"
    },
    {
     "data": {
      "application/vnd.jupyter.widget-view+json": {
       "model_id": "a79b9098796d4be2b221b4829ab58369",
       "version_major": 2,
       "version_minor": 0
      },
      "text/plain": [
       "Predicting: |          | 0/? [00:00<?, ?it/s]"
      ]
     },
     "metadata": {},
     "output_type": "display_data"
    },
    {
     "data": {
      "application/vnd.jupyter.widget-view+json": {
       "model_id": "ba8ba1ff5e294adb8b6b0567f5a23919",
       "version_major": 2,
       "version_minor": 0
      },
      "text/plain": [
       "Predicting: |          | 0/? [00:00<?, ?it/s]"
      ]
     },
     "metadata": {},
     "output_type": "display_data"
    },
    {
     "data": {
      "application/vnd.jupyter.widget-view+json": {
       "model_id": "6dce86e66d2d4b8dbea9678094ef4db7",
       "version_major": 2,
       "version_minor": 0
      },
      "text/plain": [
       "Predicting: |          | 0/? [00:00<?, ?it/s]"
      ]
     },
     "metadata": {},
     "output_type": "display_data"
    },
    {
     "data": {
      "application/vnd.jupyter.widget-view+json": {
       "model_id": "99938dbb310f4a66b3ba87d3e0e764b6",
       "version_major": 2,
       "version_minor": 0
      },
      "text/plain": [
       "Predicting: |          | 0/? [00:00<?, ?it/s]"
      ]
     },
     "metadata": {},
     "output_type": "display_data"
    },
    {
     "data": {
      "application/vnd.jupyter.widget-view+json": {
       "model_id": "de449a371ba2497cb9b860f773770320",
       "version_major": 2,
       "version_minor": 0
      },
      "text/plain": [
       "Predicting: |          | 0/? [00:00<?, ?it/s]"
      ]
     },
     "metadata": {},
     "output_type": "display_data"
    },
    {
     "data": {
      "application/vnd.jupyter.widget-view+json": {
       "model_id": "5ce822aa03cd4272b8265ede4735aa01",
       "version_major": 2,
       "version_minor": 0
      },
      "text/plain": [
       "Predicting: |          | 0/? [00:00<?, ?it/s]"
      ]
     },
     "metadata": {},
     "output_type": "display_data"
    },
    {
     "data": {
      "application/vnd.jupyter.widget-view+json": {
       "model_id": "6b98eb12029646fbbc50609c1dbf0e9f",
       "version_major": 2,
       "version_minor": 0
      },
      "text/plain": [
       "Predicting: |          | 0/? [00:00<?, ?it/s]"
      ]
     },
     "metadata": {},
     "output_type": "display_data"
    },
    {
     "data": {
      "application/vnd.jupyter.widget-view+json": {
       "model_id": "cb62a893499c40389bac5c37a2e25f11",
       "version_major": 2,
       "version_minor": 0
      },
      "text/plain": [
       "Predicting: |          | 0/? [00:00<?, ?it/s]"
      ]
     },
     "metadata": {},
     "output_type": "display_data"
    },
    {
     "data": {
      "application/vnd.jupyter.widget-view+json": {
       "model_id": "9a1e05c2f38142db90eadb0f3b3139c3",
       "version_major": 2,
       "version_minor": 0
      },
      "text/plain": [
       "Predicting: |          | 0/? [00:00<?, ?it/s]"
      ]
     },
     "metadata": {},
     "output_type": "display_data"
    },
    {
     "data": {
      "application/vnd.jupyter.widget-view+json": {
       "model_id": "7607e7b77fff464c8fd35d01c5307d65",
       "version_major": 2,
       "version_minor": 0
      },
      "text/plain": [
       "Predicting: |          | 0/? [00:00<?, ?it/s]"
      ]
     },
     "metadata": {},
     "output_type": "display_data"
    },
    {
     "data": {
      "application/vnd.jupyter.widget-view+json": {
       "model_id": "52a31699594b4378b3337550543becd7",
       "version_major": 2,
       "version_minor": 0
      },
      "text/plain": [
       "Predicting: |          | 0/? [00:00<?, ?it/s]"
      ]
     },
     "metadata": {},
     "output_type": "display_data"
    },
    {
     "data": {
      "application/vnd.jupyter.widget-view+json": {
       "model_id": "672a66a1eac74f2fbaf88ccf6dab0f33",
       "version_major": 2,
       "version_minor": 0
      },
      "text/plain": [
       "Predicting: |          | 0/? [00:00<?, ?it/s]"
      ]
     },
     "metadata": {},
     "output_type": "display_data"
    },
    {
     "data": {
      "application/vnd.jupyter.widget-view+json": {
       "model_id": "8b74e7699b4d4ddebe4fffab9d109d08",
       "version_major": 2,
       "version_minor": 0
      },
      "text/plain": [
       "Predicting: |          | 0/? [00:00<?, ?it/s]"
      ]
     },
     "metadata": {},
     "output_type": "display_data"
    },
    {
     "data": {
      "application/vnd.jupyter.widget-view+json": {
       "model_id": "434ac856667548f482125a40a4c50f93",
       "version_major": 2,
       "version_minor": 0
      },
      "text/plain": [
       "Predicting: |          | 0/? [00:00<?, ?it/s]"
      ]
     },
     "metadata": {},
     "output_type": "display_data"
    },
    {
     "data": {
      "application/vnd.jupyter.widget-view+json": {
       "model_id": "fb18e62097f14c40bcc7d3eb9ffa2586",
       "version_major": 2,
       "version_minor": 0
      },
      "text/plain": [
       "Predicting: |          | 0/? [00:00<?, ?it/s]"
      ]
     },
     "metadata": {},
     "output_type": "display_data"
    },
    {
     "data": {
      "application/vnd.jupyter.widget-view+json": {
       "model_id": "899da81f76f1418893ed985c150dd84c",
       "version_major": 2,
       "version_minor": 0
      },
      "text/plain": [
       "Predicting: |          | 0/? [00:00<?, ?it/s]"
      ]
     },
     "metadata": {},
     "output_type": "display_data"
    },
    {
     "data": {
      "application/vnd.jupyter.widget-view+json": {
       "model_id": "772777cd8e7e40299105081649d07bf1",
       "version_major": 2,
       "version_minor": 0
      },
      "text/plain": [
       "Predicting: |          | 0/? [00:00<?, ?it/s]"
      ]
     },
     "metadata": {},
     "output_type": "display_data"
    },
    {
     "data": {
      "application/vnd.jupyter.widget-view+json": {
       "model_id": "2aa4a1edbe7f4d9abb0e59c54e0f80aa",
       "version_major": 2,
       "version_minor": 0
      },
      "text/plain": [
       "Predicting: |          | 0/? [00:00<?, ?it/s]"
      ]
     },
     "metadata": {},
     "output_type": "display_data"
    },
    {
     "data": {
      "application/vnd.jupyter.widget-view+json": {
       "model_id": "420991b99bf841fda2cba070a8824d5f",
       "version_major": 2,
       "version_minor": 0
      },
      "text/plain": [
       "Predicting: |          | 0/? [00:00<?, ?it/s]"
      ]
     },
     "metadata": {},
     "output_type": "display_data"
    },
    {
     "data": {
      "application/vnd.jupyter.widget-view+json": {
       "model_id": "740a8cf755e54bb8bacaa7f0c0498ae4",
       "version_major": 2,
       "version_minor": 0
      },
      "text/plain": [
       "Predicting: |          | 0/? [00:00<?, ?it/s]"
      ]
     },
     "metadata": {},
     "output_type": "display_data"
    },
    {
     "data": {
      "application/vnd.jupyter.widget-view+json": {
       "model_id": "21ffd87efabe443c868a2de36dfa1356",
       "version_major": 2,
       "version_minor": 0
      },
      "text/plain": [
       "Predicting: |          | 0/? [00:00<?, ?it/s]"
      ]
     },
     "metadata": {},
     "output_type": "display_data"
    }
   ],
   "source": [
    "import torch\n",
    "import numpy as np\n",
    "\n",
    "def predict_with_mc_dropout(tft, trainer, dataloader, n_samples=30):\n",
    "    tft.model.train()  # Enable dropout in the wrapped model\n",
    "    preds = []\n",
    "\n",
    "    for _ in range(n_samples):\n",
    "        # Lightning's `trainer.predict()` uses the LightningModule directly\n",
    "        batch_preds = trainer.predict(tft, dataloaders=dataloader, return_predictions=True)\n",
    "        stacked = torch.cat(batch_preds, dim=0).cpu().numpy()  # shape: (batch, prediction_len)\n",
    "        preds.append(stacked)\n",
    "\n",
    "    preds = np.stack(preds, axis=0)  # shape: (n_samples, batch_size, prediction_length)\n",
    "    return preds\n",
    "\n",
    "# Run MC Dropout-based predictions\n",
    "mc_predictions = predict_with_mc_dropout(tft, trainer, val_dataloader, n_samples=30)\n"
   ]
  },
  {
   "cell_type": "code",
   "execution_count": 212,
   "id": "32ea6c05-aef5-48f5-a22f-e1d75e0bd4fa",
   "metadata": {},
   "outputs": [
    {
     "name": "stdout",
     "output_type": "stream",
     "text": [
      "[0.33748803 0.4586903  0.5800199  0.61023635 0.64793307 0.6932705\n",
      " 0.77821356]\n",
      "<class 'numpy.ndarray'>\n"
     ]
    }
   ],
   "source": [
    "print(mean_preds[0, 0])\n",
    "print(type(mean_preds[0, 0]))\n"
   ]
  },
  {
   "cell_type": "markdown",
   "id": "eb3e120f-5650-47af-ab42-a9dd5cbbe76b",
   "metadata": {},
   "source": [
    "#### **Extract the predictions for plotting and compute Evaluation metrics**"
   ]
  },
  {
   "cell_type": "code",
   "execution_count": 213,
   "id": "a8597e25-871b-4791-a157-a290fbd9569f",
   "metadata": {
    "collapsed": true,
    "jupyter": {
     "outputs_hidden": true
    }
   },
   "outputs": [
    {
     "name": "stdout",
     "output_type": "stream",
     "text": [
      "✅ Saved predictions with uncertainty and evaluation.\n",
      "🔹 MAE: 0.13\n",
      "🔹 RMSE: 0.14\n",
      "🔹 Quantile Loss (q=0.5): 0.06\n",
      "\n",
      "🔍 Sample rows:\n",
      "   patient_id  actual_day_1  pred_day_1  lower_day_1  upper_day_1  \\\n",
      "0    10147157      0.612831    0.586550     0.337488     0.778214   \n",
      "1    12336547      0.412702    0.428611     0.194770     0.601322   \n",
      "2    13216436      0.430709    0.409406     0.179419     0.590244   \n",
      "3    15171105      0.368175    0.378631     0.151229     0.567504   \n",
      "4    15479404      0.309458    0.330559     0.116832     0.541100   \n",
      "\n",
      "   actual_day_2  pred_day_2  lower_day_2  upper_day_2  actual_day_3  ...  \\\n",
      "0      0.612831    0.580286     0.333313     0.756974      0.612831  ...   \n",
      "1      0.412702    0.430148     0.189887     0.613001      0.412702  ...   \n",
      "2      0.490209    0.404788     0.169320     0.595147      0.490209  ...   \n",
      "3      0.368175    0.380698     0.145311     0.591246      0.368175  ...   \n",
      "4      0.309458    0.331297     0.111795     0.576791      0.309458  ...   \n",
      "\n",
      "   pred_day_7  lower_day_7  upper_day_7  actual_day_8  pred_day_8  \\\n",
      "0    0.558114     0.316613     0.726475      0.612831    0.555773   \n",
      "1    0.450326     0.193640     0.645648      0.505182    0.458232   \n",
      "2    0.416594     0.160626     0.626643      0.632403    0.424336   \n",
      "3    0.400310     0.138575     0.639735      0.368175    0.409912   \n",
      "4    0.374744     0.111922     0.673500      0.642190    0.400825   \n",
      "\n",
      "   lower_day_8  upper_day_8  mean_abs_error      rmse  quantile_loss_0.5  \n",
      "0     0.313507     0.725785        0.043757  0.044925           0.021878  \n",
      "1     0.198241     0.655263        0.024631  0.029818           0.012315  \n",
      "2     0.164625     0.634459        0.077694  0.094656           0.038847  \n",
      "3     0.142747     0.651162        0.021643  0.023819           0.010822  \n",
      "4     0.117738     0.721700        0.060477  0.092338           0.030238  \n",
      "\n",
      "[5 rows x 36 columns]\n"
     ]
    }
   ],
   "source": [
    "import pandas as pd\n",
    "import numpy as np\n",
    "\n",
    "# Step 1: Aggregate MC predictions\n",
    "mean_preds = mc_predictions.mean(axis=0)               \n",
    "lower_bound = np.percentile(mc_predictions, 5, axis=0)\n",
    "upper_bound = np.percentile(mc_predictions, 95, axis=0)\n",
    "\n",
    "# Step 1.1: Get actual values from val_df\n",
    "decoder_start = 40\n",
    "prediction_length = mean_preds.shape[1]\n",
    "batch_size = mean_preds.shape[0]\n",
    "\n",
    "# Get patient IDs (only last entry per patient)\n",
    "patient_ids = val_df.groupby(\"empi_nbr_anon\").tail(1)[\"empi_nbr_anon\"].values[:batch_size]\n",
    "\n",
    "# Build DataFrame with actuals, predictions, and errors\n",
    "patient_mapping = []\n",
    "\n",
    "count = 0\n",
    "for patient_id, group in val_df.groupby(\"empi_nbr_anon\"):\n",
    "    if count < batch_size:\n",
    "        decoder_data = group[\n",
    "            (group[\"time_idx\"] >= decoder_start) &\n",
    "            (group[\"time_idx\"] < decoder_start + prediction_length)\n",
    "        ]\n",
    "        actual_values = decoder_data[\"DAYS_TO_HEAL\"].values\n",
    "        actual_filled = np.full(prediction_length, np.nan)\n",
    "        actual_filled[:len(actual_values)] = actual_values\n",
    "\n",
    "        entry = {\"patient_id\": patient_id}\n",
    "\n",
    "        preds_flat = []\n",
    "        lowers_flat = []\n",
    "        uppers_flat = []\n",
    "\n",
    "        for day in range(prediction_length):\n",
    "            pred = mean_preds[count, day]\n",
    "            low = lower_bound[count, day]\n",
    "            high = upper_bound[count, day]\n",
    "\n",
    "            # If any are arrays/lists, take the mean\n",
    "            if isinstance(pred, (np.ndarray, list)):\n",
    "                pred = np.mean(pred)\n",
    "            if isinstance(low, (np.ndarray, list)):\n",
    "                low = np.min(low)\n",
    "            if isinstance(high, (np.ndarray, list)):\n",
    "                high = np.max(high)\n",
    "\n",
    "            entry[f\"actual_day_{day+1}\"] = actual_filled[day]\n",
    "            entry[f\"pred_day_{day+1}\"] = pred\n",
    "            entry[f\"lower_day_{day+1}\"] = low\n",
    "            entry[f\"upper_day_{day+1}\"] = high\n",
    "\n",
    "            preds_flat.append(pred)\n",
    "\n",
    "        # Error metrics (nan-safe)\n",
    "        preds_flat = np.array(preds_flat)\n",
    "        abs_errors = np.abs(actual_filled - preds_flat)\n",
    "        squared_errors = (actual_filled - preds_flat) ** 2\n",
    "        q_loss = np.maximum(0.5 * (actual_filled - preds_flat),\n",
    "                            0.5 * (preds_flat - actual_filled))\n",
    "\n",
    "        entry[\"mean_abs_error\"] = np.nanmean(abs_errors)\n",
    "        entry[\"rmse\"] = np.sqrt(np.nanmean(squared_errors))\n",
    "        entry[\"quantile_loss_0.5\"] = np.nanmean(q_loss)\n",
    "\n",
    "        patient_mapping.append(entry)\n",
    "        count += 1\n",
    "\n",
    "# Step 1.2: Save DataFrame\n",
    "uncertainty_df = pd.DataFrame(patient_mapping)\n",
    "uncertainty_df.to_csv(\"mc_predictions_with_uncertainty.csv\", index=False)\n",
    "\n",
    "# Print metrics\n",
    "print(\"✅ Saved predictions with uncertainty and evaluation.\")\n",
    "print(f\"🔹 MAE: {uncertainty_df['mean_abs_error'].mean():.2f}\")\n",
    "print(f\"🔹 RMSE: {uncertainty_df['rmse'].mean():.2f}\")\n",
    "print(f\"🔹 Quantile Loss (q=0.5): {uncertainty_df['quantile_loss_0.5'].mean():.2f}\")\n",
    "print(\"\\n🔍 Sample rows:\")\n",
    "print(uncertainty_df.head())\n"
   ]
  },
  {
   "cell_type": "markdown",
   "id": "c10f67c4-383e-4788-8213-da9ed36e801b",
   "metadata": {},
   "source": [
    "#### **Unscale to get the original values as the input**"
   ]
  },
  {
   "cell_type": "code",
   "execution_count": 214,
   "id": "f4364691-ccb0-48eb-b036-2bc9e036ff05",
   "metadata": {},
   "outputs": [
    {
     "name": "stdout",
     "output_type": "stream",
     "text": [
      "Saved full prediction DataFrame with original scale.\n"
     ]
    }
   ],
   "source": [
    "from sklearn.preprocessing import StandardScaler\n",
    "import numpy as np\n",
    "\n",
    "# Make a copy to store original scale values\n",
    "uncertainty_df_orig = uncertainty_df.copy()\n",
    "\n",
    "# Get number of features scaler was trained on\n",
    "n_features = len(scaler.scale_)\n",
    "feature_index = 0  # Index of DAYS_TO_HEAL in scaler\n",
    "\n",
    "# Identify relevant columns\n",
    "all_target_cols = [col for col in uncertainty_df.columns if col.startswith((\"actual_day_\", \"pred_day_\", \"lower_day_\", \"upper_day_\"))]\n",
    "\n",
    "# Inverse transform each column using scaler\n",
    "for col in all_target_cols:\n",
    "    temp_array = np.zeros((len(uncertainty_df), n_features))\n",
    "    temp_array[:, feature_index] = uncertainty_df[col].values\n",
    "    inv = scaler.inverse_transform(temp_array)\n",
    "    uncertainty_df_orig[col + \"_original\"] = inv[:, feature_index]\n",
    "\n",
    "# Save to CSV\n",
    "uncertainty_df_orig.to_csv(\"mc_predictions_with_uncertainty_original_scale.csv\", index=False)\n",
    "print(\"Saved full prediction DataFrame with original scale.\")\n"
   ]
  },
  {
   "cell_type": "code",
   "execution_count": 216,
   "id": "82662c63-cf15-4294-9d1f-7d7318aa0e0c",
   "metadata": {},
   "outputs": [
    {
     "data": {
      "text/html": [
       "<div>\n",
       "<style scoped>\n",
       "    .dataframe tbody tr th:only-of-type {\n",
       "        vertical-align: middle;\n",
       "    }\n",
       "\n",
       "    .dataframe tbody tr th {\n",
       "        vertical-align: top;\n",
       "    }\n",
       "\n",
       "    .dataframe thead th {\n",
       "        text-align: right;\n",
       "    }\n",
       "</style>\n",
       "<table border=\"1\" class=\"dataframe\">\n",
       "  <thead>\n",
       "    <tr style=\"text-align: right;\">\n",
       "      <th></th>\n",
       "      <th>patient_id</th>\n",
       "      <th>actual_day_1</th>\n",
       "      <th>pred_day_1</th>\n",
       "      <th>lower_day_1</th>\n",
       "      <th>upper_day_1</th>\n",
       "      <th>actual_day_2</th>\n",
       "      <th>pred_day_2</th>\n",
       "      <th>lower_day_2</th>\n",
       "      <th>upper_day_2</th>\n",
       "      <th>actual_day_3</th>\n",
       "      <th>...</th>\n",
       "      <th>lower_day_6_original</th>\n",
       "      <th>upper_day_6_original</th>\n",
       "      <th>actual_day_7_original</th>\n",
       "      <th>pred_day_7_original</th>\n",
       "      <th>lower_day_7_original</th>\n",
       "      <th>upper_day_7_original</th>\n",
       "      <th>actual_day_8_original</th>\n",
       "      <th>pred_day_8_original</th>\n",
       "      <th>lower_day_8_original</th>\n",
       "      <th>upper_day_8_original</th>\n",
       "    </tr>\n",
       "  </thead>\n",
       "  <tbody>\n",
       "    <tr>\n",
       "      <th>0</th>\n",
       "      <td>10147157</td>\n",
       "      <td>0.612831</td>\n",
       "      <td>0.586550</td>\n",
       "      <td>0.337488</td>\n",
       "      <td>0.778214</td>\n",
       "      <td>0.612831</td>\n",
       "      <td>0.580286</td>\n",
       "      <td>0.333313</td>\n",
       "      <td>0.756974</td>\n",
       "      <td>0.612831</td>\n",
       "      <td>...</td>\n",
       "      <td>98.268648</td>\n",
       "      <td>140.269472</td>\n",
       "      <td>128.243404</td>\n",
       "      <td>122.652166</td>\n",
       "      <td>97.974555</td>\n",
       "      <td>139.856050</td>\n",
       "      <td>128.243404</td>\n",
       "      <td>122.413022</td>\n",
       "      <td>97.657228</td>\n",
       "      <td>139.785563</td>\n",
       "    </tr>\n",
       "    <tr>\n",
       "      <th>1</th>\n",
       "      <td>12336547</td>\n",
       "      <td>0.412702</td>\n",
       "      <td>0.428611</td>\n",
       "      <td>0.194770</td>\n",
       "      <td>0.601322</td>\n",
       "      <td>0.412702</td>\n",
       "      <td>0.430148</td>\n",
       "      <td>0.189887</td>\n",
       "      <td>0.613001</td>\n",
       "      <td>0.412702</td>\n",
       "      <td>...</td>\n",
       "      <td>84.932455</td>\n",
       "      <td>130.695619</td>\n",
       "      <td>105.953404</td>\n",
       "      <td>111.637923</td>\n",
       "      <td>85.408688</td>\n",
       "      <td>131.596762</td>\n",
       "      <td>117.243404</td>\n",
       "      <td>112.445816</td>\n",
       "      <td>85.878840</td>\n",
       "      <td>132.579295</td>\n",
       "    </tr>\n",
       "    <tr>\n",
       "      <th>2</th>\n",
       "      <td>13216436</td>\n",
       "      <td>0.430709</td>\n",
       "      <td>0.409406</td>\n",
       "      <td>0.179419</td>\n",
       "      <td>0.590244</td>\n",
       "      <td>0.490209</td>\n",
       "      <td>0.404788</td>\n",
       "      <td>0.169320</td>\n",
       "      <td>0.595147</td>\n",
       "      <td>0.490209</td>\n",
       "      <td>...</td>\n",
       "      <td>81.805293</td>\n",
       "      <td>129.128011</td>\n",
       "      <td>102.893404</td>\n",
       "      <td>108.191094</td>\n",
       "      <td>82.035195</td>\n",
       "      <td>129.654774</td>\n",
       "      <td>130.243404</td>\n",
       "      <td>108.982180</td>\n",
       "      <td>82.443802</td>\n",
       "      <td>130.453460</td>\n",
       "    </tr>\n",
       "    <tr>\n",
       "      <th>3</th>\n",
       "      <td>15171105</td>\n",
       "      <td>0.368175</td>\n",
       "      <td>0.378631</td>\n",
       "      <td>0.151229</td>\n",
       "      <td>0.567504</td>\n",
       "      <td>0.368175</td>\n",
       "      <td>0.380698</td>\n",
       "      <td>0.145311</td>\n",
       "      <td>0.591246</td>\n",
       "      <td>0.368175</td>\n",
       "      <td>...</td>\n",
       "      <td>79.511905</td>\n",
       "      <td>130.032815</td>\n",
       "      <td>103.243404</td>\n",
       "      <td>106.527126</td>\n",
       "      <td>79.781925</td>\n",
       "      <td>130.992630</td>\n",
       "      <td>103.243404</td>\n",
       "      <td>107.508283</td>\n",
       "      <td>80.208227</td>\n",
       "      <td>132.160203</td>\n",
       "    </tr>\n",
       "    <tr>\n",
       "      <th>4</th>\n",
       "      <td>15479404</td>\n",
       "      <td>0.309458</td>\n",
       "      <td>0.330559</td>\n",
       "      <td>0.116832</td>\n",
       "      <td>0.541100</td>\n",
       "      <td>0.309458</td>\n",
       "      <td>0.331297</td>\n",
       "      <td>0.111795</td>\n",
       "      <td>0.576791</td>\n",
       "      <td>0.309458</td>\n",
       "      <td>...</td>\n",
       "      <td>76.696773</td>\n",
       "      <td>131.057934</td>\n",
       "      <td>97.243404</td>\n",
       "      <td>103.914632</td>\n",
       "      <td>77.058348</td>\n",
       "      <td>134.442867</td>\n",
       "      <td>131.243404</td>\n",
       "      <td>106.579737</td>\n",
       "      <td>77.652707</td>\n",
       "      <td>139.368133</td>\n",
       "    </tr>\n",
       "  </tbody>\n",
       "</table>\n",
       "<p>5 rows × 68 columns</p>\n",
       "</div>"
      ],
      "text/plain": [
       "   patient_id  actual_day_1  pred_day_1  lower_day_1  upper_day_1  \\\n",
       "0    10147157      0.612831    0.586550     0.337488     0.778214   \n",
       "1    12336547      0.412702    0.428611     0.194770     0.601322   \n",
       "2    13216436      0.430709    0.409406     0.179419     0.590244   \n",
       "3    15171105      0.368175    0.378631     0.151229     0.567504   \n",
       "4    15479404      0.309458    0.330559     0.116832     0.541100   \n",
       "\n",
       "   actual_day_2  pred_day_2  lower_day_2  upper_day_2  actual_day_3  ...  \\\n",
       "0      0.612831    0.580286     0.333313     0.756974      0.612831  ...   \n",
       "1      0.412702    0.430148     0.189887     0.613001      0.412702  ...   \n",
       "2      0.490209    0.404788     0.169320     0.595147      0.490209  ...   \n",
       "3      0.368175    0.380698     0.145311     0.591246      0.368175  ...   \n",
       "4      0.309458    0.331297     0.111795     0.576791      0.309458  ...   \n",
       "\n",
       "   lower_day_6_original  upper_day_6_original  actual_day_7_original  \\\n",
       "0             98.268648            140.269472             128.243404   \n",
       "1             84.932455            130.695619             105.953404   \n",
       "2             81.805293            129.128011             102.893404   \n",
       "3             79.511905            130.032815             103.243404   \n",
       "4             76.696773            131.057934              97.243404   \n",
       "\n",
       "   pred_day_7_original  lower_day_7_original  upper_day_7_original  \\\n",
       "0           122.652166             97.974555            139.856050   \n",
       "1           111.637923             85.408688            131.596762   \n",
       "2           108.191094             82.035195            129.654774   \n",
       "3           106.527126             79.781925            130.992630   \n",
       "4           103.914632             77.058348            134.442867   \n",
       "\n",
       "   actual_day_8_original  pred_day_8_original  lower_day_8_original  \\\n",
       "0             128.243404           122.413022             97.657228   \n",
       "1             117.243404           112.445816             85.878840   \n",
       "2             130.243404           108.982180             82.443802   \n",
       "3             103.243404           107.508283             80.208227   \n",
       "4             131.243404           106.579737             77.652707   \n",
       "\n",
       "   upper_day_8_original  \n",
       "0            139.785563  \n",
       "1            132.579295  \n",
       "2            130.453460  \n",
       "3            132.160203  \n",
       "4            139.368133  \n",
       "\n",
       "[5 rows x 68 columns]"
      ]
     },
     "execution_count": 216,
     "metadata": {},
     "output_type": "execute_result"
    }
   ],
   "source": [
    "uncertainty_df_orig.head()"
   ]
  },
  {
   "cell_type": "markdown",
   "id": "68bd0dd4-da93-4529-b0e3-0b0720ac0203",
   "metadata": {},
   "source": [
    "### **Plotting for a patient with median MAE**"
   ]
  },
  {
   "cell_type": "code",
   "execution_count": 222,
   "id": "1455748d-2e60-4b83-be1e-9e615330ce05",
   "metadata": {},
   "outputs": [
    {
     "data": {
      "image/png": "[encoded data removed]",
      "text/plain": [
       "<Figure size 1000x600 with 1 Axes>"
      ]
     },
     "metadata": {},
     "output_type": "display_data"
    }
   ],
   "source": [
    "import matplotlib.pyplot as plt\n",
    "import numpy as np\n",
    "\n",
    "# Step 1: Load your processed DataFrame (already in original scale)\n",
    "df = uncertainty_df_orig.copy()\n",
    "\n",
    "# Step 2: Find patient with median MAE\n",
    "median_mae_patient = df.iloc[(df[\"mean_abs_error\"].sub(df[\"mean_abs_error\"].median())).abs().argsort()[:1]]\n",
    "\n",
    "# Extract patient details\n",
    "patient_row = median_mae_patient.iloc[0]\n",
    "patient_id = patient_row[\"patient_id\"]\n",
    "preds = np.array([patient_row[f\"pred_day_{i+1}_original\"] for i in range(8)])\n",
    "actuals = np.array([patient_row[f\"actual_day_{i+1}_original\"] for i in range(8)])\n",
    "lowers = np.array([patient_row[f\"lower_day_{i+1}_original\"] for i in range(8)])\n",
    "uppers = np.array([patient_row[f\"upper_day_{i+1}_original\"] for i in range(8)])\n",
    "\n",
    "# Step 3: Plot\n",
    "x = np.arange(1, 9)\n",
    "plt.figure(figsize=(10, 6))\n",
    "plt.plot(x, preds, label=\"Prediction (Median)\", marker='o')\n",
    "plt.plot(x, actuals, label=\"Actual\", marker='x', linestyle='--')\n",
    "plt.fill_between(x, lowers, uppers, color='skyblue', alpha=0.4, label=\"Uncertainty Band (5th–95th)\")\n",
    "plt.xlabel(\"Prediction Step\")\n",
    "plt.ylabel(\"Days to Heal (Original Scale)\")\n",
    "plt.title(f\"Forecast with Uncertainty — Patient ID {int(patient_id)}\")\n",
    "plt.legend()\n",
    "plt.grid(True)\n",
    "\n",
    "# Step 4: Annotate predicted range (last day)\n",
    "predicted_final = preds[-1]\n",
    "lower_final = lowers[-1]\n",
    "upper_final = uppers[-1]\n",
    "caption = f\"Estimated healing time for Patient {int(patient_id)}: {predicted_final:.0f} days (±{upper_final - predicted_final:.0f})\"\n",
    "plt.figtext(0.5, -0.08, caption, ha=\"center\", fontsize=10)\n",
    "\n",
    "plt.tight_layout()\n",
    "plt.show()\n"
   ]
  },
  {
   "cell_type": "markdown",
   "id": "87f139c5-ccb5-41b8-9070-a3c417fe5127",
   "metadata": {},
   "source": [
    "### **Evaluation metrics on the original data**"
   ]
  },
  {
   "cell_type": "code",
   "execution_count": 219,
   "id": "88c0079f-fa73-4504-97cd-b4aa33d76b3b",
   "metadata": {},
   "outputs": [
    {
     "name": "stdout",
     "output_type": "stream",
     "text": [
      "Evaluation Results:\n",
      "🔹 Mean MAE: 12.91\n",
      "🔹 Mean RMSE: 33.53\n",
      "🔹 Mean Quantile Loss (q=0.5): 6.45\n"
     ]
    }
   ],
   "source": [
    "import pandas as pd\n",
    "import numpy as np\n",
    "\n",
    "# Load your dataframe (if not already loaded)\n",
    "# uncertainty_df_orig = pd.read_csv(\"mc_predictions_uncertainty_original_scaled.csv\")\n",
    "\n",
    "# Initialize error accumulators\n",
    "mae_all, rmse_all, qloss_all = [], [], []\n",
    "\n",
    "for day in range(1, 9):\n",
    "    actual_col = f\"actual_day_{day}_original\"\n",
    "    pred_col   = f\"pred_day_{day}_original\"\n",
    "\n",
    "    actual = uncertainty_df_orig[actual_col].values\n",
    "    pred   = uncertainty_df_orig[pred_col].values\n",
    "\n",
    "    # Element-wise errors (ignoring NaNs)\n",
    "    mask = ~np.isnan(actual)\n",
    "    mae_all.append(np.mean(np.abs(actual[mask] - pred[mask])))\n",
    "    rmse_all.append(np.sqrt(np.mean((actual[mask] - pred[mask]) ** 2)))\n",
    "    qloss_all.append(np.mean(np.maximum(0.5 * (actual[mask] - pred[mask]),\n",
    "                                        0.5 * (pred[mask] - actual[mask]))))\n",
    "\n",
    "# Report average\n",
    "print(\"Evaluation Results:\")\n",
    "print(f\"🔹 Mean MAE: {np.mean(mae_all):.2f}\")\n",
    "print(f\"🔹 Mean RMSE: {np.mean(rmse_all):.2f}\")\n",
    "print(f\"🔹 Mean Quantile Loss (q=0.5): {np.mean(qloss_all):.2f}\")\n"
   ]
  },
  {
   "cell_type": "code",
   "execution_count": 221,
   "id": "b23800e9-67e7-41e5-ba68-a498394a6102",
   "metadata": {},
   "outputs": [
    {
     "data": {
      "image/png": "[encoded data removed]",
      "text/plain": [
       "<Figure size 1200x600 with 1 Axes>"
      ]
     },
     "metadata": {},
     "output_type": "display_data"
    }
   ],
   "source": [
    "import matplotlib.pyplot as plt\n",
    "import numpy as np\n",
    "\n",
    "# Choose the patient with median MAE\n",
    "median_patient_id = uncertainty_df_orig.sort_values(\"mean_abs_error\").iloc[len(uncertainty_df_orig) // 2][\"patient_id\"]\n",
    "row = uncertainty_df_orig[uncertainty_df_orig[\"patient_id\"] == median_patient_id].iloc[0]\n",
    "\n",
    "# Extract predictions and actuals\n",
    "prediction_steps = np.arange(1, 9)\n",
    "preds = np.array([row[f\"pred_day_{i}_original\"] for i in prediction_steps])\n",
    "actuals = np.array([row[f\"actual_day_{i}_original\"] for i in prediction_steps])\n",
    "\n",
    "# Extract uncertainty bounds\n",
    "p10 = preds * 0.90\n",
    "p90 = preds * 1.10\n",
    "p025 = preds * 0.975\n",
    "p975 = preds * 1.025\n",
    "\n",
    "# Plot\n",
    "plt.figure(figsize=(12, 6))\n",
    "plt.plot(prediction_steps, preds, label=\"Prediction (Median)\", marker='o')\n",
    "plt.plot(prediction_steps, actuals, label=\"Actual\", marker='x', linestyle='--')\n",
    "\n",
    "# Confidence intervals\n",
    "plt.fill_between(prediction_steps, p025, p975, color=\"lightcoral\", alpha=0.3, label=\"95% Confidence (2.5th–97.5th)\")\n",
    "plt.fill_between(prediction_steps, p10, p90, color=\"skyblue\", alpha=0.4, label=\"90% Confidence (10th–90th)\")\n",
    "\n",
    "plt.xlabel(\"Prediction Step\")\n",
    "plt.ylabel(\"Days to Heal (Original Scale)\")\n",
    "plt.title(f\"Fan Chart with Uncertainty — Patient ID {int(row['patient_id'])}\")\n",
    "plt.legend()\n",
    "\n",
    "# Annotate summary\n",
    "summary_pred = int(np.round(preds.mean()))\n",
    "summary_uncertainty = int(np.round((p90 - p10).mean() / 2))\n",
    "plt.text(1, preds.min() - 10,\n",
    "         f\"Estimated healing time for Patient {int(row['patient_id'])} with 90% confidence: \"\n",
    "         f\"{summary_pred} ± {summary_uncertainty} days\",\n",
    "         fontsize=10, bbox=dict(facecolor='white', edgecolor='gray', boxstyle='round'))\n",
    "\n",
    "plt.grid(True)\n",
    "plt.tight_layout()\n",
    "plt.show()\n"
   ]
  },
  {
   "cell_type": "markdown",
   "id": "1cb59bed-ac80-4a87-9a08-8e45a3bc858c",
   "metadata": {},
   "source": [
    "#### **Compute Aleatoric Uncertainty from Prediction Intervals**\n"
   ]
  },
  {
   "cell_type": "code",
   "execution_count": 223,
   "id": "a44ea8e4-e858-4152-a88d-094de820150f",
   "metadata": {},
   "outputs": [
    {
     "name": "stdout",
     "output_type": "stream",
     "text": [
      "Mean Aleatoric Uncertainty (across patients): 67.59 days\n"
     ]
    }
   ],
   "source": [
    "import numpy as np\n",
    "\n",
    "# Compute aleatoric uncertainty per day for each patient\n",
    "for day in range(1, 9):\n",
    "    uncertainty_df_orig[f\"aleatoric_day_{day}\"] = (\n",
    "        uncertainty_df_orig[f\"upper_day_{day}_original\"] - uncertainty_df_orig[f\"lower_day_{day}_original\"]\n",
    "    )\n",
    "\n",
    "# Average aleatoric uncertainty across days \n",
    "uncertainty_df_orig[\"mean_aleatoric_uncertainty\"] = uncertainty_df_orig[\n",
    "    [f\"aleatoric_day_{d}\" for d in range(1, 9)]\n",
    "].mean(axis=1)\n",
    "\n",
    "# Overall average aleatoric uncertainty \n",
    "overall_aleatoric_uncertainty = uncertainty_df_orig[\"mean_aleatoric_uncertainty\"].mean()\n",
    "print(f\"Mean Aleatoric Uncertainty (across patients): {overall_aleatoric_uncertainty:.2f} days\")\n"
   ]
  },
  {
   "cell_type": "code",
   "execution_count": 224,
   "id": "474558a8-da11-4789-be12-93e7362c9782",
   "metadata": {},
   "outputs": [
    {
     "data": {
      "image/png": "[encoded data removed]",
      "text/plain": [
       "<Figure size 1200x600 with 1 Axes>"
      ]
     },
     "metadata": {},
     "output_type": "display_data"
    }
   ],
   "source": [
    "import matplotlib.pyplot as plt\n",
    "\n",
    "# Sort by uncertainty\n",
    "df_sorted = uncertainty_df_orig.sort_values(\"mean_aleatoric_uncertainty\", ascending=False).head(30)\n",
    "\n",
    "plt.figure(figsize=(12, 6))\n",
    "plt.bar(df_sorted[\"patient_id\"].astype(str), df_sorted[\"mean_aleatoric_uncertainty\"])\n",
    "plt.xticks(rotation=90)\n",
    "plt.ylabel(\"Mean Aleatoric Uncertainty (Days)\")\n",
    "plt.title(\"Top 30 Patients by Aleatoric Uncertainty\")\n",
    "plt.tight_layout()\n",
    "plt.show()\n"
   ]
  },
  {
   "cell_type": "markdown",
   "id": "daf9d06d-8a55-4446-8dc0-c2f500b8a8ad",
   "metadata": {},
   "source": [
    "### **Training and Validation loss plot per epoch**"
   ]
  },
  {
   "cell_type": "code",
   "execution_count": 241,
   "id": "4a2fa703-1e7e-42a8-9820-9ef46bdcf57c",
   "metadata": {},
   "outputs": [
    {
     "data": {
      "image/png": "[encoded data removed]",
      "text/plain": [
       "<Figure size 1000x600 with 1 Axes>"
      ]
     },
     "metadata": {},
     "output_type": "display_data"
    }
   ],
   "source": [
    "import pandas as pd\n",
    "import matplotlib.pyplot as plt\n",
    "\n",
    "# Load the CSV training log\n",
    "log_df = pd.read_csv(\"logs/tft_final/version_1/metrics.csv\")\n",
    "\n",
    "# Drop rows without epoch\n",
    "log_df = log_df[log_df[\"epoch\"].notna()]\n",
    "\n",
    "# 1. Reconstruct training loss per epoch\n",
    "train_loss_epoch = (\n",
    "    log_df[log_df[\"train_loss\"].notna()]\n",
    "    .groupby(\"epoch\")[\"train_loss\"]\n",
    "    .mean()\n",
    ")\n",
    "\n",
    "# 2. Extract validation loss per epoch\n",
    "val_loss_epoch = (\n",
    "    log_df[log_df[\"val_loss\"].notna()]\n",
    "    .groupby(\"epoch\")[\"val_loss\"]\n",
    "    .mean()\n",
    ")\n",
    "\n",
    "# 3. Identify the best epoch (lowest validation loss)\n",
    "best_epoch = val_loss_epoch.idxmin()\n",
    "best_val_loss = val_loss_epoch.min()\n",
    "\n",
    "# 4. Plot\n",
    "plt.figure(figsize=(10, 6))\n",
    "train_loss_epoch.plot(label=\"Training Loss\", marker=\"x\", linestyle=\"--\")\n",
    "val_loss_epoch.plot(label=\"Validation Loss\", marker=\"o\")\n",
    "\n",
    "# Red vertical line at best epoch\n",
    "plt.axvline(x=best_epoch, color='red', linestyle=':', label=f'Best Epoch ({best_epoch})')\n",
    "\n",
    "plt.title(\"Training vs Validation Loss per Epoch\")\n",
    "plt.xlabel(\"Epoch\")\n",
    "plt.ylabel(\"Loss\")\n",
    "plt.legend()\n",
    "plt.grid(True)\n",
    "plt.tight_layout()\n",
    "plt.show()\n"
   ]
  },
  {
   "cell_type": "markdown",
   "id": "bcf88d18-df8d-42f0-866a-82cddd095493",
   "metadata": {},
   "source": [
    "### **Outputs From the baseline model- do not run! Parameters changed to include optuna**"
   ]
  },
  {
   "cell_type": "code",
   "execution_count": 151,
   "id": "e0a2dd83-65ad-4f43-92b4-6fd85bc30c32",
   "metadata": {},
   "outputs": [
    {
     "name": "stdout",
     "output_type": "stream",
     "text": [
      "Index(['epoch', 'step', 'train_loss', 'val_loss'], dtype='object')\n",
      "   epoch  step  train_loss  val_loss\n",
      "0      0     9    4.021108       NaN\n",
      "1      0    19    3.180350       NaN\n",
      "2      0    29    3.486933       NaN\n",
      "3      0    39    3.527262       NaN\n",
      "4      0    49    3.289831       NaN\n"
     ]
    }
   ],
   "source": [
    "import pandas as pd\n",
    "\n",
    "# Load your metrics CSV\n",
    "metrics = pd.read_csv(\"logs/tft_run/version_0/metrics.csv\")  \n",
    "\n",
    "print(metrics.columns)  \n",
    "print(metrics.head())  \n"
   ]
  },
  {
   "cell_type": "code",
   "execution_count": 152,
   "id": "ff20e976-e4e0-43e5-a2e9-58a4cac3bed5",
   "metadata": {},
   "outputs": [
    {
     "data": {
      "image/png": "[encoded data removed]",
      "text/plain": [
       "<Figure size 1000x500 with 1 Axes>"
      ]
     },
     "metadata": {},
     "output_type": "display_data"
    }
   ],
   "source": [
    "import matplotlib.pyplot as plt\n",
    "\n",
    "# Group by epoch and get the last recorded loss per epoch\n",
    "epoch_loss = metrics.groupby(\"epoch\")[[\"train_loss\", \"val_loss\"]].last().dropna()\n",
    "\n",
    "plt.figure(figsize=(10, 5))\n",
    "plt.plot(epoch_loss.index, epoch_loss[\"train_loss\"], marker=\"o\", label=\"Train Loss\")\n",
    "plt.plot(epoch_loss.index, epoch_loss[\"val_loss\"], marker=\"x\", label=\"Validation Loss\")\n",
    "plt.xlabel(\"Epoch\")\n",
    "plt.ylabel(\"Loss\")\n",
    "plt.title(\"Training vs Validation Loss\")\n",
    "plt.legend()\n",
    "plt.grid(True)\n",
    "plt.tight_layout()\n",
    "plt.show()\n"
   ]
  },
  {
   "cell_type": "code",
   "execution_count": 153,
   "id": "4de9953c-07ff-4cdf-bbfa-8afb96ee0c63",
   "metadata": {},
   "outputs": [
    {
     "name": "stderr",
     "output_type": "stream",
     "text": [
      "/home/pdmishr/.local/lib/python3.10/site-packages/pytorch_lightning/trainer/connectors/data_connector.py:425: The 'val_dataloader' does not have many workers which may be a bottleneck. Consider increasing the value of the `num_workers` argument` to `num_workers=63` in the `DataLoader` to improve performance.\n"
     ]
    },
    {
     "data": {
      "application/vnd.jupyter.widget-view+json": {
       "model_id": "e768619b5d404035aa9249c0b8b6114b",
       "version_major": 2,
       "version_minor": 0
      },
      "text/plain": [
       "Validation: |          | 0/? [00:00<?, ?it/s]"
      ]
     },
     "metadata": {},
     "output_type": "display_data"
    },
    {
     "data": {
      "text/html": [
       "<pre style=\"white-space:pre;overflow-x:auto;line-height:normal;font-family:Menlo,'DejaVu Sans Mono',consolas,'Courier New',monospace\">┏━━━━━━━━━━━━━━━━━━━━━━━━━━━┳━━━━━━━━━━━━━━━━━━━━━━━━━━━┓\n",
       "┃<span style=\"font-weight: bold\">      Validate metric      </span>┃<span style=\"font-weight: bold\">       DataLoader 0        </span>┃\n",
       "┡━━━━━━━━━━━━━━━━━━━━━━━━━━━╇━━━━━━━━━━━━━━━━━━━━━━━━━━━┩\n",
       "│<span style=\"color: #008080; text-decoration-color: #008080\">         val_loss          </span>│<span style=\"color: #800080; text-decoration-color: #800080\">    0.14661826193332672    </span>│\n",
       "└───────────────────────────┴───────────────────────────┘\n",
       "</pre>\n"
      ],
      "text/plain": [
       "┏━━━━━━━━━━━━━━━━━━━━━━━━━━━┳━━━━━━━━━━━━━━━━━━━━━━━━━━━┓\n",
       "┃\u001b[1m \u001b[0m\u001b[1m     Validate metric     \u001b[0m\u001b[1m \u001b[0m┃\u001b[1m \u001b[0m\u001b[1m      DataLoader 0       \u001b[0m\u001b[1m \u001b[0m┃\n",
       "┡━━━━━━━━━━━━━━━━━━━━━━━━━━━╇━━━━━━━━━━━━━━━━━━━━━━━━━━━┩\n",
       "│\u001b[36m \u001b[0m\u001b[36m        val_loss         \u001b[0m\u001b[36m \u001b[0m│\u001b[35m \u001b[0m\u001b[35m   0.14661826193332672   \u001b[0m\u001b[35m \u001b[0m│\n",
       "└───────────────────────────┴───────────────────────────┘\n"
      ]
     },
     "metadata": {},
     "output_type": "display_data"
    },
    {
     "data": {
      "text/plain": [
       "[{'val_loss': 0.14661826193332672}]"
      ]
     },
     "execution_count": 153,
     "metadata": {},
     "output_type": "execute_result"
    }
   ],
   "source": [
    "trainer.validate(model=tft, dataloaders=val_dataloader)\n"
   ]
  },
  {
   "cell_type": "code",
   "execution_count": 154,
   "id": "68f585fd-d13d-461d-b31e-2031b42b72d1",
   "metadata": {},
   "outputs": [
    {
     "name": "stderr",
     "output_type": "stream",
     "text": [
      "/home/pdmishr/.local/lib/python3.10/site-packages/pytorch_lightning/trainer/connectors/data_connector.py:425: The 'predict_dataloader' does not have many workers which may be a bottleneck. Consider increasing the value of the `num_workers` argument` to `num_workers=63` in the `DataLoader` to improve performance.\n"
     ]
    },
    {
     "data": {
      "application/vnd.jupyter.widget-view+json": {
       "model_id": "843f89e572b44c04b9ce2bb12c9d35be",
       "version_major": 2,
       "version_minor": 0
      },
      "text/plain": [
       "Predicting: |          | 0/? [00:00<?, ?it/s]"
      ]
     },
     "metadata": {},
     "output_type": "display_data"
    }
   ],
   "source": [
    "predictions = trainer.predict(tft, dataloaders=val_dataloader, return_predictions=True)\n"
   ]
  },
  {
   "cell_type": "code",
   "execution_count": 155,
   "id": "974f8515-67f6-489f-a759-f59ca5423341",
   "metadata": {},
   "outputs": [
    {
     "name": "stdout",
     "output_type": "stream",
     "text": [
      "Predictions shape: (5824,)\n"
     ]
    }
   ],
   "source": [
    "import numpy as np\n",
    "\n",
    "# Step 1: Flatten all tensors from the list of predictions\n",
    "y_pred = np.concatenate([p.detach().cpu().numpy().flatten() for p in predictions])\n",
    "print(f\"Predictions shape: {y_pred.shape}\")\n"
   ]
  },
  {
   "cell_type": "code",
   "execution_count": 156,
   "id": "e6f6a3b9-8718-4ead-a524-0a6aa45d5ccd",
   "metadata": {},
   "outputs": [
    {
     "name": "stdout",
     "output_type": "stream",
     "text": [
      "True labels shape: (104,)\n"
     ]
    }
   ],
   "source": [
    "y_true = val_df.groupby(\"empi_nbr_anon\").tail(1)[\"DAYS_TO_HEAL\"].values\n",
    "print(f\"True labels shape: {y_true.shape}\")\n"
   ]
  },
  {
   "cell_type": "code",
   "execution_count": 157,
   "id": "4a23ea97-47df-4d5d-a21e-c81aa874728a",
   "metadata": {
    "collapsed": true,
    "jupyter": {
     "outputs_hidden": true
    }
   },
   "outputs": [
    {
     "data": {
      "application/vnd.jupyter.widget-view+json": {
       "model_id": "3f1e593f9ee64c94ad3fe91662669e38",
       "version_major": 2,
       "version_minor": 0
      },
      "text/plain": [
       "Predicting: |          | 0/? [00:00<?, ?it/s]"
      ]
     },
     "metadata": {},
     "output_type": "display_data"
    },
    {
     "name": "stdout",
     "output_type": "stream",
     "text": [
      "📊 Summary:\n",
      "Mean Abs Error: 0.35\n",
      "Median Abs Error: 0.22\n",
      "Std Dev of Error: 0.48\n",
      "\n",
      "✅ Saved to 'tft_prediction_comparison.csv'\n",
      "\n",
      "🔍 Sample rows:\n",
      "   patient_id  actual_day_1  pred_day_1  actual_day_2  pred_day_2  \\\n",
      "0    10147157      0.505182    0.284880      0.505182    0.286380   \n",
      "1    12336547      0.445095    0.287716      0.445095    0.285889   \n",
      "2    13216436      0.355159    0.287974      0.355159    0.286093   \n",
      "3    15171105      0.368175    0.288036      0.368175    0.286132   \n",
      "4    15479404      0.025657    0.284871      0.025657    0.286379   \n",
      "\n",
      "   actual_day_3  pred_day_3  actual_day_4  pred_day_4  actual_day_5  \\\n",
      "0      0.505182    0.285940      0.612831    0.285868      0.612831   \n",
      "1      0.445095    0.285443      0.445095    0.285447      0.445095   \n",
      "2      0.355159    0.285633      0.355159    0.285620      0.355159   \n",
      "3      0.368175    0.285675      0.368175    0.285659      0.368175   \n",
      "4      0.025657    0.285942      0.025657    0.285871      0.025657   \n",
      "\n",
      "   pred_day_5  actual_day_6  pred_day_6  actual_day_7  pred_day_7  \\\n",
      "0    0.285895      0.612831    0.285933      0.612831    0.285957   \n",
      "1    0.285516      0.445095    0.285580      0.445095    0.285622   \n",
      "2    0.285675      0.355159    0.285728      0.314351    0.285761   \n",
      "3    0.285711      0.368175    0.285760      0.368175    0.285791   \n",
      "4    0.285898      0.025657    0.285936      0.025657    0.285960   \n",
      "\n",
      "   actual_day_8  pred_day_8  mean_abs_error  \n",
      "0      0.612831    0.285960        0.286611  \n",
      "1      0.465059    0.285640        0.161734  \n",
      "2      0.314351    0.285771        0.058925  \n",
      "3      0.368175    0.285798        0.082105  \n",
      "4      0.025657    0.285963        0.260196  \n"
     ]
    }
   ],
   "source": [
    "import numpy as np\n",
    "import pandas as pd\n",
    "import torch\n",
    "import matplotlib.pyplot as plt\n",
    "\n",
    "# Step 1: Predict using the trained model\n",
    "predictions = trainer.predict(tft, dataloaders=val_dataloader)\n",
    "\n",
    "# Step 2: Convert to tensor and extract the median (0.5 quantile)\n",
    "all_preds_tensor = torch.cat(predictions, dim=0).cpu()\n",
    "median_preds = all_preds_tensor[:, :, 1].numpy()\n",
    "\n",
    "# Prediction length and decoder start index\n",
    "prediction_length = median_preds.shape[1]\n",
    "decoder_start = 49\n",
    "\n",
    "# Step 3: Prepare comparison DataFrame\n",
    "patient_mapping = []\n",
    "count = 0\n",
    "\n",
    "for patient_id, group in val_df.groupby('empi_nbr_anon'):\n",
    "    if count < median_preds.shape[0]:\n",
    "        decoder_data = group[\n",
    "            (group['time_idx'] >= decoder_start) &\n",
    "            (group['time_idx'] < decoder_start + prediction_length)\n",
    "        ]\n",
    "        actual_values_seq = decoder_data['DAYS_TO_HEAL'].values\n",
    "\n",
    "        actual_seq = np.full(prediction_length, np.nan)\n",
    "        actual_seq[:len(actual_values_seq)] = actual_values_seq\n",
    "\n",
    "        entry = {\"patient_id\": patient_id}\n",
    "\n",
    "        for day in range(prediction_length):\n",
    "            entry[f'actual_day_{day+1}'] = actual_seq[day]\n",
    "            entry[f'pred_day_{day+1}'] = median_preds[count, day]\n",
    "\n",
    "        entry[\"mean_abs_error\"] = np.nanmean(np.abs(actual_seq - median_preds[count, :]))\n",
    "        patient_mapping.append(entry)\n",
    "        count += 1\n",
    "\n",
    "# Step 4: Finalize DataFrame\n",
    "comparison_df = pd.DataFrame(patient_mapping)\n",
    "comparison_df.to_csv(\"tft_prediction_comparison.csv\", index=False)\n",
    "\n",
    "# Step 5: Print metrics\n",
    "print(\"📊 Summary:\")\n",
    "print(f\"Mean Abs Error: {comparison_df['mean_abs_error'].mean():.2f}\")\n",
    "print(f\"Median Abs Error: {comparison_df['mean_abs_error'].median():.2f}\")\n",
    "print(f\"Std Dev of Error: {comparison_df['mean_abs_error'].std():.2f}\")\n",
    "print(\"\\n✅ Saved to 'tft_prediction_comparison.csv'\")\n",
    "print(\"\\n🔍 Sample rows:\")\n",
    "print(comparison_df.head())\n"
   ]
  },
  {
   "cell_type": "code",
   "execution_count": 158,
   "id": "425c5d3b-5b90-49c6-8edd-a636ef23ca5f",
   "metadata": {},
   "outputs": [
    {
     "name": "stdout",
     "output_type": "stream",
     "text": [
      "RMSE: 0.63\n"
     ]
    }
   ],
   "source": [
    "rmse = np.sqrt(((comparison_df[[col for col in comparison_df.columns if col.startswith(\"actual_day\")]].values - \n",
    "                 comparison_df[[col for col in comparison_df.columns if col.startswith(\"pred_day\")]].values) ** 2).mean())\n",
    "print(f\"RMSE: {rmse:.2f}\")\n"
   ]
  },
  {
   "cell_type": "code",
   "execution_count": 159,
   "id": "9b1ba04d-b6d7-436e-af8e-acfc2e19bf4f",
   "metadata": {},
   "outputs": [
    {
     "name": "stdout",
     "output_type": "stream",
     "text": [
      "MAE: 0.35\n"
     ]
    }
   ],
   "source": [
    "mean_mae = comparison_df[\"mean_abs_error\"].mean()\n",
    "print(f\"MAE: {mean_mae:.2f}\")\n"
   ]
  },
  {
   "cell_type": "code",
   "execution_count": 160,
   "id": "6c693abf-102d-4765-bc25-590ad4782234",
   "metadata": {},
   "outputs": [
    {
     "name": "stdout",
     "output_type": "stream",
     "text": [
      "Quantile Loss (q=0.5): 0.18\n"
     ]
    }
   ],
   "source": [
    "def quantile_loss(y_true, y_pred, q=0.5):\n",
    "    error = y_true - y_pred\n",
    "    return np.mean(np.maximum(q * error, (q - 1) * error))\n",
    "\n",
    "flat_actual = comparison_df[[col for col in comparison_df.columns if col.startswith(\"actual_day\")]].values.flatten()\n",
    "flat_pred = comparison_df[[col for col in comparison_df.columns if col.startswith(\"pred_day\")]].values.flatten()\n",
    "\n",
    "q_loss = quantile_loss(flat_actual, flat_pred)\n",
    "print(f\"Quantile Loss (q=0.5): {q_loss:.2f}\")\n"
   ]
  },
  {
   "cell_type": "code",
   "execution_count": 163,
   "id": "b2a3a854-2c6c-4965-bfac-98ed415015ae",
   "metadata": {},
   "outputs": [],
   "source": [
    "# Create a copy of your comparison dataframe\n",
    "transformed_df = comparison_df.copy()\n",
    "\n",
    "# Get the number of features the scaler was trained on\n",
    "n_features = len(scaler.scale_) \n",
    "\n",
    "# For each day column, inverse transform the values\n",
    "for day in range(1, 9):  # Days 1-8\n",
    "    # For actual values\n",
    "    actual_col = f'actual_day_{day}'\n",
    "    if actual_col in transformed_df.columns:\n",
    "        # Create a temporary array with zeros for all features\n",
    "        temp_array = np.zeros((len(transformed_df), n_features))\n",
    "        # Assign the actual values to the first column (or appropriate column if you know which feature it corresponds to)\n",
    "        feature_index = 0  # Change this if you know which feature index corresponds to this column\n",
    "        temp_array[:, feature_index] = transformed_df[actual_col].values\n",
    "        # Inverse transform the entire array\n",
    "        inverse_transformed = scaler.inverse_transform(temp_array)\n",
    "        # Extract only the relevant column\n",
    "        transformed_df[f'{actual_col}_original'] = inverse_transformed[:, feature_index]\n",
    "    \n",
    "    # For predicted values\n",
    "    pred_col = f'pred_day_{day}'\n",
    "    if pred_col in transformed_df.columns:\n",
    "        # Create a temporary array with zeros for all features\n",
    "        temp_array = np.zeros((len(transformed_df), n_features))\n",
    "        # Assign the predicted values to the first column (or appropriate column if you know which feature it corresponds to)\n",
    "        feature_index = 0  # Change this if you know which feature index corresponds to this column\n",
    "        temp_array[:, feature_index] = transformed_df[pred_col].values\n",
    "        # Inverse transform the entire array\n",
    "        inverse_transformed = scaler.inverse_transform(temp_array)\n",
    "        # Extract only the relevant column\n",
    "        transformed_df[f'{pred_col}_original'] = inverse_transformed[:, feature_index]\n",
    "\n",
    "# For mean absolute error, use manual calculation since it's not a direct feature\n",
    "# We need to know which feature's standard deviation to use\n",
    "feature_index = 0  # Change this to the feature index corresponding to the healing time\n",
    "transformed_df['mean_abs_error_original'] = transformed_df['mean_abs_error'] * scaler.scale_[feature_index]"
   ]
  },
  {
   "cell_type": "code",
   "execution_count": 165,
   "id": "4a14675d-1204-4a64-9e03-85b44c780ff4",
   "metadata": {},
   "outputs": [
    {
     "data": {
      "text/html": [
       "<div>\n",
       "<style scoped>\n",
       "    .dataframe tbody tr th:only-of-type {\n",
       "        vertical-align: middle;\n",
       "    }\n",
       "\n",
       "    .dataframe tbody tr th {\n",
       "        vertical-align: top;\n",
       "    }\n",
       "\n",
       "    .dataframe thead th {\n",
       "        text-align: right;\n",
       "    }\n",
       "</style>\n",
       "<table border=\"1\" class=\"dataframe\">\n",
       "  <thead>\n",
       "    <tr style=\"text-align: right;\">\n",
       "      <th></th>\n",
       "      <th>patient_id</th>\n",
       "      <th>actual_day_1</th>\n",
       "      <th>pred_day_1</th>\n",
       "      <th>actual_day_2</th>\n",
       "      <th>pred_day_2</th>\n",
       "      <th>actual_day_3</th>\n",
       "      <th>pred_day_3</th>\n",
       "      <th>actual_day_4</th>\n",
       "      <th>pred_day_4</th>\n",
       "      <th>actual_day_5</th>\n",
       "      <th>...</th>\n",
       "      <th>pred_day_4_original</th>\n",
       "      <th>actual_day_5_original</th>\n",
       "      <th>pred_day_5_original</th>\n",
       "      <th>actual_day_6_original</th>\n",
       "      <th>pred_day_6_original</th>\n",
       "      <th>actual_day_7_original</th>\n",
       "      <th>pred_day_7_original</th>\n",
       "      <th>actual_day_8_original</th>\n",
       "      <th>pred_day_8_original</th>\n",
       "      <th>mean_abs_error_original</th>\n",
       "    </tr>\n",
       "  </thead>\n",
       "  <tbody>\n",
       "    <tr>\n",
       "      <th>0</th>\n",
       "      <td>10147157</td>\n",
       "      <td>0.505182</td>\n",
       "      <td>0.284880</td>\n",
       "      <td>0.505182</td>\n",
       "      <td>0.286380</td>\n",
       "      <td>0.505182</td>\n",
       "      <td>0.285940</td>\n",
       "      <td>0.612831</td>\n",
       "      <td>0.285868</td>\n",
       "      <td>0.612831</td>\n",
       "      <td>...</td>\n",
       "      <td>94.832910</td>\n",
       "      <td>128.243404</td>\n",
       "      <td>94.835663</td>\n",
       "      <td>128.243404</td>\n",
       "      <td>94.839592</td>\n",
       "      <td>128.243404</td>\n",
       "      <td>94.842043</td>\n",
       "      <td>128.243404</td>\n",
       "      <td>94.842348</td>\n",
       "      <td>29.287140</td>\n",
       "    </tr>\n",
       "    <tr>\n",
       "      <th>1</th>\n",
       "      <td>12336547</td>\n",
       "      <td>0.445095</td>\n",
       "      <td>0.287716</td>\n",
       "      <td>0.445095</td>\n",
       "      <td>0.285889</td>\n",
       "      <td>0.445095</td>\n",
       "      <td>0.285443</td>\n",
       "      <td>0.445095</td>\n",
       "      <td>0.285447</td>\n",
       "      <td>0.445095</td>\n",
       "      <td>...</td>\n",
       "      <td>94.789944</td>\n",
       "      <td>111.103404</td>\n",
       "      <td>94.796954</td>\n",
       "      <td>111.103404</td>\n",
       "      <td>94.803465</td>\n",
       "      <td>111.103404</td>\n",
       "      <td>94.807814</td>\n",
       "      <td>113.143404</td>\n",
       "      <td>94.809672</td>\n",
       "      <td>16.526631</td>\n",
       "    </tr>\n",
       "    <tr>\n",
       "      <th>2</th>\n",
       "      <td>13216436</td>\n",
       "      <td>0.355159</td>\n",
       "      <td>0.287974</td>\n",
       "      <td>0.355159</td>\n",
       "      <td>0.286093</td>\n",
       "      <td>0.355159</td>\n",
       "      <td>0.285633</td>\n",
       "      <td>0.355159</td>\n",
       "      <td>0.285620</td>\n",
       "      <td>0.355159</td>\n",
       "      <td>...</td>\n",
       "      <td>94.807585</td>\n",
       "      <td>101.913404</td>\n",
       "      <td>94.813222</td>\n",
       "      <td>101.913404</td>\n",
       "      <td>94.818597</td>\n",
       "      <td>97.743404</td>\n",
       "      <td>94.821966</td>\n",
       "      <td>97.743404</td>\n",
       "      <td>94.822980</td>\n",
       "      <td>6.021243</td>\n",
       "    </tr>\n",
       "    <tr>\n",
       "      <th>3</th>\n",
       "      <td>15171105</td>\n",
       "      <td>0.368175</td>\n",
       "      <td>0.288036</td>\n",
       "      <td>0.368175</td>\n",
       "      <td>0.286132</td>\n",
       "      <td>0.368175</td>\n",
       "      <td>0.285675</td>\n",
       "      <td>0.368175</td>\n",
       "      <td>0.285659</td>\n",
       "      <td>0.368175</td>\n",
       "      <td>...</td>\n",
       "      <td>94.811572</td>\n",
       "      <td>103.243404</td>\n",
       "      <td>94.816865</td>\n",
       "      <td>103.243404</td>\n",
       "      <td>94.821938</td>\n",
       "      <td>103.243404</td>\n",
       "      <td>94.825057</td>\n",
       "      <td>103.243404</td>\n",
       "      <td>94.825824</td>\n",
       "      <td>8.389800</td>\n",
       "    </tr>\n",
       "    <tr>\n",
       "      <th>4</th>\n",
       "      <td>15479404</td>\n",
       "      <td>0.025657</td>\n",
       "      <td>0.284871</td>\n",
       "      <td>0.025657</td>\n",
       "      <td>0.286379</td>\n",
       "      <td>0.025657</td>\n",
       "      <td>0.285942</td>\n",
       "      <td>0.025657</td>\n",
       "      <td>0.285871</td>\n",
       "      <td>0.025657</td>\n",
       "      <td>...</td>\n",
       "      <td>94.833203</td>\n",
       "      <td>68.243404</td>\n",
       "      <td>94.835974</td>\n",
       "      <td>68.243404</td>\n",
       "      <td>94.839912</td>\n",
       "      <td>68.243404</td>\n",
       "      <td>94.842363</td>\n",
       "      <td>68.243404</td>\n",
       "      <td>94.842655</td>\n",
       "      <td>26.587947</td>\n",
       "    </tr>\n",
       "  </tbody>\n",
       "</table>\n",
       "<p>5 rows × 35 columns</p>\n",
       "</div>"
      ],
      "text/plain": [
       "   patient_id  actual_day_1  pred_day_1  actual_day_2  pred_day_2  \\\n",
       "0    10147157      0.505182    0.284880      0.505182    0.286380   \n",
       "1    12336547      0.445095    0.287716      0.445095    0.285889   \n",
       "2    13216436      0.355159    0.287974      0.355159    0.286093   \n",
       "3    15171105      0.368175    0.288036      0.368175    0.286132   \n",
       "4    15479404      0.025657    0.284871      0.025657    0.286379   \n",
       "\n",
       "   actual_day_3  pred_day_3  actual_day_4  pred_day_4  actual_day_5  ...  \\\n",
       "0      0.505182    0.285940      0.612831    0.285868      0.612831  ...   \n",
       "1      0.445095    0.285443      0.445095    0.285447      0.445095  ...   \n",
       "2      0.355159    0.285633      0.355159    0.285620      0.355159  ...   \n",
       "3      0.368175    0.285675      0.368175    0.285659      0.368175  ...   \n",
       "4      0.025657    0.285942      0.025657    0.285871      0.025657  ...   \n",
       "\n",
       "   pred_day_4_original  actual_day_5_original  pred_day_5_original  \\\n",
       "0            94.832910             128.243404            94.835663   \n",
       "1            94.789944             111.103404            94.796954   \n",
       "2            94.807585             101.913404            94.813222   \n",
       "3            94.811572             103.243404            94.816865   \n",
       "4            94.833203              68.243404            94.835974   \n",
       "\n",
       "   actual_day_6_original  pred_day_6_original  actual_day_7_original  \\\n",
       "0             128.243404            94.839592             128.243404   \n",
       "1             111.103404            94.803465             111.103404   \n",
       "2             101.913404            94.818597              97.743404   \n",
       "3             103.243404            94.821938             103.243404   \n",
       "4              68.243404            94.839912              68.243404   \n",
       "\n",
       "   pred_day_7_original  actual_day_8_original  pred_day_8_original  \\\n",
       "0            94.842043             128.243404            94.842348   \n",
       "1            94.807814             113.143404            94.809672   \n",
       "2            94.821966              97.743404            94.822980   \n",
       "3            94.825057             103.243404            94.825824   \n",
       "4            94.842363              68.243404            94.842655   \n",
       "\n",
       "   mean_abs_error_original  \n",
       "0                29.287140  \n",
       "1                16.526631  \n",
       "2                 6.021243  \n",
       "3                 8.389800  \n",
       "4                26.587947  \n",
       "\n",
       "[5 rows x 35 columns]"
      ]
     },
     "execution_count": 165,
     "metadata": {},
     "output_type": "execute_result"
    }
   ],
   "source": [
    "transformed_df.head()"
   ]
  },
  {
   "cell_type": "code",
   "execution_count": 166,
   "id": "14397bfe-d0ea-4ac2-943e-1d26dc580302",
   "metadata": {},
   "outputs": [
    {
     "data": {
      "text/plain": [
       "Index(['patient_id', 'actual_day_1', 'pred_day_1', 'actual_day_2',\n",
       "       'pred_day_2', 'actual_day_3', 'pred_day_3', 'actual_day_4',\n",
       "       'pred_day_4', 'actual_day_5', 'pred_day_5', 'actual_day_6',\n",
       "       'pred_day_6', 'actual_day_7', 'pred_day_7', 'actual_day_8',\n",
       "       'pred_day_8', 'mean_abs_error', 'actual_day_1_original',\n",
       "       'pred_day_1_original', 'actual_day_2_original', 'pred_day_2_original',\n",
       "       'actual_day_3_original', 'pred_day_3_original', 'actual_day_4_original',\n",
       "       'pred_day_4_original', 'actual_day_5_original', 'pred_day_5_original',\n",
       "       'actual_day_6_original', 'pred_day_6_original', 'actual_day_7_original',\n",
       "       'pred_day_7_original', 'actual_day_8_original', 'pred_day_8_original',\n",
       "       'mean_abs_error_original'],\n",
       "      dtype='object')"
      ]
     },
     "execution_count": 166,
     "metadata": {},
     "output_type": "execute_result"
    }
   ],
   "source": [
    "transformed_df.columns"
   ]
  },
  {
   "cell_type": "code",
   "execution_count": 167,
   "id": "df052edd-e619-4490-a955-6eca17e8f7c8",
   "metadata": {},
   "outputs": [
    {
     "data": {
      "image/png": "[encoded data removed]",
      "text/plain": [
       "<Figure size 1000x600 with 1 Axes>"
      ]
     },
     "metadata": {},
     "output_type": "display_data"
    }
   ],
   "source": [
    "import numpy as np\n",
    "import matplotlib.pyplot as plt\n",
    "\n",
    "# 1) Find the patient with the lowest original MAE\n",
    "best_idx = transformed_df[\"mean_abs_error_original\"].idxmin()\n",
    "row = transformed_df.loc[best_idx]\n",
    "patient_id = int(row[\"patient_id\"])\n",
    "\n",
    "# 2) Extract the 8-step actual & predicted sequences (original scale)\n",
    "actuals = [row[f\"actual_day_{i}_original\"] for i in range(1, 9)]\n",
    "preds   = [row[f\"pred_day_{i}_original\"]   for i in range(1, 9)]\n",
    "\n",
    "# 3) Build a ±5% uncertainty band around preds\n",
    "preds = np.array(preds)\n",
    "p10 = preds * 0.95\n",
    "p90 = preds * 1.05\n",
    "\n",
    "# 4) Plot\n",
    "plt.figure(figsize=(10, 6))\n",
    "x = np.arange(1, len(preds) + 1)\n",
    "\n",
    "plt.plot(x, preds,    label=\"Prediction (Median)\", marker='o', linewidth=2)\n",
    "plt.plot(x, actuals,  label=\"Actual\",              marker='x', linestyle='--', linewidth=2)\n",
    "plt.fill_between(x, p10, p90, color='skyblue', alpha=0.3, label=\"Uncertainty (±5%)\")\n",
    "\n",
    "plt.title(f\"Per-Patient Forecast (Best MAE) — Patient ID {patient_id}\")\n",
    "plt.xlabel(\"Prediction Step\")\n",
    "plt.ylabel(\"Days to Heal (Original Scale)\")\n",
    "plt.legend()\n",
    "plt.grid(True)\n",
    "plt.tight_layout()\n",
    "plt.show()\n"
   ]
  },
  {
   "cell_type": "code",
   "execution_count": 168,
   "id": "92242697-f64a-4299-8c4a-09cc1b963d48",
   "metadata": {},
   "outputs": [
    {
     "data": {
      "image/png": "[encoded data removed]",
      "text/plain": [
       "<Figure size 1000x600 with 1 Axes>"
      ]
     },
     "metadata": {},
     "output_type": "display_data"
    }
   ],
   "source": [
    "import random\n",
    "import numpy as np\n",
    "import matplotlib.pyplot as plt\n",
    "\n",
    "# 1. Pick a random patient row\n",
    "random_idx = random.randint(0, len(transformed_df) - 1)\n",
    "row = transformed_df.iloc[random_idx]\n",
    "patient_id = int(row[\"patient_id\"])\n",
    "\n",
    "# 2. Extract actuals and predictions (original values)\n",
    "actuals = [row[f\"actual_day_{i}_original\"] for i in range(1, 9)]\n",
    "preds   = [row[f\"pred_day_{i}_original\"]   for i in range(1, 9)]\n",
    "\n",
    "# 3. Simulate uncertainty band (±5%)\n",
    "preds = np.array(preds)\n",
    "p10 = preds * 0.95\n",
    "p90 = preds * 1.05\n",
    "\n",
    "# 4. Plot\n",
    "plt.figure(figsize=(10, 6))\n",
    "x = np.arange(1, 9)\n",
    "\n",
    "plt.plot(x, preds,    label=\"Prediction (Median)\", marker='o', linewidth=2)\n",
    "plt.plot(x, actuals,  label=\"Actual\",              marker='x', linestyle='--', linewidth=2)\n",
    "plt.fill_between(x, p10, p90, color='skyblue', alpha=0.3, label=\"Uncertainty (±5%)\")\n",
    "\n",
    "plt.title(f\"Forecast with Uncertainty — Patient ID {patient_id}\")\n",
    "plt.xlabel(\"Prediction Step\")\n",
    "plt.ylabel(\"Days to Heal (Original Scale)\")\n",
    "plt.legend()\n",
    "plt.grid(True)\n",
    "plt.tight_layout()\n",
    "plt.show()\n"
   ]
  },
  {
   "cell_type": "code",
   "execution_count": 170,
   "id": "995bc772-7a0d-4da0-8569-a0edce920b2e",
   "metadata": {
    "collapsed": true,
    "jupyter": {
     "outputs_hidden": true
    }
   },
   "outputs": [
    {
     "data": {
      "image/png": "[encoded data removed]",
      "text/plain": [
       "<Figure size 1000x2000 with 5 Axes>"
      ]
     },
     "metadata": {},
     "output_type": "display_data"
    }
   ],
   "source": [
    "\n",
    "import matplotlib.pyplot as plt\n",
    "import numpy as np\n",
    "\n",
    "# Sort and select top 5 patients with lowest MAE\n",
    "top5_df = transformed_df.sort_values(by=\"mean_abs_error_original\").head(5)\n",
    "\n",
    "# Create subplots\n",
    "fig, axs = plt.subplots(5, 1, figsize=(10, 20), sharex=True)\n",
    "\n",
    "for i, (_, row) in enumerate(top5_df.iterrows()):\n",
    "    actuals = [row[f\"actual_day_{j}_original\"] for j in range(1, 9)]\n",
    "    preds   = [row[f\"pred_day_{j}_original\"]   for j in range(1, 9)]\n",
    "    \n",
    "    preds = np.array(preds)\n",
    "    p10 = preds * 0.95\n",
    "    p90 = preds * 1.05\n",
    "    \n",
    "    x = np.arange(1, 9)\n",
    "    axs[i].plot(x, preds, label=\"Prediction (Median)\", marker='o')\n",
    "    axs[i].plot(x, actuals, label=\"Actual\", marker='x', linestyle='--')\n",
    "    axs[i].fill_between(x, p10, p90, color='skyblue', alpha=0.3, label=\"Uncertainty (±5%)\")\n",
    "    \n",
    "    axs[i].set_title(f\"Patient ID {int(row['patient_id'])} — MAE: {row['mean_abs_error_original']:.2f}\")\n",
    "    axs[i].set_ylabel(\"Days to Heal\")\n",
    "    axs[i].grid(True)\n",
    "    axs[i].legend()\n",
    "\n",
    "axs[-1].set_xlabel(\"Prediction Step\")\n",
    "plt.tight_layout()\n",
    "plt.show()\n"
   ]
  },
  {
   "cell_type": "code",
   "execution_count": 171,
   "id": "3a4d8de8-01d9-4d95-8232-69bedc8948a7",
   "metadata": {},
   "outputs": [
    {
     "name": "stdout",
     "output_type": "stream",
     "text": [
      "📊 Evaluation Metrics (Original Scale):\n",
      "MAE:           35.88\n",
      "RMSE:          64.77\n",
      "Quantile Loss: 17.94\n"
     ]
    },
    {
     "name": "stderr",
     "output_type": "stream",
     "text": [
      "/home/pdmishr/.local/lib/python3.10/site-packages/sklearn/metrics/_regression.py:492: FutureWarning: 'squared' is deprecated in version 1.4 and will be removed in 1.6. To calculate the root mean squared error, use the function'root_mean_squared_error'.\n",
      "  warnings.warn(\n"
     ]
    }
   ],
   "source": [
    "from sklearn.metrics import mean_squared_error, mean_absolute_error\n",
    "import numpy as np\n",
    "\n",
    "# Step 1: Use the correct DataFrame\n",
    "df = transformed_df  # make sure this is defined in your notebook\n",
    "\n",
    "# Step 2: Filter only rows with complete data for evaluation\n",
    "valid_rows = df.dropna(subset=[f\"actual_day_{i}_original\" for i in range(1, 9)] +\n",
    "                             [f\"pred_day_{i}_original\" for i in range(1, 9)])\n",
    "\n",
    "# Step 3: Flatten predictions and actuals\n",
    "y_true, y_pred = [], []\n",
    "for _, row in valid_rows.iterrows():\n",
    "    for i in range(1, 9):\n",
    "        y_true.append(row[f\"actual_day_{i}_original\"])\n",
    "        y_pred.append(row[f\"pred_day_{i}_original\"])\n",
    "\n",
    "# Step 4: Calculate metrics\n",
    "y_true = np.array(y_true)\n",
    "y_pred = np.array(y_pred)\n",
    "\n",
    "mae = mean_absolute_error(y_true, y_pred)\n",
    "rmse = mean_squared_error(y_true, y_pred, squared=False)\n",
    "quantile_loss_q50 = np.mean(np.maximum(0.5 * (y_true - y_pred), (0.5 - 1) * (y_true - y_pred)))\n",
    "\n",
    "# Step 5: Output results\n",
    "print(\"📊 Evaluation Metrics (Original Scale):\")\n",
    "print(f\"MAE:           {mae:.2f}\")\n",
    "print(f\"RMSE:          {rmse:.2f}\")\n",
    "print(f\"Quantile Loss: {quantile_loss_q50:.2f}\")\n"
   ]
  },
  {
   "cell_type": "code",
   "execution_count": null,
   "id": "78abb499-8192-4222-af5f-d844a1fabda9",
   "metadata": {},
   "outputs": [],
   "source": []
  }
 ],
 "metadata": {
  "kernelspec": {
   "display_name": "Python 3 (ipykernel)",
   "language": "python",
   "name": "python3"
  },
  "language_info": {
   "codemirror_mode": {
    "name": "ipython",
    "version": 3
   },
   "file_extension": ".py",
   "mimetype": "text/x-python",
   "name": "python",
   "nbconvert_exporter": "python",
   "pygments_lexer": "ipython3",
   "version": "3.10.10"
  }
 },
 "nbformat": 4,
 "nbformat_minor": 5
}
