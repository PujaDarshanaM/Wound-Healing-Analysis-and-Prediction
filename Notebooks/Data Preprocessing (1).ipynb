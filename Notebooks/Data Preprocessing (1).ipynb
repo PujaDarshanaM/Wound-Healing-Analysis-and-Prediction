{
 "cells": [
  {
   "cell_type": "markdown",
   "id": "3f14dc5a-063c-48e4-aa15-364ba07bcfd0",
   "metadata": {},
   "source": [
    "# **Data Preparation**"
   ]
  },
  {
   "cell_type": "markdown",
   "id": "6ef4a72f-07f1-4acc-81ba-aad719656002",
   "metadata": {},
   "source": [
    "## **Exploring the data**"
   ]
  },
  {
   "cell_type": "markdown",
   "id": "4b55ef43-3cb8-4f4c-871a-9179193ad0fb",
   "metadata": {},
   "source": [
    "### **Dataset 1** \n",
    "This data frame describes various measurements taken at the falicity like the Braden Scale Score, Moisture and other recorded factors."
   ]
  },
  {
   "cell_type": "code",
   "execution_count": 1,
   "id": "f3abc5de-db19-4ac6-8e8b-fc39f4a110e9",
   "metadata": {},
   "outputs": [
    {
     "name": "stdout",
     "output_type": "stream",
     "text": [
      "   flo_meas_id                     FLO_MEAS_NAME                    DISP_NAME  \\\n",
      "0        16073  R WOUND EHC PRESENT ON ADMISSION  Wound Present on Admission?   \n",
      "1       305180         R SKIN BRADEN SCALE SCORE           Braden Scale Score   \n",
      "2       305130      R SKIN BRADEN SCALE MOISTURE                     Moisture   \n",
      "3       305180         R SKIN BRADEN SCALE SCORE           Braden Scale Score   \n",
      "4       305130      R SKIN BRADEN SCALE MOISTURE                     Moisture   \n",
      "\n",
      "  MEAS_VALUE  empi_nbr_anon         csn_anon   RECORDED_TIME_anon  \n",
      "0        Yes       42470763  410803377446197  2022-10-02 00:01:00  \n",
      "1         14       42470763  410803377446197  2023-01-02 09:00:00  \n",
      "2          3       42470763  410803377446197  2023-01-02 21:00:00  \n",
      "3         14       42470763  410803377446197  2023-01-03 09:08:00  \n",
      "4          3       42470763  410803377446197  2023-01-03 20:01:00  \n"
     ]
    }
   ],
   "source": [
    "\n",
    "import pandas as pd\n",
    "\n",
    "df = pd.read_csv('Data/wounds/deidentified/JG_Wound_Flowsheet_ANON.csv')\n",
    "print(df.head())\n"
   ]
  },
  {
   "cell_type": "code",
   "execution_count": 7,
   "id": "5e8d18a4-7d55-40ec-9ec7-9d62507028aa",
   "metadata": {},
   "outputs": [
    {
     "name": "stdout",
     "output_type": "stream",
     "text": [
      "Number of unique values in 'empi_nbr_anon': 202582\n"
     ]
    }
   ],
   "source": [
    "unique_count = df['empi_nbr_anon'].nunique()\n",
    "print(f\"Number of unique values in 'empi_nbr_anon': {unique_count}\")\n",
    "\n"
   ]
  },
  {
   "cell_type": "code",
   "execution_count": 8,
   "id": "4a3b9bcc-1f85-4653-a360-f08bcd06978c",
   "metadata": {},
   "outputs": [
    {
     "name": "stdout",
     "output_type": "stream",
     "text": [
      "Index(['flo_meas_id', 'FLO_MEAS_NAME', 'DISP_NAME', 'MEAS_VALUE',\n",
      "       'empi_nbr_anon', 'csn_anon', 'RECORDED_TIME_anon'],\n",
      "      dtype='object')\n"
     ]
    }
   ],
   "source": [
    "\n",
    "print(df.columns)"
   ]
  },
  {
   "cell_type": "markdown",
   "id": "f1b9c788-00da-4474-8310-f1e3e83fb50a",
   "metadata": {},
   "source": [
    "### **Dataset 2**\n",
    "This describes the associated comorbities related to the patient."
   ]
  },
  {
   "cell_type": "code",
   "execution_count": 9,
   "id": "61bf0bd2-283f-4d9b-af77-3230ad88f641",
   "metadata": {
    "collapsed": true,
    "jupyter": {
     "outputs_hidden": true
    },
    "scrolled": true
   },
   "outputs": [
    {
     "name": "stdout",
     "output_type": "stream",
     "text": [
      "    dx_id                                            DX_NAME  \\\n",
      "0       4                               Cholera, unspecified   \n",
      "1       6                                      Typhoid fever   \n",
      "2       6                                      Typhoid fever   \n",
      "3       6                                      Typhoid fever   \n",
      "4       6                                      Typhoid fever   \n",
      "5      12                         Salmonella gastroenteritis   \n",
      "6      12                         Salmonella gastroenteritis   \n",
      "7      12                         Salmonella gastroenteritis   \n",
      "8      12                         Salmonella gastroenteritis   \n",
      "9      13                    Salmonella septicemia (CMS-HCC)   \n",
      "10     18                     Salmonella arthritis (CMS-HCC)   \n",
      "11     18                     Salmonella arthritis (CMS-HCC)   \n",
      "12     19                 Salmonella osteomyelitis (CMS-HCC)   \n",
      "13     21              Other specified Salmonella infections   \n",
      "14     44                               Amebic liver abscess   \n",
      "15     46                               Amebic brain abscess   \n",
      "16     46                               Amebic brain abscess   \n",
      "17     51                                      Balantidiasis   \n",
      "18     51                                      Balantidiasis   \n",
      "19     52                                         Giardiasis   \n",
      "20     52                                         Giardiasis   \n",
      "21     52                                         Giardiasis   \n",
      "22     52                                         Giardiasis   \n",
      "23     52                                         Giardiasis   \n",
      "24     52                                         Giardiasis   \n",
      "25     52                                         Giardiasis   \n",
      "26     52                                         Giardiasis   \n",
      "27     52                                         Giardiasis   \n",
      "28     53                                        Coccidiosis   \n",
      "29     53                                        Coccidiosis   \n",
      "30     55                        Cryptosporidiosis (CMS-HCC)   \n",
      "31     55                        Cryptosporidiosis (CMS-HCC)   \n",
      "32     55                        Cryptosporidiosis (CMS-HCC)   \n",
      "33     55                        Cryptosporidiosis (CMS-HCC)   \n",
      "34     56                                     Cyclosporiasis   \n",
      "35     56                                     Cyclosporiasis   \n",
      "36     62  Intestinal infection due to enteropathogenic E...   \n",
      "37     62  Intestinal infection due to enteropathogenic E...   \n",
      "38     68   Intestinal infection due to Aerobacter aerogenes   \n",
      "39     73          Intestinal infection due to campylobacter   \n",
      "40     75  Intestinal infection due to Clostridium difficile   \n",
      "41     75  Intestinal infection due to Clostridium difficile   \n",
      "42     75  Intestinal infection due to Clostridium difficile   \n",
      "43     75  Intestinal infection due to Clostridium difficile   \n",
      "44     75  Intestinal infection due to Clostridium difficile   \n",
      "45     81                         Enteritis due to Rotavirus   \n",
      "46     88                              Other viral enteritis   \n",
      "47     88                              Other viral enteritis   \n",
      "48     88                              Other viral enteritis   \n",
      "49     88                              Other viral enteritis   \n",
      "\n",
      "   CURRENT_ICD10_LIST    empi_nbr_anon FIRST_DATE_anon LAST_DATE_anon  \n",
      "0               A00.9         28476181      2025-05-14            NaN  \n",
      "1              A01.00         69731277      2023-02-26     2025-04-23  \n",
      "2              A01.00  991133170787925      2023-08-11            NaN  \n",
      "3              A01.00   26725599870548      2024-02-01     2025-03-19  \n",
      "4              A01.00  749958716290173      2024-06-27     2025-01-09  \n",
      "5               A02.0         29699977      2022-07-18     2024-10-29  \n",
      "6               A02.0         53499918      2024-10-05            NaN  \n",
      "7               A02.0         17833048      2024-05-14     2024-05-14  \n",
      "8               A02.0  348540018182935      2024-07-06     2024-07-19  \n",
      "9               A02.1         82914789      2023-07-05     2023-07-05  \n",
      "10             A02.23         23200845      2021-05-04     2025-08-19  \n",
      "11             A02.23         84042483      2019-06-11     2019-06-11  \n",
      "12             A02.24  399523621569204      2023-06-04     2023-06-04  \n",
      "13              A02.8         78344600      2023-07-23     2025-06-19  \n",
      "14              A06.4  833444251065896      2024-07-01            NaN  \n",
      "15              A06.6  866337714138486      2021-02-22     2021-02-22  \n",
      "16              A06.6  277533129288449      2022-06-30     2022-06-30  \n",
      "17              A07.0   52729068558886      2024-04-12            NaN  \n",
      "18              A07.0         52290402      2024-09-13     2024-09-13  \n",
      "19              A07.1         22018492      2023-12-15     2024-12-27  \n",
      "20              A07.1         64008646      2023-01-23     2023-01-24  \n",
      "21              A07.1         34971255      2025-04-07     2025-04-12  \n",
      "22              A07.1         24454887      2024-02-02     2024-02-02  \n",
      "23              A07.1         70046298      2023-06-08     2023-06-12  \n",
      "24              A07.1         66996085      2023-10-31     2023-10-31  \n",
      "25              A07.1         82196344      2025-01-27     2025-01-28  \n",
      "26              A07.1  777902727967984      2023-04-11     2023-07-19  \n",
      "27              A07.1  519616908605733      2024-02-01            NaN  \n",
      "28              A07.3  132329878957260      2024-02-13     2024-09-28  \n",
      "29              A07.3  834178173326610      2023-06-27     2023-07-28  \n",
      "30              A07.2         65610483      2023-08-25     2023-08-25  \n",
      "31              A07.2         20484076      2017-02-27            NaN  \n",
      "32              A07.2         35523867      2023-01-16            NaN  \n",
      "33              A07.2         45255781      2023-02-11            NaN  \n",
      "34              A07.4         12401174      2023-07-05     2023-07-05  \n",
      "35              A07.4         96065840      2023-06-13     2023-06-13  \n",
      "36              A04.0  162523153697944      2024-04-09     2024-04-12  \n",
      "37              A04.0         72384578      2023-01-13     2023-01-13  \n",
      "38              A04.8  805753811489049      2023-01-07     2023-01-21  \n",
      "39              A04.5         87441860      2023-12-22     2023-12-22  \n",
      "40             A04.72         89303515      2022-10-24     2022-10-31  \n",
      "41             A04.72         72621784      2023-04-28     2025-01-30  \n",
      "42             A04.72         84675558      2023-01-25            NaN  \n",
      "43             A04.72         53160159      2024-08-29     2024-08-29  \n",
      "44             A04.72  805760210577755      2024-01-03     2024-02-26  \n",
      "45              A08.0  641624426963414      2024-03-14     2024-10-18  \n",
      "46             A08.39         43246520      2023-04-02            NaN  \n",
      "47             A08.39  982331409636972      2023-03-02            NaN  \n",
      "48             A08.39  227822092313298      2022-04-17     2024-09-13  \n",
      "49             A08.39  938972685804447      2024-04-19     2024-05-07  \n"
     ]
    }
   ],
   "source": [
    "import pandas as pd\n",
    "\n",
    "df_1= pd.read_csv('Data/wounds/deidentified/JG_Wounds_Dx_ANON.csv')\n",
    "print(df_1.head(50))\n"
   ]
  },
  {
   "cell_type": "code",
   "execution_count": 10,
   "id": "400bff31-fa5a-4bda-b317-c0ab2aaacc3f",
   "metadata": {
    "scrolled": true
   },
   "outputs": [
    {
     "name": "stdout",
     "output_type": "stream",
     "text": [
      "Number of unique values in 'empi_nbr_anon': 205080\n"
     ]
    }
   ],
   "source": [
    "unique_count = df_1['empi_nbr_anon'].nunique()\n",
    "print(f\"Number of unique values in 'empi_nbr_anon': {unique_count}\")"
   ]
  },
  {
   "cell_type": "code",
   "execution_count": 11,
   "id": "9d5fe87e-bee8-4658-814b-29acec806eaf",
   "metadata": {},
   "outputs": [
    {
     "name": "stdout",
     "output_type": "stream",
     "text": [
      "Index(['dx_id', 'DX_NAME', 'CURRENT_ICD10_LIST', 'empi_nbr_anon',\n",
      "       'FIRST_DATE_anon', 'LAST_DATE_anon'],\n",
      "      dtype='object')\n",
      "(13440986, 6)\n"
     ]
    }
   ],
   "source": [
    "print(df_1.columns)\n",
    "print(df_1.shape)"
   ]
  },
  {
   "cell_type": "markdown",
   "id": "575c95eb-a7d7-4877-b252-03c3c7c365c6",
   "metadata": {},
   "source": [
    "### **Dataset 3**\n",
    "This describes the various lab procedures undergone by the patient at the facility"
   ]
  },
  {
   "cell_type": "code",
   "execution_count": 12,
   "id": "ed9164fe-d892-4157-a736-9478c83643fe",
   "metadata": {
    "collapsed": true,
    "jupyter": {
     "outputs_hidden": true
    }
   },
   "outputs": [
    {
     "name": "stdout",
     "output_type": "stream",
     "text": [
      "   proc_cat_id         proc_cat_name  proc_code   proc_desc  component_id  \\\n",
      "0            6  LAB URINE ORDERABLES        NaN  URINALYSIS           548   \n",
      "1            6  LAB URINE ORDERABLES        NaN  URINALYSIS           548   \n",
      "2            6  LAB URINE ORDERABLES        NaN  URINALYSIS           548   \n",
      "3            6  LAB URINE ORDERABLES        NaN  URINALYSIS           548   \n",
      "4            6  LAB URINE ORDERABLES        NaN  URINALYSIS           548   \n",
      "\n",
      "                  component loinc_code result_status lab_result  \\\n",
      "0  Ketone Urine Qualitative        NaN      Verified      Trace   \n",
      "1  Ketone Urine Qualitative        NaN      Verified   Negative   \n",
      "2  Ketone Urine Qualitative        NaN      Verified        Neg   \n",
      "3  Ketone Urine Qualitative        NaN      Verified   Negative   \n",
      "4  Ketone Urine Qualitative        NaN      Verified        Neg   \n",
      "\n",
      "   empi_nbr_anon         csn_anon collection_time_anon lab_result_time_anon  \n",
      "0       23144843  170498272866611  2024-12-01 10:52:00  2024-12-02 17:29:00  \n",
      "1       96063308  217254439892888  2024-05-18 21:39:00  2024-05-19 02:21:00  \n",
      "2       20695236  238807816006235  2023-01-19 16:32:00  2023-01-20 11:41:00  \n",
      "3       86642518  650831449636331  2023-06-11 06:14:00  2023-06-11 09:44:00  \n",
      "4       23810185  632900061273840  2023-12-27 15:28:00  2023-12-28 13:02:00  \n",
      "Index(['proc_cat_id', 'proc_cat_name', 'proc_code', 'proc_desc',\n",
      "       'component_id', 'component', 'loinc_code', 'result_status',\n",
      "       'lab_result', 'empi_nbr_anon', 'csn_anon', 'collection_time_anon',\n",
      "       'lab_result_time_anon'],\n",
      "      dtype='object')\n"
     ]
    }
   ],
   "source": [
    "import pandas as pd\n",
    "\n",
    "df_2 = pd.read_csv('Data/wounds/deidentified/JG_Wounds_Labs_ANON.csv', low_memory=False)\n",
    "print (df_2.head())\n",
    "print(df_2.columns)\n"
   ]
  },
  {
   "cell_type": "code",
   "execution_count": 13,
   "id": "46be52c9-4ed3-4c15-8e78-aee4813ff9a5",
   "metadata": {},
   "outputs": [
    {
     "name": "stdout",
     "output_type": "stream",
     "text": [
      "(10634068, 13)\n",
      "38640\n"
     ]
    }
   ],
   "source": [
    "print(df_2.shape)\n",
    "print(df_2['empi_nbr_anon'].nunique())"
   ]
  },
  {
   "cell_type": "code",
   "execution_count": 14,
   "id": "6e9edfc1-957d-4c57-93ef-bed401573049",
   "metadata": {
    "scrolled": true
   },
   "outputs": [
    {
     "data": {
      "text/html": [
       "<div>\n",
       "<style scoped>\n",
       "    .dataframe tbody tr th:only-of-type {\n",
       "        vertical-align: middle;\n",
       "    }\n",
       "\n",
       "    .dataframe tbody tr th {\n",
       "        vertical-align: top;\n",
       "    }\n",
       "\n",
       "    .dataframe thead th {\n",
       "        text-align: right;\n",
       "    }\n",
       "</style>\n",
       "<table border=\"1\" class=\"dataframe\">\n",
       "  <thead>\n",
       "    <tr style=\"text-align: right;\">\n",
       "      <th></th>\n",
       "      <th>proc_cat_id</th>\n",
       "      <th>proc_cat_name</th>\n",
       "      <th>proc_code</th>\n",
       "      <th>proc_desc</th>\n",
       "      <th>component_id</th>\n",
       "      <th>component</th>\n",
       "      <th>loinc_code</th>\n",
       "      <th>result_status</th>\n",
       "      <th>lab_result</th>\n",
       "      <th>empi_nbr_anon</th>\n",
       "      <th>csn_anon</th>\n",
       "      <th>collection_time_anon</th>\n",
       "      <th>lab_result_time_anon</th>\n",
       "    </tr>\n",
       "  </thead>\n",
       "  <tbody>\n",
       "    <tr>\n",
       "      <th>990</th>\n",
       "      <td>6</td>\n",
       "      <td>LAB URINE ORDERABLES</td>\n",
       "      <td>NaN</td>\n",
       "      <td>URINE CULTURE C&amp;S + COLONY COUNT IF ABNORMAL U...</td>\n",
       "      <td>194</td>\n",
       "      <td>Mucus/LPF</td>\n",
       "      <td>NaN</td>\n",
       "      <td>Verified</td>\n",
       "      <td>1+</td>\n",
       "      <td>30710794</td>\n",
       "      <td>301672288157198</td>\n",
       "      <td>2023-08-24 03:22:00</td>\n",
       "      <td>2023-08-25 12:38:00</td>\n",
       "    </tr>\n",
       "    <tr>\n",
       "      <th>991</th>\n",
       "      <td>6</td>\n",
       "      <td>LAB URINE ORDERABLES</td>\n",
       "      <td>NaN</td>\n",
       "      <td>URINE CULTURE C&amp;S + COLONY COUNT IF ABNORMAL U...</td>\n",
       "      <td>194</td>\n",
       "      <td>Mucus/LPF</td>\n",
       "      <td>NaN</td>\n",
       "      <td>Verified</td>\n",
       "      <td>1+</td>\n",
       "      <td>41364621</td>\n",
       "      <td>646100159148787</td>\n",
       "      <td>2023-11-01 00:51:00</td>\n",
       "      <td>2023-11-01 11:11:00</td>\n",
       "    </tr>\n",
       "    <tr>\n",
       "      <th>992</th>\n",
       "      <td>6</td>\n",
       "      <td>LAB URINE ORDERABLES</td>\n",
       "      <td>NaN</td>\n",
       "      <td>URINE CULTURE C&amp;S + COLONY COUNT IF ABNORMAL U...</td>\n",
       "      <td>194</td>\n",
       "      <td>Mucus/LPF</td>\n",
       "      <td>NaN</td>\n",
       "      <td>Verified</td>\n",
       "      <td>1+</td>\n",
       "      <td>94693756</td>\n",
       "      <td>562140886434215</td>\n",
       "      <td>2023-03-10 11:27:00</td>\n",
       "      <td>2023-03-11 13:00:00</td>\n",
       "    </tr>\n",
       "    <tr>\n",
       "      <th>993</th>\n",
       "      <td>6</td>\n",
       "      <td>LAB URINE ORDERABLES</td>\n",
       "      <td>NaN</td>\n",
       "      <td>URINE CULTURE C&amp;S + COLONY COUNT IF ABNORMAL U...</td>\n",
       "      <td>194</td>\n",
       "      <td>Mucus/LPF</td>\n",
       "      <td>NaN</td>\n",
       "      <td>Preliminary</td>\n",
       "      <td>1+</td>\n",
       "      <td>42255687</td>\n",
       "      <td>180108752970167</td>\n",
       "      <td>2023-10-27 00:23:00</td>\n",
       "      <td>2023-10-27 04:21:00</td>\n",
       "    </tr>\n",
       "    <tr>\n",
       "      <th>994</th>\n",
       "      <td>6</td>\n",
       "      <td>LAB URINE ORDERABLES</td>\n",
       "      <td>NaN</td>\n",
       "      <td>URINE CULTURE C&amp;S + COLONY COUNT IF ABNORMAL U...</td>\n",
       "      <td>194</td>\n",
       "      <td>Mucus/LPF</td>\n",
       "      <td>NaN</td>\n",
       "      <td>Preliminary</td>\n",
       "      <td>1+</td>\n",
       "      <td>66096538</td>\n",
       "      <td>445163568760050</td>\n",
       "      <td>2022-11-17 03:03:00</td>\n",
       "      <td>2022-11-17 11:15:00</td>\n",
       "    </tr>\n",
       "    <tr>\n",
       "      <th>995</th>\n",
       "      <td>6</td>\n",
       "      <td>LAB URINE ORDERABLES</td>\n",
       "      <td>NaN</td>\n",
       "      <td>URINE CULTURE C&amp;S + COLONY COUNT IF ABNORMAL U...</td>\n",
       "      <td>194</td>\n",
       "      <td>Mucus/LPF</td>\n",
       "      <td>NaN</td>\n",
       "      <td>Verified</td>\n",
       "      <td>1+</td>\n",
       "      <td>97197560</td>\n",
       "      <td>132080145535794</td>\n",
       "      <td>2024-01-12 04:34:00</td>\n",
       "      <td>2024-01-12 05:36:00</td>\n",
       "    </tr>\n",
       "    <tr>\n",
       "      <th>996</th>\n",
       "      <td>6</td>\n",
       "      <td>LAB URINE ORDERABLES</td>\n",
       "      <td>NaN</td>\n",
       "      <td>URINE CULTURE C&amp;S + COLONY COUNT IF ABNORMAL U...</td>\n",
       "      <td>194</td>\n",
       "      <td>Mucus/LPF</td>\n",
       "      <td>NaN</td>\n",
       "      <td>Verified</td>\n",
       "      <td>1+</td>\n",
       "      <td>76004621</td>\n",
       "      <td>841993653201248</td>\n",
       "      <td>2024-06-01 09:23:00</td>\n",
       "      <td>2024-06-01 09:49:00</td>\n",
       "    </tr>\n",
       "    <tr>\n",
       "      <th>997</th>\n",
       "      <td>6</td>\n",
       "      <td>LAB URINE ORDERABLES</td>\n",
       "      <td>NaN</td>\n",
       "      <td>URINE CULTURE C&amp;S + COLONY COUNT IF ABNORMAL U...</td>\n",
       "      <td>194</td>\n",
       "      <td>Mucus/LPF</td>\n",
       "      <td>NaN</td>\n",
       "      <td>Verified</td>\n",
       "      <td>1+</td>\n",
       "      <td>64635154</td>\n",
       "      <td>287921866121460</td>\n",
       "      <td>2024-03-29 01:35:00</td>\n",
       "      <td>2024-03-29 02:26:00</td>\n",
       "    </tr>\n",
       "    <tr>\n",
       "      <th>998</th>\n",
       "      <td>6</td>\n",
       "      <td>LAB URINE ORDERABLES</td>\n",
       "      <td>NaN</td>\n",
       "      <td>URINALYSIS</td>\n",
       "      <td>194</td>\n",
       "      <td>Mucus/LPF</td>\n",
       "      <td>NaN</td>\n",
       "      <td>Preliminary</td>\n",
       "      <td>OCC</td>\n",
       "      <td>87985823</td>\n",
       "      <td>842578812531900</td>\n",
       "      <td>2024-04-06 10:32:00</td>\n",
       "      <td>2024-04-09 17:01:00</td>\n",
       "    </tr>\n",
       "    <tr>\n",
       "      <th>999</th>\n",
       "      <td>6</td>\n",
       "      <td>LAB URINE ORDERABLES</td>\n",
       "      <td>NaN</td>\n",
       "      <td>URINALYSIS</td>\n",
       "      <td>194</td>\n",
       "      <td>Mucus/LPF</td>\n",
       "      <td>NaN</td>\n",
       "      <td>Preliminary</td>\n",
       "      <td>RARE</td>\n",
       "      <td>66869737</td>\n",
       "      <td>532062616577791</td>\n",
       "      <td>2025-01-15 17:56:00</td>\n",
       "      <td>2025-01-19 21:01:00</td>\n",
       "    </tr>\n",
       "  </tbody>\n",
       "</table>\n",
       "</div>"
      ],
      "text/plain": [
       "     proc_cat_id         proc_cat_name  proc_code  \\\n",
       "990            6  LAB URINE ORDERABLES        NaN   \n",
       "991            6  LAB URINE ORDERABLES        NaN   \n",
       "992            6  LAB URINE ORDERABLES        NaN   \n",
       "993            6  LAB URINE ORDERABLES        NaN   \n",
       "994            6  LAB URINE ORDERABLES        NaN   \n",
       "995            6  LAB URINE ORDERABLES        NaN   \n",
       "996            6  LAB URINE ORDERABLES        NaN   \n",
       "997            6  LAB URINE ORDERABLES        NaN   \n",
       "998            6  LAB URINE ORDERABLES        NaN   \n",
       "999            6  LAB URINE ORDERABLES        NaN   \n",
       "\n",
       "                                             proc_desc  component_id  \\\n",
       "990  URINE CULTURE C&S + COLONY COUNT IF ABNORMAL U...           194   \n",
       "991  URINE CULTURE C&S + COLONY COUNT IF ABNORMAL U...           194   \n",
       "992  URINE CULTURE C&S + COLONY COUNT IF ABNORMAL U...           194   \n",
       "993  URINE CULTURE C&S + COLONY COUNT IF ABNORMAL U...           194   \n",
       "994  URINE CULTURE C&S + COLONY COUNT IF ABNORMAL U...           194   \n",
       "995  URINE CULTURE C&S + COLONY COUNT IF ABNORMAL U...           194   \n",
       "996  URINE CULTURE C&S + COLONY COUNT IF ABNORMAL U...           194   \n",
       "997  URINE CULTURE C&S + COLONY COUNT IF ABNORMAL U...           194   \n",
       "998                                         URINALYSIS           194   \n",
       "999                                         URINALYSIS           194   \n",
       "\n",
       "     component loinc_code result_status lab_result  empi_nbr_anon  \\\n",
       "990  Mucus/LPF        NaN      Verified         1+       30710794   \n",
       "991  Mucus/LPF        NaN      Verified         1+       41364621   \n",
       "992  Mucus/LPF        NaN      Verified         1+       94693756   \n",
       "993  Mucus/LPF        NaN   Preliminary         1+       42255687   \n",
       "994  Mucus/LPF        NaN   Preliminary         1+       66096538   \n",
       "995  Mucus/LPF        NaN      Verified         1+       97197560   \n",
       "996  Mucus/LPF        NaN      Verified         1+       76004621   \n",
       "997  Mucus/LPF        NaN      Verified         1+       64635154   \n",
       "998  Mucus/LPF        NaN   Preliminary        OCC       87985823   \n",
       "999  Mucus/LPF        NaN   Preliminary       RARE       66869737   \n",
       "\n",
       "            csn_anon collection_time_anon lab_result_time_anon  \n",
       "990  301672288157198  2023-08-24 03:22:00  2023-08-25 12:38:00  \n",
       "991  646100159148787  2023-11-01 00:51:00  2023-11-01 11:11:00  \n",
       "992  562140886434215  2023-03-10 11:27:00  2023-03-11 13:00:00  \n",
       "993  180108752970167  2023-10-27 00:23:00  2023-10-27 04:21:00  \n",
       "994  445163568760050  2022-11-17 03:03:00  2022-11-17 11:15:00  \n",
       "995  132080145535794  2024-01-12 04:34:00  2024-01-12 05:36:00  \n",
       "996  841993653201248  2024-06-01 09:23:00  2024-06-01 09:49:00  \n",
       "997  287921866121460  2024-03-29 01:35:00  2024-03-29 02:26:00  \n",
       "998  842578812531900  2024-04-06 10:32:00  2024-04-09 17:01:00  \n",
       "999  532062616577791  2025-01-15 17:56:00  2025-01-19 21:01:00  "
      ]
     },
     "execution_count": 14,
     "metadata": {},
     "output_type": "execute_result"
    }
   ],
   "source": [
    "df_2.iloc[990:1000]"
   ]
  },
  {
   "cell_type": "markdown",
   "id": "4b55977a-ca5d-4fe2-824b-ac30eebb3b5d",
   "metadata": {},
   "source": [
    "### **Dataset 4**\n",
    "Describes the demographics of the patient"
   ]
  },
  {
   "cell_type": "code",
   "execution_count": 16,
   "id": "ac075718-f0c4-4de1-9b23-5e465eec86c0",
   "metadata": {},
   "outputs": [
    {
     "name": "stdout",
     "output_type": "stream",
     "text": [
      "   gender         race                                  ethnicity  \\\n",
      "0    Male        White  Not Hispanic, Latino/a, or Spanish origin   \n",
      "1  Female        White  Not Hispanic, Latino/a, or Spanish origin   \n",
      "2    Male      Unknown                                    Unknown   \n",
      "3    Male  Other Asian  Not Hispanic, Latino/a, or Spanish origin   \n",
      "4  Female        White  Not Hispanic, Latino/a, or Spanish origin   \n",
      "\n",
      "   pat_mrn_id_anon    dob_anon death_date_anon  \n",
      "0   39701943567486  1957-04-20             NaN  \n",
      "1         44229492  1950-06-29             NaN  \n",
      "2  676571164158529  1950-09-04             NaN  \n",
      "3  289951627827261  1981-02-07             NaN  \n",
      "4  649654067432025  1975-04-24             NaN  \n",
      "Index(['gender', 'race', 'ethnicity', 'pat_mrn_id_anon', 'dob_anon',\n",
      "       'death_date_anon'],\n",
      "      dtype='object')\n"
     ]
    }
   ],
   "source": [
    "\n",
    "df_3 = pd.read_csv('Data/wounds/deidentified/JG_Wound_Demo_ANON.csv')\n",
    "print(df_3.head())\n",
    "print(df_3.columns)"
   ]
  },
  {
   "cell_type": "code",
   "execution_count": 18,
   "id": "7af301b3-0753-4d6e-aa71-6e32fcf7b98b",
   "metadata": {},
   "outputs": [
    {
     "name": "stdout",
     "output_type": "stream",
     "text": [
      "205083\n"
     ]
    }
   ],
   "source": [
    "print(df_3['pat_mrn_id_anon'].nunique())"
   ]
  },
  {
   "cell_type": "markdown",
   "id": "941f2d43-8b01-4996-bfb2-069a3aecd018",
   "metadata": {},
   "source": [
    "### **Dataset 5** \n",
    "This describes various temporal factors related to the patients.\n"
   ]
  },
  {
   "cell_type": "code",
   "execution_count": 62,
   "id": "f38bc013-bf63-4c1d-a12c-b2a5e7a27d8f",
   "metadata": {
    "collapsed": true,
    "jupyter": {
     "outputs_hidden": true
    },
    "scrolled": true
   },
   "outputs": [
    {
     "name": "stdout",
     "output_type": "stream",
     "text": [
      "Index(['RECORD_ID', 'REGISTRY_STATUS_C', 'LDA_ID', 'CM_PHY_OWNER_ID',\n",
      "       'CM_LOG_OWNER_ID', 'WOUND_TYPE_C', 'OUTCOME_C', 'DAYS_TO_HEAL',\n",
      "       'DAYS_TO_HEAL_OUTPAT', 'STAGE_INITIAL_C', 'STAGE_CURRENT_C',\n",
      "       'PRESENT_ON_ADMISSION_YN', 'INITIAL_DEPARTMENT_ID',\n",
      "       'PAT_AGE_YEARS_FIRST_ASSESS', 'LAST_OUTPAT_DEPARTMENT_ID',\n",
      "       'NUM_OUTPAT_HOV_VISITS', 'LAST_DISCH_DEPARTMENT_ID',\n",
      "       'LAST_HH_VISIT_DEPARTMENT_ID', 'NUM_HH_VISITS', 'PCT_VOLUME_HEALED',\n",
      "       'LAST_WOUND_AGE_DAYS', 'PCT_VOLUME_HEALED_4W', 'PCT_VOLUME_HEALED_8W',\n",
      "       'PCT_VOLUME_HEALED_12W', 'PCT_VOLUME_HEALED_16W',\n",
      "       'PCT_VOLUME_HEALED_20W', 'PCT_AREA_HEALED', 'PCT_AREA_HEALED_4W',\n",
      "       'PCT_AREA_HEALED_8W', 'PCT_AREA_HEALED_12W', 'PCT_AREA_HEALED_16W',\n",
      "       'PCT_AREA_HEALED_20W', 'LAST_OUTPAT_WOUND_AGE_DAYS',\n",
      "       'PCT_VOLUME_HEALED_OUTPAT', 'PCT_VOLUME_HEALED_4W_OUTPAT',\n",
      "       'PCT_VOLUME_HEALED_8W_OUTPAT', 'PCT_VOLUME_HEALED_12W_OUTPAT',\n",
      "       'PCT_VOLUME_HEALED_16W_OUTPAT', 'PCT_VOLUME_HEALED_20W_OUTPAT',\n",
      "       'PCT_AREA_HEALED_OUTPAT', 'PCT_AREA_HEALED_4W_OUTPAT',\n",
      "       'PCT_AREA_HEALED_8W_OUTPAT', 'PCT_AREA_HEALED_12W_OUTPAT',\n",
      "       'PCT_AREA_HEALED_16W_OUTPAT', 'PCT_AREA_HEALED_20W_OUTPAT',\n",
      "       'PCT_HEALED_LAST_ENC', 'LAST_APPROX_WOUND_AGE_DAYS',\n",
      "       'RESPONSIBLE_PROV_ID', 'ADDED_IN_ERROR_YN', 'ACQUIRED_CARE_SETTING_C',\n",
      "       'PLACED_ON_CUR_ADM_YN', 'PRESENT_ON_ADM_MOD_YN', 'WOUND_TYPE_GROUP_C',\n",
      "       'SECONDARY_WOUND_TYPE_C', 'WOUND_TYPE_INVALID_YN',\n",
      "       'MEDICAL_DEVICE_RELATED_YN', 'empi_nbr_anon', 'OUTCOME_DATE_anon',\n",
      "       'LAST_WOUND_ASSESS_DATE_anon', 'LAST_OUTPAT_VISIT_DATE_anon',\n",
      "       'LAST_ADM_DATE_anon', 'LAST_DISCH_DATE_anon',\n",
      "       'FIRST_HH_VISIT_DATE_anon', 'LAST_HH_VISIT_DATE_anon',\n",
      "       'FIRST_ASSESS_DATE_anon', 'FIRST_ASSESS_OUTPAT_DATE_anon'],\n",
      "      dtype='object')\n",
      "(490217, 66)\n"
     ]
    }
   ],
   "source": [
    "df_4= pd.read_csv('Data/wounds/deidentified/JG_DM_WOUNDS_ANON.csv')\n",
    "print(df_4.columns)\n",
    "print(df_4.shape)\n"
   ]
  },
  {
   "cell_type": "code",
   "execution_count": 63,
   "id": "8e101652-a9c0-4cb2-b6ce-2ff722ee43a9",
   "metadata": {},
   "outputs": [
    {
     "name": "stdout",
     "output_type": "stream",
     "text": [
      "Number of unique values in 'empi_nbr_anon df_4': 209285\n"
     ]
    }
   ],
   "source": [
    "unique_count = df_4['empi_nbr_anon'].nunique()\n",
    "print(f\"Number of unique values in 'empi_nbr_anon df_4': {unique_count}\")"
   ]
  },
  {
   "cell_type": "markdown",
   "id": "42ba978a-b78e-4423-8b9b-3a0a3ecc1e3d",
   "metadata": {
    "jp-MarkdownHeadingCollapsed": true
   },
   "source": [
    "### Check if all the columns have enough not null values and the data type"
   ]
  },
  {
   "cell_type": "code",
   "execution_count": 12,
   "id": "8903ba7b-5dcb-4d86-980d-0ecc1e1a5127",
   "metadata": {
    "collapsed": true,
    "jupyter": {
     "outputs_hidden": true
    }
   },
   "outputs": [
    {
     "name": "stdout",
     "output_type": "stream",
     "text": [
      " Non-null counts with data types:\n",
      "\n",
      "                    Non-Null Count Data Type\n",
      "flo_meas_id               48370271     int64\n",
      "FLO_MEAS_NAME             48370271    object\n",
      "DISP_NAME                 48370271    object\n",
      "empi_nbr_anon             48370271     int64\n",
      "csn_anon                  48370271     int64\n",
      "RECORDED_TIME_anon        48370269    object\n",
      "MEAS_VALUE                45828077    object\n",
      "\n",
      " Filtered dataset size: (48370271, 7)\n"
     ]
    }
   ],
   "source": [
    "import pandas as pd\n",
    "\n",
    "# Step 1: Select all columns\n",
    "columns_to_check = [col for col in df.columns]\n",
    "\n",
    "# Step 2: Create a DataFrame showing non-null counts and data types\n",
    "non_null_counts = df[columns_to_check].notna().sum()\n",
    "data_types = df[columns_to_check].dtypes\n",
    "\n",
    "summary = pd.DataFrame({\n",
    "    'Non-Null Count': non_null_counts,\n",
    "    'Data Type': data_types\n",
    "}).sort_values(by='Non-Null Count', ascending=False)\n",
    "\n",
    "print(\" Non-null counts with data types:\\n\")\n",
    "print(summary)\n",
    "\n",
    "# Step 3: Drop rows where all selected columns are null\n",
    "filtered_df = df[df[columns_to_check].notna().any(axis=1)]\n",
    "\n",
    "print(f\"\\n Filtered dataset size: {filtered_df.shape}\")\n"
   ]
  },
  {
   "cell_type": "code",
   "execution_count": 13,
   "id": "1e194ed8-61c6-4ce1-8173-d86c46b3107c",
   "metadata": {},
   "outputs": [
    {
     "name": "stdout",
     "output_type": "stream",
     "text": [
      "Value counts for FLo_Meas_Name:\n",
      "FLO_MEAS_NAME\n",
      "R WOUND SITE ASSESSMENT                                             5308977\n",
      "R PERI-WOUND ASSESSMENT                                             4583631\n",
      "R SKIN BRADEN SCALE SENSORY PERCEPTIONS                             3799547\n",
      "R SKIN BRADEN SCALE MOISTURE                                        3797162\n",
      "R SKIN BRADEN SCALE ACTIVITY                                        3796642\n",
      "                                                                     ...   \n",
      "CPM S24 R INVG ED GUNSHOT WOUND MANAGEMENT (PEDIATRIC)                    2\n",
      "R CONVERTED DEVICE TO WOUND DRAINAGE ONLY                                 2\n",
      "R $ EHC IP WOUND DEBRIDEMENT EA ADDL 20 SQ CM                             1\n",
      "R RHB OT ELECTRICAL STIMULATION UNATTENDED (MEDICARE, NON-WOUND)          1\n",
      "R NDNQI HAPI WOUND 1 UNIT ACQUIRED                                        1\n",
      "Name: count, Length: 97, dtype: int64\n",
      "\n",
      "Value counts for Disp_name:\n",
      "DISP_NAME\n",
      "Site Assessment                            5308977\n",
      "Peri-Wound Assessment                      4583631\n",
      "Sensory Perception                         3801400\n",
      "Moisture                                   3799008\n",
      "Out of Bed Activity                        3796642\n",
      "                                            ...   \n",
      "Debridement Area (cm^2)                          3\n",
      "Converted Device to Wound Drainage Only          2\n",
      "Stab Wound Management                            2\n",
      "$ Wound Debridement Each Addl 20 SQ CM           1\n",
      "HAPI Wound 1 Unit Acquired                       1\n",
      "Name: count, Length: 89, dtype: int64\n"
     ]
    }
   ],
   "source": [
    "print(\"Value counts for FLo_Meas_Name:\")\n",
    "print(df['FLO_MEAS_NAME'].value_counts(dropna=False))\n",
    "\n",
    "print(\"\\nValue counts for Disp_name:\")\n",
    "print(df['DISP_NAME'].value_counts(dropna=False))\n"
   ]
  },
  {
   "cell_type": "markdown",
   "id": "e2f02d20-0652-423c-a5f9-d472b2c9ee12",
   "metadata": {
    "jp-MarkdownHeadingCollapsed": true
   },
   "source": [
    "### DF_2"
   ]
  },
  {
   "cell_type": "code",
   "execution_count": 14,
   "id": "924bbb69-3d40-42d2-870b-a600f3c55649",
   "metadata": {},
   "outputs": [
    {
     "name": "stdout",
     "output_type": "stream",
     "text": [
      " Non-null counts with data types:\n",
      "\n",
      "                    Non-Null Count Data Type\n",
      "dx_id                     13440986     int64\n",
      "DX_NAME                   13440986    object\n",
      "empi_nbr_anon             13440986     int64\n",
      "CURRENT_ICD10_LIST        13440047    object\n",
      "FIRST_DATE_anon           13429539    object\n",
      "LAST_DATE_anon            12735272    object\n",
      "\n",
      " Filtered dataset size: (13440986, 6)\n"
     ]
    }
   ],
   "source": [
    "\n",
    "# Step 1: Select all columns\n",
    "columns_to_check = [col for col in df_1.columns]\n",
    "\n",
    "# Step 2: Create a DataFrame showing non-null counts and data types\n",
    "non_null_counts = df_1[columns_to_check].notna().sum()\n",
    "data_types = df_1[columns_to_check].dtypes\n",
    "\n",
    "summary = pd.DataFrame({\n",
    "    'Non-Null Count': non_null_counts,\n",
    "    'Data Type': data_types\n",
    "}).sort_values(by='Non-Null Count', ascending=False)\n",
    "\n",
    "print(\" Non-null counts with data types:\\n\")\n",
    "print(summary)\n",
    "\n",
    "# Step 3: Drop rows where all selected columns are null\n",
    "filtered_df_1 = df_1[df_1[columns_to_check].notna().any(axis=1)]\n",
    "\n",
    "print(f\"\\n Filtered dataset size: {filtered_df_1.shape}\")\n"
   ]
  },
  {
   "cell_type": "markdown",
   "id": "2b345d7b-f16b-46b4-be9e-713f6ffdf134",
   "metadata": {
    "jp-MarkdownHeadingCollapsed": true
   },
   "source": [
    "### DF_3"
   ]
  },
  {
   "cell_type": "code",
   "execution_count": 15,
   "id": "9b17f8c4-8a34-4778-bf25-d1e6a23d1ffa",
   "metadata": {},
   "outputs": [
    {
     "name": "stdout",
     "output_type": "stream",
     "text": [
      " Non-null counts with data types:\n",
      "\n",
      "                      Non-Null Count Data Type\n",
      "proc_cat_id                 10634068     int64\n",
      "proc_cat_name               10634068    object\n",
      "proc_desc                   10634068    object\n",
      "component_id                10634068     int64\n",
      "component                   10634068    object\n",
      "csn_anon                    10634068     int64\n",
      "result_status               10634068    object\n",
      "empi_nbr_anon               10634068     int64\n",
      "collection_time_anon        10634034    object\n",
      "lab_result                  10631586    object\n",
      "lab_result_time_anon        10314501    object\n",
      "loinc_code                      1631    object\n",
      "proc_code                          0   float64\n",
      "\n",
      " Filtered dataset size: (10634068, 13)\n"
     ]
    }
   ],
   "source": [
    "\n",
    "# Step 1: Select all columns\n",
    "columns_to_check = [col for col in df_2.columns]\n",
    "\n",
    "# Step 2: Create a DataFrame showing non-null counts and data types\n",
    "non_null_counts = df_2[columns_to_check].notna().sum()\n",
    "data_types = df_2[columns_to_check].dtypes\n",
    "\n",
    "summary = pd.DataFrame({\n",
    "    'Non-Null Count': non_null_counts,\n",
    "    'Data Type': data_types\n",
    "}).sort_values(by='Non-Null Count', ascending=False)\n",
    "\n",
    "print(\" Non-null counts with data types:\\n\")\n",
    "print(summary)\n",
    "\n",
    "# Step 3: Drop rows where all selected columns are null\n",
    "filtered_df_2 = df_2[df_2[columns_to_check].notna().any(axis=1)]\n",
    "\n",
    "print(f\"\\n Filtered dataset size: {filtered_df_2.shape}\")\n"
   ]
  },
  {
   "cell_type": "markdown",
   "id": "eb29ad60-0c7c-442a-bbdd-f593e4b3fb8f",
   "metadata": {},
   "source": [
    "### DF_4"
   ]
  },
  {
   "cell_type": "code",
   "execution_count": 16,
   "id": "12196c2e-fa94-487d-9e2a-9ebf1d459313",
   "metadata": {
    "collapsed": true,
    "jupyter": {
     "outputs_hidden": true,
     "source_hidden": true
    }
   },
   "outputs": [
    {
     "name": "stdout",
     "output_type": "stream",
     "text": [
      " Non-null counts with data types:\n",
      "\n",
      "                 Non-Null Count Data Type\n",
      "gender                   205083    object\n",
      "pat_mrn_id_anon          205083     int64\n",
      "dob_anon                 205082    object\n",
      "ethnicity                205051    object\n",
      "race                     205048    object\n",
      "death_date_anon            8688    object\n",
      "\n",
      " Filtered dataset size: (205083, 6)\n"
     ]
    }
   ],
   "source": [
    "\n",
    "# Step 1: Select all columns\n",
    "columns_to_check = [col for col in df_3.columns]\n",
    "\n",
    "# Step 2: Create a DataFrame showing non-null counts and data types\n",
    "non_null_counts = df_3[columns_to_check].notna().sum()\n",
    "data_types = df_3[columns_to_check].dtypes\n",
    "\n",
    "summary = pd.DataFrame({\n",
    "    'Non-Null Count': non_null_counts,\n",
    "    'Data Type': data_types\n",
    "}).sort_values(by='Non-Null Count', ascending=False)\n",
    "\n",
    "print(\" Non-null counts with data types:\\n\")\n",
    "print(summary)\n",
    "\n",
    "# Step 3: Drop rows where all selected columns are null\n",
    "filtered_df_3 = df_3[df_3[columns_to_check].notna().any(axis=1)]\n",
    "\n",
    "print(f\"\\n Filtered dataset size: {filtered_df_3.shape}\")\n"
   ]
  },
  {
   "cell_type": "markdown",
   "id": "d56d564d-db63-480a-9b05-17e21cada233",
   "metadata": {
    "jp-MarkdownHeadingCollapsed": true
   },
   "source": [
    "### DF_5"
   ]
  },
  {
   "cell_type": "code",
   "execution_count": 17,
   "id": "18d0a998-0fa6-41a3-b473-b01840109542",
   "metadata": {
    "jupyter": {
     "source_hidden": true
    },
    "scrolled": true
   },
   "outputs": [
    {
     "name": "stdout",
     "output_type": "stream",
     "text": [
      " Non-null counts (excluding ID columns):\n",
      "REGISTRY_STATUS_C                490217\n",
      "empi_nbr_anon                    490217\n",
      "NUM_HH_VISITS                    488114\n",
      "ADDED_IN_ERROR_YN                488114\n",
      "NUM_OUTPAT_HOV_VISITS            488114\n",
      "ACQUIRED_CARE_SETTING_C          486554\n",
      "PLACED_ON_CUR_ADM_YN             486554\n",
      "PRESENT_ON_ADM_MOD_YN            486554\n",
      "PAT_AGE_YEARS_FIRST_ASSESS       463955\n",
      "FIRST_ASSESS_DATE_anon           463955\n",
      "LAST_WOUND_AGE_DAYS              463620\n",
      "LAST_WOUND_ASSESS_DATE_anon      456429\n",
      "LAST_ADM_DATE_anon               390473\n",
      "LAST_DISCH_DATE_anon             389780\n",
      "WOUND_TYPE_INVALID_YN            279554\n",
      "WOUND_TYPE_C                     214669\n",
      "OUTCOME_DATE_anon                131992\n",
      "LAST_OUTPAT_VISIT_DATE_anon      118842\n",
      "FIRST_ASSESS_OUTPAT_DATE_anon    118842\n",
      "LAST_OUTPAT_WOUND_AGE_DAYS       118652\n",
      "OUTCOME_C                         56896\n",
      "PCT_HEALED_LAST_ENC               49268\n",
      "DAYS_TO_HEAL                      36837\n",
      "PCT_AREA_HEALED                   34316\n",
      "STAGE_CURRENT_C                   26022\n",
      "STAGE_INITIAL_C                   26022\n",
      "PCT_VOLUME_HEALED                 23989\n",
      "PCT_AREA_HEALED_4W                10874\n",
      "DAYS_TO_HEAL_OUTPAT               10738\n",
      "PCT_AREA_HEALED_OUTPAT            10435\n",
      "PCT_VOLUME_HEALED_OUTPAT           9751\n",
      "PCT_AREA_HEALED_8W                 9221\n",
      "PCT_AREA_HEALED_12W                8123\n",
      "PCT_VOLUME_HEALED_4W               7836\n",
      "PCT_AREA_HEALED_16W                7444\n",
      "LAST_APPROX_WOUND_AGE_DAYS         7200\n",
      "PCT_AREA_HEALED_20W                6985\n",
      "PCT_VOLUME_HEALED_8W               6881\n",
      "PCT_VOLUME_HEALED_12W              6190\n",
      "PCT_AREA_HEALED_4W_OUTPAT          6048\n",
      "PCT_VOLUME_HEALED_16W              5706\n",
      "PCT_VOLUME_HEALED_4W_OUTPAT        5504\n",
      "PCT_VOLUME_HEALED_20W              5332\n",
      "PCT_AREA_HEALED_8W_OUTPAT          5127\n",
      "PCT_VOLUME_HEALED_8W_OUTPAT        4716\n",
      "PCT_AREA_HEALED_12W_OUTPAT         4561\n",
      "PCT_VOLUME_HEALED_12W_OUTPAT       4224\n",
      "PCT_AREA_HEALED_16W_OUTPAT         4181\n",
      "PCT_AREA_HEALED_20W_OUTPAT         3904\n",
      "PCT_VOLUME_HEALED_16W_OUTPAT       3901\n",
      "PCT_VOLUME_HEALED_20W_OUTPAT       3672\n",
      "PRESENT_ON_ADMISSION_YN               0\n",
      "WOUND_TYPE_GROUP_C                    0\n",
      "MEDICAL_DEVICE_RELATED_YN             0\n",
      "SECONDARY_WOUND_TYPE_C                0\n",
      "LAST_HH_VISIT_DATE_anon               0\n",
      "FIRST_HH_VISIT_DATE_anon              0\n",
      "dtype: int64\n",
      "\n",
      " Filtered dataset size: (490217, 66)\n"
     ]
    }
   ],
   "source": [
    "import pandas as pd\n",
    "\n",
    "# === Step 1: Exclude columns that end with '_ID' ===\n",
    "columns_to_check = [col for col in df_4.columns if not col.endswith('_ID')]\n",
    "\n",
    "# === Step 2: Count non-null values per relevant column ===\n",
    "non_null_counts =df_4[columns_to_check].notna().sum().sort_values(ascending=False)\n",
    "\n",
    "print(\" Non-null counts (excluding ID columns):\")\n",
    "print(non_null_counts)\n",
    "\n",
    "# === Step 3: Drop rows where all those columns are null ===\n",
    "filtered_df_4 = df_4[df_4[columns_to_check].notna().any(axis=1)]\n",
    "\n",
    "print(f\"\\n Filtered dataset size: {filtered_df_4.shape}\")\n",
    "\n",
    "\n"
   ]
  },
  {
   "cell_type": "markdown",
   "id": "a8f45346-8fb4-4e6b-8ed0-42dce84e10d9",
   "metadata": {
    "jp-MarkdownHeadingCollapsed": true
   },
   "source": [
    "### Grouping according to the id -\"empi_nbr_anon\""
   ]
  },
  {
   "cell_type": "code",
   "execution_count": 21,
   "id": "ef2a3748-9f00-4bc1-8053-7606230ce94f",
   "metadata": {},
   "outputs": [
    {
     "name": "stdout",
     "output_type": "stream",
     "text": [
      "      flo_meas_id                            FLO_MEAS_NAME  \\\n",
      "1000       305120  R SKIN BRADEN SCALE SENSORY PERCEPTIONS   \n",
      "1001       303750                  R WOUND SITE ASSESSMENT   \n",
      "1002       305150             R SKIN BRADEN SCALE MOBILITY   \n",
      "1003       303750                  R WOUND SITE ASSESSMENT   \n",
      "1004      7061190                  R PERI-WOUND ASSESSMENT   \n",
      "1005       305170   R SKIN BRADEN SCALE FRICTION AND SHEAR   \n",
      "1006       305120  R SKIN BRADEN SCALE SENSORY PERCEPTIONS   \n",
      "1007   1570010000                 WOUND PRIMARY WOUND TYPE   \n",
      "1008       305150             R SKIN BRADEN SCALE MOBILITY   \n",
      "1009       303750                  R WOUND SITE ASSESSMENT   \n",
      "\n",
      "                  DISP_NAME MEAS_VALUE  empi_nbr_anon         csn_anon  \\\n",
      "1000     Sensory Perception          3       42470763  410803377446197   \n",
      "1001        Site Assessment        Dry       42470763  410803377446197   \n",
      "1002        In Bed Mobility          3       42470763  410803377446197   \n",
      "1003        Site Assessment  Clean;Dry       42470763  410803377446197   \n",
      "1004  Peri-Wound Assessment  Macerated       42470763  410803377446197   \n",
      "1005     Friction and Shear          2       42470763  410803377446197   \n",
      "1006     Sensory Perception          3       42470763  410803377446197   \n",
      "1007     Primary Wound Type     100000       42066881  961631696961608   \n",
      "1008        In Bed Mobility          1       42066881  961631696961608   \n",
      "1009        Site Assessment      Clean       42066881  961631696961608   \n",
      "\n",
      "       RECORDED_TIME_anon  \n",
      "1000  2023-02-01 06:54:00  \n",
      "1001  2023-02-01 09:00:00  \n",
      "1002  2023-02-01 09:00:00  \n",
      "1003  2023-02-01 15:03:00  \n",
      "1004  2023-02-01 15:03:00  \n",
      "1005  2023-02-01 19:00:00  \n",
      "1006  2023-02-02 09:00:00  \n",
      "1007  2022-03-23 00:01:00  \n",
      "1008  2022-06-23 11:00:00  \n",
      "1009  2022-06-23 13:44:00  \n"
     ]
    }
   ],
   "source": [
    "\n",
    "def group_and_sort_by_patient(df, id_col='empi_nbr_anon', time_col=None):\n",
    "   \n",
    "\n",
    "    if time_col and time_col in df.columns:\n",
    "        df[time_col] = pd.to_datetime(df[time_col])\n",
    "        df = df.sort_values(by=[id_col, time_col])\n",
    "    else:\n",
    "        df = df.sort_values(by=id_col)\n",
    "\n",
    "    print(f\"Shape: {df.shape}\")\n",
    "    print(f\"First few rows:\\n{df.head()}\")\n",
    "    \n",
    "    return df\n",
    "print(df.iloc[1000:1010])\n"
   ]
  },
  {
   "cell_type": "code",
   "execution_count": 22,
   "id": "acde8010-467d-423b-8d19-e378dbdcfa26",
   "metadata": {
    "scrolled": true
   },
   "outputs": [
    {
     "name": "stdout",
     "output_type": "stream",
     "text": [
      "      dx_id                                            DX_NAME  \\\n",
      "1000    738  Human immunodeficiency virus (HIV) disease (CM...   \n",
      "1001    738  Human immunodeficiency virus (HIV) disease (CM...   \n",
      "1002    738  Human immunodeficiency virus (HIV) disease (CM...   \n",
      "1003    795                      Herpes zoster with meningitis   \n",
      "1004    795                      Herpes zoster with meningitis   \n",
      "1005    804                 Herpes zoster keratoconjunctivitis   \n",
      "1006    804                 Herpes zoster keratoconjunctivitis   \n",
      "1007    804                 Herpes zoster keratoconjunctivitis   \n",
      "1008    804                 Herpes zoster keratoconjunctivitis   \n",
      "1009    805                        Herpes zoster iridocyclitis   \n",
      "\n",
      "     CURRENT_ICD10_LIST    empi_nbr_anon FIRST_DATE_anon LAST_DATE_anon  \n",
      "1000                B20         85189950      2019-12-03     2024-05-05  \n",
      "1001                B20         37253450      2023-04-24     2023-08-13  \n",
      "1002                B20         44451039      2022-09-28     2022-09-28  \n",
      "1003              B02.1         29597843      2023-08-01     2023-08-01  \n",
      "1004              B02.1         88507366      2023-01-14            NaN  \n",
      "1005             B02.33         29551162      2024-02-10            NaN  \n",
      "1006             B02.33         23716090      2022-12-25     2022-12-25  \n",
      "1007             B02.33  416054387639946      2025-01-16     2025-01-16  \n",
      "1008             B02.33  221696320857366      2022-11-27     2022-11-27  \n",
      "1009             B02.32         63492486      2024-02-04     2024-11-07  \n"
     ]
    }
   ],
   "source": [
    "def group_and_sort_by_patient(df_1, id_col='empi_nbr_anon', time_col=None):\n",
    "   \n",
    "\n",
    "    if time_col and time_col in df.columns:\n",
    "        df_1[time_col] = pd.to_datetime(df_1[time_col])\n",
    "        df_1 = df_1.sort_values(by=[id_col, time_col])\n",
    "    else:\n",
    "        df_1 = df_1.sort_values(by=id_col)\n",
    "\n",
    "    print(f\"Shape: {df_1.shape}\")\n",
    "    print(f\"First few rows:\\n{df_1.head()}\")\n",
    "    \n",
    "    return df_1\n",
    "print(df_1.iloc[1000:1010])"
   ]
  },
  {
   "cell_type": "code",
   "execution_count": 23,
   "id": "03b06d2d-e700-4068-9c62-6d6129fb6068",
   "metadata": {},
   "outputs": [
    {
     "name": "stdout",
     "output_type": "stream",
     "text": [
      "      proc_cat_id         proc_cat_name  proc_code  \\\n",
      "1000            6  LAB URINE ORDERABLES        NaN   \n",
      "1001            6  LAB URINE ORDERABLES        NaN   \n",
      "1002            6  LAB URINE ORDERABLES        NaN   \n",
      "1003            1  LAB BLOOD ORDERABLES        NaN   \n",
      "1004            1  LAB BLOOD ORDERABLES        NaN   \n",
      "1005            1  LAB BLOOD ORDERABLES        NaN   \n",
      "1006            1  LAB BLOOD ORDERABLES        NaN   \n",
      "1007            1  LAB BLOOD ORDERABLES        NaN   \n",
      "1008            1  LAB BLOOD ORDERABLES        NaN   \n",
      "1009            1  LAB BLOOD ORDERABLES        NaN   \n",
      "\n",
      "                                             proc_desc  component_id  \\\n",
      "1000                                        URINALYSIS           194   \n",
      "1001                                        URINALYSIS           194   \n",
      "1002                                        URINALYSIS           194   \n",
      "1003  URINE MICROSCOPIC WITH REFLEX TO CULTURE - NO UA           194   \n",
      "1004  URINE MICROSCOPIC WITH REFLEX TO CULTURE - NO UA           194   \n",
      "1005  URINE MICROSCOPIC WITH REFLEX TO CULTURE - NO UA           194   \n",
      "1006  URINE MICROSCOPIC WITH REFLEX TO CULTURE - NO UA           194   \n",
      "1007  URINE MICROSCOPIC WITH REFLEX TO CULTURE - NO UA           194   \n",
      "1008  URINE MICROSCOPIC WITH REFLEX TO CULTURE - NO UA           194   \n",
      "1009  URINE MICROSCOPIC WITH REFLEX TO CULTURE - NO UA           194   \n",
      "\n",
      "      component loinc_code result_status lab_result  empi_nbr_anon  \\\n",
      "1000  Mucus/LPF        NaN   Preliminary       MANY       38164775   \n",
      "1001  Mucus/LPF        NaN   Preliminary       RARE       10926362   \n",
      "1002  Mucus/LPF        NaN      Verified        FEW       27633403   \n",
      "1003  Mucus/LPF        NaN      Verified         1+       92044030   \n",
      "1004  Mucus/LPF        NaN   Preliminary         1+       26403261   \n",
      "1005  Mucus/LPF        NaN   Preliminary         1+       91623074   \n",
      "1006  Mucus/LPF        NaN      Verified         1+       60589500   \n",
      "1007  Mucus/LPF        NaN   In Progress         1+       42527266   \n",
      "1008  Mucus/LPF        NaN   In Progress         1+       11372490   \n",
      "1009  Mucus/LPF        NaN      Verified         1+       44080587   \n",
      "\n",
      "             csn_anon collection_time_anon lab_result_time_anon  \n",
      "1000  658876092915617  2023-08-19 06:55:00  2023-08-23 11:00:00  \n",
      "1001  696006744397590  2024-10-12 09:14:00  2024-10-13 12:00:00  \n",
      "1002  180300828979338  2024-03-23 08:54:00  2024-03-23 09:54:00  \n",
      "1003  821477983075835  2022-10-09 11:20:00  2022-10-09 11:47:00  \n",
      "1004  882944602031364  2023-05-08 06:57:00  2023-05-08 08:33:00  \n",
      "1005  324630040947352  2023-04-05 15:33:00  2023-04-05 17:03:00  \n",
      "1006  517191729537645  2023-05-19 18:38:00  2023-05-19 20:12:00  \n",
      "1007  579240637153347  2023-04-30 12:29:00                  NaN  \n",
      "1008  346091470176028  2022-08-11 07:57:00                  NaN  \n",
      "1009  960293818002000  2022-09-16 13:35:00  2022-09-16 13:50:00  \n"
     ]
    }
   ],
   "source": [
    "def group_and_sort_by_patient(df_2, id_col='empi_nbr_anon', time_col=None):\n",
    "   \n",
    "\n",
    "    if time_col and time_col in df.columns:\n",
    "        df_2[time_col] = pd.to_datetime(df_2[time_col])\n",
    "        df_2 = df_1.sort_values(by=[id_col, time_col])\n",
    "    else:\n",
    "        df_2 = df_1.sort_values(by=id_col)\n",
    "\n",
    "    print(f\"Shape: {df_2.shape}\")\n",
    "    print(f\"First few rows:\\n{df_2.head()}\")\n",
    "    \n",
    "    return df_2\n",
    "print(df_2.iloc[1000:1010])"
   ]
  },
  {
   "cell_type": "code",
   "execution_count": 24,
   "id": "aa6f6aa7-a771-43a2-afbb-1c9440a853c8",
   "metadata": {},
   "outputs": [
    {
     "name": "stdout",
     "output_type": "stream",
     "text": [
      "      gender                       race  \\\n",
      "1000    Male  Black or African American   \n",
      "1001  Female                      White   \n",
      "1002  Female                Other Asian   \n",
      "1003    Male                      White   \n",
      "1004  Female  Black or African American   \n",
      "1005    Male                      White   \n",
      "1006    Male  Black or African American   \n",
      "1007    Male                      White   \n",
      "1008    Male  Black or African American   \n",
      "1009  Female                      White   \n",
      "\n",
      "                                      ethnicity  pat_mrn_id_anon    dob_anon  \\\n",
      "1000  Not Hispanic, Latino/a, or Spanish origin         19759120  1980-07-11   \n",
      "1001  Not Hispanic, Latino/a, or Spanish origin   54343050051362  1974-09-24   \n",
      "1002  Not Hispanic, Latino/a, or Spanish origin  153036042520956  1972-06-20   \n",
      "1003  Not Hispanic, Latino/a, or Spanish origin         63010674  1958-12-07   \n",
      "1004  Not Hispanic, Latino/a, or Spanish origin         12470946  1990-06-04   \n",
      "1005  Not Hispanic, Latino/a, or Spanish origin         80158641  1952-10-26   \n",
      "1006  Not Hispanic, Latino/a, or Spanish origin  857118492958624  1954-01-18   \n",
      "1007  Not Hispanic, Latino/a, or Spanish origin         47132686  1951-07-28   \n",
      "1008  Not Hispanic, Latino/a, or Spanish origin  197508430727348  1962-04-24   \n",
      "1009                                    Unknown         93149832  1985-12-28   \n",
      "\n",
      "          death_date_anon  \n",
      "1000                  NaN  \n",
      "1001                  NaN  \n",
      "1002                  NaN  \n",
      "1003                  NaN  \n",
      "1004                  NaN  \n",
      "1005                  NaN  \n",
      "1006  2024-10-30 00:00:00  \n",
      "1007                  NaN  \n",
      "1008                  NaN  \n",
      "1009                  NaN  \n"
     ]
    }
   ],
   "source": [
    "def group_and_sort_by_patient(df_3, id_col='empi_nbr_anon', time_col=None):\n",
    "   \n",
    "\n",
    "    if time_col and time_col in df.columns:\n",
    "        df_3[time_col] = pd.to_datetime(df_3[time_col])\n",
    "        df_3 = df_3.sort_values(by=[id_col, time_col])\n",
    "    else:\n",
    "        df_3 = df_3.sort_values(by=id_col)\n",
    "\n",
    "    print(f\"Shape: {df_3.shape}\")\n",
    "    print(f\"First few rows:\\n{df_3.head()}\")\n",
    "    \n",
    "    return df_3\n",
    "print(df_3.iloc[1000:1010])"
   ]
  },
  {
   "cell_type": "code",
   "execution_count": 25,
   "id": "dd25178b-0a6a-4f3a-8f2b-05c090cd81f2",
   "metadata": {
    "scrolled": true
   },
   "outputs": [
    {
     "name": "stdout",
     "output_type": "stream",
     "text": [
      "      RECORD_ID  REGISTRY_STATUS_C   LDA_ID  CM_PHY_OWNER_ID  CM_LOG_OWNER_ID  \\\n",
      "1000    6427562                  2   370603              NaN              NaN   \n",
      "1001   10040369                  1  2806384              NaN              NaN   \n",
      "1002    9398509                  1  2391826              NaN              NaN   \n",
      "1003    9398508                  1  2391825              NaN              NaN   \n",
      "1004    9644783                  1  2571355              NaN              NaN   \n",
      "1005    9644782                  1  2571354              NaN              NaN   \n",
      "1006    9644350                  1  2571156              NaN              NaN   \n",
      "1007    7106412                  1   766812              NaN              NaN   \n",
      "1008    7478384                  1  1028938              NaN              NaN   \n",
      "1009    7479453                  1  1030122              NaN              NaN   \n",
      "\n",
      "      WOUND_TYPE_C  OUTCOME_C  DAYS_TO_HEAL  DAYS_TO_HEAL_OUTPAT  \\\n",
      "1000       99999.0        1.0          21.0                 21.0   \n",
      "1001           NaN        NaN           NaN                  NaN   \n",
      "1002           5.0        NaN           NaN                  NaN   \n",
      "1003           5.0        NaN           NaN                  NaN   \n",
      "1004           5.0        NaN           NaN                  NaN   \n",
      "1005           5.0        NaN           NaN                  NaN   \n",
      "1006           5.0        NaN           NaN                  NaN   \n",
      "1007           NaN        NaN           NaN                  NaN   \n",
      "1008           5.0        NaN           NaN                  NaN   \n",
      "1009           NaN        NaN           NaN                  NaN   \n",
      "\n",
      "      STAGE_INITIAL_C  ...    empi_nbr_anon  OUTCOME_DATE_anon  \\\n",
      "1000              NaN  ...         60270467         2022-12-19   \n",
      "1001              NaN  ...  675334502684405                NaN   \n",
      "1002              NaN  ...         35273592                NaN   \n",
      "1003              NaN  ...         35273592                NaN   \n",
      "1004              NaN  ...         44380877                NaN   \n",
      "1005              NaN  ...         44380877                NaN   \n",
      "1006              NaN  ...         44380877                NaN   \n",
      "1007              NaN  ...         87790515                NaN   \n",
      "1008              NaN  ...  481378718528571                NaN   \n",
      "1009              NaN  ...  109287163878034                NaN   \n",
      "\n",
      "      LAST_WOUND_ASSESS_DATE_anon  LAST_OUTPAT_VISIT_DATE_anon  \\\n",
      "1000                   2022-12-19                   2022-12-19   \n",
      "1001                   2024-10-08                          NaN   \n",
      "1002                   2025-01-19                   2025-01-19   \n",
      "1003                   2025-01-19                   2025-01-19   \n",
      "1004                   2024-08-08                          NaN   \n",
      "1005                   2024-08-08                          NaN   \n",
      "1006                   2024-08-08                          NaN   \n",
      "1007                   2023-11-11                   2023-11-11   \n",
      "1008                   2023-12-05                          NaN   \n",
      "1009                   2024-01-20                          NaN   \n",
      "\n",
      "      LAST_ADM_DATE_anon  LAST_DISCH_DATE_anon  FIRST_HH_VISIT_DATE_anon  \\\n",
      "1000                 NaN                   NaN                       NaN   \n",
      "1001          2024-10-05            2024-10-10                       NaN   \n",
      "1002                 NaN                   NaN                       NaN   \n",
      "1003                 NaN                   NaN                       NaN   \n",
      "1004          2024-08-06            2024-08-08                       NaN   \n",
      "1005          2024-08-06            2024-08-08                       NaN   \n",
      "1006          2024-08-06            2024-08-08                       NaN   \n",
      "1007                 NaN                   NaN                       NaN   \n",
      "1008          2023-12-05            2023-12-05                       NaN   \n",
      "1009          2024-01-15            2024-01-20                       NaN   \n",
      "\n",
      "      LAST_HH_VISIT_DATE_anon  FIRST_ASSESS_DATE_anon  \\\n",
      "1000                      NaN              2022-11-28   \n",
      "1001                      NaN              2024-10-07   \n",
      "1002                      NaN              2025-01-19   \n",
      "1003                      NaN              2025-01-19   \n",
      "1004                      NaN              2024-08-07   \n",
      "1005                      NaN              2024-08-07   \n",
      "1006                      NaN              2024-08-07   \n",
      "1007                      NaN              2023-11-11   \n",
      "1008                      NaN              2023-12-05   \n",
      "1009                      NaN              2024-01-19   \n",
      "\n",
      "      FIRST_ASSESS_OUTPAT_DATE_anon  \n",
      "1000                     2022-11-28  \n",
      "1001                            NaN  \n",
      "1002                     2025-01-19  \n",
      "1003                     2025-01-19  \n",
      "1004                            NaN  \n",
      "1005                            NaN  \n",
      "1006                            NaN  \n",
      "1007                     2023-11-11  \n",
      "1008                            NaN  \n",
      "1009                            NaN  \n",
      "\n",
      "[10 rows x 66 columns]\n"
     ]
    }
   ],
   "source": [
    "def group_and_sort_by_patient(df_4, id_col='empi_nbr_anon', time_col=None):\n",
    "   \n",
    "\n",
    "    if time_col and time_col in df.columns:\n",
    "        df_4[time_col] = pd.to_datetime(df_4[time_col])\n",
    "        df_4 = df_4.sort_values(by=[id_col, time_col])\n",
    "    else:\n",
    "        df_4 = df_4.sort_values(by=id_col)\n",
    "\n",
    "    print(f\"Shape: {df_4.shape}\")\n",
    "    print(f\"First few rows:\\n{df_4.head()}\")\n",
    "    \n",
    "    return df_4\n",
    "print(df_4.iloc[1000:1010])"
   ]
  },
  {
   "cell_type": "code",
   "execution_count": 26,
   "id": "cda7850f-cdd8-43c6-b97b-5cfad3adf3d6",
   "metadata": {
    "jupyter": {
     "source_hidden": true
    }
   },
   "outputs": [
    {
     "name": "stdout",
     "output_type": "stream",
     "text": [
      "Defaulting to user installation because normal site-packages is not writeable\n",
      "Requirement already satisfied: rapidfuzz in ./.local/lib/python3.10/site-packages (3.13.0)\n",
      "\n",
      "\u001b[1m[\u001b[0m\u001b[34;49mnotice\u001b[0m\u001b[1;39;49m]\u001b[0m\u001b[39;49m A new release of pip is available: \u001b[0m\u001b[31;49m24.2\u001b[0m\u001b[39;49m -> \u001b[0m\u001b[32;49m25.0.1\u001b[0m\n",
      "\u001b[1m[\u001b[0m\u001b[34;49mnotice\u001b[0m\u001b[1;39;49m]\u001b[0m\u001b[39;49m To update, run: \u001b[0m\u001b[32;49mpip install --upgrade pip\u001b[0m\n"
     ]
    }
   ],
   "source": [
    "!pip install rapidfuzz"
   ]
  },
  {
   "cell_type": "code",
   "execution_count": 94,
   "id": "b6d62f10-0a68-474b-83ab-bb94d32efadf",
   "metadata": {
    "collapsed": true,
    "jupyter": {
     "outputs_hidden": true
    }
   },
   "outputs": [
    {
     "name": "stdout",
     "output_type": "stream",
     "text": [
      "    pat_mrn_id_anon matched_empi_nbr_anon  match_score\n",
      "99  721352333058575       721352333058575        100.0\n",
      "0          52038177              52038177        100.0\n",
      "1   709028747575363       709028747575363        100.0\n",
      "2   677349187252760       677349187252760        100.0\n",
      "84         56371799              56371799        100.0\n",
      "85  203608217483035       203608217483035        100.0\n",
      "86  396948598699699       396948598699699        100.0\n",
      "87         62997860              62997860        100.0\n",
      "88  963941689772112       963941689772112        100.0\n",
      "89         60550181              60550181        100.0\n",
      "90  637743716816524       637743716816524        100.0\n",
      "91  689317992594289       689317992594289        100.0\n",
      "12  583501552995726       583501552995726        100.0\n",
      "13         44535279              44535279        100.0\n",
      "14  804169681417242       804169681417242        100.0\n",
      "15  367042057539326       367042057539326        100.0\n",
      "16   12908103120256        12908103120256        100.0\n",
      "17         42514454              42514454        100.0\n",
      "18  135799562615664       135799562615664        100.0\n",
      "19         40368781              40368781        100.0\n"
     ]
    }
   ],
   "source": [
    "#Check if the two columns have the same values before merging the datasets.\n",
    "\n",
    "from rapidfuzz import fuzz, process\n",
    "\n",
    "# Sample 100 pat_mrn_id_anon values from df_3\n",
    "sample_pat_mrn_ids = df_3['pat_mrn_id_anon'].dropna().astype(str).sample(100, random_state=42).tolist()\n",
    "\n",
    "# List of all unique empi_nbr_anon values from other datasets\n",
    "empi_ids = df_1['empi_nbr_anon'].dropna().astype(str).unique().tolist()\n",
    "\n",
    "# Match each pat_mrn_id to its best fuzzy match from empi_nbr_anon\n",
    "matches = []\n",
    "for pat_id in sample_pat_mrn_ids:\n",
    "    best_match = process.extractOne(pat_id, empi_ids, scorer=fuzz.ratio)\n",
    "    matches.append((pat_id, best_match[0], best_match[1]))  # (input_id, matched_id, score)\n",
    "\n",
    "# Convert to DataFrame for inspection\n",
    "import pandas as pd\n",
    "match_df = pd.DataFrame(matches, columns=['pat_mrn_id_anon', 'matched_empi_nbr_anon', 'match_score'])\n",
    "\n",
    "# Show top 20 matches\n",
    "print(match_df.sort_values(by='match_score', ascending=False).head(20))\n",
    "\n",
    "\n"
   ]
  },
  {
   "cell_type": "markdown",
   "id": "deb12f27-be1b-452a-9ab8-5439fe7ff1a3",
   "metadata": {},
   "source": [
    "### Find the number of unique patients in df_4"
   ]
  },
  {
   "cell_type": "code",
   "execution_count": 64,
   "id": "699215ba-fee1-460e-aa28-48eef8981df3",
   "metadata": {},
   "outputs": [
    {
     "name": "stdout",
     "output_type": "stream",
     "text": [
      "Number of unique patients in df_4: 209285\n"
     ]
    }
   ],
   "source": [
    "unique_patients_df4 = df_4['empi_nbr_anon'].nunique()\n",
    "print(f\"Number of unique patients in df_4: {unique_patients_df4}\")\n"
   ]
  },
  {
   "cell_type": "code",
   "execution_count": 65,
   "id": "41601d5a-9bca-46ad-8478-b8e05df9b532",
   "metadata": {},
   "outputs": [
    {
     "name": "stdout",
     "output_type": "stream",
     "text": [
      "Null values in target columns:\n",
      "DAYS_TO_HEAL           453380\n",
      "DAYS_TO_HEAL_OUTPAT    479479\n",
      "dtype: int64\n",
      "\n",
      " Available values:\n",
      "DAYS_TO_HEAL           36837\n",
      "DAYS_TO_HEAL_OUTPAT    10738\n",
      "dtype: int64\n"
     ]
    }
   ],
   "source": [
    "print(\"Null values in target columns:\")\n",
    "print(df_4[['DAYS_TO_HEAL', 'DAYS_TO_HEAL_OUTPAT']].isna().sum())\n",
    "\n",
    "print(\"\\n Available values:\")\n",
    "print(df_4[['DAYS_TO_HEAL', 'DAYS_TO_HEAL_OUTPAT']].notna().sum())\n"
   ]
  },
  {
   "cell_type": "markdown",
   "id": "6430aa76-1281-4ddc-bca7-240702a87e95",
   "metadata": {},
   "source": [
    "Since the 'DAYS_TO_HEAL' column has more non-null values - we can consider that to be our target column and drop the other"
   ]
  },
  {
   "cell_type": "markdown",
   "id": "7dedb561-aa34-4ad3-aa95-318b41a2bbfc",
   "metadata": {},
   "source": [
    "#### **Select Columns which are not redundant**"
   ]
  },
  {
   "cell_type": "code",
   "execution_count": 66,
   "id": "2d445950-927e-4905-b3f4-1639bfeadc2f",
   "metadata": {},
   "outputs": [
    {
     "name": "stdout",
     "output_type": "stream",
     "text": [
      "Matching values: 7734 out of 10154 (76.17%)\n"
     ]
    }
   ],
   "source": [
    "# Compare non-null values that are equal\n",
    "both_present = df_4[['DAYS_TO_HEAL_OUTPAT', 'DAYS_TO_HEAL' ]].dropna() #We drop rows where either column is null, comparing only the columns where both are present\n",
    "num_equal = (both_present['DAYS_TO_HEAL'] == both_present['DAYS_TO_HEAL_OUTPAT']).sum() #Count how many times both columns have the same value\n",
    "total = both_present.shape[0]\n",
    "percent_match = (num_equal / total) * 100\n",
    "\n",
    "print(f\"Matching values: {num_equal} out of {total} ({percent_match:.2f}%)\")\n"
   ]
  },
  {
   "cell_type": "code",
   "execution_count": 67,
   "id": "245d901b-81ed-43a1-9fb3-9bcfecca52f6",
   "metadata": {},
   "outputs": [
    {
     "name": "stdout",
     "output_type": "stream",
     "text": [
      " Matching dates: 131992 out of 131992 (100.00%)\n"
     ]
    }
   ],
   "source": [
    "date_matches = df_4[['OUTCOME_DATE_anon', 'LAST_WOUND_ASSESS_DATE_anon']].dropna()\n",
    "date_equal = (date_matches['OUTCOME_DATE_anon'] == date_matches['LAST_WOUND_ASSESS_DATE_anon']).sum()\n",
    "total_date = date_matches.shape[0]\n",
    "percent_date_match = (date_equal / total_date) * 100\n",
    "\n",
    "print(f\" Matching dates: {date_equal} out of {total_date} ({percent_date_match:.2f}%)\")\n"
   ]
  },
  {
   "cell_type": "markdown",
   "id": "1a2dcd50-590e-4a52-8e3a-72ffadd819e8",
   "metadata": {},
   "source": [
    "Drop OUTCOME_DATE_anon as they are 100% equal."
   ]
  },
  {
   "cell_type": "code",
   "execution_count": 68,
   "id": "ecb010d4-fe57-40dc-b6cd-f356ec780866",
   "metadata": {},
   "outputs": [
    {
     "name": "stdout",
     "output_type": "stream",
     "text": [
      " LAST_APPROX_WOUND_AGE_DAYS non-null: 7200 / 490217 (1.47%)\n"
     ]
    }
   ],
   "source": [
    "non_null_age = df_4['LAST_APPROX_WOUND_AGE_DAYS'].notna().sum()\n",
    "total_rows = df_4.shape[0]\n",
    "percent_present = (non_null_age / total_rows) * 100\n",
    "\n",
    "print(f\" LAST_APPROX_WOUND_AGE_DAYS non-null: {non_null_age} / {total_rows} ({percent_present:.2f}%)\")\n"
   ]
  },
  {
   "cell_type": "code",
   "execution_count": 69,
   "id": "080ac9db-bf84-4daf-9691-d24dd191dc5e",
   "metadata": {},
   "outputs": [
    {
     "name": "stdout",
     "output_type": "stream",
     "text": [
      "Matching values: 3452 out of 7200 (47.94%)\n"
     ]
    }
   ],
   "source": [
    "# Compare non-null values that are equal\n",
    "both_present = df_4[['LAST_APPROX_WOUND_AGE_DAYS', 'LAST_WOUND_AGE_DAYS' ]].dropna() #We drop rows where either column is null, comparing only the columns where both are present\n",
    "num_equal = (both_present['LAST_APPROX_WOUND_AGE_DAYS'] == both_present['LAST_WOUND_AGE_DAYS']).sum() #Count how many times both columns have the same value\n",
    "total = both_present.shape[0]\n",
    "percent_match = (num_equal / total) * 100\n",
    "\n",
    "print(f\"Matching values: {num_equal} out of {total} ({percent_match:.2f}%)\")"
   ]
  },
  {
   "cell_type": "markdown",
   "id": "ebd9b88a-0484-4d00-aa05-678a9590abb9",
   "metadata": {},
   "source": [
    "Less than 50% of the values are matching so keep both the columns"
   ]
  },
  {
   "cell_type": "markdown",
   "id": "0d671996-675a-49dd-bd98-fa0409e2ddbd",
   "metadata": {},
   "source": [
    "NUM_HH_VISITS - is completely 0.0 so drop that "
   ]
  },
  {
   "cell_type": "code",
   "execution_count": 70,
   "id": "58e53d29-b4c6-48d3-8bb7-221e333dd649",
   "metadata": {},
   "outputs": [
    {
     "name": "stdout",
     "output_type": "stream",
     "text": [
      "WOUND_TYPE_INVALID_YN\n",
      "N      57.026582\n",
      "NaN    42.973418\n",
      "Name: proportion, dtype: float64\n",
      "PLACED_ON_CUR_ADM_YN\n",
      "N      98.315644\n",
      "Y       0.937136\n",
      "NaN     0.747220\n",
      "Name: proportion, dtype: float64\n",
      "PRESENT_ON_ADM_MOD_YN\n",
      "N      99.25278\n",
      "NaN     0.74722\n",
      "Name: proportion, dtype: float64\n"
     ]
    }
   ],
   "source": [
    "print(df_4['WOUND_TYPE_INVALID_YN'].value_counts(dropna=False, normalize=True) * 100)\n",
    "print(df_4['PLACED_ON_CUR_ADM_YN'].value_counts(dropna=False, normalize=True) * 100)\n",
    "print(df_4['PRESENT_ON_ADM_MOD_YN'].value_counts(dropna=False, normalize=True) * 100)"
   ]
  },
  {
   "cell_type": "markdown",
   "id": "8183eb3d-7611-4d90-8c58-5681371f8230",
   "metadata": {},
   "source": [
    "We could keep only the column - WOUND_TYPE_INVALID_YN beacuse it has some variation ies 57% are NO so  this could help the model learn the patterns. The other two columns do not seem relevant."
   ]
  },
  {
   "cell_type": "code",
   "execution_count": 71,
   "id": "797be31f-9c99-45c7-91f0-6b81c310bb95",
   "metadata": {},
   "outputs": [],
   "source": [
    "final_columns_keep = [\n",
    "    'empi_nbr_anon',\n",
    "\n",
    "    # Target\n",
    "    'DAYS_TO_HEAL',\n",
    "\n",
    "    # Anchors\n",
    "    'FIRST_ASSESS_DATE_anon',\n",
    "    'LAST_WOUND_ASSESS_DATE_anon',\n",
    "\n",
    "    # Derived wound age\n",
    "    'LAST_WOUND_AGE_DAYS',\n",
    "    'LAST_APPROX_WOUND_AGE_DAYS',\n",
    "\n",
    "    # Patient static features\n",
    "    'PAT_AGE_YEARS_FIRST_ASSESS',\n",
    "\n",
    "    # Wound Features\n",
    "    'WOUND_TYPE_C',\n",
    "    'WOUND_TYPE_INVALID_YN',\n",
    "    'STAGE_INITIAL_C',\n",
    "    'STAGE_CURRENT_C',\n",
    "\n",
    "    #Healing progression\n",
    "    'PCT_HEALED_LAST_ENC', 'PCT_AREA_HEALED', 'PCT_VOLUME_HEALED',\n",
    "    'PCT_AREA_HEALED_4W', 'PCT_AREA_HEALED_8W', 'PCT_AREA_HEALED_12W',\n",
    "    'PCT_AREA_HEALED_16W', 'PCT_AREA_HEALED_20W',\n",
    "    'PCT_VOLUME_HEALED_4W', 'PCT_VOLUME_HEALED_8W', 'PCT_VOLUME_HEALED_12W',\n",
    "    'PCT_VOLUME_HEALED_16W', 'PCT_VOLUME_HEALED_20W',\n",
    "    'PCT_AREA_HEALED_OUTPAT', 'PCT_VOLUME_HEALED_OUTPAT',\n",
    "    'PCT_AREA_HEALED_4W_OUTPAT', 'PCT_AREA_HEALED_8W_OUTPAT',\n",
    "    'PCT_AREA_HEALED_12W_OUTPAT', 'PCT_AREA_HEALED_16W_OUTPAT',\n",
    "    'PCT_AREA_HEALED_20W_OUTPAT', 'PCT_VOLUME_HEALED_4W_OUTPAT',\n",
    "    'PCT_VOLUME_HEALED_8W_OUTPAT', 'PCT_VOLUME_HEALED_12W_OUTPAT',\n",
    "    'PCT_VOLUME_HEALED_16W_OUTPAT', 'PCT_VOLUME_HEALED_20W_OUTPAT',\n",
    "\n",
    "    # Clinical stats\n",
    "    'NUM_OUTPAT_HOV_VISITS'\n",
    "]\n"
   ]
  },
  {
   "cell_type": "code",
   "execution_count": 72,
   "id": "d9c7f97b-70e3-4782-a4af-bfdd13265cfd",
   "metadata": {},
   "outputs": [
    {
     "data": {
      "text/html": [
       "<div>\n",
       "<style scoped>\n",
       "    .dataframe tbody tr th:only-of-type {\n",
       "        vertical-align: middle;\n",
       "    }\n",
       "\n",
       "    .dataframe tbody tr th {\n",
       "        vertical-align: top;\n",
       "    }\n",
       "\n",
       "    .dataframe thead th {\n",
       "        text-align: right;\n",
       "    }\n",
       "</style>\n",
       "<table border=\"1\" class=\"dataframe\">\n",
       "  <thead>\n",
       "    <tr style=\"text-align: right;\">\n",
       "      <th></th>\n",
       "      <th>empi_nbr_anon</th>\n",
       "      <th>DAYS_TO_HEAL</th>\n",
       "      <th>FIRST_ASSESS_DATE_anon</th>\n",
       "      <th>LAST_WOUND_ASSESS_DATE_anon</th>\n",
       "      <th>LAST_WOUND_AGE_DAYS</th>\n",
       "      <th>LAST_APPROX_WOUND_AGE_DAYS</th>\n",
       "      <th>PAT_AGE_YEARS_FIRST_ASSESS</th>\n",
       "      <th>WOUND_TYPE_C</th>\n",
       "      <th>WOUND_TYPE_INVALID_YN</th>\n",
       "      <th>STAGE_INITIAL_C</th>\n",
       "      <th>...</th>\n",
       "      <th>PCT_AREA_HEALED_8W_OUTPAT</th>\n",
       "      <th>PCT_AREA_HEALED_12W_OUTPAT</th>\n",
       "      <th>PCT_AREA_HEALED_16W_OUTPAT</th>\n",
       "      <th>PCT_AREA_HEALED_20W_OUTPAT</th>\n",
       "      <th>PCT_VOLUME_HEALED_4W_OUTPAT</th>\n",
       "      <th>PCT_VOLUME_HEALED_8W_OUTPAT</th>\n",
       "      <th>PCT_VOLUME_HEALED_12W_OUTPAT</th>\n",
       "      <th>PCT_VOLUME_HEALED_16W_OUTPAT</th>\n",
       "      <th>PCT_VOLUME_HEALED_20W_OUTPAT</th>\n",
       "      <th>NUM_OUTPAT_HOV_VISITS</th>\n",
       "    </tr>\n",
       "  </thead>\n",
       "  <tbody>\n",
       "    <tr>\n",
       "      <th>0</th>\n",
       "      <td>73179547</td>\n",
       "      <td>NaN</td>\n",
       "      <td>2023-05-02</td>\n",
       "      <td>2023-05-02</td>\n",
       "      <td>0.0</td>\n",
       "      <td>NaN</td>\n",
       "      <td>64.0</td>\n",
       "      <td>NaN</td>\n",
       "      <td>N</td>\n",
       "      <td>NaN</td>\n",
       "      <td>...</td>\n",
       "      <td>NaN</td>\n",
       "      <td>NaN</td>\n",
       "      <td>NaN</td>\n",
       "      <td>NaN</td>\n",
       "      <td>NaN</td>\n",
       "      <td>NaN</td>\n",
       "      <td>NaN</td>\n",
       "      <td>NaN</td>\n",
       "      <td>NaN</td>\n",
       "      <td>0.0</td>\n",
       "    </tr>\n",
       "    <tr>\n",
       "      <th>1</th>\n",
       "      <td>51871450</td>\n",
       "      <td>NaN</td>\n",
       "      <td>2024-09-05</td>\n",
       "      <td>2024-09-05</td>\n",
       "      <td>0.0</td>\n",
       "      <td>NaN</td>\n",
       "      <td>49.0</td>\n",
       "      <td>5.0</td>\n",
       "      <td>NaN</td>\n",
       "      <td>NaN</td>\n",
       "      <td>...</td>\n",
       "      <td>NaN</td>\n",
       "      <td>NaN</td>\n",
       "      <td>NaN</td>\n",
       "      <td>NaN</td>\n",
       "      <td>NaN</td>\n",
       "      <td>NaN</td>\n",
       "      <td>NaN</td>\n",
       "      <td>NaN</td>\n",
       "      <td>NaN</td>\n",
       "      <td>0.0</td>\n",
       "    </tr>\n",
       "    <tr>\n",
       "      <th>2</th>\n",
       "      <td>51871450</td>\n",
       "      <td>NaN</td>\n",
       "      <td>2024-09-05</td>\n",
       "      <td>2024-09-06</td>\n",
       "      <td>1.0</td>\n",
       "      <td>NaN</td>\n",
       "      <td>49.0</td>\n",
       "      <td>5.0</td>\n",
       "      <td>N</td>\n",
       "      <td>NaN</td>\n",
       "      <td>...</td>\n",
       "      <td>NaN</td>\n",
       "      <td>NaN</td>\n",
       "      <td>NaN</td>\n",
       "      <td>NaN</td>\n",
       "      <td>NaN</td>\n",
       "      <td>NaN</td>\n",
       "      <td>NaN</td>\n",
       "      <td>NaN</td>\n",
       "      <td>NaN</td>\n",
       "      <td>0.0</td>\n",
       "    </tr>\n",
       "    <tr>\n",
       "      <th>3</th>\n",
       "      <td>56076621</td>\n",
       "      <td>NaN</td>\n",
       "      <td>2023-04-04</td>\n",
       "      <td>2023-04-04</td>\n",
       "      <td>0.0</td>\n",
       "      <td>NaN</td>\n",
       "      <td>55.0</td>\n",
       "      <td>5.0</td>\n",
       "      <td>N</td>\n",
       "      <td>NaN</td>\n",
       "      <td>...</td>\n",
       "      <td>NaN</td>\n",
       "      <td>NaN</td>\n",
       "      <td>NaN</td>\n",
       "      <td>NaN</td>\n",
       "      <td>NaN</td>\n",
       "      <td>NaN</td>\n",
       "      <td>NaN</td>\n",
       "      <td>NaN</td>\n",
       "      <td>NaN</td>\n",
       "      <td>0.0</td>\n",
       "    </tr>\n",
       "    <tr>\n",
       "      <th>4</th>\n",
       "      <td>56076621</td>\n",
       "      <td>NaN</td>\n",
       "      <td>NaN</td>\n",
       "      <td>2023-09-15</td>\n",
       "      <td>NaN</td>\n",
       "      <td>NaN</td>\n",
       "      <td>NaN</td>\n",
       "      <td>NaN</td>\n",
       "      <td>N</td>\n",
       "      <td>NaN</td>\n",
       "      <td>...</td>\n",
       "      <td>NaN</td>\n",
       "      <td>NaN</td>\n",
       "      <td>NaN</td>\n",
       "      <td>NaN</td>\n",
       "      <td>NaN</td>\n",
       "      <td>NaN</td>\n",
       "      <td>NaN</td>\n",
       "      <td>NaN</td>\n",
       "      <td>NaN</td>\n",
       "      <td>0.0</td>\n",
       "    </tr>\n",
       "  </tbody>\n",
       "</table>\n",
       "<p>5 rows × 37 columns</p>\n",
       "</div>"
      ],
      "text/plain": [
       "   empi_nbr_anon  DAYS_TO_HEAL FIRST_ASSESS_DATE_anon  \\\n",
       "0       73179547           NaN             2023-05-02   \n",
       "1       51871450           NaN             2024-09-05   \n",
       "2       51871450           NaN             2024-09-05   \n",
       "3       56076621           NaN             2023-04-04   \n",
       "4       56076621           NaN                    NaN   \n",
       "\n",
       "  LAST_WOUND_ASSESS_DATE_anon  LAST_WOUND_AGE_DAYS  \\\n",
       "0                  2023-05-02                  0.0   \n",
       "1                  2024-09-05                  0.0   \n",
       "2                  2024-09-06                  1.0   \n",
       "3                  2023-04-04                  0.0   \n",
       "4                  2023-09-15                  NaN   \n",
       "\n",
       "   LAST_APPROX_WOUND_AGE_DAYS  PAT_AGE_YEARS_FIRST_ASSESS  WOUND_TYPE_C  \\\n",
       "0                         NaN                        64.0           NaN   \n",
       "1                         NaN                        49.0           5.0   \n",
       "2                         NaN                        49.0           5.0   \n",
       "3                         NaN                        55.0           5.0   \n",
       "4                         NaN                         NaN           NaN   \n",
       "\n",
       "  WOUND_TYPE_INVALID_YN  STAGE_INITIAL_C  ...  PCT_AREA_HEALED_8W_OUTPAT  \\\n",
       "0                     N              NaN  ...                        NaN   \n",
       "1                   NaN              NaN  ...                        NaN   \n",
       "2                     N              NaN  ...                        NaN   \n",
       "3                     N              NaN  ...                        NaN   \n",
       "4                     N              NaN  ...                        NaN   \n",
       "\n",
       "   PCT_AREA_HEALED_12W_OUTPAT  PCT_AREA_HEALED_16W_OUTPAT  \\\n",
       "0                         NaN                         NaN   \n",
       "1                         NaN                         NaN   \n",
       "2                         NaN                         NaN   \n",
       "3                         NaN                         NaN   \n",
       "4                         NaN                         NaN   \n",
       "\n",
       "   PCT_AREA_HEALED_20W_OUTPAT  PCT_VOLUME_HEALED_4W_OUTPAT  \\\n",
       "0                         NaN                          NaN   \n",
       "1                         NaN                          NaN   \n",
       "2                         NaN                          NaN   \n",
       "3                         NaN                          NaN   \n",
       "4                         NaN                          NaN   \n",
       "\n",
       "   PCT_VOLUME_HEALED_8W_OUTPAT  PCT_VOLUME_HEALED_12W_OUTPAT  \\\n",
       "0                          NaN                           NaN   \n",
       "1                          NaN                           NaN   \n",
       "2                          NaN                           NaN   \n",
       "3                          NaN                           NaN   \n",
       "4                          NaN                           NaN   \n",
       "\n",
       "   PCT_VOLUME_HEALED_16W_OUTPAT  PCT_VOLUME_HEALED_20W_OUTPAT  \\\n",
       "0                           NaN                           NaN   \n",
       "1                           NaN                           NaN   \n",
       "2                           NaN                           NaN   \n",
       "3                           NaN                           NaN   \n",
       "4                           NaN                           NaN   \n",
       "\n",
       "   NUM_OUTPAT_HOV_VISITS  \n",
       "0                    0.0  \n",
       "1                    0.0  \n",
       "2                    0.0  \n",
       "3                    0.0  \n",
       "4                    0.0  \n",
       "\n",
       "[5 rows x 37 columns]"
      ]
     },
     "execution_count": 72,
     "metadata": {},
     "output_type": "execute_result"
    }
   ],
   "source": [
    "df_4_reduced = df_4[final_columns_keep].copy()\n",
    "df_4_reduced.head()"
   ]
  },
  {
   "cell_type": "code",
   "execution_count": 73,
   "id": "fa709462-0a47-42c0-9158-93c8adc43bf2",
   "metadata": {},
   "outputs": [
    {
     "name": "stdout",
     "output_type": "stream",
     "text": [
      "Number of unique patients in df_4: 209285\n",
      "(490217, 37)\n"
     ]
    }
   ],
   "source": [
    "unique_patients_df4_reduced = df_4_reduced['empi_nbr_anon'].nunique()\n",
    "print(f\"Number of unique patients in df_4: {unique_patients_df4_reduced}\")\n",
    "print(df_4_reduced.shape)"
   ]
  },
  {
   "cell_type": "markdown",
   "id": "700820e8-1a52-4de5-b210-4dd626e489f2",
   "metadata": {},
   "source": [
    "### Combine the dataframes to increase the number of timesteps per patient and then eliminate patients with sparse data."
   ]
  },
  {
   "cell_type": "markdown",
   "id": "9c41e87f-a1c5-4533-a994-75df1a7f2ecd",
   "metadata": {},
   "source": [
    "#### **DF_3**"
   ]
  },
  {
   "cell_type": "markdown",
   "id": "7026b328-e9c0-478d-9223-99a436f4bd4b",
   "metadata": {},
   "source": [
    "Sorting pat_mrn_id_anon and empi_nbr to keep the patients which have both the ids"
   ]
  },
  {
   "cell_type": "code",
   "execution_count": 74,
   "id": "2327d7a6-4b8c-4769-9ed5-d2e0ecd8f478",
   "metadata": {},
   "outputs": [
    {
     "name": "stdout",
     "output_type": "stream",
     "text": [
      "Updated dataframes:\n",
      "df_4_reduced shape: (483647, 37)\n",
      "df_3 shape: (205067, 6)\n",
      "Common patients retained: 205067\n",
      "   gender         race                                  ethnicity  \\\n",
      "0    Male        White  Not Hispanic, Latino/a, or Spanish origin   \n",
      "1  Female        White  Not Hispanic, Latino/a, or Spanish origin   \n",
      "2    Male      Unknown                                    Unknown   \n",
      "3    Male  Other Asian  Not Hispanic, Latino/a, or Spanish origin   \n",
      "4  Female        White  Not Hispanic, Latino/a, or Spanish origin   \n",
      "\n",
      "     empi_nbr_anon    dob_anon death_date_anon  \n",
      "0   39701943567486  1957-04-20             NaN  \n",
      "1         44229492  1950-06-29             NaN  \n",
      "2  676571164158529  1950-09-04             NaN  \n",
      "3  289951627827261  1981-02-07             NaN  \n",
      "4  649654067432025  1975-04-24             NaN  \n",
      "Index(['empi_nbr_anon', 'DAYS_TO_HEAL', 'FIRST_ASSESS_DATE_anon',\n",
      "       'LAST_WOUND_ASSESS_DATE_anon', 'LAST_WOUND_AGE_DAYS',\n",
      "       'LAST_APPROX_WOUND_AGE_DAYS', 'PAT_AGE_YEARS_FIRST_ASSESS',\n",
      "       'WOUND_TYPE_C', 'WOUND_TYPE_INVALID_YN', 'STAGE_INITIAL_C',\n",
      "       'STAGE_CURRENT_C', 'PCT_HEALED_LAST_ENC', 'PCT_AREA_HEALED',\n",
      "       'PCT_VOLUME_HEALED', 'PCT_AREA_HEALED_4W', 'PCT_AREA_HEALED_8W',\n",
      "       'PCT_AREA_HEALED_12W', 'PCT_AREA_HEALED_16W', 'PCT_AREA_HEALED_20W',\n",
      "       'PCT_VOLUME_HEALED_4W', 'PCT_VOLUME_HEALED_8W', 'PCT_VOLUME_HEALED_12W',\n",
      "       'PCT_VOLUME_HEALED_16W', 'PCT_VOLUME_HEALED_20W',\n",
      "       'PCT_AREA_HEALED_OUTPAT', 'PCT_VOLUME_HEALED_OUTPAT',\n",
      "       'PCT_AREA_HEALED_4W_OUTPAT', 'PCT_AREA_HEALED_8W_OUTPAT',\n",
      "       'PCT_AREA_HEALED_12W_OUTPAT', 'PCT_AREA_HEALED_16W_OUTPAT',\n",
      "       'PCT_AREA_HEALED_20W_OUTPAT', 'PCT_VOLUME_HEALED_4W_OUTPAT',\n",
      "       'PCT_VOLUME_HEALED_8W_OUTPAT', 'PCT_VOLUME_HEALED_12W_OUTPAT',\n",
      "       'PCT_VOLUME_HEALED_16W_OUTPAT', 'PCT_VOLUME_HEALED_20W_OUTPAT',\n",
      "       'NUM_OUTPAT_HOV_VISITS'],\n",
      "      dtype='object')\n"
     ]
    }
   ],
   "source": [
    "# Step 1: Rename pat_mrn_id_anon → empi_nbr_anon in df_3\n",
    "df_3.rename(columns={'pat_mrn_id_anon': 'empi_nbr_anon'}, inplace=True)\n",
    "\n",
    "# Step 2: Get only common patient IDs\n",
    "common_ids = set(df_4_reduced['empi_nbr_anon'].dropna()) & set(df_3['empi_nbr_anon'].dropna())\n",
    "\n",
    "# Step 3: Filter both datasets in-place\n",
    "df_4_reduced = df_4_reduced[df_4_reduced['empi_nbr_anon'].isin(common_ids)].copy()\n",
    "df_3 = df_3[df_3['empi_nbr_anon'].isin(common_ids)].copy()\n",
    "\n",
    "# Confirm final sizes\n",
    "print(\"Updated dataframes:\")\n",
    "print(f\"df_4_reduced shape: {df_4_reduced.shape}\")\n",
    "print(f\"df_3 shape: {df_3.shape}\")\n",
    "print(f\"Common patients retained: {len(common_ids)}\")\n",
    "print(df_3.head())\n",
    "print(df_4_reduced.columns)\n"
   ]
  },
  {
   "cell_type": "code",
   "execution_count": 75,
   "id": "6f0cb37b-1261-4d3c-bc39-e1db8c754faf",
   "metadata": {
    "collapsed": true,
    "jupyter": {
     "outputs_hidden": true
    }
   },
   "outputs": [
    {
     "name": "stdout",
     "output_type": "stream",
     "text": [
      " df_4_reduced shape after merge: (483647, 42)\n",
      " Newly added demo columns: ['gender', 'race', 'ethnicity', 'empi_nbr_anon', 'dob_anon', 'death_date_anon']\n",
      "   empi_nbr_anon  DAYS_TO_HEAL FIRST_ASSESS_DATE_anon  \\\n",
      "0       73179547           NaN             2023-05-02   \n",
      "1       51871450           NaN             2024-09-05   \n",
      "\n",
      "  LAST_WOUND_ASSESS_DATE_anon  LAST_WOUND_AGE_DAYS  \\\n",
      "0                  2023-05-02                  0.0   \n",
      "1                  2024-09-05                  0.0   \n",
      "\n",
      "   LAST_APPROX_WOUND_AGE_DAYS  PAT_AGE_YEARS_FIRST_ASSESS  WOUND_TYPE_C  \\\n",
      "0                         NaN                        64.0           NaN   \n",
      "1                         NaN                        49.0           5.0   \n",
      "\n",
      "  WOUND_TYPE_INVALID_YN  STAGE_INITIAL_C  ...  PCT_VOLUME_HEALED_8W_OUTPAT  \\\n",
      "0                     N              NaN  ...                          NaN   \n",
      "1                   NaN              NaN  ...                          NaN   \n",
      "\n",
      "   PCT_VOLUME_HEALED_12W_OUTPAT  PCT_VOLUME_HEALED_16W_OUTPAT  \\\n",
      "0                           NaN                           NaN   \n",
      "1                           NaN                           NaN   \n",
      "\n",
      "   PCT_VOLUME_HEALED_20W_OUTPAT  NUM_OUTPAT_HOV_VISITS  gender  \\\n",
      "0                           NaN                    0.0  Female   \n",
      "1                           NaN                    0.0  Female   \n",
      "\n",
      "                        race                                  ethnicity  \\\n",
      "0  Black or African American  Not Hispanic, Latino/a, or Spanish origin   \n",
      "1  Black or African American  Not Hispanic, Latino/a, or Spanish origin   \n",
      "\n",
      "     dob_anon  death_date_anon  \n",
      "0  1958-12-28              NaN  \n",
      "1  1974-09-27              NaN  \n",
      "\n",
      "[2 rows x 42 columns]\n"
     ]
    }
   ],
   "source": [
    "#Merge demographic info into every row of df_4_reduced\n",
    "df_4_reduced = df_4_reduced.merge(\n",
    "    df_3,\n",
    "    on='empi_nbr_anon',\n",
    "    how='left'\n",
    ")\n",
    "\n",
    "# Step 3: Confirm columns added and preview\n",
    "print(f\" df_4_reduced shape after merge: {df_4_reduced.shape}\")\n",
    "print(\" Newly added demo columns:\", df_3.columns.tolist())\n",
    "print(df_4_reduced.head(2))"
   ]
  },
  {
   "cell_type": "code",
   "execution_count": 76,
   "id": "691ce67f-a5ab-4fc1-a7bc-a8bd524643a6",
   "metadata": {},
   "outputs": [
    {
     "data": {
      "text/plain": [
       "205067"
      ]
     },
     "execution_count": 76,
     "metadata": {},
     "output_type": "execute_result"
    }
   ],
   "source": [
    "df_4_reduced['empi_nbr_anon'].nunique()"
   ]
  },
  {
   "cell_type": "code",
   "execution_count": 77,
   "id": "38f7aff1-5abf-4944-b3cf-07b6b20b328b",
   "metadata": {},
   "outputs": [
    {
     "name": "stdout",
     "output_type": "stream",
     "text": [
      "444123\n",
      "26081\n",
      "33370\n"
     ]
    }
   ],
   "source": [
    "print(df_4_reduced['death_date_anon'].isna().sum())\n",
    "print(df_4_reduced['FIRST_ASSESS_DATE_anon'].isna().sum())\n",
    "print(df_4_reduced['LAST_WOUND_ASSESS_DATE_anon'].isna().sum())\n"
   ]
  },
  {
   "cell_type": "code",
   "execution_count": 78,
   "id": "6d833a3e-b0b2-4e5a-8c45-335f94338a27",
   "metadata": {},
   "outputs": [],
   "source": [
    "# Add binary alive/deceased flag\n",
    "df_4_reduced['is_deceased'] = df_4_reduced['death_date_anon'].notna().astype(int)\n"
   ]
  },
  {
   "cell_type": "code",
   "execution_count": 79,
   "id": "ab3f2395-8343-48b7-9b72-a4c579cd3441",
   "metadata": {},
   "outputs": [
    {
     "name": "stdout",
     "output_type": "stream",
     "text": [
      "(483647, 43)\n"
     ]
    }
   ],
   "source": [
    "print(df_4_reduced.shape)"
   ]
  },
  {
   "cell_type": "code",
   "execution_count": 80,
   "id": "64539463-7463-4439-a1aa-06931ee910f0",
   "metadata": {},
   "outputs": [
    {
     "name": "stdout",
     "output_type": "stream",
     "text": [
      "After filtering null demographics:\n",
      "Remaining patients: 189665\n",
      "Remaining rows: (429137, 43)\n"
     ]
    }
   ],
   "source": [
    "# Drop rows with missing core demographic values\n",
    "required_static_cols = ['gender', 'race', 'ethnicity', 'dob_anon']\n",
    "date_cols = ['FIRST_ASSESS_DATE_anon','LAST_WOUND_ASSESS_DATE_anon']\n",
    "df_4_reduced = df_4_reduced.dropna(subset=required_static_cols)\n",
    "df_4_reduced = df_4_reduced.dropna(subset=date_cols)\n",
    "\n",
    "\n",
    "# Confirm how many patients remain\n",
    "print(\"After filtering null demographics:\")\n",
    "print(f\"Remaining patients: {df_4_reduced['empi_nbr_anon'].nunique()}\")\n",
    "print(f\"Remaining rows: {df_4_reduced.shape}\")\n",
    "\n"
   ]
  },
  {
   "cell_type": "code",
   "execution_count": 81,
   "id": "21c23ba2-cb13-43e9-8ba8-61140e1a0a9d",
   "metadata": {
    "collapsed": true,
    "jupyter": {
     "outputs_hidden": true
    }
   },
   "outputs": [
    {
     "name": "stdout",
     "output_type": "stream",
     "text": [
      "      empi_nbr_anon  DAYS_TO_HEAL FIRST_ASSESS_DATE_anon  \\\n",
      "1111       25092447           NaN             2022-09-14   \n",
      "1112       94590558          37.0             2023-04-13   \n",
      "1113       94590558          47.0             2023-05-20   \n",
      "1114       94590558           NaN             2023-09-28   \n",
      "1115       94590558           NaN             2024-05-22   \n",
      "1116       94590558         100.0             2024-05-22   \n",
      "1117       56478489           NaN             2023-10-22   \n",
      "1118       57247304           NaN             2024-10-01   \n",
      "1119       57247304           NaN             2024-10-01   \n",
      "1120       57247304           NaN             2024-10-01   \n",
      "\n",
      "     LAST_WOUND_ASSESS_DATE_anon  LAST_WOUND_AGE_DAYS  \\\n",
      "1111                  2022-10-12                 28.0   \n",
      "1112                  2023-05-20                 37.0   \n",
      "1113                  2023-07-06                 47.0   \n",
      "1114                  2024-05-22                237.0   \n",
      "1115                  2025-04-17                330.0   \n",
      "1116                  2024-08-30                100.0   \n",
      "1117                  2025-01-10                446.0   \n",
      "1118                  2024-10-01                  0.0   \n",
      "1119                  2024-10-01                  0.0   \n",
      "1120                  2024-10-01                  0.0   \n",
      "\n",
      "      LAST_APPROX_WOUND_AGE_DAYS  PAT_AGE_YEARS_FIRST_ASSESS  WOUND_TYPE_C  \\\n",
      "1111                         NaN                        39.0           1.0   \n",
      "1112                         NaN                        55.0           8.0   \n",
      "1113                        61.0                        55.0           NaN   \n",
      "1114                       293.0                        56.0           2.0   \n",
      "1115                         NaN                        56.0           2.0   \n",
      "1116                         NaN                        56.0           2.0   \n",
      "1117                         NaN                        61.0           NaN   \n",
      "1118                         NaN                        70.0           NaN   \n",
      "1119                         NaN                        70.0           NaN   \n",
      "1120                         NaN                        70.0           NaN   \n",
      "\n",
      "     WOUND_TYPE_INVALID_YN  STAGE_INITIAL_C  ...  \\\n",
      "1111                   NaN              2.0  ...   \n",
      "1112                   NaN              NaN  ...   \n",
      "1113                   NaN              NaN  ...   \n",
      "1114                   NaN              NaN  ...   \n",
      "1115                     N              NaN  ...   \n",
      "1116                   NaN              NaN  ...   \n",
      "1117                   NaN              NaN  ...   \n",
      "1118                     N              NaN  ...   \n",
      "1119                     N              NaN  ...   \n",
      "1120                     N              NaN  ...   \n",
      "\n",
      "      PCT_VOLUME_HEALED_12W_OUTPAT  PCT_VOLUME_HEALED_16W_OUTPAT  \\\n",
      "1111                           NaN                           NaN   \n",
      "1112                         100.0                         100.0   \n",
      "1113                         100.0                         100.0   \n",
      "1114                          93.0                           NaN   \n",
      "1115                       -1166.0                        -787.0   \n",
      "1116                          97.0                         100.0   \n",
      "1117                           NaN                           NaN   \n",
      "1118                           NaN                           NaN   \n",
      "1119                           NaN                           NaN   \n",
      "1120                           NaN                           NaN   \n",
      "\n",
      "      PCT_VOLUME_HEALED_20W_OUTPAT  NUM_OUTPAT_HOV_VISITS  gender  \\\n",
      "1111                           NaN                    0.0  Female   \n",
      "1112                         100.0                    2.0  Female   \n",
      "1113                         100.0                    2.0  Female   \n",
      "1114                           NaN                    3.0  Female   \n",
      "1115                        -713.0                    8.0  Female   \n",
      "1116                         100.0                    4.0  Female   \n",
      "1117                           NaN                    0.0  Female   \n",
      "1118                           NaN                    0.0    Male   \n",
      "1119                           NaN                    0.0    Male   \n",
      "1120                           NaN                    0.0    Male   \n",
      "\n",
      "                           race                                  ethnicity  \\\n",
      "1111  Black or African American  Not Hispanic, Latino/a, or Spanish origin   \n",
      "1112  Black or African American  Not Hispanic, Latino/a, or Spanish origin   \n",
      "1113  Black or African American  Not Hispanic, Latino/a, or Spanish origin   \n",
      "1114  Black or African American  Not Hispanic, Latino/a, or Spanish origin   \n",
      "1115  Black or African American  Not Hispanic, Latino/a, or Spanish origin   \n",
      "1116  Black or African American  Not Hispanic, Latino/a, or Spanish origin   \n",
      "1117                      White  Not Hispanic, Latino/a, or Spanish origin   \n",
      "1118                      White  Not Hispanic, Latino/a, or Spanish origin   \n",
      "1119                      White  Not Hispanic, Latino/a, or Spanish origin   \n",
      "1120                      White  Not Hispanic, Latino/a, or Spanish origin   \n",
      "\n",
      "        dob_anon  death_date_anon  is_deceased  \n",
      "1111  1983-07-12              NaN            0  \n",
      "1112  1967-06-17              NaN            0  \n",
      "1113  1967-06-17              NaN            0  \n",
      "1114  1967-06-17              NaN            0  \n",
      "1115  1967-06-17              NaN            0  \n",
      "1116  1967-06-17              NaN            0  \n",
      "1117  1962-02-15              NaN            0  \n",
      "1118  1954-05-11              NaN            0  \n",
      "1119  1954-05-11              NaN            0  \n",
      "1120  1954-05-11              NaN            0  \n",
      "\n",
      "[10 rows x 43 columns]\n"
     ]
    }
   ],
   "source": [
    "print(df_4_reduced.iloc[1000:1010])"
   ]
  },
  {
   "cell_type": "code",
   "execution_count": 82,
   "id": "b38fb128-14f8-44ff-a776-98e6e93a5f63",
   "metadata": {
    "collapsed": true,
    "jupyter": {
     "outputs_hidden": true
    }
   },
   "outputs": [
    {
     "name": "stdout",
     "output_type": "stream",
     "text": [
      "empi_nbr_anon                        0\n",
      "DAYS_TO_HEAL                    392367\n",
      "FIRST_ASSESS_DATE_anon               0\n",
      "LAST_WOUND_ASSESS_DATE_anon          0\n",
      "LAST_WOUND_AGE_DAYS                134\n",
      "LAST_APPROX_WOUND_AGE_DAYS      422083\n",
      "PAT_AGE_YEARS_FIRST_ASSESS           0\n",
      "WOUND_TYPE_C                    237661\n",
      "WOUND_TYPE_INVALID_YN           191655\n",
      "STAGE_INITIAL_C                 403888\n",
      "STAGE_CURRENT_C                 403888\n",
      "PCT_HEALED_LAST_ENC             381249\n",
      "PCT_AREA_HEALED                 395053\n",
      "PCT_VOLUME_HEALED               405286\n",
      "PCT_AREA_HEALED_4W              418264\n",
      "PCT_AREA_HEALED_8W              419917\n",
      "PCT_AREA_HEALED_12W             421016\n",
      "PCT_AREA_HEALED_16W             421695\n",
      "PCT_AREA_HEALED_20W             422154\n",
      "PCT_VOLUME_HEALED_4W            421302\n",
      "PCT_VOLUME_HEALED_8W            422257\n",
      "PCT_VOLUME_HEALED_12W           422948\n",
      "PCT_VOLUME_HEALED_16W           423432\n",
      "PCT_VOLUME_HEALED_20W           423806\n",
      "PCT_AREA_HEALED_OUTPAT          419290\n",
      "PCT_VOLUME_HEALED_OUTPAT        419893\n",
      "PCT_AREA_HEALED_4W_OUTPAT       423314\n",
      "PCT_AREA_HEALED_8W_OUTPAT       424209\n",
      "PCT_AREA_HEALED_12W_OUTPAT      424743\n",
      "PCT_AREA_HEALED_16W_OUTPAT      425102\n",
      "PCT_AREA_HEALED_20W_OUTPAT      425368\n",
      "PCT_VOLUME_HEALED_4W_OUTPAT     423795\n",
      "PCT_VOLUME_HEALED_8W_OUTPAT     424565\n",
      "PCT_VOLUME_HEALED_12W_OUTPAT    425035\n",
      "PCT_VOLUME_HEALED_16W_OUTPAT    425343\n",
      "PCT_VOLUME_HEALED_20W_OUTPAT    425569\n",
      "NUM_OUTPAT_HOV_VISITS                0\n",
      "gender                               0\n",
      "race                                 0\n",
      "ethnicity                            0\n",
      "dob_anon                             0\n",
      "death_date_anon                 391159\n",
      "is_deceased                          0\n",
      "dtype: int64\n"
     ]
    }
   ],
   "source": [
    "print(df_4_reduced.isna().sum())"
   ]
  },
  {
   "cell_type": "code",
   "execution_count": 83,
   "id": "30852302-c0ee-4e07-a222-7476164ba175",
   "metadata": {},
   "outputs": [
    {
     "name": "stdout",
     "output_type": "stream",
     "text": [
      "Shape after cleaning: (429137, 30)\n"
     ]
    }
   ],
   "source": [
    "# Step 1: Drop unwanted columns\n",
    "drop_cols = [col for col in df_4_reduced.columns if col.endswith('_OUTPAT')]\n",
    "drop_cols += ['death_date_anon']  # Already handled by is_deceased\n",
    "df_4_reduced.drop(columns=drop_cols, inplace=True)\n",
    "print(f\"Shape after cleaning: {df_4_reduced.shape}\")\n"
   ]
  },
  {
   "cell_type": "code",
   "execution_count": 84,
   "id": "8b238009-227c-42c8-9fd4-6fa802259bb9",
   "metadata": {},
   "outputs": [
    {
     "name": "stdout",
     "output_type": "stream",
     "text": [
      "Dropped unnecessary healing milestone columns\n",
      "Updated shape: (429137, 19)\n",
      "updated patients: 189665\n"
     ]
    }
   ],
   "source": [
    "# Drop columns with milestone PCTs (weekly healing metrics)\n",
    "drop_pct_cols = [\n",
    "    'PCT_AREA_HEALED_4W', 'PCT_AREA_HEALED_8W', 'PCT_AREA_HEALED_12W', 'WOUND_TYPE_INVALID_YN',\n",
    "    'PCT_AREA_HEALED_16W', 'PCT_AREA_HEALED_20W',\n",
    "    'PCT_VOLUME_HEALED_4W', 'PCT_VOLUME_HEALED_8W', 'PCT_VOLUME_HEALED_12W',\n",
    "    'PCT_VOLUME_HEALED_16W', 'PCT_VOLUME_HEALED_20W'\n",
    "]\n",
    "\n",
    "df_4_reduced.drop(columns=drop_pct_cols, inplace=True)\n",
    "\n",
    "print(f\"Dropped unnecessary healing milestone columns\")\n",
    "print(f\"Updated shape: {df_4_reduced.shape}\")\n",
    "print(f\"updated patients: {df_4_reduced['empi_nbr_anon'].nunique()}\")\n"
   ]
  },
  {
   "cell_type": "code",
   "execution_count": 85,
   "id": "70301ef6-43d1-4fde-90ba-683e572ef7cc",
   "metadata": {},
   "outputs": [
    {
     "name": "stdout",
     "output_type": "stream",
     "text": [
      "Filtered wound+demo data: (429003, 18)\n"
     ]
    }
   ],
   "source": [
    "\n",
    "# Fill missing LAST_WOUND_AGE_DAYS using LAST_APPROX_WOUND_AGE_DAYS\n",
    "df_4_reduced['LAST_WOUND_AGE_DAYS'] = df_4_reduced['LAST_WOUND_AGE_DAYS'].fillna(\n",
    "    df_4_reduced['LAST_APPROX_WOUND_AGE_DAYS']\n",
    ")\n",
    "\n",
    "# Drop rows where LAST_WOUND_AGE_DAYS is still missing\n",
    "df_4_reduced = df_4_reduced[df_4_reduced['LAST_WOUND_AGE_DAYS'].notna()].copy()\n",
    "\n",
    "# Drop the LAST_APPROX_WOUND_AGE_DAYS column\n",
    "df_4_reduced = df_4_reduced.drop(columns=['LAST_APPROX_WOUND_AGE_DAYS'])\n",
    "\n",
    "#print the shape to confirm changes\n",
    "print(f\"Filtered wound+demo data: {df_4_reduced.shape}\")\n"
   ]
  },
  {
   "cell_type": "code",
   "execution_count": 86,
   "id": "2ffde921-9669-4315-ac89-bb10db961f34",
   "metadata": {},
   "outputs": [
    {
     "name": "stdout",
     "output_type": "stream",
     "text": [
      "\n",
      "Comparison stats between recorded DAYS_TO_HEAL and calculated:\n",
      "count    36770.0\n",
      "mean         0.0\n",
      "std          0.0\n",
      "min          0.0\n",
      "25%          0.0\n",
      "50%          0.0\n",
      "75%          0.0\n",
      "max          0.0\n",
      "dtype: float64\n"
     ]
    }
   ],
   "source": [
    "#check if days_to _heal is equal to the difference between first and last assess dates in the non-null columns\n",
    "\n",
    "df_4_reduced['FIRST_ASSESS_DATE_anon'] = pd.to_datetime(df_4_reduced['FIRST_ASSESS_DATE_anon'], errors='coerce')\n",
    "df_4_reduced['LAST_WOUND_ASSESS_DATE_anon'] = pd.to_datetime(df_4_reduced['LAST_WOUND_ASSESS_DATE_anon'], errors='coerce')\n",
    "\n",
    "df_4_reduced['CALC_DAYS_TO_HEAL'] = (\n",
    "    df_4_reduced['LAST_WOUND_ASSESS_DATE_anon'] - df_4_reduced['FIRST_ASSESS_DATE_anon']\n",
    ").dt.days\n",
    "\n",
    "\n",
    "valid_entries = df_4_reduced[\n",
    "    df_4_reduced['DAYS_TO_HEAL'].notna() &\n",
    "    df_4_reduced['CALC_DAYS_TO_HEAL'].notna() &\n",
    "    (df_4_reduced['CALC_DAYS_TO_HEAL'] >= 0)\n",
    "].copy()\n",
    "\n",
    "valid_entries['DAYS_TO_HEAL'] = pd.to_numeric(valid_entries['DAYS_TO_HEAL'], errors='coerce')\n",
    "comparison = valid_entries['DAYS_TO_HEAL'] - valid_entries['CALC_DAYS_TO_HEAL']\n",
    "print(\"\\nComparison stats between recorded DAYS_TO_HEAL and calculated:\")\n",
    "print(comparison.describe())\n"
   ]
  },
  {
   "cell_type": "code",
   "execution_count": 87,
   "id": "ec4faa37-f01c-4274-8f7d-2ad16dc444b2",
   "metadata": {},
   "outputs": [
    {
     "name": "stdout",
     "output_type": "stream",
     "text": [
      "Cleaned wound+demo data shape: (429003, 19)\n",
      "Remaining missing DAYS_TO_HEAL: 0\n"
     ]
    }
   ],
   "source": [
    "# Step 3: Fill missing DAYS_TO_HEAL where possible\n",
    "mask_days_to_heal_missing = df_4_reduced['DAYS_TO_HEAL'].isna()\n",
    "calculated_days = (\n",
    "    pd.to_datetime(df_4_reduced.loc[mask_days_to_heal_missing, 'LAST_WOUND_ASSESS_DATE_anon']) -\n",
    "    pd.to_datetime(df_4_reduced.loc[mask_days_to_heal_missing, 'FIRST_ASSESS_DATE_anon'])\n",
    ").dt.days\n",
    "\n",
    "df_4_reduced.loc[mask_days_to_heal_missing, 'DAYS_TO_HEAL'] = calculated_days\n",
    "\n",
    "# Step 4: Confirm\n",
    "print(f\"Cleaned wound+demo data shape: {df_4_reduced.shape}\")\n",
    "print(f\"Remaining missing DAYS_TO_HEAL: {df_4_reduced['DAYS_TO_HEAL'].isna().sum()}\")"
   ]
  },
  {
   "cell_type": "code",
   "execution_count": 88,
   "id": "2a5a2a35-a70a-49e1-91b1-2c9d2584a9cf",
   "metadata": {},
   "outputs": [
    {
     "name": "stdout",
     "output_type": "stream",
     "text": [
      "num_wound_types\n",
      "1    96984\n",
      "0    80549\n",
      "2     8666\n",
      "3     2462\n",
      "4      726\n",
      "5      193\n",
      "6       36\n",
      "7       14\n",
      "9        2\n",
      "8        1\n",
      "Name: count, dtype: int64\n"
     ]
    }
   ],
   "source": [
    "# Check if each patient has 1 unique wound type\n",
    "wound_type_variation = (\n",
    "    df_4_reduced.groupby('empi_nbr_anon')['WOUND_TYPE_C']\n",
    "    .nunique()\n",
    "    .reset_index(name='num_wound_types')\n",
    ")\n",
    "\n",
    "print(wound_type_variation['num_wound_types'].value_counts())\n"
   ]
  },
  {
   "cell_type": "code",
   "execution_count": 89,
   "id": "0999ac36-21f0-4def-8dc9-f37a07db1b86",
   "metadata": {},
   "outputs": [
    {
     "name": "stdout",
     "output_type": "stream",
     "text": [
      "Safe forward filling completed!\n"
     ]
    }
   ],
   "source": [
    "# Sort first\n",
    "df_4_reduced = df_4_reduced.sort_values(['empi_nbr_anon', 'FIRST_ASSESS_DATE_anon'])\n",
    "\n",
    "# Forward fill safe columns\n",
    "safe_forward_fill_cols = [\n",
    "    'WOUND_TYPE_C',\n",
    "    'STAGE_INITIAL_C',\n",
    "    'STAGE_CURRENT_C',\n",
    "    'PCT_AREA_HEALED',              \n",
    "    'PCT_VOLUME_HEALED',\n",
    "    'PCT_HEALED_LAST_ENC' \n",
    "]\n",
    "\n",
    "df_4_reduced[safe_forward_fill_cols] = (\n",
    "    df_4_reduced.groupby('empi_nbr_anon')[safe_forward_fill_cols]\n",
    "    .transform('ffill')\n",
    ")\n",
    "\n",
    "print(\"Safe forward filling completed!\")\n"
   ]
  },
  {
   "cell_type": "code",
   "execution_count": 90,
   "id": "ec80b87e-e6d7-4282-86c5-48389276cd4f",
   "metadata": {},
   "outputs": [],
   "source": [
    "df_4_reduced = df_4_reduced.drop(columns= 'CALC_DAYS_TO_HEAL')"
   ]
  },
  {
   "cell_type": "code",
   "execution_count": 91,
   "id": "88778fc1-d055-413a-9197-5a5ba6addd0b",
   "metadata": {},
   "outputs": [],
   "source": [
    "df_4_reduced = df_4_reduced.drop(columns=['dob_anon', 'LAST_WOUND_ASSESS_DATE_anon'])\n"
   ]
  },
  {
   "cell_type": "code",
   "execution_count": 92,
   "id": "8c2aea6c-06f7-4209-965d-fa6a4f8c14ae",
   "metadata": {},
   "outputs": [
    {
     "name": "stdout",
     "output_type": "stream",
     "text": [
      "empi_nbr_anon                      0\n",
      "DAYS_TO_HEAL                       0\n",
      "FIRST_ASSESS_DATE_anon             0\n",
      "LAST_WOUND_AGE_DAYS                0\n",
      "PAT_AGE_YEARS_FIRST_ASSESS         0\n",
      "WOUND_TYPE_C                  169104\n",
      "STAGE_INITIAL_C               370511\n",
      "STAGE_CURRENT_C               370511\n",
      "PCT_HEALED_LAST_ENC           328258\n",
      "PCT_AREA_HEALED               361142\n",
      "PCT_VOLUME_HEALED             373908\n",
      "NUM_OUTPAT_HOV_VISITS              0\n",
      "gender                             0\n",
      "race                               0\n",
      "ethnicity                          0\n",
      "is_deceased                        0\n",
      "dtype: int64\n",
      "patients: 189633\n",
      "(429003, 16)\n"
     ]
    }
   ],
   "source": [
    "print(df_4_reduced.isna().sum())\n",
    "print(f\"patients: {df_4_reduced['empi_nbr_anon'].nunique()}\")\n",
    "print(df_4_reduced.shape)"
   ]
  },
  {
   "cell_type": "markdown",
   "id": "677dab64-035a-4500-8fe0-8719adbe893a",
   "metadata": {},
   "source": [
    "### **DF_1**"
   ]
  },
  {
   "cell_type": "code",
   "execution_count": 93,
   "id": "a30a9f94-a01a-4f44-bd92-7f13bed5e0c1",
   "metadata": {},
   "outputs": [
    {
     "name": "stdout",
     "output_type": "stream",
     "text": [
      "205080\n",
      "Index(['dx_id', 'DX_NAME', 'CURRENT_ICD10_LIST', 'empi_nbr_anon',\n",
      "       'FIRST_DATE_anon', 'LAST_DATE_anon'],\n",
      "      dtype='object')\n",
      "(13440986, 6)\n"
     ]
    }
   ],
   "source": [
    "print(df_1['empi_nbr_anon'].nunique())\n",
    "print(df_1.columns)\n",
    "print(df_1.shape)"
   ]
  },
  {
   "cell_type": "code",
   "execution_count": 94,
   "id": "67e4e4f3-8a87-4fc8-856e-174c01e53999",
   "metadata": {},
   "outputs": [],
   "source": [
    "keep_cols_df1 = [\n",
    "    'empi_nbr_anon',\n",
    "    'DX_NAME',\n",
    "    'CURRENT_ICD10_LIST',\n",
    "    'FIRST_DATE_anon',\n",
    "    'LAST_DATE_anon'\n",
    "]\n"
   ]
  },
  {
   "cell_type": "code",
   "execution_count": 95,
   "id": "fd979b73-ccea-4bf7-a939-b2d3f77374a1",
   "metadata": {},
   "outputs": [
    {
     "name": "stdout",
     "output_type": "stream",
     "text": [
      "Comorbidity data available for 189631 patients\n"
     ]
    }
   ],
   "source": [
    "# Get valid patient IDs from df_4_reduced\n",
    "valid_ids = df_4_reduced['empi_nbr_anon'].unique()\n",
    "\n",
    "# Filter df_1 to only include matching patients\n",
    "df_1_filtered = df_1[df_1['empi_nbr_anon'].isin(valid_ids)][keep_cols_df1].copy()\n",
    "\n",
    "#Inspect how many patients have comorbidity data\n",
    "num_comorbid_patients = df_1_filtered['empi_nbr_anon'].nunique()\n",
    "print(f\"Comorbidity data available for {num_comorbid_patients} patients\")\n"
   ]
  },
  {
   "cell_type": "code",
   "execution_count": 96,
   "id": "8246a962-261b-408e-8bc9-d6b937fa79d1",
   "metadata": {},
   "outputs": [
    {
     "name": "stdout",
     "output_type": "stream",
     "text": [
      "empi_nbr_anon              0\n",
      "DX_NAME                    0\n",
      "CURRENT_ICD10_LIST       915\n",
      "FIRST_DATE_anon        10982\n",
      "LAST_DATE_anon        660432\n",
      "dtype: int64\n",
      "(12769321, 5)\n"
     ]
    }
   ],
   "source": [
    "print(df_1_filtered.isna().sum())\n",
    "print(df_1_filtered.shape)\n"
   ]
  },
  {
   "cell_type": "code",
   "execution_count": 97,
   "id": "ee20a042-1174-481c-ae05-b7500237c686",
   "metadata": {},
   "outputs": [
    {
     "name": "stdout",
     "output_type": "stream",
     "text": [
      "189631 38640\n"
     ]
    }
   ],
   "source": [
    "unique_count = df_1_filtered['empi_nbr_anon'].nunique()\n",
    "unique_count_1 = df_1_filtered['CURRENT_ICD10_LIST'].nunique()\n",
    "print(unique_count, unique_count_1)"
   ]
  },
  {
   "cell_type": "code",
   "execution_count": 98,
   "id": "d0081026-4b6a-4074-87f8-2f324ca54e5d",
   "metadata": {},
   "outputs": [],
   "source": [
    "\n",
    "df_1_filtered = df_1_filtered.dropna(subset=['CURRENT_ICD10_LIST'])\n"
   ]
  },
  {
   "cell_type": "code",
   "execution_count": 99,
   "id": "5977fee6-80b9-46cf-bba6-05883acd4067",
   "metadata": {
    "scrolled": true
   },
   "outputs": [
    {
     "name": "stdout",
     "output_type": "stream",
     "text": [
      "189631\n",
      "(12768406, 5)\n",
      "empi_nbr_anon              0\n",
      "DX_NAME                    0\n",
      "CURRENT_ICD10_LIST         0\n",
      "FIRST_DATE_anon        10982\n",
      "LAST_DATE_anon        660396\n",
      "dtype: int64\n"
     ]
    }
   ],
   "source": [
    "unique_count_2 = df_1_filtered['empi_nbr_anon'].nunique()\n",
    "print(unique_count_2)\n",
    "print(df_1_filtered.shape)\n",
    "print(df_1_filtered.isna().sum())"
   ]
  },
  {
   "cell_type": "code",
   "execution_count": 100,
   "id": "087e7aee-8ee4-4a95-8ad0-b9ef9f94af9c",
   "metadata": {},
   "outputs": [
    {
     "name": "stdout",
     "output_type": "stream",
     "text": [
      "After filtering, shape: (1860631, 5)\n",
      "Unique patients: 189631\n"
     ]
    }
   ],
   "source": [
    "# Step 1: Drop rows with missing LAST_DATE_anon\n",
    "df_1_filtered = df_1_filtered.dropna(subset=['LAST_DATE_anon'])\n",
    "\n",
    "# Step 2: Convert LAST_DATE_anon to datetime if not already\n",
    "df_1_filtered['LAST_DATE_anon'] = pd.to_datetime(df_1_filtered['LAST_DATE_anon'], errors='coerce')\n",
    "\n",
    "# Step 3: Sort by empi_nbr_anon and LAST_DATE_anon descending\n",
    "df_1_filtered = df_1_filtered.sort_values(by=['empi_nbr_anon', 'LAST_DATE_anon'], ascending=[True, False])\n",
    "\n",
    "# Step 4: Keep only top 10 records per patient\n",
    "df_1_top10 = df_1_filtered.groupby('empi_nbr_anon').head(10).reset_index(drop=True)\n",
    "\n",
    "# Step 5:Verify\n",
    "print(f\"After filtering, shape: {df_1_top10.shape}\")\n",
    "print(f\"Unique patients: {df_1_top10['empi_nbr_anon'].nunique()}\")\n"
   ]
  },
  {
   "cell_type": "code",
   "execution_count": 154,
   "id": "8484d227-246e-4e3b-b7ea-cf2bbcaeedb3",
   "metadata": {},
   "outputs": [],
   "source": [
    "df_1_filtered.to_csv(\"Comorbidity data.csv\", index = False)"
   ]
  },
  {
   "cell_type": "code",
   "execution_count": 101,
   "id": "1bd0f05a-f06f-45c4-b886-f1dd76096754",
   "metadata": {},
   "outputs": [
    {
     "name": "stdout",
     "output_type": "stream",
     "text": [
      "empi_nbr_anon         0\n",
      "DX_NAME               0\n",
      "CURRENT_ICD10_LIST    0\n",
      "FIRST_DATE_anon       4\n",
      "LAST_DATE_anon        0\n",
      "dtype: int64\n"
     ]
    }
   ],
   "source": [
    "print(df_1_top10.isna().sum())"
   ]
  },
  {
   "cell_type": "markdown",
   "id": "f97fe69d-e473-4128-a008-26ccad0b2541",
   "metadata": {},
   "source": [
    "### **DF_2**"
   ]
  },
  {
   "cell_type": "code",
   "execution_count": 102,
   "id": "8eb4a761-b0f1-4070-b7bf-6fae6dd9e6ab",
   "metadata": {
    "collapsed": true,
    "jupyter": {
     "outputs_hidden": true
    }
   },
   "outputs": [
    {
     "name": "stdout",
     "output_type": "stream",
     "text": [
      "proc_cat_id                    0\n",
      "proc_cat_name                  0\n",
      "proc_code               10634068\n",
      "proc_desc                      0\n",
      "component_id                   0\n",
      "component                      0\n",
      "loinc_code              10632437\n",
      "result_status                  0\n",
      "lab_result                  2482\n",
      "empi_nbr_anon                  0\n",
      "csn_anon                       0\n",
      "collection_time_anon          34\n",
      "lab_result_time_anon      319567\n",
      "dtype: int64\n"
     ]
    }
   ],
   "source": [
    "print(df_2.isna().sum())"
   ]
  },
  {
   "cell_type": "code",
   "execution_count": 103,
   "id": "55fa34c8-c67f-449c-a603-6e1b8d97a33d",
   "metadata": {},
   "outputs": [
    {
     "data": {
      "text/html": [
       "<div>\n",
       "<style scoped>\n",
       "    .dataframe tbody tr th:only-of-type {\n",
       "        vertical-align: middle;\n",
       "    }\n",
       "\n",
       "    .dataframe tbody tr th {\n",
       "        vertical-align: top;\n",
       "    }\n",
       "\n",
       "    .dataframe thead th {\n",
       "        text-align: right;\n",
       "    }\n",
       "</style>\n",
       "<table border=\"1\" class=\"dataframe\">\n",
       "  <thead>\n",
       "    <tr style=\"text-align: right;\">\n",
       "      <th></th>\n",
       "      <th>empi_nbr_anon</th>\n",
       "      <th>lab_result_time_anon</th>\n",
       "      <th>lab_result</th>\n",
       "      <th>component</th>\n",
       "    </tr>\n",
       "  </thead>\n",
       "  <tbody>\n",
       "    <tr>\n",
       "      <th>0</th>\n",
       "      <td>23144843</td>\n",
       "      <td>2024-12-02 17:29:00</td>\n",
       "      <td>Trace</td>\n",
       "      <td>Ketone Urine Qualitative</td>\n",
       "    </tr>\n",
       "    <tr>\n",
       "      <th>1</th>\n",
       "      <td>96063308</td>\n",
       "      <td>2024-05-19 02:21:00</td>\n",
       "      <td>Negative</td>\n",
       "      <td>Ketone Urine Qualitative</td>\n",
       "    </tr>\n",
       "    <tr>\n",
       "      <th>2</th>\n",
       "      <td>20695236</td>\n",
       "      <td>2023-01-20 11:41:00</td>\n",
       "      <td>Neg</td>\n",
       "      <td>Ketone Urine Qualitative</td>\n",
       "    </tr>\n",
       "    <tr>\n",
       "      <th>3</th>\n",
       "      <td>86642518</td>\n",
       "      <td>2023-06-11 09:44:00</td>\n",
       "      <td>Negative</td>\n",
       "      <td>Ketone Urine Qualitative</td>\n",
       "    </tr>\n",
       "    <tr>\n",
       "      <th>4</th>\n",
       "      <td>23810185</td>\n",
       "      <td>2023-12-28 13:02:00</td>\n",
       "      <td>Neg</td>\n",
       "      <td>Ketone Urine Qualitative</td>\n",
       "    </tr>\n",
       "  </tbody>\n",
       "</table>\n",
       "</div>"
      ],
      "text/plain": [
       "   empi_nbr_anon lab_result_time_anon lab_result                 component\n",
       "0       23144843  2024-12-02 17:29:00      Trace  Ketone Urine Qualitative\n",
       "1       96063308  2024-05-19 02:21:00   Negative  Ketone Urine Qualitative\n",
       "2       20695236  2023-01-20 11:41:00        Neg  Ketone Urine Qualitative\n",
       "3       86642518  2023-06-11 09:44:00   Negative  Ketone Urine Qualitative\n",
       "4       23810185  2023-12-28 13:02:00        Neg  Ketone Urine Qualitative"
      ]
     },
     "execution_count": 103,
     "metadata": {},
     "output_type": "execute_result"
    }
   ],
   "source": [
    "# Step 1: Drop rows with critical nulls\n",
    "df_2_cleaned = df_2.dropna(subset=['lab_result', 'lab_result_time_anon', 'empi_nbr_anon'])\n",
    "\n",
    "# Step 2: Keep only relevant columns\n",
    "df_2_cleaned = df_2_cleaned[['empi_nbr_anon', 'lab_result_time_anon', 'lab_result', 'component']]\n",
    "\n",
    "# Optional: Parse timestamp\n",
    "df_2_cleaned['lab_result_time_anon'] = pd.to_datetime(df_2_cleaned['lab_result_time_anon'], errors='coerce')\n",
    "\n",
    "df_2_cleaned.head()"
   ]
  },
  {
   "cell_type": "code",
   "execution_count": 104,
   "id": "797a3a9c-4115-43dc-a67a-67852e160565",
   "metadata": {},
   "outputs": [
    {
     "name": "stdout",
     "output_type": "stream",
     "text": [
      "empi_nbr_anon           0\n",
      "lab_result_time_anon    0\n",
      "lab_result              0\n",
      "component               0\n",
      "dtype: int64\n"
     ]
    }
   ],
   "source": [
    "print(df_2_cleaned.isna().sum())"
   ]
  },
  {
   "cell_type": "markdown",
   "id": "166a61bb-252c-4965-acc6-812e5163fb60",
   "metadata": {},
   "source": [
    " Most of the values in lab result were numerical so deleted the few categorical one's"
   ]
  },
  {
   "cell_type": "code",
   "execution_count": 105,
   "id": "ef049ea5-8ee4-4c72-8361-54d2fa4a7a18",
   "metadata": {},
   "outputs": [],
   "source": [
    "# Step 1: Normalize values in-place\n",
    "df_2_cleaned['lab_result'] = df_2_cleaned['lab_result'].astype(str).str.strip().str.lower()\n",
    "\n",
    "# Step 2: Filter to keep only valid numeric or interpretable results\n",
    "def is_valid_lab_result(val):\n",
    "    try:\n",
    "        float(val)  # valid numeric value\n",
    "        return True\n",
    "    except:\n",
    "        return val in ['positive', 'negative', 'trace', 'small', 'moderate', 'large']\n",
    "\n",
    "df_2_cleaned = df_2_cleaned[df_2_cleaned['lab_result'].apply(is_valid_lab_result)].copy()\n"
   ]
  },
  {
   "cell_type": "code",
   "execution_count": 106,
   "id": "eeeec952-13a1-4722-89a6-90fe54799323",
   "metadata": {},
   "outputs": [
    {
     "name": "stdout",
     "output_type": "stream",
     "text": [
      "      empi_nbr_anon  lab_result\n",
      "6   505145333391334        80.0\n",
      "7          66525184        15.0\n",
      "14         32531570        20.0\n",
      "20         12356951         5.0\n",
      "21         60419008        80.0\n",
      "Filtered lab data shape: (9017042, 4)\n"
     ]
    }
   ],
   "source": [
    "#Filter out non-numeric values\n",
    "# Try to convert to numeric (invalid parsing will become NaN)\n",
    "df_2_cleaned['lab_result_numeric'] = pd.to_numeric(df_2_cleaned['lab_result'], errors='coerce')\n",
    "\n",
    "# Drop rows where conversion failed (i.e., strings like 'moderate', 'trace', etc.)\n",
    "df_2_cleaned_numeric_only = df_2_cleaned[df_2_cleaned['lab_result_numeric'].notna()].copy()\n",
    "\n",
    "# Optional: Drop original string column if no longer needed\n",
    "df_2_cleaned_numeric_only.drop(columns=['lab_result'], inplace=True)\n",
    "\n",
    "# Rename column back to 'lab_result' if you want consistency\n",
    "df_2_cleaned_numeric_only.rename(columns={'lab_result_numeric': 'lab_result'}, inplace=True)\n",
    "\n",
    "# Confirm the result\n",
    "print(df_2_cleaned_numeric_only[['empi_nbr_anon', 'lab_result']].head())\n",
    "print(f\"Filtered lab data shape: {df_2_cleaned_numeric_only.shape}\")\n"
   ]
  },
  {
   "cell_type": "code",
   "execution_count": 152,
   "id": "91b12eb0-066a-469c-9a19-c9ec5ace70f3",
   "metadata": {},
   "outputs": [],
   "source": [
    "df_2_cleaned_numeric_only.to_csv(\"complete_lab.csv\", index=False)"
   ]
  },
  {
   "cell_type": "code",
   "execution_count": 107,
   "id": "70cf45f9-adab-436c-a3f8-09acd0391c18",
   "metadata": {},
   "outputs": [
    {
     "name": "stdout",
     "output_type": "stream",
     "text": [
      "Unique patients with numeric lab results: 36334\n"
     ]
    }
   ],
   "source": [
    "num_unique_patients = df_2_cleaned_numeric_only['empi_nbr_anon'].nunique()\n",
    "print(f\"Unique patients with numeric lab results: {num_unique_patients}\")\n"
   ]
  },
  {
   "cell_type": "code",
   "execution_count": 108,
   "id": "fa108082-50fd-4508-a0d2-438f827a94e6",
   "metadata": {
    "scrolled": true
   },
   "outputs": [
    {
     "name": "stdout",
     "output_type": "stream",
     "text": [
      "After top-10 filtering, shape: (336519, 4)\n",
      "Unique patients: 36334\n",
      "   empi_nbr_anon lab_result_time_anon                        component  \\\n",
      "0       10006796  2023-05-07 23:01:00                    Estimated GFR   \n",
      "1       10006796  2023-05-07 21:53:00            Immature Granulocytes   \n",
      "2       10006796  2023-05-07 21:53:00  Eosinophil, Auto Absolute Count   \n",
      "3       10006796  2023-05-07 21:53:00    Basophil, Auto Absolute Count   \n",
      "4       10006796  2023-05-07 21:53:00                 Lymphocyte, Auto   \n",
      "\n",
      "   lab_result  \n",
      "0       77.00  \n",
      "1        0.00  \n",
      "2        0.07  \n",
      "3        0.06  \n",
      "4       35.00  \n"
     ]
    }
   ],
   "source": [
    "# Step 1: Convert lab_result_time_anon to datetime if not already\n",
    "df_2_cleaned_numeric_only['lab_result_time_anon'] = pd.to_datetime(\n",
    "    df_2_cleaned_numeric_only['lab_result_time_anon'], errors='coerce'\n",
    ")\n",
    "\n",
    "# Step 2: Sort by empi_nbr_anon and lab_result_time_anon descending (latest first)\n",
    "df_2_cleaned_numeric_only = df_2_cleaned_numeric_only.sort_values(\n",
    "    by=['empi_nbr_anon', 'lab_result_time_anon'],\n",
    "    ascending=[True, False]\n",
    ")\n",
    "\n",
    "# Step 3: Keep only top 10 lab observations per patient\n",
    "df_2_top10 = (\n",
    "    df_2_cleaned_numeric_only\n",
    "    .groupby('empi_nbr_anon')\n",
    "    .head(10)\n",
    "    .reset_index(drop=True)\n",
    ")\n",
    "\n",
    "# Step 4: (optional) Verify\n",
    "print(f\"After top-10 filtering, shape: {df_2_top10.shape}\")\n",
    "print(f\"Unique patients: {df_2_top10['empi_nbr_anon'].nunique()}\")\n",
    "print(df_2_top10.head())\n"
   ]
  },
  {
   "cell_type": "markdown",
   "id": "ec9e3c77-1df7-40a3-a2f2-265ee5c42ba8",
   "metadata": {},
   "source": [
    "### **Finalizing the dataset**"
   ]
  },
  {
   "cell_type": "code",
   "execution_count": 109,
   "id": "a799fc20-5cf0-4cec-b2f8-7c0d6d114749",
   "metadata": {},
   "outputs": [
    {
     "name": "stdout",
     "output_type": "stream",
     "text": [
      "Common patients found: 34,337\n"
     ]
    }
   ],
   "source": [
    "# Step 1: Extract unique patient IDs from each current dataset\n",
    "lab_patients = set(df_2_top10['empi_nbr_anon'].dropna().unique())\n",
    "comorb_patients = set(df_1_top10['empi_nbr_anon'].dropna().unique())\n",
    "wound_patients = set(df_4_reduced['empi_nbr_anon'].dropna().unique())\n",
    "\n",
    "# Step 2: Find common patients across all three\n",
    "common_patients = wound_patients & lab_patients & comorb_patients\n",
    "\n",
    "print(f\"Common patients found: {len(common_patients):,}\")\n"
   ]
  },
  {
   "cell_type": "markdown",
   "id": "b2d7e28f-0c3a-4d81-8ad2-6a207b2c06d6",
   "metadata": {},
   "source": [
    "### **DF**"
   ]
  },
  {
   "cell_type": "code",
   "execution_count": 111,
   "id": "5aa58d03-b521-4b03-9c57-12727b64ecc1",
   "metadata": {},
   "outputs": [
    {
     "name": "stdout",
     "output_type": "stream",
     "text": [
      "(14597466, 7)\n",
      "33987\n"
     ]
    }
   ],
   "source": [
    "\n",
    "df = df[df['empi_nbr_anon'].isin(common_patients)].copy()\n",
    "print(df.shape)\n",
    "print(df['empi_nbr_anon']. nunique())"
   ]
  },
  {
   "cell_type": "code",
   "execution_count": 112,
   "id": "fabdb994-3574-45de-b9a1-a1134c8100e3",
   "metadata": {},
   "outputs": [
    {
     "name": "stdout",
     "output_type": "stream",
     "text": [
      "flo_meas_id                0\n",
      "FLO_MEAS_NAME              0\n",
      "DISP_NAME                  0\n",
      "MEAS_VALUE            663129\n",
      "empi_nbr_anon              0\n",
      "csn_anon                   0\n",
      "RECORDED_TIME_anon         0\n",
      "dtype: int64\n",
      "(14597466, 7)\n"
     ]
    }
   ],
   "source": [
    "print(df.isna().sum())\n",
    "print(df.shape)"
   ]
  },
  {
   "cell_type": "code",
   "execution_count": 113,
   "id": "9f36277d-5e1b-4be3-ac6c-d77a6eef7a3b",
   "metadata": {},
   "outputs": [
    {
     "name": "stdout",
     "output_type": "stream",
     "text": [
      "DISP_NAME\n",
      "Site Assessment                                                                     1600966\n",
      "Peri-Wound Assessment                                                               1390660\n",
      "Sensory Perception                                                                  1195075\n",
      "Moisture                                                                            1194203\n",
      "Nutrition                                                                           1193330\n",
      "                                                                                     ...   \n",
      "Wound Type                                                                                4\n",
      "Incisions, wounds, or drain sites healing without sign and symptoms of infection          4\n",
      "Wound Location and Size                                                                   3\n",
      "Wound Closure                                                                             2\n",
      "E-Stim, Non-Wound (Unattended, Medicare) Time Entry (HCPCS G0283)                         2\n",
      "Name: count, Length: 82, dtype: int64\n"
     ]
    }
   ],
   "source": [
    "print(df['DISP_NAME'].value_counts())\n"
   ]
  },
  {
   "cell_type": "code",
   "execution_count": 114,
   "id": "3fc713d9-01b1-4fb0-8957-551655c1ce13",
   "metadata": {
    "collapsed": true,
    "jupyter": {
     "outputs_hidden": true
    }
   },
   "outputs": [
    {
     "name": "stdout",
     "output_type": "stream",
     "text": [
      "Final flo_meas pivoted data:\n",
      "(2023966, 83)\n",
      "   empi_nbr_anon   RECORDED_TIME_anon $ Wound Debridement Charges  \\\n",
      "0       10006796  2025-06-24 00:03:00                         NaN   \n",
      "1       10006796  2025-06-30 09:10:00                         NaN   \n",
      "\n",
      "  (READ ONLY) Shape Activity Additional Tunneling Additional Undermining  \\\n",
      "0               NaN      NaN                  NaN                    NaN   \n",
      "1               NaN      NaN                  NaN                    NaN   \n",
      "\n",
      "  Anticipated Date of Next WOC Visit (This field is required)  \\\n",
      "0                                                NaN            \n",
      "1                                                NaN            \n",
      "\n",
      "  Assigned WOC Nurse Braden Q Score  ...  \\\n",
      "0                NaN            NaN  ...   \n",
      "1                NaN            NaN  ...   \n",
      "\n",
      "  Wound Photo Contraindication Reason(s) Wound Photo Taken Wound Photos Taken  \\\n",
      "0                                    NaN               NaN                NaN   \n",
      "1                                    NaN               NaN                NaN   \n",
      "\n",
      "  Wound Present on Admission? Wound Surface Area (cm^2) Wound Type  \\\n",
      "0                         NaN                       NaN        NaN   \n",
      "1                         NaN                       NaN        NaN   \n",
      "\n",
      "  Wound Ultrasound/MIST (Low Freq, Non-Contact, Non-Therm) Time Entry (97610)  \\\n",
      "0                                                NaN                            \n",
      "1                                                NaN                            \n",
      "\n",
      "  Wound Volume (cm^3) Wound Width (cm) Wounds Assessed  \n",
      "0                 NaN              NaN             NaN  \n",
      "1                 NaN              NaN             NaN  \n",
      "\n",
      "[2 rows x 83 columns]\n",
      "33986\n"
     ]
    }
   ],
   "source": [
    "# Step 1: Drop rows with missing MEAS_VALUE\n",
    "df_cleaned = df.dropna(subset=['MEAS_VALUE']).copy()\n",
    "\n",
    "# Step 2: Drop unnecessary columns\n",
    "df_cleaned.drop(columns=['csn_anon', 'flo_meas_id','FLO_MEAS_NAME'], inplace=True)\n",
    "\n",
    "# Step 3: Pivot the table\n",
    "df_pivoted = df_cleaned.pivot_table(\n",
    "    index=['empi_nbr_anon', 'RECORDED_TIME_anon'],  # Each patient-time combo\n",
    "    columns='DISP_NAME',\n",
    "    values='MEAS_VALUE',\n",
    "    aggfunc='first'  # In case multiple measurements per time, take first\n",
    ").reset_index()\n",
    "\n",
    "# Step 4: Flatten the columns (after pivot, the DISP_NAME becomes columns)\n",
    "df_pivoted.columns.name = None  # Remove pivot table hierarchy\n",
    "\n",
    "# Confirm final structure\n",
    "print(\"Final flo_meas pivoted data:\")\n",
    "print(df_pivoted.shape)\n",
    "print(df_pivoted.head(2))\n",
    "print(df_pivoted['empi_nbr_anon']. nunique())\n"
   ]
  },
  {
   "cell_type": "code",
   "execution_count": 117,
   "id": "ffe48913-f1b6-4eca-a5fd-f42de9f66c9f",
   "metadata": {
    "scrolled": true
   },
   "outputs": [
    {
     "name": "stdout",
     "output_type": "stream",
     "text": [
      "Final shape after dropping sparse DISP_NAME columns: (2023966, 28)\n"
     ]
    }
   ],
   "source": [
    "# Step 2: Drop extremely sparse columns\n",
    "# Keep only features available for >=1% of data\n",
    "threshold = 0.01  # keep columns with at least 1% non-missing\n",
    "valid_cols = df_pivoted.isna().mean() < (1 - threshold)\n",
    "df_pivoted = df_pivoted.loc[:, valid_cols]\n",
    "\n",
    "print(f\"Final shape after dropping sparse DISP_NAME columns: {df_pivoted.shape}\")\n",
    "\n"
   ]
  },
  {
   "cell_type": "code",
   "execution_count": 115,
   "id": "cc72db99-f595-4dcb-a8aa-296f755ee217",
   "metadata": {},
   "outputs": [
    {
     "name": "stdout",
     "output_type": "stream",
     "text": [
      "33986\n"
     ]
    }
   ],
   "source": [
    "print(df_pivoted['empi_nbr_anon']. nunique())"
   ]
  },
  {
   "cell_type": "code",
   "execution_count": 118,
   "id": "ef54048d-85b9-47b9-a3f7-8611995b2a40",
   "metadata": {
    "collapsed": true,
    "jupyter": {
     "outputs_hidden": true
    }
   },
   "outputs": [
    {
     "name": "stdout",
     "output_type": "stream",
     "text": [
      "                                  column  percent_missing\n",
      "27           Wound Present on Admission?        98.828241\n",
      "23          Wound Description (Comments)        98.646766\n",
      "26                     Wound Photo Taken        98.268202\n",
      "15                                  Odor        98.249526\n",
      "19                    Primary Wound Type        97.883215\n",
      "25            Wound Location Orientation        97.324165\n",
      "24                           Wound Image        97.311368\n",
      "18  Pressure Injury or Non-Healing Wound        97.098370\n",
      "10                              Location        97.040019\n",
      "13          Non-staged Wound Description        96.634726\n",
      "11                               Margins        95.387620\n",
      "4                        Drainage Amount        94.383601\n",
      "22                            Treatments        93.934977\n",
      "3                                Closure        92.479913\n",
      "7                       Dressing Changed        92.144038\n",
      "5                   Drainage Description        89.147545\n",
      "6                               Dressing        71.539245\n",
      "17                 Peri-Wound Assessment        52.232745\n",
      "21                       Site Assessment        47.751395\n",
      "2                     Braden Scale Score        41.300200\n",
      "8                     Friction and Shear        41.162895\n",
      "14                             Nutrition        41.075838\n",
      "9                        In Bed Mobility        41.062992\n",
      "16                   Out of Bed Activity        41.049207\n",
      "12                              Moisture        41.033298\n",
      "20                    Sensory Perception        40.990362\n",
      "1                     RECORDED_TIME_anon         0.000000\n",
      "0                          empi_nbr_anon         0.000000\n"
     ]
    }
   ],
   "source": [
    "# Calculate missing percentage per column\n",
    "missing_info = (\n",
    "    df_pivoted.isna().mean() * 100\n",
    ").reset_index().rename(columns={0: 'percent_missing', 'index': 'column'})\n",
    "\n",
    "# Sort nicely\n",
    "missing_info = missing_info.sort_values(by='percent_missing', ascending=False)\n",
    "\n",
    "print(missing_info)\n"
   ]
  },
  {
   "cell_type": "code",
   "execution_count": 119,
   "id": "a29ee603-3c12-4bcc-9b0b-0849e34d71cc",
   "metadata": {
    "collapsed": true,
    "jupyter": {
     "outputs_hidden": true
    }
   },
   "outputs": [
    {
     "name": "stdout",
     "output_type": "stream",
     "text": [
      "0      5\n",
      "5      5\n",
      "113    5\n",
      "131    5\n",
      "212    5\n",
      "214    5\n",
      "227    5\n",
      "251    4\n",
      "260    4\n",
      "329    5\n",
      "Name: Primary Wound Type, dtype: object\n",
      "Primary Wound Type\n",
      "5         18586\n",
      "100009     7844\n",
      "100010     5477\n",
      "1          2968\n",
      "99999      2423\n",
      "6          1634\n",
      "100000      920\n",
      "8           661\n",
      "100002      496\n",
      "4           400\n",
      "100003      333\n",
      "2           270\n",
      "3           164\n",
      "100011      128\n",
      "11          128\n",
      "100008      104\n",
      "7            94\n",
      "100004       75\n",
      "10           38\n",
      "100005       35\n",
      "100001       27\n",
      "9            22\n",
      "100006       16\n",
      "Name: count, dtype: int64\n"
     ]
    }
   ],
   "source": [
    "print(df_pivoted['Primary Wound Type'].dropna().head(10))\n",
    "print(df_pivoted['Primary Wound Type'].value_counts())"
   ]
  },
  {
   "cell_type": "code",
   "execution_count": 76,
   "id": "d8ecf110-3320-40c6-85f2-1d2fd6fc929d",
   "metadata": {
    "collapsed": true,
    "jupyter": {
     "outputs_hidden": true
    }
   },
   "outputs": [
    {
     "name": "stdout",
     "output_type": "stream",
     "text": [
      "113      No\n",
      "214      No\n",
      "335     Yes\n",
      "579     Yes\n",
      "603     Yes\n",
      "626      No\n",
      "645      No\n",
      "701      No\n",
      "1096     No\n",
      "1158    Yes\n",
      "Name: Wound Present on Admission?, dtype: object\n",
      "Wound Present on Admission?\n",
      "No                         13952\n",
      "Yes                         9196\n",
      "Clinically undetermined      569\n",
      "Name: count, dtype: int64\n"
     ]
    }
   ],
   "source": [
    "print(df_pivoted['Wound Present on Admission?'].dropna().head(10))\n",
    "print(df_pivoted['Wound Present on Admission?'].value_counts())"
   ]
  },
  {
   "cell_type": "code",
   "execution_count": 120,
   "id": "d9bc7ff3-72f2-44f5-acb2-d222eb3bef47",
   "metadata": {},
   "outputs": [
    {
     "name": "stdout",
     "output_type": "stream",
     "text": [
      "Dropped sparse/unrelated columns. Shape: (2023966, 22)\n",
      "Forward fill completed! Shape after ffill: (2023966, 22)\n",
      "Dropped 1618964 rows with critical skin assessment missing.\n",
      "Shape after row drop: (405002, 22)\n",
      "18214\n"
     ]
    }
   ],
   "source": [
    "# Step 1: Drop totally irrelevant sparse columns first\n",
    "cols_to_drop_completely = [\n",
    "    'Wound Description (Comments)', 'Odor',\n",
    "    'Wound Location Orientation', 'Wound Image',\n",
    "    'Non-staged Wound Description', 'Wound Photo Taken'\n",
    "]\n",
    "\n",
    "df_pivoted = df_pivoted.drop(columns=[col for col in cols_to_drop_completely if col in df_pivoted.columns])\n",
    "print(f\"Dropped sparse/unrelated columns. Shape: {df_pivoted.shape}\")\n",
    "\n",
    "# Step 2: Sort properly\n",
    "df_pivoted = df_pivoted.sort_values(['empi_nbr_anon', 'RECORDED_TIME_anon'])\n",
    "\n",
    "# Step 3: Forward fill important clinical columns patient-wise\n",
    "important_ffill_cols = [\n",
    "    'Wound Present on Admission?', 'Primary Wound Type', 'Pressure Injury or Non-Healing Wound',\n",
    "    'Location', 'Margins', 'Drainage Amount', 'Treatments', 'Closure',\n",
    "    'Dressing Changed', 'Drainage Description', 'Dressing'\n",
    "]\n",
    "\n",
    "for col in important_ffill_cols:\n",
    "    if col in df_pivoted.columns:\n",
    "        df_pivoted[col] = df_pivoted.groupby('empi_nbr_anon')[col].ffill()\n",
    "\n",
    "print(f\"Forward fill completed! Shape after ffill: {df_pivoted.shape}\")\n",
    "\n",
    "# Step 4: Encode \"Wound Present on Admission?\" if available\n",
    "if 'Wound Present on Admission?' in df_pivoted.columns:\n",
    "    df_pivoted['Wound Present on Admission?'] = df_pivoted['Wound Present on Admission?'].map({'yes': 1, 'no': 0, 'Clinically undetermined ': 3})\n",
    "\n",
    "# Step 5: Drop rows missing key skin assessment columns\n",
    "columns_required_for_row = [\n",
    "    'Peri-Wound Assessment', 'Site Assessment', 'Braden Scale Score',\n",
    "    'Friction and Shear', 'Nutrition', 'In Bed Mobility',\n",
    "    'Out of Bed Activity', 'Moisture', 'Sensory Perception'\n",
    "]\n",
    "\n",
    "before_row_drop = df_pivoted.shape[0]\n",
    "df_pivoted = df_pivoted.dropna(subset=[col for col in columns_required_for_row if col in df_pivoted.columns])\n",
    "after_row_drop = df_pivoted.shape[0]\n",
    "\n",
    "print(f\"Dropped {before_row_drop - after_row_drop} rows with critical skin assessment missing.\")\n",
    "print(f\"Shape after row drop: {df_pivoted.shape}\")\n",
    "print(df_pivoted['empi_nbr_anon']. nunique())\n"
   ]
  },
  {
   "cell_type": "code",
   "execution_count": 121,
   "id": "38865653-817a-4753-8550-2deea21a3221",
   "metadata": {},
   "outputs": [
    {
     "name": "stdout",
     "output_type": "stream",
     "text": [
      "                                  column  percent_missing\n",
      "21           Wound Present on Admission?       100.000000\n",
      "11                               Margins        53.945413\n",
      "3                                Closure        38.951166\n",
      "4                        Drainage Amount        37.800307\n",
      "5                   Drainage Description        30.636392\n",
      "20                            Treatments        24.879136\n",
      "7                       Dressing Changed        16.305845\n",
      "16  Pressure Injury or Non-Healing Wound        10.831551\n",
      "17                    Primary Wound Type         7.006385\n",
      "6                               Dressing         3.375045\n",
      "10                              Location         0.604688\n",
      "2                     Braden Scale Score         0.000000\n",
      "0                          empi_nbr_anon         0.000000\n",
      "1                     RECORDED_TIME_anon         0.000000\n",
      "13                             Nutrition         0.000000\n",
      "12                              Moisture         0.000000\n",
      "8                     Friction and Shear         0.000000\n",
      "9                        In Bed Mobility         0.000000\n",
      "14                   Out of Bed Activity         0.000000\n",
      "15                 Peri-Wound Assessment         0.000000\n",
      "19                       Site Assessment         0.000000\n",
      "18                    Sensory Perception         0.000000\n"
     ]
    }
   ],
   "source": [
    "missing_info = (\n",
    "    df_pivoted.isna().mean() * 100\n",
    ").reset_index().rename(columns={0: 'percent_missing', 'index': 'column'})\n",
    "\n",
    "# Sort nicely\n",
    "missing_info = missing_info.sort_values(by='percent_missing', ascending=False)\n",
    "\n",
    "print(missing_info)\n"
   ]
  },
  {
   "cell_type": "code",
   "execution_count": 129,
   "id": "6a06fd9a-396f-4073-b40a-3090f4aa9894",
   "metadata": {},
   "outputs": [
    {
     "name": "stdout",
     "output_type": "stream",
     "text": [
      "Shape after dropping fully sparse skin rows: (104400, 21)\n",
      "Unique patients remaining: 2072\n"
     ]
    }
   ],
   "source": [
    "# Drop rows where ALL key sparse columns are missing\n",
    "key_sparse_cols = [\n",
    "    'Margins', 'Closure', 'Drainage Amount', 'Drainage Description',\n",
    "    'Treatments', 'Dressing Changed', 'Pressure Injury or Non-Healing Wound'\n",
    "]\n",
    "\n",
    "# Only drop if all key columns are NaN\n",
    "df_pivoted = df_pivoted.dropna(subset=key_sparse_cols, how='any')\n",
    "\n",
    "print(f\"Shape after dropping fully sparse skin rows: {df_pivoted.shape}\")\n",
    "print(f\"Unique patients remaining: {df_pivoted['empi_nbr_anon'].nunique()}\")\n"
   ]
  },
  {
   "cell_type": "code",
   "execution_count": 130,
   "id": "6b498068-89af-4528-8387-0f4847c0dbc5",
   "metadata": {},
   "outputs": [
    {
     "name": "stdout",
     "output_type": "stream",
     "text": [
      "                                  column  percent_missing\n",
      "17                    Primary Wound Type         0.977011\n",
      "10                              Location         0.008621\n",
      "2                     Braden Scale Score         0.000000\n",
      "1                     RECORDED_TIME_anon         0.000000\n",
      "0                          empi_nbr_anon         0.000000\n",
      "4                        Drainage Amount         0.000000\n",
      "3                                Closure         0.000000\n",
      "7                       Dressing Changed         0.000000\n",
      "5                   Drainage Description         0.000000\n",
      "8                     Friction and Shear         0.000000\n",
      "9                        In Bed Mobility         0.000000\n",
      "11                               Margins         0.000000\n",
      "6                               Dressing         0.000000\n",
      "12                              Moisture         0.000000\n",
      "13                             Nutrition         0.000000\n",
      "15                 Peri-Wound Assessment         0.000000\n",
      "14                   Out of Bed Activity         0.000000\n",
      "16  Pressure Injury or Non-Healing Wound         0.000000\n",
      "18                    Sensory Perception         0.000000\n",
      "19                       Site Assessment         0.000000\n",
      "20                            Treatments         0.000000\n"
     ]
    }
   ],
   "source": [
    "missing_info = (\n",
    "    df_pivoted.isna().mean() * 100\n",
    ").reset_index().rename(columns={0: 'percent_missing', 'index': 'column'})\n",
    "\n",
    "# Sort nicely\n",
    "missing_info = missing_info.sort_values(by='percent_missing', ascending=False)\n",
    "\n",
    "print(missing_info)"
   ]
  },
  {
   "cell_type": "code",
   "execution_count": 132,
   "id": "65066733-fabc-44c1-b2f4-066d338bbae4",
   "metadata": {},
   "outputs": [
    {
     "name": "stdout",
     "output_type": "stream",
     "text": [
      "Dropped 'Wound Present on Admission?' from df_pivoted. New shape: (104400, 21)\n",
      "Dropped 'WOUND_TYPE_C' from df_4_reduced. New shape: (429003, 15)\n"
     ]
    }
   ],
   "source": [
    "#remore the columns whih are redundant :\n",
    "if 'Wound Present on Admission?' in df_pivoted.columns:\n",
    "    df_pivoted = df_pivoted.drop(columns=['Wound Present on Admission?'])\n",
    "print(f\"Dropped 'Wound Present on Admission?' from df_pivoted. New shape: {df_pivoted.shape}\")\n",
    "if 'WOUND_TYPE_C' in df_4_reduced.columns:\n",
    "    df_4_reduced = df_4_reduced.drop(columns=['WOUND_TYPE_C'])\n",
    "print(f\"Dropped 'WOUND_TYPE_C' from df_4_reduced. New shape: {df_4_reduced.shape}\")"
   ]
  },
  {
   "cell_type": "markdown",
   "id": "a7e386a7-11e9-4a45-90a7-238792b5d938",
   "metadata": {},
   "source": [
    "### **Merging the data**"
   ]
  },
  {
   "cell_type": "code",
   "execution_count": 133,
   "id": "90c4ce81-f4aa-4315-8dbe-454f624cdba2",
   "metadata": {},
   "outputs": [
    {
     "name": "stdout",
     "output_type": "stream",
     "text": [
      "Patients in df_4_reduced (wound+demo): 189,633\n",
      "Patients in df_1_top10 (comorbidities): 189,631\n",
      "Patients in df_2_top10 (labs): 36,334\n",
      "Patients in df_pivoted (skin assessments): 2,072\n"
     ]
    }
   ],
   "source": [
    "print(f\"Patients in df_4_reduced (wound+demo): {df_4_reduced['empi_nbr_anon'].nunique():,}\")\n",
    "print(f\"Patients in df_1_top10 (comorbidities): {df_1_top10['empi_nbr_anon'].nunique():,}\")\n",
    "print(f\"Patients in df_2_top10 (labs): {df_2_top10['empi_nbr_anon'].nunique():,}\")\n",
    "print(f\"Patients in df_pivoted (skin assessments): {df_pivoted['empi_nbr_anon'].nunique():,}\")\n"
   ]
  },
  {
   "cell_type": "code",
   "execution_count": 134,
   "id": "3806bf96-7e7b-4367-a3f8-5716100d285a",
   "metadata": {},
   "outputs": [
    {
     "name": "stdout",
     "output_type": "stream",
     "text": [
      "Common patients across all datasets: 2,072\n"
     ]
    }
   ],
   "source": [
    "# Step 1: Find common patients across all datasets\n",
    "common_patients = (\n",
    "    set(df_4_reduced['empi_nbr_anon']) &\n",
    "    set(df_1_top10['empi_nbr_anon']) &\n",
    "    set(df_2_top10['empi_nbr_anon']) &\n",
    "    set(df_pivoted['empi_nbr_anon'])\n",
    ")\n",
    "\n",
    "print(f\"Common patients across all datasets: {len(common_patients):,}\")\n",
    "\n",
    "# Step 2: Filter each dataset to only keep common patients\n",
    "df_4_reduced = df_4_reduced[df_4_reduced['empi_nbr_anon'].isin(common_patients)].copy()\n",
    "df_1_top10 = df_1_top10[df_1_top10['empi_nbr_anon'].isin(common_patients)].copy()\n",
    "df_2_top10 = df_2_top10[df_2_top10['empi_nbr_anon'].isin(common_patients)].copy()\n",
    "df_pivoted = df_pivoted[df_pivoted['empi_nbr_anon'].isin(common_patients)].copy()\n"
   ]
  },
  {
   "cell_type": "code",
   "execution_count": 135,
   "id": "850e87f4-4cf3-4b69-abc5-d67b789a5dec",
   "metadata": {},
   "outputs": [
    {
     "name": "stdout",
     "output_type": "stream",
     "text": [
      "df_4_reduced (wound+demo) shape: (20638, 15)\n",
      "df_1_top10 (comorbidities) shape: (20720, 5)\n",
      "df_2_top10 (labs) shape: (19958, 4)\n",
      "df_pivoted (skin assessments) shape: (104400, 21)\n"
     ]
    }
   ],
   "source": [
    "# Show final shapes\n",
    "print(f\"df_4_reduced (wound+demo) shape: {df_4_reduced.shape}\")\n",
    "print(f\"df_1_top10 (comorbidities) shape: {df_1_top10.shape}\")\n",
    "print(f\"df_2_top10 (labs) shape: {df_2_top10.shape}\")\n",
    "print(f\"df_pivoted (skin assessments) shape: {df_pivoted.shape}\")\n"
   ]
  },
  {
   "cell_type": "code",
   "execution_count": 136,
   "id": "83fd2d5e-a36b-4aa5-b26f-e2aed1b96c62",
   "metadata": {},
   "outputs": [],
   "source": [
    "# 1. Wound + Demographic Data\n",
    "df_4_reduced = df_4_reduced.rename(columns={'FIRST_ASSESS_DATE_anon': 'event_timestamp'})\n",
    "df_4_reduced['event_timestamp'] = pd.to_datetime(df_4_reduced['event_timestamp'], errors='coerce')\n",
    "\n",
    "# 2. Skin Assessments (Pivoted)\n",
    "df_pivoted = df_pivoted.rename(columns={'RECORDED_TIME_anon': 'event_timestamp'})\n",
    "df_pivoted['event_timestamp'] = pd.to_datetime(df_pivoted['event_timestamp'], errors='coerce')\n",
    "\n",
    "# 3. Lab Results\n",
    "df_2_top10 = df_2_top10.rename(columns={'lab_result_time_anon': 'event_timestamp'})\n",
    "df_2_top10['event_timestamp'] = pd.to_datetime(df_2_top10['event_timestamp'], errors='coerce')\n",
    "\n",
    "# 4. Comorbidities\n",
    "df_1_top10 = df_1_top10.rename(columns={'LAST_DATE_anon': 'event_timestamp'})\n",
    "df_1_top10['event_timestamp'] = pd.to_datetime(df_1_top10['event_timestamp'], errors='coerce')\n"
   ]
  },
  {
   "cell_type": "code",
   "execution_count": 137,
   "id": "6c876148-699b-48bc-a901-ba58608f7a17",
   "metadata": {
    "collapsed": true,
    "jupyter": {
     "outputs_hidden": true
    }
   },
   "outputs": [
    {
     "name": "stdout",
     "output_type": "stream",
     "text": [
      "df_4_reduced - Wound + Demographic Data:\n",
      "        empi_nbr_anon event_timestamp\n",
      "102394       10030580      2023-04-17\n",
      "102395       10030580      2023-04-17\n",
      "102396       10030580      2023-06-19\n",
      "102402       10030580      2023-06-19\n",
      "102403       10030580      2023-06-19\n",
      "\n",
      "df_pivoted - Skin Assessments (Pivoted):\n",
      "     empi_nbr_anon     event_timestamp\n",
      "357       10030580 2023-10-25 23:08:00\n",
      "420       10030580 2023-10-29 15:08:00\n",
      "436       10030580 2023-10-30 21:00:00\n",
      "452       10030580 2023-10-31 21:00:00\n",
      "454       10030580 2023-11-01 22:00:00\n",
      "\n",
      "df_2_top10 - Lab Results:\n",
      "    empi_nbr_anon     event_timestamp\n",
      "60       10030580 2023-04-05 06:23:00\n",
      "61       10030580 2023-04-05 06:00:00\n",
      "62       10030580 2023-04-05 06:00:00\n",
      "63       10030580 2023-04-05 06:00:00\n",
      "64       10030580 2023-04-05 06:00:00\n",
      "\n",
      "df_1_top10 - Comorbidities:\n",
      "     empi_nbr_anon event_timestamp\n",
      "260       10030580      2025-07-14\n",
      "261       10030580      2025-07-14\n",
      "262       10030580      2025-07-14\n",
      "263       10030580      2025-07-14\n",
      "264       10030580      2025-07-12\n"
     ]
    }
   ],
   "source": [
    "# Check the first few rows of each dataset with event_timestamp column\n",
    "print(\"df_4_reduced - Wound + Demographic Data:\")\n",
    "print(df_4_reduced[['empi_nbr_anon', 'event_timestamp']].head())\n",
    "\n",
    "print(\"\\ndf_pivoted - Skin Assessments (Pivoted):\")\n",
    "print(df_pivoted[['empi_nbr_anon', 'event_timestamp']].head())\n",
    "\n",
    "print(\"\\ndf_2_top10 - Lab Results:\")\n",
    "print(df_2_top10[['empi_nbr_anon', 'event_timestamp']].head())\n",
    "\n",
    "print(\"\\ndf_1_top10 - Comorbidities:\")\n",
    "print(df_1_top10[['empi_nbr_anon', 'event_timestamp']].head())\n"
   ]
  },
  {
   "cell_type": "code",
   "execution_count": 139,
   "id": "42f6043b-1b50-4c1d-bfc9-557884fed486",
   "metadata": {},
   "outputs": [
    {
     "name": "stdout",
     "output_type": "stream",
     "text": [
      "Vertical Merged Dataset Shape: (165716, 40)\n",
      "Unique Patients: 2072\n",
      "Timestamp Range: 2012-07-01 00:00:00 to 2025-12-24 00:00:00\n",
      "   empi_nbr_anon     event_timestamp source  DAYS_TO_HEAL  \\\n",
      "0       10030580 2023-04-05 06:00:00    lab           NaN   \n",
      "1       10030580 2023-04-05 06:00:00    lab           NaN   \n",
      "2       10030580 2023-04-05 06:00:00    lab           NaN   \n",
      "3       10030580 2023-04-05 06:00:00    lab           NaN   \n",
      "4       10030580 2023-04-05 06:00:00    lab           NaN   \n",
      "\n",
      "   LAST_WOUND_AGE_DAYS  PAT_AGE_YEARS_FIRST_ASSESS  STAGE_INITIAL_C  \\\n",
      "0                  NaN                         NaN              NaN   \n",
      "1                  NaN                         NaN              NaN   \n",
      "2                  NaN                         NaN              NaN   \n",
      "3                  NaN                         NaN              NaN   \n",
      "4                  NaN                         NaN              NaN   \n",
      "\n",
      "   STAGE_CURRENT_C  PCT_HEALED_LAST_ENC  PCT_AREA_HEALED  ...  \\\n",
      "0              NaN                  NaN              NaN  ...   \n",
      "1              NaN                  NaN              NaN  ...   \n",
      "2              NaN                  NaN              NaN  ...   \n",
      "3              NaN                  NaN              NaN  ...   \n",
      "4              NaN                  NaN              NaN  ...   \n",
      "\n",
      "   Pressure Injury or Non-Healing Wound  Primary Wound Type  \\\n",
      "0                                   NaN                 NaN   \n",
      "1                                   NaN                 NaN   \n",
      "2                                   NaN                 NaN   \n",
      "3                                   NaN                 NaN   \n",
      "4                                   NaN                 NaN   \n",
      "\n",
      "  Sensory Perception Site Assessment Treatments  \\\n",
      "0                NaN             NaN        NaN   \n",
      "1                NaN             NaN        NaN   \n",
      "2                NaN             NaN        NaN   \n",
      "3                NaN             NaN        NaN   \n",
      "4                NaN             NaN        NaN   \n",
      "\n",
      "                         component lab_result DX_NAME CURRENT_ICD10_LIST  \\\n",
      "0            Immature Granulocytes       1.00     NaN                NaN   \n",
      "1  Eosinophil, Auto Absolute Count       0.75     NaN                NaN   \n",
      "2    Basophil, Auto Absolute Count       0.15     NaN                NaN   \n",
      "3                 Lymphocyte, Auto      25.00     NaN                NaN   \n",
      "4    Monocyte, Auto Absolute Count       0.99     NaN                NaN   \n",
      "\n",
      "  FIRST_DATE_anon  \n",
      "0             NaN  \n",
      "1             NaN  \n",
      "2             NaN  \n",
      "3             NaN  \n",
      "4             NaN  \n",
      "\n",
      "[5 rows x 40 columns]\n"
     ]
    }
   ],
   "source": [
    "# Step 1: Add a source column to each dataframe to track where each row came from\n",
    "df_4_reduced['source'] = 'wound'\n",
    "df_pivoted['source'] = 'skin'\n",
    "df_2_top10['source'] = 'lab'\n",
    "df_1_top10['source'] = 'comorb'\n",
    "\n",
    "# Step 2: Select consistent columns for merging\n",
    "# We'll align all dataframes to have [empi_nbr_anon, event_timestamp, source, + features]\n",
    "\n",
    "# Minimal columns for stacking\n",
    "columns_to_keep_wound = ['empi_nbr_anon', 'event_timestamp', 'source'] + [col for col in df_4_reduced.columns if col not in ['empi_nbr_anon', 'event_timestamp', 'source']]\n",
    "columns_to_keep_skin = ['empi_nbr_anon', 'event_timestamp', 'source'] + [col for col in df_pivoted.columns if col not in ['empi_nbr_anon', 'event_timestamp', 'source']]\n",
    "columns_to_keep_lab = ['empi_nbr_anon', 'event_timestamp', 'source'] + [col for col in df_2_top10.columns if col not in ['empi_nbr_anon', 'event_timestamp', 'source']]\n",
    "columns_to_keep_comorb = ['empi_nbr_anon', 'event_timestamp', 'source'] + [col for col in df_1_top10.columns if col not in ['empi_nbr_anon', 'event_timestamp', 'source']]\n",
    "\n",
    "# Step 3: Align column order (this is important)\n",
    "df_4_reduced = df_4_reduced[columns_to_keep_wound]\n",
    "df_pivoted = df_pivoted[columns_to_keep_skin]\n",
    "df_2_top10 = df_2_top10[columns_to_keep_lab]\n",
    "df_1_top10 = df_1_top10[columns_to_keep_comorb]\n",
    "\n",
    "# Step 4: Vertical Concatenation\n",
    "df_merged = pd.concat([df_4_reduced, df_pivoted, df_2_top10, df_1_top10], axis=0)\n",
    "\n",
    "# Step 5: Final Sorting by patient and time\n",
    "df_merged = df_merged.sort_values(by=['empi_nbr_anon', 'event_timestamp']).reset_index(drop=True)\n",
    "\n",
    "# Step 6: Verify final merged shape\n",
    "print(f\"Vertical Merged Dataset Shape: {df_merged.shape}\")\n",
    "print(f\"Unique Patients: {df_merged['empi_nbr_anon'].nunique()}\")\n",
    "print(f\"Timestamp Range: {df_merged['event_timestamp'].min()} to {df_merged['event_timestamp'].max()}\")\n",
    "\n",
    "# View sample\n",
    "print(df_merged.head())\n"
   ]
  },
  {
   "cell_type": "code",
   "execution_count": 141,
   "id": "7c636cdb-d2ae-4bb0-80dc-fb3021d5903e",
   "metadata": {},
   "outputs": [
    {
     "name": "stdout",
     "output_type": "stream",
     "text": [
      "count    2072.000000\n",
      "mean       79.978764\n",
      "std       115.243795\n",
      "min        14.000000\n",
      "25%        33.000000\n",
      "50%        49.000000\n",
      "75%        84.000000\n",
      "max      2207.000000\n",
      "dtype: float64\n"
     ]
    }
   ],
   "source": [
    "# Group by your unique ID and count the number of timesteps\n",
    "timesteps_per_item = df_merged.groupby('empi_nbr_anon').size()\n",
    "\n",
    "# Quick statistics to understand the spread\n",
    "print(timesteps_per_item.describe())\n"
   ]
  },
  {
   "cell_type": "code",
   "execution_count": 142,
   "id": "6d707f52-1c69-44ad-b7fc-0355af7bcb7d",
   "metadata": {},
   "outputs": [
    {
     "name": "stdout",
     "output_type": "stream",
     "text": [
      "['empi_nbr_anon', 'event_timestamp', 'source', 'DAYS_TO_HEAL', 'LAST_WOUND_AGE_DAYS', 'PAT_AGE_YEARS_FIRST_ASSESS', 'STAGE_INITIAL_C', 'STAGE_CURRENT_C', 'PCT_HEALED_LAST_ENC', 'PCT_AREA_HEALED', 'PCT_VOLUME_HEALED', 'NUM_OUTPAT_HOV_VISITS', 'gender', 'race', 'ethnicity', 'is_deceased', 'Braden Scale Score', 'Closure', 'Drainage Amount', 'Drainage Description', 'Dressing', 'Dressing Changed', 'Friction and Shear', 'In Bed Mobility', 'Location', 'Margins', 'Moisture', 'Nutrition', 'Out of Bed Activity', 'Peri-Wound Assessment', 'Pressure Injury or Non-Healing Wound', 'Primary Wound Type', 'Sensory Perception', 'Site Assessment', 'Treatments', 'component', 'lab_result', 'DX_NAME', 'CURRENT_ICD10_LIST', 'FIRST_DATE_anon']\n"
     ]
    }
   ],
   "source": [
    "# List all columns\n",
    "print(df_merged.columns.tolist())\n"
   ]
  },
  {
   "cell_type": "code",
   "execution_count": 143,
   "id": "655e3994-bb7b-43c9-847f-b07f788790d5",
   "metadata": {},
   "outputs": [
    {
     "name": "stdout",
     "output_type": "stream",
     "text": [
      "'source' column dropped. New shape: (165716, 39)\n"
     ]
    }
   ],
   "source": [
    "# Drop source column\n",
    "df_merged = df_merged.drop(columns=['source'])\n",
    "print(f\"'source' column dropped. New shape: {df_merged.shape}\")\n"
   ]
  },
  {
   "cell_type": "code",
   "execution_count": 144,
   "id": "0f6f2203-551a-4294-aae8-b85d36b6b6ea",
   "metadata": {},
   "outputs": [
    {
     "name": "stdout",
     "output_type": "stream",
     "text": [
      "Saved merged dataset as 'merged_patient_time_series.csv'\n"
     ]
    }
   ],
   "source": [
    "# Save final merged dataset to CSV\n",
    "df_merged.to_csv('merged_patient_time_series.csv', index=False)\n",
    "\n",
    "print(\"Saved merged dataset as 'merged_patient_time_series.csv'\")\n"
   ]
  },
  {
   "cell_type": "code",
   "execution_count": 148,
   "id": "5883a248-c8e3-4c04-806d-baa646242f33",
   "metadata": {},
   "outputs": [
    {
     "data": {
      "text/plain": [
       "empi_nbr_anon                                    int64\n",
       "event_timestamp                         datetime64[ns]\n",
       "DAYS_TO_HEAL                                   float64\n",
       "LAST_WOUND_AGE_DAYS                            float64\n",
       "PAT_AGE_YEARS_FIRST_ASSESS                     float64\n",
       "STAGE_INITIAL_C                                float64\n",
       "STAGE_CURRENT_C                                float64\n",
       "PCT_HEALED_LAST_ENC                            float64\n",
       "PCT_AREA_HEALED                                float64\n",
       "PCT_VOLUME_HEALED                              float64\n",
       "NUM_OUTPAT_HOV_VISITS                          float64\n",
       "gender                                          object\n",
       "race                                            object\n",
       "ethnicity                                       object\n",
       "is_deceased                                    float64\n",
       "Braden Scale Score                              object\n",
       "Closure                                         object\n",
       "Drainage Amount                                 object\n",
       "Drainage Description                            object\n",
       "Dressing                                        object\n",
       "Dressing Changed                                object\n",
       "Friction and Shear                              object\n",
       "In Bed Mobility                                 object\n",
       "Location                                        object\n",
       "Margins                                         object\n",
       "Moisture                                        object\n",
       "Nutrition                                       object\n",
       "Out of Bed Activity                             object\n",
       "Peri-Wound Assessment                           object\n",
       "Pressure Injury or Non-Healing Wound            object\n",
       "Primary Wound Type                              object\n",
       "Sensory Perception                              object\n",
       "Site Assessment                                 object\n",
       "Treatments                                      object\n",
       "component                                       object\n",
       "lab_result                                     float64\n",
       "DX_NAME                                         object\n",
       "CURRENT_ICD10_LIST                              object\n",
       "FIRST_DATE_anon                                 object\n",
       "dtype: object"
      ]
     },
     "execution_count": 148,
     "metadata": {},
     "output_type": "execute_result"
    }
   ],
   "source": [
    "df_merged.dtypes"
   ]
  },
  {
   "cell_type": "code",
   "execution_count": null,
   "id": "9c94fe89-545e-4ac6-a114-94ef8ca84780",
   "metadata": {},
   "outputs": [],
   "source": []
  }
 ],
 "metadata": {
  "kernelspec": {
   "display_name": "Python 3 (ipykernel)",
   "language": "python",
   "name": "python3"
  },
  "language_info": {
   "codemirror_mode": {
    "name": "ipython",
    "version": 3
   },
   "file_extension": ".py",
   "mimetype": "text/x-python",
   "name": "python",
   "nbconvert_exporter": "python",
   "pygments_lexer": "ipython3",
   "version": "3.10.10"
  }
 },
 "nbformat": 4,
 "nbformat_minor": 5
}
